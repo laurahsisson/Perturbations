{
 "cells": [
  {
   "cell_type": "markdown",
   "id": "cd6cc465-5a2c-4dfb-995d-f99cfe6c8fce",
   "metadata": {},
   "source": [
    "# Baseline 3\n",
    "#### Training landmark and transcriptome models together"
   ]
  },
  {
   "cell_type": "code",
   "execution_count": 1,
   "id": "f5565e71-71e2-405e-a5d8-69ce07d491fe",
   "metadata": {},
   "outputs": [],
   "source": [
    "import pandas as pd\n",
    "import numpy as np\n",
    "import matplotlib.pyplot as plt\n",
    "import matplotlib.patches as mpatches\n",
    "import seaborn as sns\n",
    "import torch\n",
    "\n",
    "from sklearn.preprocessing import OneHotEncoder, OrdinalEncoder, FunctionTransformer\n",
    "from sklearn.decomposition import TruncatedSVD\n",
    "from sklearn.compose import ColumnTransformer\n",
    "from sklearn.pipeline import make_pipeline\n",
    "from sklearn.linear_model import Ridge\n",
    "from sklearn.model_selection import StratifiedKFold\n",
    "from sklearn.ensemble import GradientBoostingClassifier\n",
    "\n",
    "import itertools\n",
    "import tqdm\n",
    "import collections"
   ]
  },
  {
   "cell_type": "code",
   "execution_count": 57,
   "id": "53eaa206-af97-4d48-962f-a8e91f455b37",
   "metadata": {},
   "outputs": [
    {
     "data": {
      "text/plain": [
       "array([1.65289256, 0.33057851, 0.01652893])"
      ]
     },
     "execution_count": 57,
     "metadata": {},
     "output_type": "execute_result"
    }
   ],
   "source": [
    "weights = np.array([1,5,100])\n",
    "weights = 1/weights\n",
    "vals = np.array([[2,0,0],[0,2,0],[0,0,2]])\n",
    "np.average(vals,axis=0,weights=weights)"
   ]
  },
  {
   "cell_type": "markdown",
   "id": "bac5ffd7-aa5b-42f6-ab65-62885d43b9a4",
   "metadata": {},
   "source": [
    "## Prepare data:\n",
    "#### Read joined data (pre + post treatment)"
   ]
  },
  {
   "cell_type": "code",
   "execution_count": 2,
   "id": "8fd73c75-40ee-4ec2-b45d-07610b1f7253",
   "metadata": {},
   "outputs": [
    {
     "name": "stdout",
     "output_type": "stream",
     "text": [
      "lincs_joined_df = (107404, 1842)\n",
      "kaggle_joined_df = (602, 1841)\n",
      "test_joined_df = (255, 921)\n"
     ]
    }
   ],
   "source": [
    "lincs_joined_df = pd.read_parquet(\"data/lincs_pretreatment.parquet\")\n",
    "kaggle_joined_df = pd.read_parquet(\"data/kaggle_pretreatment.parquet\")\n",
    "test_joined_df = pd.read_parquet(\"data/test_pretreatment.parquet\")\n",
    "print(f\"lincs_joined_df = {lincs_joined_df.shape}\\nkaggle_joined_df = {kaggle_joined_df.shape}\\ntest_joined_df = {test_joined_df.shape}\")"
   ]
  },
  {
   "cell_type": "code",
   "execution_count": 3,
   "id": "070fd981-dc0d-464a-89dc-f689e46dfeb0",
   "metadata": {},
   "outputs": [
    {
     "name": "stdout",
     "output_type": "stream",
     "text": [
      "all_train_df = (108006, 1843)\n"
     ]
    }
   ],
   "source": [
    "all_train_df = pd.concat([kaggle_joined_df,lincs_joined_df])\n",
    "print(f\"all_train_df = {all_train_df.shape}\")"
   ]
  },
  {
   "cell_type": "markdown",
   "id": "c862c7af-655c-4195-b06b-3bfc5c310bb7",
   "metadata": {},
   "source": [
    "#### Kaggle provided data"
   ]
  },
  {
   "cell_type": "code",
   "execution_count": 4,
   "id": "f50e89dc-fbe2-42f9-8213-f95bfdda88af",
   "metadata": {},
   "outputs": [],
   "source": [
    "de_train = pd.read_parquet('data/de_train.parquet')\n",
    "id_map = pd.read_csv('data/id_map.csv',index_col='id')"
   ]
  },
  {
   "cell_type": "markdown",
   "id": "b2299b53-6269-49b6-b838-d8fefede0923",
   "metadata": {},
   "source": [
    "#### Define features of interest and sort data accordingly."
   ]
  },
  {
   "cell_type": "code",
   "execution_count": 6,
   "id": "f6ae48f5-3ea8-40e0-bdd6-9c138b56cb77",
   "metadata": {},
   "outputs": [
    {
     "name": "stdout",
     "output_type": "stream",
     "text": [
      "transcriptome_cols = (18211,)\n",
      "landmark_cols = (918,)\n"
     ]
    }
   ],
   "source": [
    "features = ['cell_type', 'sm_name']\n",
    "multiindex_features = [(\"label\",'cell_type'),(\"label\",'sm_name')]\n",
    "\n",
    "transcriptome_cols = de_train.columns[5:]\n",
    "landmark_cols = kaggle_joined_df[\"post_treatment\"].columns\n",
    "print(f\"transcriptome_cols = {transcriptome_cols.shape}\\nlandmark_cols = {landmark_cols.shape}\")"
   ]
  },
  {
   "cell_type": "code",
   "execution_count": 7,
   "id": "310e93d9-f08a-41cc-9bc6-74f84ad68f36",
   "metadata": {},
   "outputs": [
    {
     "data": {
      "text/plain": [
       "True"
      ]
     },
     "execution_count": 7,
     "metadata": {},
     "output_type": "execute_result"
    }
   ],
   "source": [
    "# We only need to sort these two dataframes because they represent the same underlying dataset.\n",
    "de_train = de_train.query(\"~control\").sort_values(features)\n",
    "kaggle_joined_df = kaggle_joined_df.sort_values(multiindex_features)\n",
    "# Sanity check that these dfs align.\n",
    "genes_align = (kaggle_joined_df[\"post_treatment\"] == de_train[landmark_cols]).all(axis=None)\n",
    "labels_align = (kaggle_joined_df[\"label\"][features] == de_train[features]).all(axis=None)\n",
    "genes_align and labels_align"
   ]
  },
  {
   "cell_type": "markdown",
   "id": "06b697df-66f0-4c44-b16f-d9f076982c2e",
   "metadata": {},
   "source": [
    "## Prepare for training\n",
    "#### Partition data"
   ]
  },
  {
   "cell_type": "code",
   "execution_count": 8,
   "id": "491cebb6-5a9d-4973-b9d9-f68570388d85",
   "metadata": {},
   "outputs": [
    {
     "data": {
      "text/html": [
       "<div>\n",
       "<style scoped>\n",
       "    .dataframe tbody tr th:only-of-type {\n",
       "        vertical-align: middle;\n",
       "    }\n",
       "\n",
       "    .dataframe tbody tr th {\n",
       "        vertical-align: top;\n",
       "    }\n",
       "\n",
       "    .dataframe thead th {\n",
       "        text-align: right;\n",
       "    }\n",
       "</style>\n",
       "<table border=\"1\" class=\"dataframe\">\n",
       "  <thead>\n",
       "    <tr style=\"text-align: right;\">\n",
       "      <th></th>\n",
       "      <th>mean_score</th>\n",
       "      <th>cv_class</th>\n",
       "    </tr>\n",
       "    <tr>\n",
       "      <th>sm_name</th>\n",
       "      <th></th>\n",
       "      <th></th>\n",
       "    </tr>\n",
       "  </thead>\n",
       "  <tbody>\n",
       "    <tr>\n",
       "      <th>Alvocidib</th>\n",
       "      <td>1.144652</td>\n",
       "      <td>4</td>\n",
       "    </tr>\n",
       "    <tr>\n",
       "      <th>CHIR-99021</th>\n",
       "      <td>0.145969</td>\n",
       "      <td>2</td>\n",
       "    </tr>\n",
       "    <tr>\n",
       "      <th>Crizotinib</th>\n",
       "      <td>-0.010615</td>\n",
       "      <td>0</td>\n",
       "    </tr>\n",
       "    <tr>\n",
       "      <th>Dactolisib</th>\n",
       "      <td>-0.077123</td>\n",
       "      <td>0</td>\n",
       "    </tr>\n",
       "    <tr>\n",
       "      <th>Foretinib</th>\n",
       "      <td>-0.007336</td>\n",
       "      <td>0</td>\n",
       "    </tr>\n",
       "    <tr>\n",
       "      <th>Idelalisib</th>\n",
       "      <td>0.013947</td>\n",
       "      <td>1</td>\n",
       "    </tr>\n",
       "    <tr>\n",
       "      <th>LDN 193189</th>\n",
       "      <td>0.070423</td>\n",
       "      <td>1</td>\n",
       "    </tr>\n",
       "    <tr>\n",
       "      <th>Linagliptin</th>\n",
       "      <td>0.033001</td>\n",
       "      <td>1</td>\n",
       "    </tr>\n",
       "    <tr>\n",
       "      <th>MLN 2238</th>\n",
       "      <td>2.045447</td>\n",
       "      <td>4</td>\n",
       "    </tr>\n",
       "    <tr>\n",
       "      <th>O-Demethylated Adapalene</th>\n",
       "      <td>-0.026293</td>\n",
       "      <td>0</td>\n",
       "    </tr>\n",
       "    <tr>\n",
       "      <th>Oprozomib (ONX 0912)</th>\n",
       "      <td>1.336945</td>\n",
       "      <td>4</td>\n",
       "    </tr>\n",
       "    <tr>\n",
       "      <th>Palbociclib</th>\n",
       "      <td>0.020710</td>\n",
       "      <td>1</td>\n",
       "    </tr>\n",
       "    <tr>\n",
       "      <th>Penfluridol</th>\n",
       "      <td>-0.002021</td>\n",
       "      <td>0</td>\n",
       "    </tr>\n",
       "    <tr>\n",
       "      <th>Porcn Inhibitor III</th>\n",
       "      <td>0.073097</td>\n",
       "      <td>1</td>\n",
       "    </tr>\n",
       "    <tr>\n",
       "      <th>R428</th>\n",
       "      <td>0.238306</td>\n",
       "      <td>2</td>\n",
       "    </tr>\n",
       "  </tbody>\n",
       "</table>\n",
       "</div>"
      ],
      "text/plain": [
       "                          mean_score  cv_class\n",
       "sm_name                                       \n",
       "Alvocidib                   1.144652         4\n",
       "CHIR-99021                  0.145969         2\n",
       "Crizotinib                 -0.010615         0\n",
       "Dactolisib                 -0.077123         0\n",
       "Foretinib                  -0.007336         0\n",
       "Idelalisib                  0.013947         1\n",
       "LDN 193189                  0.070423         1\n",
       "Linagliptin                 0.033001         1\n",
       "MLN 2238                    2.045447         4\n",
       "O-Demethylated Adapalene   -0.026293         0\n",
       "Oprozomib (ONX 0912)        1.336945         4\n",
       "Palbociclib                 0.020710         1\n",
       "Penfluridol                -0.002021         0\n",
       "Porcn Inhibitor III         0.073097         1\n",
       "R428                        0.238306         2"
      ]
     },
     "execution_count": 8,
     "metadata": {},
     "output_type": "execute_result"
    }
   ],
   "source": [
    "eval_cells_only_df = kaggle_joined_df[kaggle_joined_df[\"label\"][\"cell_type\"].isin([\"B cells\", \"Myeloid cells\"])].reset_index(drop=True)\n",
    "mean_score = pd.concat([eval_cells_only_df[\"label\"][\"sm_name\"],eval_cells_only_df[\"post_treatment\"]],axis=1).groupby(\"sm_name\").agg(\"mean\").mean(axis=1)\n",
    "classes = np.digitize(mean_score.values, bins=[0,0.1, 0.5, 1])\n",
    "cpds = mean_score.index.values\n",
    "\n",
    "# Don't need this df it just looks cool\n",
    "mean_score.to_frame(name=\"mean_score\").assign(cv_class=classes)"
   ]
  },
  {
   "cell_type": "markdown",
   "id": "1b60b91b-9aad-48e6-88dc-03197db09908",
   "metadata": {},
   "source": [
    "#### CV splits"
   ]
  },
  {
   "cell_type": "code",
   "execution_count": 9,
   "id": "e0aec333-fca6-4f6f-8e1e-6f8dd4172c9a",
   "metadata": {},
   "outputs": [
    {
     "name": "stderr",
     "output_type": "stream",
     "text": [
      "/Users/laurasisson/miniconda3/envs/rdenv/lib/python3.11/site-packages/sklearn/model_selection/_split.py:725: UserWarning: The least populated class in y has only 2 members, which is less than n_splits=3.\n",
      "  warnings.warn(\n"
     ]
    },
    {
     "data": {
      "text/plain": [
       "{0: array(['Alvocidib', 'Crizotinib', 'Foretinib', 'LDN 193189', 'R428'],\n",
       "       dtype=object),\n",
       " 1: array(['CHIR-99021', 'MLN 2238', 'Palbociclib', 'Penfluridol',\n",
       "        'Porcn Inhibitor III'], dtype=object),\n",
       " 2: array(['Dactolisib', 'Idelalisib', 'Linagliptin',\n",
       "        'O-Demethylated Adapalene', 'Oprozomib (ONX 0912)'], dtype=object)}"
      ]
     },
     "execution_count": 9,
     "metadata": {},
     "output_type": "execute_result"
    }
   ],
   "source": [
    "fold_arr = np.full(len(cpds), -1)\n",
    "n_splits = 3\n",
    "skf = StratifiedKFold(n_splits=n_splits, random_state=42, shuffle=True)\n",
    "for fold, (_, val_ind) in enumerate(skf.split(classes,classes)):\n",
    "    fold_arr[val_ind] = fold\n",
    "fold_map = {c: f for c, f in zip(cpds, fold_arr)}\n",
    "fold_to_cpds = {fold: cpds[fold_arr==fold] for fold in range(n_splits)}\n",
    "\n",
    "fold_to_cpds"
   ]
  },
  {
   "cell_type": "code",
   "execution_count": 10,
   "id": "7c059464-997c-4da4-a813-d3edc18f0fe9",
   "metadata": {},
   "outputs": [
    {
     "data": {
      "text/plain": [
       "(array([[0, 1],\n",
       "        [2, 3]]),\n",
       " array([[0, 1],\n",
       "        [2, 3]]))"
      ]
     },
     "execution_count": 10,
     "metadata": {},
     "output_type": "execute_result"
    }
   ],
   "source": [
    "identity_transformer = FunctionTransformer()\n",
    "X = np.array([[0, 1], [2, 3]])\n",
    "X\n",
    "identity_transformer.inverse_transform(X), identity_transformer.transform(X)"
   ]
  },
  {
   "cell_type": "markdown",
   "id": "87c0fb5b-c59b-4d30-a3f2-0c8e277eb040",
   "metadata": {},
   "source": [
    "#### Model helper functions"
   ]
  },
  {
   "cell_type": "code",
   "execution_count": 30,
   "id": "f376208a-bfee-4bb7-9b51-0fd6ad31370b",
   "metadata": {},
   "outputs": [],
   "source": [
    "def _make_transformer(n_components):\n",
    "    if n_components == 0:\n",
    "        # Identity transformer\n",
    "        return FunctionTransformer()\n",
    "    else:\n",
    "        return TruncatedSVD(n_components=n_components, random_state=1)\n",
    "\n",
    "def make_encoder(params):\n",
    "    encoder = ColumnTransformer([('ohe', OneHotEncoder(), list(params[\"encoded\"]))])\n",
    "    encoder.fit(all_train_df[\"label\"][features])\n",
    "    return encoder\n",
    "\n",
    "def make_model(params):\n",
    "    svd = _make_transformer(params[\"n_comp\"])\n",
    "    model = Ridge(alpha=params[\"alpha\"], fit_intercept=False)\n",
    "    return svd, model\n",
    "\n",
    "# This changes the models inplace. Returns as a courtesy.\n",
    "def model_train(mp,x,y):\n",
    "    svd, model = mp\n",
    "    z = svd.fit_transform(y)\n",
    "    model.fit(x, z)\n",
    "    return svd, model\n",
    "\n",
    "def model_predict(mp,x):\n",
    "    svd, model = mp\n",
    "    d = model.predict(x)\n",
    "    return svd.inverse_transform(d)\n",
    "    "
   ]
  },
  {
   "cell_type": "markdown",
   "id": "485211ab-206e-465f-8404-a6e68582cb9a",
   "metadata": {},
   "source": [
    "#### Draw some example models"
   ]
  },
  {
   "cell_type": "code",
   "execution_count": 21,
   "id": "cb1f8e5d-d199-41d9-bd81-e0cbc8b91a38",
   "metadata": {},
   "outputs": [
    {
     "name": "stdout",
     "output_type": "stream",
     "text": [
      "Encoder\n"
     ]
    },
    {
     "data": {
      "text/html": [
       "<style>#sk-container-id-1 {color: black;}#sk-container-id-1 pre{padding: 0;}#sk-container-id-1 div.sk-toggleable {background-color: white;}#sk-container-id-1 label.sk-toggleable__label {cursor: pointer;display: block;width: 100%;margin-bottom: 0;padding: 0.3em;box-sizing: border-box;text-align: center;}#sk-container-id-1 label.sk-toggleable__label-arrow:before {content: \"▸\";float: left;margin-right: 0.25em;color: #696969;}#sk-container-id-1 label.sk-toggleable__label-arrow:hover:before {color: black;}#sk-container-id-1 div.sk-estimator:hover label.sk-toggleable__label-arrow:before {color: black;}#sk-container-id-1 div.sk-toggleable__content {max-height: 0;max-width: 0;overflow: hidden;text-align: left;background-color: #f0f8ff;}#sk-container-id-1 div.sk-toggleable__content pre {margin: 0.2em;color: black;border-radius: 0.25em;background-color: #f0f8ff;}#sk-container-id-1 input.sk-toggleable__control:checked~div.sk-toggleable__content {max-height: 200px;max-width: 100%;overflow: auto;}#sk-container-id-1 input.sk-toggleable__control:checked~label.sk-toggleable__label-arrow:before {content: \"▾\";}#sk-container-id-1 div.sk-estimator input.sk-toggleable__control:checked~label.sk-toggleable__label {background-color: #d4ebff;}#sk-container-id-1 div.sk-label input.sk-toggleable__control:checked~label.sk-toggleable__label {background-color: #d4ebff;}#sk-container-id-1 input.sk-hidden--visually {border: 0;clip: rect(1px 1px 1px 1px);clip: rect(1px, 1px, 1px, 1px);height: 1px;margin: -1px;overflow: hidden;padding: 0;position: absolute;width: 1px;}#sk-container-id-1 div.sk-estimator {font-family: monospace;background-color: #f0f8ff;border: 1px dotted black;border-radius: 0.25em;box-sizing: border-box;margin-bottom: 0.5em;}#sk-container-id-1 div.sk-estimator:hover {background-color: #d4ebff;}#sk-container-id-1 div.sk-parallel-item::after {content: \"\";width: 100%;border-bottom: 1px solid gray;flex-grow: 1;}#sk-container-id-1 div.sk-label:hover label.sk-toggleable__label {background-color: #d4ebff;}#sk-container-id-1 div.sk-serial::before {content: \"\";position: absolute;border-left: 1px solid gray;box-sizing: border-box;top: 0;bottom: 0;left: 50%;z-index: 0;}#sk-container-id-1 div.sk-serial {display: flex;flex-direction: column;align-items: center;background-color: white;padding-right: 0.2em;padding-left: 0.2em;position: relative;}#sk-container-id-1 div.sk-item {position: relative;z-index: 1;}#sk-container-id-1 div.sk-parallel {display: flex;align-items: stretch;justify-content: center;background-color: white;position: relative;}#sk-container-id-1 div.sk-item::before, #sk-container-id-1 div.sk-parallel-item::before {content: \"\";position: absolute;border-left: 1px solid gray;box-sizing: border-box;top: 0;bottom: 0;left: 50%;z-index: -1;}#sk-container-id-1 div.sk-parallel-item {display: flex;flex-direction: column;z-index: 1;position: relative;background-color: white;}#sk-container-id-1 div.sk-parallel-item:first-child::after {align-self: flex-end;width: 50%;}#sk-container-id-1 div.sk-parallel-item:last-child::after {align-self: flex-start;width: 50%;}#sk-container-id-1 div.sk-parallel-item:only-child::after {width: 0;}#sk-container-id-1 div.sk-dashed-wrapped {border: 1px dashed gray;margin: 0 0.4em 0.5em 0.4em;box-sizing: border-box;padding-bottom: 0.4em;background-color: white;}#sk-container-id-1 div.sk-label label {font-family: monospace;font-weight: bold;display: inline-block;line-height: 1.2em;}#sk-container-id-1 div.sk-label-container {text-align: center;}#sk-container-id-1 div.sk-container {/* jupyter's `normalize.less` sets `[hidden] { display: none; }` but bootstrap.min.css set `[hidden] { display: none !important; }` so we also need the `!important` here to be able to override the default hidden behavior on the sphinx rendered scikit-learn.org. See: https://github.com/scikit-learn/scikit-learn/issues/21755 */display: inline-block !important;position: relative;}#sk-container-id-1 div.sk-text-repr-fallback {display: none;}</style><div id=\"sk-container-id-1\" class=\"sk-top-container\"><div class=\"sk-text-repr-fallback\"><pre>ColumnTransformer(transformers=[(&#x27;ohe&#x27;, OneHotEncoder(), [&#x27;sm_name&#x27;])])</pre><b>In a Jupyter environment, please rerun this cell to show the HTML representation or trust the notebook. <br />On GitHub, the HTML representation is unable to render, please try loading this page with nbviewer.org.</b></div><div class=\"sk-container\" hidden><div class=\"sk-item sk-dashed-wrapped\"><div class=\"sk-label-container\"><div class=\"sk-label sk-toggleable\"><input class=\"sk-toggleable__control sk-hidden--visually\" id=\"sk-estimator-id-1\" type=\"checkbox\" ><label for=\"sk-estimator-id-1\" class=\"sk-toggleable__label sk-toggleable__label-arrow\">ColumnTransformer</label><div class=\"sk-toggleable__content\"><pre>ColumnTransformer(transformers=[(&#x27;ohe&#x27;, OneHotEncoder(), [&#x27;sm_name&#x27;])])</pre></div></div></div><div class=\"sk-parallel\"><div class=\"sk-parallel-item\"><div class=\"sk-item\"><div class=\"sk-label-container\"><div class=\"sk-label sk-toggleable\"><input class=\"sk-toggleable__control sk-hidden--visually\" id=\"sk-estimator-id-2\" type=\"checkbox\" ><label for=\"sk-estimator-id-2\" class=\"sk-toggleable__label sk-toggleable__label-arrow\">ohe</label><div class=\"sk-toggleable__content\"><pre>[&#x27;sm_name&#x27;]</pre></div></div></div><div class=\"sk-serial\"><div class=\"sk-item\"><div class=\"sk-estimator sk-toggleable\"><input class=\"sk-toggleable__control sk-hidden--visually\" id=\"sk-estimator-id-3\" type=\"checkbox\" ><label for=\"sk-estimator-id-3\" class=\"sk-toggleable__label sk-toggleable__label-arrow\">OneHotEncoder</label><div class=\"sk-toggleable__content\"><pre>OneHotEncoder()</pre></div></div></div></div></div></div></div></div></div></div>"
      ],
      "text/plain": [
       "ColumnTransformer(transformers=[('ohe', OneHotEncoder(), ['sm_name'])])"
      ]
     },
     "metadata": {},
     "output_type": "display_data"
    },
    {
     "name": "stdout",
     "output_type": "stream",
     "text": [
      "Landmark\n"
     ]
    },
    {
     "data": {
      "text/plain": [
       "(TruncatedSVD(n_components=150, random_state=1),\n",
       " Ridge(alpha=0.1, fit_intercept=False))"
      ]
     },
     "metadata": {},
     "output_type": "display_data"
    },
    {
     "name": "stdout",
     "output_type": "stream",
     "text": [
      "Transcriptome\n"
     ]
    },
    {
     "data": {
      "text/plain": [
       "(TruncatedSVD(n_components=150, random_state=1),\n",
       " Ridge(alpha=0.1, fit_intercept=False))"
      ]
     },
     "metadata": {},
     "output_type": "display_data"
    }
   ],
   "source": [
    "example_params = {\"encoded\":(\"sm_name\",),\"lmk\":{\"n_comp\":150,\"alpha\":.1,},\"trm\":{\"n_comp\":150,\"alpha\":.1}}\n",
    "print(\"Encoder\")\n",
    "display(make_encoder(example_params))\n",
    "print(\"Landmark\")\n",
    "display(make_model(example_params[\"lmk\"]))\n",
    "print(\"Transcriptome\")\n",
    "display(make_model(example_params[\"trm\"]))"
   ]
  },
  {
   "cell_type": "markdown",
   "id": "1cc54942-77f8-41b3-922e-3c732dfd7bbc",
   "metadata": {},
   "source": [
    "#### Cross Validation function"
   ]
  },
  {
   "cell_type": "code",
   "execution_count": 31,
   "id": "bec7ff76-8e53-42da-9449-32f2880ddeda",
   "metadata": {},
   "outputs": [
    {
     "name": "stdout",
     "output_type": "stream",
     "text": [
      "# Fold 0: 2.012\n",
      "# Fold 1: 2.666\n",
      "# Fold 2: 2.172\n"
     ]
    },
    {
     "data": {
      "text/plain": [
       "2.283452586892314"
      ]
     },
     "execution_count": 31,
     "metadata": {},
     "output_type": "execute_result"
    }
   ],
   "source": [
    "def crossvalidate(encoder, params, print_each=False, print_result=False):\n",
    "    def train_landmark(cpds):\n",
    "        mask_va = all_train_df[(\"label\",'cell_type')].isin(['Myeloid cells', 'B cells']) & all_train_df[(\"label\",'sm_name')].isin(cpds)\n",
    "        validate = all_train_df[mask_va]\n",
    "    \n",
    "        mask_tr = ~mask_va\n",
    "        train = all_train_df[mask_tr]\n",
    "\n",
    "        \n",
    "        svd, model = model_train(make_model(params[\"lmk\"]), encoder.transform(train[\"label\"][features]), train[\"post_treatment\"])\n",
    "        return svd, model\n",
    "\n",
    "    def train_transcriptome(landmark_mp,cpds):\n",
    "        mask_va = kaggle_joined_df[(\"label\",'cell_type')].isin(['Myeloid cells', 'B cells']) & kaggle_joined_df[(\"label\",'sm_name')].isin(cpds)\n",
    "        mask_tr = ~mask_va # 485 or 487 training rows\n",
    "\n",
    "        train_x = model_predict(landmark_mp, encoder.transform(kaggle_joined_df[mask_tr][\"label\"][features]))\n",
    "        train_y = de_train[mask_tr][transcriptome_cols]\n",
    "\n",
    "        val_x = model_predict(landmark_mp, encoder.transform(kaggle_joined_df[mask_va][\"label\"][features]))\n",
    "        val_y = de_train[mask_va][transcriptome_cols]\n",
    "\n",
    "        transcriptome_mp = model_train(make_model(params[\"trm\"]), train_x, train_y)\n",
    "        pred_y = model_predict(transcriptome_mp, val_x)\n",
    "        mrrmse = np.sqrt(np.square(val_y - pred_y).mean(axis=1)).mean()\n",
    "        return mrrmse\n",
    "    \n",
    "    mrrmse_list = []\n",
    "    for fold, cpds in fold_to_cpds.items():\n",
    "        landmark_mp = train_landmark(cpds)\n",
    "        mrrmse = train_transcriptome(landmark_mp,cpds)\n",
    "        mrrmse_list.append(mrrmse)\n",
    "        if print_each:\n",
    "            print(f\"# Fold {fold}: {mrrmse:5.3f}\")\n",
    "\n",
    "    mrrmse = np.array(mrrmse_list).mean()\n",
    "    if print_result:\n",
    "        print(f\"# Overall {mrrmse:5.3f} {params}\")\n",
    "    return mrrmse\n",
    "\n",
    "encoder = make_encoder(example_params)\n",
    "crossvalidate(encoder,example_params, print_each=True)"
   ]
  },
  {
   "cell_type": "code",
   "execution_count": 14,
   "id": "ab324232-92b3-43a8-bff8-7ef59781f832",
   "metadata": {},
   "outputs": [
    {
     "name": "stdout",
     "output_type": "stream",
     "text": [
      "Generated 144 trials.\n",
      "Example = {'lmk': {'n_comp': 0, 'alpha': 0.1, 'encoded': ('sm_name',)}, 'trm': {'n_comp': 0, 'alpha': 0.1}}\n"
     ]
    }
   ],
   "source": [
    "import itertools\n",
    "\n",
    "alpha_list = [0.1, 1, 5] #10\n",
    "encoded = [('sm_name',)] #,('cell_type',),('sm_name','cell_type')\n",
    "n_comps_list = [0,10,30,100]\n",
    "\n",
    "\n",
    "all_trials = [{\"lmk\":{\"n_comp\":lmk_n_comp,\"alpha\":lmk_alpha,\"encoded\":encoded},\"trm\":{\"n_comp\":trm_n_comp,\"alpha\":trm_alpha}} for encoded, lmk_alpha, lmk_n_comp, trm_alpha, trm_n_comp in itertools.product(encoded,alpha_list,n_comps_list,alpha_list,n_comps_list)]\n",
    "print(f\"Generated {len(all_trials)} trials.\\nExample = {next(iter(all_trials))}\")"
   ]
  },
  {
   "cell_type": "code",
   "execution_count": 15,
   "id": "c4a8aefd-9ba7-4ad4-ab02-375976c3ae68",
   "metadata": {},
   "outputs": [],
   "source": [
    "# best_score = float('inf')\n",
    "# best_params = dict()\n",
    "# scores = collections.Counter()\n",
    "# for i,params in enumerate(tqdm.tqdm(all_trials,smoothing=0)):\n",
    "#     score = crossvalidate(params)\n",
    "#     if score < best_score:\n",
    "#         best_score = score\n",
    "#         best_params = params\n",
    "#     scores[i] = -score\n",
    "# for i, score in scores.most_common(5):\n",
    "#     print(all_trials[i],score)\n",
    "# print(f\"Best score = {best_score}.\\nBest params = {best_params}\")"
   ]
  },
  {
   "cell_type": "markdown",
   "id": "80d99977-98b2-4066-8558-6799172bb8e1",
   "metadata": {},
   "source": [
    "#### Ok actually lets do an ensemble."
   ]
  },
  {
   "cell_type": "code",
   "execution_count": 49,
   "id": "a3ee9362-21f7-40b3-b089-aca6e9849849",
   "metadata": {},
   "outputs": [],
   "source": [
    "def get_y_pred(encoder,params):\n",
    "    # all_train_sample = all_train_df.sample(20000)\n",
    "    lm_mp = model_train(make_model(params[\"lmk\"]), encoder.transform(all_train_df[\"label\"][features]), all_train_df[\"post_treatment\"])\n",
    "    \n",
    "    train_x = model_predict(lm_mp, encoder.transform(kaggle_joined_df[\"label\"][features]))\n",
    "    train_y = de_train[transcriptome_cols]\n",
    "    \n",
    "    trm_mp = model_train(make_model(params[\"trm\"]), train_x, train_y)\n",
    "\n",
    "    test_lm_pred = model_predict(lm_mp, encoder.transform(test_joined_df[\"label\"][features]))\n",
    "    y_pred = model_predict(trm_mp, test_lm_pred)\n",
    "    return y_pred"
   ]
  },
  {
   "cell_type": "code",
   "execution_count": 89,
   "id": "b8c21214-e456-4104-ab3a-bbe303d6c493",
   "metadata": {},
   "outputs": [
    {
     "name": "stderr",
     "output_type": "stream",
     "text": [
      "  0%|                                                    | 0/50 [00:00<?, ?it/s]"
     ]
    },
    {
     "name": "stdout",
     "output_type": "stream",
     "text": [
      "{'encoded': ('sm_name',), 'lmk': {'n_comp': 12, 'alpha': 0.6372746381314492}, 'trm': {'n_comp': 33, 'alpha': 1.696347271286029}}\n"
     ]
    },
    {
     "name": "stderr",
     "output_type": "stream",
     "text": [
      "  2%|▉                                           | 1/50 [00:25<21:05, 25.83s/it]"
     ]
    },
    {
     "name": "stdout",
     "output_type": "stream",
     "text": [
      "{'encoded': ('sm_name',), 'lmk': {'n_comp': 35, 'alpha': 3.2028291233139394}, 'trm': {'n_comp': 99, 'alpha': 3.1294617970555345}}\n"
     ]
    },
    {
     "name": "stderr",
     "output_type": "stream",
     "text": [
      "  4%|█▊                                          | 2/50 [00:49<19:34, 24.48s/it]"
     ]
    },
    {
     "name": "stdout",
     "output_type": "stream",
     "text": [
      "{'encoded': ('sm_name',), 'lmk': {'n_comp': 13, 'alpha': 1.8771882343814768}, 'trm': {'n_comp': 91, 'alpha': 4.279743381933521}}\n"
     ]
    },
    {
     "name": "stderr",
     "output_type": "stream",
     "text": [
      "  6%|██▋                                         | 3/50 [01:08<17:08, 21.89s/it]"
     ]
    },
    {
     "name": "stdout",
     "output_type": "stream",
     "text": [
      "{'encoded': ('sm_name',), 'lmk': {'n_comp': 74, 'alpha': 0.014470604091947892}, 'trm': {'n_comp': 93, 'alpha': 1.5895069448165495}}\n"
     ]
    },
    {
     "name": "stderr",
     "output_type": "stream",
     "text": [
      "  8%|███▌                                        | 4/50 [01:44<21:14, 27.70s/it]"
     ]
    },
    {
     "name": "stdout",
     "output_type": "stream",
     "text": [
      "{'encoded': ('sm_name',), 'lmk': {'n_comp': 22, 'alpha': 1.5662531218454507}, 'trm': {'n_comp': 86, 'alpha': 4.325688532234437}}\n"
     ]
    },
    {
     "name": "stderr",
     "output_type": "stream",
     "text": [
      " 10%|████▍                                       | 5/50 [02:07<19:29, 26.00s/it]"
     ]
    },
    {
     "name": "stdout",
     "output_type": "stream",
     "text": [
      "{'encoded': ('sm_name',), 'lmk': {'n_comp': 6, 'alpha': 2.0640321754784052}, 'trm': {'n_comp': 100, 'alpha': 1.7796942158685631}}\n"
     ]
    },
    {
     "name": "stderr",
     "output_type": "stream",
     "text": [
      " 12%|█████▎                                      | 6/50 [02:24<16:51, 22.99s/it]"
     ]
    },
    {
     "name": "stdout",
     "output_type": "stream",
     "text": [
      "{'encoded': ('sm_name',), 'lmk': {'n_comp': 75, 'alpha': 3.2796082217519578}, 'trm': {'n_comp': 7, 'alpha': 2.0814384207643593}}\n"
     ]
    },
    {
     "name": "stderr",
     "output_type": "stream",
     "text": [
      " 14%|██████▏                                     | 7/50 [02:55<18:12, 25.40s/it]"
     ]
    },
    {
     "name": "stdout",
     "output_type": "stream",
     "text": [
      "{'encoded': ('sm_name',), 'lmk': {'n_comp': 85, 'alpha': 2.6964965290905334}, 'trm': {'n_comp': 75, 'alpha': 0.9713075734495441}}\n"
     ]
    },
    {
     "name": "stderr",
     "output_type": "stream",
     "text": [
      " 16%|███████                                     | 8/50 [03:26<19:09, 27.37s/it]"
     ]
    },
    {
     "name": "stdout",
     "output_type": "stream",
     "text": [
      "{'encoded': ('sm_name',), 'lmk': {'n_comp': 31, 'alpha': 3.2237200993340704}, 'trm': {'n_comp': 40, 'alpha': 0.29550715795357396}}\n"
     ]
    },
    {
     "name": "stderr",
     "output_type": "stream",
     "text": [
      " 18%|███████▉                                    | 9/50 [03:47<17:10, 25.14s/it]"
     ]
    },
    {
     "name": "stdout",
     "output_type": "stream",
     "text": [
      "{'encoded': ('sm_name',), 'lmk': {'n_comp': 82, 'alpha': 1.239434812365593}, 'trm': {'n_comp': 47, 'alpha': 2.768121101621031}}\n"
     ]
    },
    {
     "name": "stderr",
     "output_type": "stream",
     "text": [
      " 20%|████████▌                                  | 10/50 [04:19<18:11, 27.29s/it]"
     ]
    },
    {
     "name": "stdout",
     "output_type": "stream",
     "text": [
      "{'encoded': ('sm_name',), 'lmk': {'n_comp': 68, 'alpha': 0.6749171316400637}, 'trm': {'n_comp': 2, 'alpha': 2.7075431430977375}}\n"
     ]
    },
    {
     "name": "stderr",
     "output_type": "stream",
     "text": [
      " 22%|█████████▍                                 | 11/50 [04:45<17:37, 27.13s/it]"
     ]
    },
    {
     "name": "stdout",
     "output_type": "stream",
     "text": [
      "{'encoded': ('sm_name',), 'lmk': {'n_comp': 85, 'alpha': 1.2024249100188455}, 'trm': {'n_comp': 97, 'alpha': 1.4033943051385656}}\n"
     ]
    },
    {
     "name": "stderr",
     "output_type": "stream",
     "text": [
      " 24%|██████████▎                                | 12/50 [05:18<18:15, 28.82s/it]"
     ]
    },
    {
     "name": "stdout",
     "output_type": "stream",
     "text": [
      "{'encoded': ('sm_name',), 'lmk': {'n_comp': 2, 'alpha': 4.132558350126613}, 'trm': {'n_comp': 6, 'alpha': 0.06267605853555624}}\n"
     ]
    },
    {
     "name": "stderr",
     "output_type": "stream",
     "text": [
      " 26%|███████████▏                               | 13/50 [05:29<14:26, 23.42s/it]"
     ]
    },
    {
     "name": "stdout",
     "output_type": "stream",
     "text": [
      "{'encoded': ('sm_name',), 'lmk': {'n_comp': 8, 'alpha': 4.727010466066426}, 'trm': {'n_comp': 17, 'alpha': 1.9522893458508594}}\n"
     ]
    },
    {
     "name": "stderr",
     "output_type": "stream",
     "text": [
      " 28%|████████████                               | 14/50 [05:43<12:22, 20.61s/it]"
     ]
    },
    {
     "name": "stdout",
     "output_type": "stream",
     "text": [
      "{'encoded': ('sm_name',), 'lmk': {'n_comp': 57, 'alpha': 2.7036827916437325}, 'trm': {'n_comp': 91, 'alpha': 2.9951411198115903}}\n"
     ]
    },
    {
     "name": "stderr",
     "output_type": "stream",
     "text": [
      " 30%|████████████▉                              | 15/50 [06:09<12:55, 22.16s/it]"
     ]
    },
    {
     "name": "stdout",
     "output_type": "stream",
     "text": [
      "{'encoded': ('sm_name',), 'lmk': {'n_comp': 3, 'alpha': 3.0012183155465872}, 'trm': {'n_comp': 40, 'alpha': 0.6803170885787374}}\n"
     ]
    },
    {
     "name": "stderr",
     "output_type": "stream",
     "text": [
      " 32%|█████████████▊                             | 16/50 [06:21<10:49, 19.09s/it]"
     ]
    },
    {
     "name": "stdout",
     "output_type": "stream",
     "text": [
      "{'encoded': ('sm_name',), 'lmk': {'n_comp': 87, 'alpha': 2.388281428542018}, 'trm': {'n_comp': 11, 'alpha': 0.5880191834677295}}\n"
     ]
    },
    {
     "name": "stderr",
     "output_type": "stream",
     "text": [
      " 34%|██████████████▌                            | 17/50 [06:52<12:26, 22.63s/it]"
     ]
    },
    {
     "name": "stdout",
     "output_type": "stream",
     "text": [
      "{'encoded': ('sm_name',), 'lmk': {'n_comp': 63, 'alpha': 0.9337520823938589}, 'trm': {'n_comp': 28, 'alpha': 2.51054340653904}}\n"
     ]
    },
    {
     "name": "stderr",
     "output_type": "stream",
     "text": [
      " 36%|███████████████▍                           | 18/50 [07:19<12:44, 23.89s/it]"
     ]
    },
    {
     "name": "stdout",
     "output_type": "stream",
     "text": [
      "{'encoded': ('sm_name',), 'lmk': {'n_comp': 29, 'alpha': 0.3933871105799003}, 'trm': {'n_comp': 67, 'alpha': 2.0087968673769705}}\n"
     ]
    },
    {
     "name": "stderr",
     "output_type": "stream",
     "text": [
      " 38%|████████████████▎                          | 19/50 [07:41<12:09, 23.53s/it]"
     ]
    },
    {
     "name": "stdout",
     "output_type": "stream",
     "text": [
      "{'encoded': ('sm_name',), 'lmk': {'n_comp': 85, 'alpha': 0.9787286588149335}, 'trm': {'n_comp': 46, 'alpha': 2.2119100382891324}}\n"
     ]
    },
    {
     "name": "stderr",
     "output_type": "stream",
     "text": [
      " 40%|█████████████████▏                         | 20/50 [08:14<13:05, 26.18s/it]"
     ]
    },
    {
     "name": "stdout",
     "output_type": "stream",
     "text": [
      "{'encoded': ('sm_name',), 'lmk': {'n_comp': 5, 'alpha': 4.242103488843444}, 'trm': {'n_comp': 54, 'alpha': 2.9631996232825335}}\n"
     ]
    },
    {
     "name": "stderr",
     "output_type": "stream",
     "text": [
      " 42%|██████████████████                         | 21/50 [08:25<10:32, 21.82s/it]"
     ]
    },
    {
     "name": "stdout",
     "output_type": "stream",
     "text": [
      "{'encoded': ('sm_name',), 'lmk': {'n_comp': 89, 'alpha': 3.9809518503172763}, 'trm': {'n_comp': 61, 'alpha': 0.7524492063816579}}\n"
     ]
    },
    {
     "name": "stderr",
     "output_type": "stream",
     "text": [
      " 44%|██████████████████▉                        | 22/50 [08:59<11:46, 25.23s/it]"
     ]
    },
    {
     "name": "stdout",
     "output_type": "stream",
     "text": [
      "{'encoded': ('sm_name',), 'lmk': {'n_comp': 1, 'alpha': 0.37142655430590477}, 'trm': {'n_comp': 93, 'alpha': 4.204868341373201}}\n"
     ]
    },
    {
     "name": "stderr",
     "output_type": "stream",
     "text": [
      " 46%|███████████████████▊                       | 23/50 [09:12<09:48, 21.78s/it]"
     ]
    },
    {
     "name": "stdout",
     "output_type": "stream",
     "text": [
      "{'encoded': ('sm_name',), 'lmk': {'n_comp': 87, 'alpha': 4.84978205026259}, 'trm': {'n_comp': 92, 'alpha': 0.772930786390007}}\n"
     ]
    },
    {
     "name": "stderr",
     "output_type": "stream",
     "text": [
      " 48%|████████████████████▋                      | 24/50 [09:42<10:30, 24.23s/it]"
     ]
    },
    {
     "name": "stdout",
     "output_type": "stream",
     "text": [
      "{'encoded': ('sm_name',), 'lmk': {'n_comp': 56, 'alpha': 0.29052107551482853}, 'trm': {'n_comp': 97, 'alpha': 2.436202672434381}}\n"
     ]
    },
    {
     "name": "stderr",
     "output_type": "stream",
     "text": [
      " 50%|█████████████████████▌                     | 25/50 [10:09<10:26, 25.07s/it]"
     ]
    },
    {
     "name": "stdout",
     "output_type": "stream",
     "text": [
      "{'encoded': ('sm_name',), 'lmk': {'n_comp': 3, 'alpha': 1.7217776654211048}, 'trm': {'n_comp': 35, 'alpha': 4.313217045432849}}\n"
     ]
    },
    {
     "name": "stderr",
     "output_type": "stream",
     "text": [
      " 52%|██████████████████████▎                    | 26/50 [10:22<08:31, 21.32s/it]"
     ]
    },
    {
     "name": "stdout",
     "output_type": "stream",
     "text": [
      "{'encoded': ('sm_name',), 'lmk': {'n_comp': 28, 'alpha': 1.173971707719767}, 'trm': {'n_comp': 52, 'alpha': 0.1490638806090705}}\n"
     ]
    },
    {
     "name": "stderr",
     "output_type": "stream",
     "text": [
      " 54%|███████████████████████▏                   | 27/50 [10:42<07:59, 20.84s/it]"
     ]
    },
    {
     "name": "stdout",
     "output_type": "stream",
     "text": [
      "{'encoded': ('sm_name',), 'lmk': {'n_comp': 0, 'alpha': 4.927521853300007}, 'trm': {'n_comp': 1, 'alpha': 2.4233555434645755}}\n"
     ]
    },
    {
     "name": "stderr",
     "output_type": "stream",
     "text": [
      " 56%|████████████████████████                   | 28/50 [11:40<11:47, 32.18s/it]"
     ]
    },
    {
     "name": "stdout",
     "output_type": "stream",
     "text": [
      "{'encoded': ('sm_name',), 'lmk': {'n_comp': 29, 'alpha': 3.9248558835264884}, 'trm': {'n_comp': 24, 'alpha': 3.0264389397042586}}\n"
     ]
    },
    {
     "name": "stderr",
     "output_type": "stream",
     "text": [
      " 58%|████████████████████████▉                  | 29/50 [11:59<09:51, 28.19s/it]"
     ]
    },
    {
     "name": "stdout",
     "output_type": "stream",
     "text": [
      "{'encoded': ('sm_name',), 'lmk': {'n_comp': 27, 'alpha': 0.04329332634019245}, 'trm': {'n_comp': 3, 'alpha': 1.2617997715068014}}\n"
     ]
    },
    {
     "name": "stderr",
     "output_type": "stream",
     "text": [
      " 60%|█████████████████████████▊                 | 30/50 [12:19<08:33, 25.69s/it]"
     ]
    },
    {
     "name": "stdout",
     "output_type": "stream",
     "text": [
      "{'encoded': ('sm_name',), 'lmk': {'n_comp': 9, 'alpha': 3.7152231139700076}, 'trm': {'n_comp': 83, 'alpha': 3.0738201140076393}}\n"
     ]
    },
    {
     "name": "stderr",
     "output_type": "stream",
     "text": [
      " 62%|██████████████████████████▋                | 31/50 [12:36<07:18, 23.07s/it]"
     ]
    },
    {
     "name": "stdout",
     "output_type": "stream",
     "text": [
      "{'encoded': ('sm_name',), 'lmk': {'n_comp': 41, 'alpha': 2.891954182153821}, 'trm': {'n_comp': 20, 'alpha': 4.641465582027316}}\n"
     ]
    },
    {
     "name": "stderr",
     "output_type": "stream",
     "text": [
      " 64%|███████████████████████████▌               | 32/50 [12:59<06:52, 22.94s/it]"
     ]
    },
    {
     "name": "stdout",
     "output_type": "stream",
     "text": [
      "{'encoded': ('sm_name',), 'lmk': {'n_comp': 68, 'alpha': 2.270897347642897}, 'trm': {'n_comp': 28, 'alpha': 1.9136008903544894}}\n"
     ]
    },
    {
     "name": "stderr",
     "output_type": "stream",
     "text": [
      " 66%|████████████████████████████▍              | 33/50 [13:25<06:47, 23.99s/it]"
     ]
    },
    {
     "name": "stdout",
     "output_type": "stream",
     "text": [
      "{'encoded': ('sm_name',), 'lmk': {'n_comp': 59, 'alpha': 0.8361833508200861}, 'trm': {'n_comp': 45, 'alpha': 3.548460573809122}}\n"
     ]
    },
    {
     "name": "stderr",
     "output_type": "stream",
     "text": [
      " 68%|█████████████████████████████▏             | 34/50 [13:51<06:35, 24.70s/it]"
     ]
    },
    {
     "name": "stdout",
     "output_type": "stream",
     "text": [
      "{'encoded': ('sm_name',), 'lmk': {'n_comp': 33, 'alpha': 3.20502281151511}, 'trm': {'n_comp': 100, 'alpha': 1.8565795171196464}}\n"
     ]
    },
    {
     "name": "stderr",
     "output_type": "stream",
     "text": [
      " 70%|██████████████████████████████             | 35/50 [14:12<05:53, 23.57s/it]"
     ]
    },
    {
     "name": "stdout",
     "output_type": "stream",
     "text": [
      "{'encoded': ('sm_name',), 'lmk': {'n_comp': 29, 'alpha': 4.809465328796195}, 'trm': {'n_comp': 29, 'alpha': 0.04586821467580493}}\n"
     ]
    },
    {
     "name": "stderr",
     "output_type": "stream",
     "text": [
      " 72%|██████████████████████████████▉            | 36/50 [14:32<05:14, 22.44s/it]"
     ]
    },
    {
     "name": "stdout",
     "output_type": "stream",
     "text": [
      "{'encoded': ('sm_name',), 'lmk': {'n_comp': 98, 'alpha': 0.6260483829346591}, 'trm': {'n_comp': 45, 'alpha': 2.1985174183508756}}\n"
     ]
    },
    {
     "name": "stderr",
     "output_type": "stream",
     "text": [
      " 74%|███████████████████████████████▊           | 37/50 [15:08<05:43, 26.39s/it]"
     ]
    },
    {
     "name": "stdout",
     "output_type": "stream",
     "text": [
      "{'encoded': ('sm_name',), 'lmk': {'n_comp': 41, 'alpha': 2.198441839445971}, 'trm': {'n_comp': 8, 'alpha': 3.170018446056732}}\n"
     ]
    },
    {
     "name": "stderr",
     "output_type": "stream",
     "text": [
      " 76%|████████████████████████████████▋          | 38/50 [15:30<05:01, 25.11s/it]"
     ]
    },
    {
     "name": "stdout",
     "output_type": "stream",
     "text": [
      "{'encoded': ('sm_name',), 'lmk': {'n_comp': 89, 'alpha': 2.6493016757387537}, 'trm': {'n_comp': 75, 'alpha': 1.868666155831456}}\n"
     ]
    },
    {
     "name": "stderr",
     "output_type": "stream",
     "text": [
      " 78%|█████████████████████████████████▌         | 39/50 [16:02<04:59, 27.20s/it]"
     ]
    },
    {
     "name": "stdout",
     "output_type": "stream",
     "text": [
      "{'encoded': ('sm_name',), 'lmk': {'n_comp': 30, 'alpha': 1.5537290334843497}, 'trm': {'n_comp': 50, 'alpha': 4.0662554780757905}}\n"
     ]
    },
    {
     "name": "stderr",
     "output_type": "stream",
     "text": [
      " 80%|██████████████████████████████████▍        | 40/50 [16:22<04:11, 25.19s/it]"
     ]
    },
    {
     "name": "stdout",
     "output_type": "stream",
     "text": [
      "{'encoded': ('sm_name',), 'lmk': {'n_comp': 69, 'alpha': 1.7966456791499352}, 'trm': {'n_comp': 91, 'alpha': 0.8267306380132083}}\n"
     ]
    },
    {
     "name": "stderr",
     "output_type": "stream",
     "text": [
      " 82%|███████████████████████████████████▎       | 41/50 [16:51<03:54, 26.08s/it]"
     ]
    },
    {
     "name": "stdout",
     "output_type": "stream",
     "text": [
      "{'encoded': ('sm_name',), 'lmk': {'n_comp': 36, 'alpha': 1.0350983336423336}, 'trm': {'n_comp': 30, 'alpha': 1.0361877621404876}}\n"
     ]
    },
    {
     "name": "stderr",
     "output_type": "stream",
     "text": [
      " 84%|████████████████████████████████████       | 42/50 [17:11<03:16, 24.55s/it]"
     ]
    },
    {
     "name": "stdout",
     "output_type": "stream",
     "text": [
      "{'encoded': ('sm_name',), 'lmk': {'n_comp': 45, 'alpha': 3.791805354805406}, 'trm': {'n_comp': 85, 'alpha': 3.7801713458031343}}\n"
     ]
    },
    {
     "name": "stderr",
     "output_type": "stream",
     "text": [
      " 86%|████████████████████████████████████▉      | 43/50 [17:37<02:54, 24.89s/it]"
     ]
    },
    {
     "name": "stdout",
     "output_type": "stream",
     "text": [
      "{'encoded': ('sm_name',), 'lmk': {'n_comp': 66, 'alpha': 0.23981717821365656}, 'trm': {'n_comp': 5, 'alpha': 3.2201240046565887}}\n"
     ]
    },
    {
     "name": "stderr",
     "output_type": "stream",
     "text": [
      " 88%|█████████████████████████████████████▊     | 44/50 [18:05<02:34, 25.69s/it]"
     ]
    },
    {
     "name": "stdout",
     "output_type": "stream",
     "text": [
      "{'encoded': ('sm_name',), 'lmk': {'n_comp': 85, 'alpha': 4.79866914194869}, 'trm': {'n_comp': 24, 'alpha': 1.4201154192788557}}\n"
     ]
    },
    {
     "name": "stderr",
     "output_type": "stream",
     "text": [
      " 90%|██████████████████████████████████████▋    | 45/50 [18:33<02:12, 26.60s/it]"
     ]
    },
    {
     "name": "stdout",
     "output_type": "stream",
     "text": [
      "{'encoded': ('sm_name',), 'lmk': {'n_comp': 21, 'alpha': 3.752734905085724}, 'trm': {'n_comp': 22, 'alpha': 0.15356141686912073}}\n"
     ]
    },
    {
     "name": "stderr",
     "output_type": "stream",
     "text": [
      " 92%|███████████████████████████████████████▌   | 46/50 [18:50<01:34, 23.58s/it]"
     ]
    },
    {
     "name": "stdout",
     "output_type": "stream",
     "text": [
      "{'encoded': ('sm_name',), 'lmk': {'n_comp': 18, 'alpha': 0.795464993010459}, 'trm': {'n_comp': 10, 'alpha': 4.196993026482022}}\n"
     ]
    },
    {
     "name": "stderr",
     "output_type": "stream",
     "text": [
      " 94%|████████████████████████████████████████▍  | 47/50 [19:09<01:06, 22.08s/it]"
     ]
    },
    {
     "name": "stdout",
     "output_type": "stream",
     "text": [
      "{'encoded': ('sm_name',), 'lmk': {'n_comp': 34, 'alpha': 4.21006573054219}, 'trm': {'n_comp': 98, 'alpha': 0.14746716737962684}}\n"
     ]
    },
    {
     "name": "stderr",
     "output_type": "stream",
     "text": [
      " 96%|█████████████████████████████████████████▎ | 48/50 [19:29<00:43, 21.71s/it]"
     ]
    },
    {
     "name": "stdout",
     "output_type": "stream",
     "text": [
      "{'encoded': ('sm_name',), 'lmk': {'n_comp': 32, 'alpha': 3.4490458428574127}, 'trm': {'n_comp': 22, 'alpha': 2.0551292722179864}}\n"
     ]
    },
    {
     "name": "stderr",
     "output_type": "stream",
     "text": [
      " 98%|██████████████████████████████████████████▏| 49/50 [19:49<00:21, 21.09s/it]"
     ]
    },
    {
     "name": "stdout",
     "output_type": "stream",
     "text": [
      "{'encoded': ('sm_name',), 'lmk': {'n_comp': 88, 'alpha': 3.7741938385923697}, 'trm': {'n_comp': 94, 'alpha': 1.1095048306079158}}\n"
     ]
    },
    {
     "name": "stderr",
     "output_type": "stream",
     "text": [
      "100%|███████████████████████████████████████████| 50/50 [20:21<00:00, 24.42s/it]\n"
     ]
    }
   ],
   "source": [
    "import random\n",
    "all_y_preds = []\n",
    "all_weights = []\n",
    "\n",
    "for _ in tqdm.tqdm(range(50)):\n",
    "    params = {'encoded': ('sm_name',), 'lmk': {'n_comp': random.randint(0,100), 'alpha': random.uniform(0, 5)}, 'trm': {'n_comp': random.randint(0,100), 'alpha': random.uniform(0, 5)}}\n",
    "    encoder = make_encoder(params)\n",
    "    print(params)\n",
    "    all_y_preds.append(get_y_pred(encoder,params))\n",
    "    all_weights.append(crossvalidate(encoder,params))"
   ]
  },
  {
   "cell_type": "code",
   "execution_count": 91,
   "id": "46e8a0ba-b827-4295-9124-42f4878849ef",
   "metadata": {},
   "outputs": [
    {
     "data": {
      "text/plain": [
       "(50, 255, 18211)"
      ]
     },
     "metadata": {},
     "output_type": "display_data"
    },
    {
     "data": {
      "text/plain": [
       "[2.2693843988888998,\n",
       " 2.2759466352191158,\n",
       " 2.2657324682613553,\n",
       " 2.280148687388696,\n",
       " 2.256181874494933,\n",
       " 2.3403368781001954,\n",
       " 2.2949167942306774,\n",
       " 2.274756300302466,\n",
       " 2.2643054614013063,\n",
       " 2.275764100029352,\n",
       " 2.2608554943461567,\n",
       " 2.276404845160673,\n",
       " 2.4938850769105265,\n",
       " 2.2922554680783658,\n",
       " 2.2734240838122193,\n",
       " 2.397068569323188,\n",
       " 2.2936292297314016,\n",
       " 2.2724150761438264,\n",
       " 2.268105996532191,\n",
       " 2.2736924667769554,\n",
       " 2.432100513942507,\n",
       " 2.2759719127135227,\n",
       " 2.2973134503342725,\n",
       " 2.2765752579876293,\n",
       " 2.275107985546231,\n",
       " 2.3697831655591446,\n",
       " 2.2599733263148245,\n",
       " 2.191902770117086,\n",
       " 2.269406948286098,\n",
       " 2.2765404790891557,\n",
       " 2.249763402378471,\n",
       " 2.2737191450928447,\n",
       " 2.2728427629284633,\n",
       " 2.2740700052706164,\n",
       " 2.2639581133044326,\n",
       " 2.270263677141051,\n",
       " 2.2756938453373396,\n",
       " 2.2962951278890222,\n",
       " 2.275942373818899,\n",
       " 2.267520978563596,\n",
       " 2.276986453358964,\n",
       " 2.2737366182119225,\n",
       " 2.269328602530656,\n",
       " 2.286097427025593,\n",
       " 2.2700246658680476,\n",
       " 2.26126009766376,\n",
       " 2.27113256975421,\n",
       " 2.2703767193284867,\n",
       " 2.2661326911937913,\n",
       " 2.276370918321616]"
      ]
     },
     "metadata": {},
     "output_type": "display_data"
    },
    {
     "data": {
      "text/plain": [
       "0.185405983798328"
      ]
     },
     "metadata": {},
     "output_type": "display_data"
    },
    {
     "data": {
      "text/plain": [
       "(50, 255, 1)"
      ]
     },
     "metadata": {},
     "output_type": "display_data"
    },
    {
     "data": {
      "text/plain": [
       "(50, 255, 18211)"
      ]
     },
     "metadata": {},
     "output_type": "display_data"
    },
    {
     "name": "stderr",
     "output_type": "stream",
     "text": [
      "/Users/laurasisson/miniconda3/envs/rdenv/lib/python3.11/site-packages/scipy/stats/_stats_py.py:197: RuntimeWarning: invalid value encountered in log\n",
      "  log_a = np.log(a)\n"
     ]
    },
    {
     "data": {
      "text/html": [
       "<div>\n",
       "<style scoped>\n",
       "    .dataframe tbody tr th:only-of-type {\n",
       "        vertical-align: middle;\n",
       "    }\n",
       "\n",
       "    .dataframe tbody tr th {\n",
       "        vertical-align: top;\n",
       "    }\n",
       "\n",
       "    .dataframe thead th {\n",
       "        text-align: right;\n",
       "    }\n",
       "</style>\n",
       "<table border=\"1\" class=\"dataframe\">\n",
       "  <thead>\n",
       "    <tr style=\"text-align: right;\">\n",
       "      <th></th>\n",
       "      <th>A1BG</th>\n",
       "      <th>A1BG-AS1</th>\n",
       "      <th>A2M</th>\n",
       "      <th>A2M-AS1</th>\n",
       "      <th>A2MP1</th>\n",
       "      <th>A4GALT</th>\n",
       "      <th>AAAS</th>\n",
       "      <th>AACS</th>\n",
       "      <th>AAGAB</th>\n",
       "      <th>AAK1</th>\n",
       "      <th>...</th>\n",
       "      <th>ZUP1</th>\n",
       "      <th>ZW10</th>\n",
       "      <th>ZWILCH</th>\n",
       "      <th>ZWINT</th>\n",
       "      <th>ZXDA</th>\n",
       "      <th>ZXDB</th>\n",
       "      <th>ZXDC</th>\n",
       "      <th>ZYG11B</th>\n",
       "      <th>ZYX</th>\n",
       "      <th>ZZEF1</th>\n",
       "    </tr>\n",
       "    <tr>\n",
       "      <th>id</th>\n",
       "      <th></th>\n",
       "      <th></th>\n",
       "      <th></th>\n",
       "      <th></th>\n",
       "      <th></th>\n",
       "      <th></th>\n",
       "      <th></th>\n",
       "      <th></th>\n",
       "      <th></th>\n",
       "      <th></th>\n",
       "      <th></th>\n",
       "      <th></th>\n",
       "      <th></th>\n",
       "      <th></th>\n",
       "      <th></th>\n",
       "      <th></th>\n",
       "      <th></th>\n",
       "      <th></th>\n",
       "      <th></th>\n",
       "      <th></th>\n",
       "      <th></th>\n",
       "    </tr>\n",
       "  </thead>\n",
       "  <tbody>\n",
       "    <tr>\n",
       "      <th>0</th>\n",
       "      <td>0.427217</td>\n",
       "      <td>0.293254</td>\n",
       "      <td>0.499505</td>\n",
       "      <td>0.630907</td>\n",
       "      <td>0.952655</td>\n",
       "      <td>0.844293</td>\n",
       "      <td>0.0</td>\n",
       "      <td>0.482537</td>\n",
       "      <td>0.0</td>\n",
       "      <td>0.0</td>\n",
       "      <td>...</td>\n",
       "      <td>0.0</td>\n",
       "      <td>0.0</td>\n",
       "      <td>0.238293</td>\n",
       "      <td>0.187353</td>\n",
       "      <td>0.551313</td>\n",
       "      <td>0.425926</td>\n",
       "      <td>0.331273</td>\n",
       "      <td>0.240815</td>\n",
       "      <td>0.0</td>\n",
       "      <td>0.0</td>\n",
       "    </tr>\n",
       "    <tr>\n",
       "      <th>1</th>\n",
       "      <td>0.098870</td>\n",
       "      <td>0.000000</td>\n",
       "      <td>0.000000</td>\n",
       "      <td>0.099942</td>\n",
       "      <td>0.291293</td>\n",
       "      <td>0.000000</td>\n",
       "      <td>0.0</td>\n",
       "      <td>0.000000</td>\n",
       "      <td>0.0</td>\n",
       "      <td>0.0</td>\n",
       "      <td>...</td>\n",
       "      <td>0.0</td>\n",
       "      <td>0.0</td>\n",
       "      <td>0.000000</td>\n",
       "      <td>0.000000</td>\n",
       "      <td>0.000000</td>\n",
       "      <td>0.000000</td>\n",
       "      <td>0.000000</td>\n",
       "      <td>0.000000</td>\n",
       "      <td>0.0</td>\n",
       "      <td>0.0</td>\n",
       "    </tr>\n",
       "    <tr>\n",
       "      <th>2</th>\n",
       "      <td>0.313714</td>\n",
       "      <td>0.205128</td>\n",
       "      <td>0.220327</td>\n",
       "      <td>0.000000</td>\n",
       "      <td>0.000000</td>\n",
       "      <td>0.994264</td>\n",
       "      <td>0.0</td>\n",
       "      <td>0.000000</td>\n",
       "      <td>0.0</td>\n",
       "      <td>0.0</td>\n",
       "      <td>...</td>\n",
       "      <td>0.0</td>\n",
       "      <td>0.0</td>\n",
       "      <td>0.000000</td>\n",
       "      <td>0.000000</td>\n",
       "      <td>0.000000</td>\n",
       "      <td>0.000000</td>\n",
       "      <td>0.000000</td>\n",
       "      <td>0.000000</td>\n",
       "      <td>0.0</td>\n",
       "      <td>0.0</td>\n",
       "    </tr>\n",
       "    <tr>\n",
       "      <th>3</th>\n",
       "      <td>0.000000</td>\n",
       "      <td>0.000000</td>\n",
       "      <td>0.000000</td>\n",
       "      <td>0.000000</td>\n",
       "      <td>0.000000</td>\n",
       "      <td>0.000000</td>\n",
       "      <td>0.0</td>\n",
       "      <td>0.000000</td>\n",
       "      <td>0.0</td>\n",
       "      <td>0.0</td>\n",
       "      <td>...</td>\n",
       "      <td>0.0</td>\n",
       "      <td>0.0</td>\n",
       "      <td>0.000000</td>\n",
       "      <td>0.000000</td>\n",
       "      <td>0.000000</td>\n",
       "      <td>0.000000</td>\n",
       "      <td>0.000000</td>\n",
       "      <td>0.000000</td>\n",
       "      <td>0.0</td>\n",
       "      <td>0.0</td>\n",
       "    </tr>\n",
       "    <tr>\n",
       "      <th>4</th>\n",
       "      <td>0.000000</td>\n",
       "      <td>0.000000</td>\n",
       "      <td>0.000000</td>\n",
       "      <td>0.000000</td>\n",
       "      <td>0.000000</td>\n",
       "      <td>0.188105</td>\n",
       "      <td>0.0</td>\n",
       "      <td>0.115438</td>\n",
       "      <td>0.0</td>\n",
       "      <td>0.0</td>\n",
       "      <td>...</td>\n",
       "      <td>0.0</td>\n",
       "      <td>0.0</td>\n",
       "      <td>0.000000</td>\n",
       "      <td>0.000000</td>\n",
       "      <td>0.080451</td>\n",
       "      <td>0.000000</td>\n",
       "      <td>0.076282</td>\n",
       "      <td>0.091261</td>\n",
       "      <td>0.0</td>\n",
       "      <td>0.0</td>\n",
       "    </tr>\n",
       "    <tr>\n",
       "      <th>...</th>\n",
       "      <td>...</td>\n",
       "      <td>...</td>\n",
       "      <td>...</td>\n",
       "      <td>...</td>\n",
       "      <td>...</td>\n",
       "      <td>...</td>\n",
       "      <td>...</td>\n",
       "      <td>...</td>\n",
       "      <td>...</td>\n",
       "      <td>...</td>\n",
       "      <td>...</td>\n",
       "      <td>...</td>\n",
       "      <td>...</td>\n",
       "      <td>...</td>\n",
       "      <td>...</td>\n",
       "      <td>...</td>\n",
       "      <td>...</td>\n",
       "      <td>...</td>\n",
       "      <td>...</td>\n",
       "      <td>...</td>\n",
       "      <td>...</td>\n",
       "    </tr>\n",
       "    <tr>\n",
       "      <th>250</th>\n",
       "      <td>0.000000</td>\n",
       "      <td>0.000000</td>\n",
       "      <td>0.000000</td>\n",
       "      <td>0.000000</td>\n",
       "      <td>0.000000</td>\n",
       "      <td>0.000000</td>\n",
       "      <td>0.0</td>\n",
       "      <td>0.000000</td>\n",
       "      <td>0.0</td>\n",
       "      <td>0.0</td>\n",
       "      <td>...</td>\n",
       "      <td>0.0</td>\n",
       "      <td>0.0</td>\n",
       "      <td>0.000000</td>\n",
       "      <td>0.000000</td>\n",
       "      <td>0.000000</td>\n",
       "      <td>0.000000</td>\n",
       "      <td>0.000000</td>\n",
       "      <td>0.000000</td>\n",
       "      <td>0.0</td>\n",
       "      <td>0.0</td>\n",
       "    </tr>\n",
       "    <tr>\n",
       "      <th>251</th>\n",
       "      <td>0.000000</td>\n",
       "      <td>0.000000</td>\n",
       "      <td>0.000000</td>\n",
       "      <td>0.000000</td>\n",
       "      <td>0.000000</td>\n",
       "      <td>0.000000</td>\n",
       "      <td>0.0</td>\n",
       "      <td>0.000000</td>\n",
       "      <td>0.0</td>\n",
       "      <td>0.0</td>\n",
       "      <td>...</td>\n",
       "      <td>0.0</td>\n",
       "      <td>0.0</td>\n",
       "      <td>0.000000</td>\n",
       "      <td>0.000000</td>\n",
       "      <td>0.000000</td>\n",
       "      <td>0.000000</td>\n",
       "      <td>0.000000</td>\n",
       "      <td>0.000000</td>\n",
       "      <td>0.0</td>\n",
       "      <td>0.0</td>\n",
       "    </tr>\n",
       "    <tr>\n",
       "      <th>252</th>\n",
       "      <td>0.000000</td>\n",
       "      <td>0.000000</td>\n",
       "      <td>0.000000</td>\n",
       "      <td>0.000000</td>\n",
       "      <td>0.000000</td>\n",
       "      <td>0.000000</td>\n",
       "      <td>0.0</td>\n",
       "      <td>0.000000</td>\n",
       "      <td>0.0</td>\n",
       "      <td>0.0</td>\n",
       "      <td>...</td>\n",
       "      <td>0.0</td>\n",
       "      <td>0.0</td>\n",
       "      <td>0.000000</td>\n",
       "      <td>0.000000</td>\n",
       "      <td>0.000000</td>\n",
       "      <td>0.000000</td>\n",
       "      <td>0.000000</td>\n",
       "      <td>0.000000</td>\n",
       "      <td>0.0</td>\n",
       "      <td>0.0</td>\n",
       "    </tr>\n",
       "    <tr>\n",
       "      <th>253</th>\n",
       "      <td>0.000000</td>\n",
       "      <td>0.000000</td>\n",
       "      <td>0.000000</td>\n",
       "      <td>0.000000</td>\n",
       "      <td>0.000000</td>\n",
       "      <td>0.000000</td>\n",
       "      <td>0.0</td>\n",
       "      <td>0.000000</td>\n",
       "      <td>0.0</td>\n",
       "      <td>0.0</td>\n",
       "      <td>...</td>\n",
       "      <td>0.0</td>\n",
       "      <td>0.0</td>\n",
       "      <td>0.000000</td>\n",
       "      <td>0.000000</td>\n",
       "      <td>0.000000</td>\n",
       "      <td>0.000000</td>\n",
       "      <td>0.000000</td>\n",
       "      <td>0.000000</td>\n",
       "      <td>0.0</td>\n",
       "      <td>0.0</td>\n",
       "    </tr>\n",
       "    <tr>\n",
       "      <th>254</th>\n",
       "      <td>0.000000</td>\n",
       "      <td>0.000000</td>\n",
       "      <td>0.000000</td>\n",
       "      <td>0.000000</td>\n",
       "      <td>0.000000</td>\n",
       "      <td>0.000000</td>\n",
       "      <td>0.0</td>\n",
       "      <td>0.000000</td>\n",
       "      <td>0.0</td>\n",
       "      <td>0.0</td>\n",
       "      <td>...</td>\n",
       "      <td>0.0</td>\n",
       "      <td>0.0</td>\n",
       "      <td>0.000000</td>\n",
       "      <td>0.000000</td>\n",
       "      <td>0.000000</td>\n",
       "      <td>0.000000</td>\n",
       "      <td>0.000000</td>\n",
       "      <td>0.000000</td>\n",
       "      <td>0.0</td>\n",
       "      <td>0.0</td>\n",
       "    </tr>\n",
       "  </tbody>\n",
       "</table>\n",
       "<p>255 rows × 18211 columns</p>\n",
       "</div>"
      ],
      "text/plain": [
       "         A1BG  A1BG-AS1       A2M   A2M-AS1     A2MP1    A4GALT  AAAS  \\\n",
       "id                                                                      \n",
       "0    0.427217  0.293254  0.499505  0.630907  0.952655  0.844293   0.0   \n",
       "1    0.098870  0.000000  0.000000  0.099942  0.291293  0.000000   0.0   \n",
       "2    0.313714  0.205128  0.220327  0.000000  0.000000  0.994264   0.0   \n",
       "3    0.000000  0.000000  0.000000  0.000000  0.000000  0.000000   0.0   \n",
       "4    0.000000  0.000000  0.000000  0.000000  0.000000  0.188105   0.0   \n",
       "..        ...       ...       ...       ...       ...       ...   ...   \n",
       "250  0.000000  0.000000  0.000000  0.000000  0.000000  0.000000   0.0   \n",
       "251  0.000000  0.000000  0.000000  0.000000  0.000000  0.000000   0.0   \n",
       "252  0.000000  0.000000  0.000000  0.000000  0.000000  0.000000   0.0   \n",
       "253  0.000000  0.000000  0.000000  0.000000  0.000000  0.000000   0.0   \n",
       "254  0.000000  0.000000  0.000000  0.000000  0.000000  0.000000   0.0   \n",
       "\n",
       "         AACS  AAGAB  AAK1  ...  ZUP1  ZW10    ZWILCH     ZWINT      ZXDA  \\\n",
       "id                          ...                                             \n",
       "0    0.482537    0.0   0.0  ...   0.0   0.0  0.238293  0.187353  0.551313   \n",
       "1    0.000000    0.0   0.0  ...   0.0   0.0  0.000000  0.000000  0.000000   \n",
       "2    0.000000    0.0   0.0  ...   0.0   0.0  0.000000  0.000000  0.000000   \n",
       "3    0.000000    0.0   0.0  ...   0.0   0.0  0.000000  0.000000  0.000000   \n",
       "4    0.115438    0.0   0.0  ...   0.0   0.0  0.000000  0.000000  0.080451   \n",
       "..        ...    ...   ...  ...   ...   ...       ...       ...       ...   \n",
       "250  0.000000    0.0   0.0  ...   0.0   0.0  0.000000  0.000000  0.000000   \n",
       "251  0.000000    0.0   0.0  ...   0.0   0.0  0.000000  0.000000  0.000000   \n",
       "252  0.000000    0.0   0.0  ...   0.0   0.0  0.000000  0.000000  0.000000   \n",
       "253  0.000000    0.0   0.0  ...   0.0   0.0  0.000000  0.000000  0.000000   \n",
       "254  0.000000    0.0   0.0  ...   0.0   0.0  0.000000  0.000000  0.000000   \n",
       "\n",
       "         ZXDB      ZXDC    ZYG11B  ZYX  ZZEF1  \n",
       "id                                             \n",
       "0    0.425926  0.331273  0.240815  0.0    0.0  \n",
       "1    0.000000  0.000000  0.000000  0.0    0.0  \n",
       "2    0.000000  0.000000  0.000000  0.0    0.0  \n",
       "3    0.000000  0.000000  0.000000  0.0    0.0  \n",
       "4    0.000000  0.076282  0.091261  0.0    0.0  \n",
       "..        ...       ...       ...  ...    ...  \n",
       "250  0.000000  0.000000  0.000000  0.0    0.0  \n",
       "251  0.000000  0.000000  0.000000  0.0    0.0  \n",
       "252  0.000000  0.000000  0.000000  0.0    0.0  \n",
       "253  0.000000  0.000000  0.000000  0.0    0.0  \n",
       "254  0.000000  0.000000  0.000000  0.0    0.0  \n",
       "\n",
       "[255 rows x 18211 columns]"
      ]
     },
     "metadata": {},
     "output_type": "display_data"
    }
   ],
   "source": [
    "from scipy.stats.mstats import gmean\n",
    "# Quick sanity check to make sure our submission is ordered correctly.\n",
    "assert (test_joined_df[\"label\"][features] == id_map[features]).all(axis=None)\n",
    "\n",
    "# Full pipeline. Nice\n",
    "all_preds = np.stack(all_y_preds,axis=0)\n",
    "display(all_preds.shape)\n",
    "display(all_weights)\n",
    "display(np.std(all_preds,axis=0).mean())\n",
    "raw_weights = 1/np.array(all_weights)\n",
    "weight=np.repeat(np.expand_dims(raw_weights,(1,2)),all_preds.shape[1],axis=1)\n",
    "display(weight.shape)\n",
    "display(all_preds.shape)\n",
    "y_pred = gmean(all_preds,axis=0,weights=weight)\n",
    "\n",
    "submission = pd.DataFrame(y_pred, columns=transcriptome_cols, index=id_map.index)\n",
    "submission = submission.fillna(0)\n",
    "display(submission)\n",
    "submission.to_csv('submissions/pipeline.csv')"
   ]
  },
  {
   "cell_type": "code",
   "execution_count": null,
   "id": "4a9a50b5-c8f4-4cfd-8528-6ae6a7716356",
   "metadata": {},
   "outputs": [],
   "source": []
  }
 ],
 "metadata": {
  "kernelspec": {
   "display_name": "Python 3 (ipykernel)",
   "language": "python",
   "name": "python3"
  },
  "language_info": {
   "codemirror_mode": {
    "name": "ipython",
    "version": 3
   },
   "file_extension": ".py",
   "mimetype": "text/x-python",
   "name": "python",
   "nbconvert_exporter": "python",
   "pygments_lexer": "ipython3",
   "version": "3.11.5"
  }
 },
 "nbformat": 4,
 "nbformat_minor": 5
}
