{
 "cells": [
  {
   "cell_type": "markdown",
   "id": "cd6cc465-5a2c-4dfb-995d-f99cfe6c8fce",
   "metadata": {},
   "source": [
    "# Baseline 3\n",
    "#### Training landmark and transcriptome models together"
   ]
  },
  {
   "cell_type": "code",
   "execution_count": 1,
   "id": "f5565e71-71e2-405e-a5d8-69ce07d491fe",
   "metadata": {},
   "outputs": [],
   "source": [
    "import pandas as pd\n",
    "import numpy as np\n",
    "import matplotlib.pyplot as plt\n",
    "import matplotlib.patches as mpatches\n",
    "import seaborn as sns\n",
    "import torch\n",
    "\n",
    "from sklearn.preprocessing import OneHotEncoder, OrdinalEncoder, FunctionTransformer\n",
    "from sklearn.decomposition import TruncatedSVD\n",
    "from sklearn.compose import ColumnTransformer\n",
    "from sklearn.pipeline import make_pipeline\n",
    "from sklearn.linear_model import Ridge\n",
    "from sklearn.model_selection import StratifiedKFold\n",
    "from sklearn.ensemble import GradientBoostingClassifier\n",
    "\n",
    "import itertools\n",
    "import tqdm\n",
    "import collections"
   ]
  },
  {
   "cell_type": "markdown",
   "id": "bac5ffd7-aa5b-42f6-ab65-62885d43b9a4",
   "metadata": {},
   "source": [
    "## Prepare data:\n",
    "#### Read joined data (pre + post treatment)"
   ]
  },
  {
   "cell_type": "code",
   "execution_count": 2,
   "id": "8fd73c75-40ee-4ec2-b45d-07610b1f7253",
   "metadata": {},
   "outputs": [
    {
     "name": "stdout",
     "output_type": "stream",
     "text": [
      "lincs_joined_df = (107404, 1842)\n",
      "kaggle_joined_df = (602, 1841)\n",
      "test_joined_df = (255, 921)\n"
     ]
    }
   ],
   "source": [
    "lincs_joined_df = pd.read_parquet(\"data/lincs_pretreatment.parquet\")\n",
    "kaggle_joined_df = pd.read_parquet(\"data/kaggle_pretreatment.parquet\")\n",
    "test_joined_df = pd.read_parquet(\"data/test_pretreatment.parquet\")\n",
    "print(f\"lincs_joined_df = {lincs_joined_df.shape}\\nkaggle_joined_df = {kaggle_joined_df.shape}\\ntest_joined_df = {test_joined_df.shape}\")"
   ]
  },
  {
   "cell_type": "code",
   "execution_count": 3,
   "id": "070fd981-dc0d-464a-89dc-f689e46dfeb0",
   "metadata": {},
   "outputs": [
    {
     "name": "stdout",
     "output_type": "stream",
     "text": [
      "all_train_df = (108006, 1843)\n"
     ]
    }
   ],
   "source": [
    "all_train_df = pd.concat([kaggle_joined_df,lincs_joined_df])\n",
    "print(f\"all_train_df = {all_train_df.shape}\")"
   ]
  },
  {
   "cell_type": "markdown",
   "id": "c862c7af-655c-4195-b06b-3bfc5c310bb7",
   "metadata": {},
   "source": [
    "#### Kaggle provided data"
   ]
  },
  {
   "cell_type": "code",
   "execution_count": 4,
   "id": "f50e89dc-fbe2-42f9-8213-f95bfdda88af",
   "metadata": {},
   "outputs": [],
   "source": [
    "de_train = pd.read_parquet('data/de_train.parquet')\n",
    "id_map = pd.read_csv('data/id_map.csv',index_col='id')"
   ]
  },
  {
   "cell_type": "markdown",
   "id": "b2299b53-6269-49b6-b838-d8fefede0923",
   "metadata": {},
   "source": [
    "#### Define features of interest and sort data accordingly."
   ]
  },
  {
   "cell_type": "code",
   "execution_count": 6,
   "id": "f6ae48f5-3ea8-40e0-bdd6-9c138b56cb77",
   "metadata": {},
   "outputs": [
    {
     "name": "stdout",
     "output_type": "stream",
     "text": [
      "transcriptome_cols = (18211,)\n",
      "landmark_cols = (918,)\n"
     ]
    }
   ],
   "source": [
    "features = ['cell_type', 'sm_name']\n",
    "multiindex_features = [(\"label\",'cell_type'),(\"label\",'sm_name')]\n",
    "\n",
    "transcriptome_cols = de_train.columns[5:]\n",
    "landmark_cols = kaggle_joined_df[\"post_treatment\"].columns\n",
    "print(f\"transcriptome_cols = {transcriptome_cols.shape}\\nlandmark_cols = {landmark_cols.shape}\")"
   ]
  },
  {
   "cell_type": "code",
   "execution_count": 7,
   "id": "310e93d9-f08a-41cc-9bc6-74f84ad68f36",
   "metadata": {},
   "outputs": [
    {
     "data": {
      "text/plain": [
       "True"
      ]
     },
     "execution_count": 7,
     "metadata": {},
     "output_type": "execute_result"
    }
   ],
   "source": [
    "# We only need to sort these two dataframes because they represent the same underlying dataset.\n",
    "de_train = de_train.query(\"~control\").sort_values(features)\n",
    "kaggle_joined_df = kaggle_joined_df.sort_values(multiindex_features)\n",
    "# Sanity check that these dfs align.\n",
    "genes_align = (kaggle_joined_df[\"post_treatment\"] == de_train[landmark_cols]).all(axis=None)\n",
    "labels_align = (kaggle_joined_df[\"label\"][features] == de_train[features]).all(axis=None)\n",
    "genes_align and labels_align"
   ]
  },
  {
   "cell_type": "markdown",
   "id": "06b697df-66f0-4c44-b16f-d9f076982c2e",
   "metadata": {},
   "source": [
    "## Prepare for training\n",
    "#### Partition data"
   ]
  },
  {
   "cell_type": "code",
   "execution_count": 8,
   "id": "491cebb6-5a9d-4973-b9d9-f68570388d85",
   "metadata": {},
   "outputs": [
    {
     "data": {
      "text/html": [
       "<div>\n",
       "<style scoped>\n",
       "    .dataframe tbody tr th:only-of-type {\n",
       "        vertical-align: middle;\n",
       "    }\n",
       "\n",
       "    .dataframe tbody tr th {\n",
       "        vertical-align: top;\n",
       "    }\n",
       "\n",
       "    .dataframe thead th {\n",
       "        text-align: right;\n",
       "    }\n",
       "</style>\n",
       "<table border=\"1\" class=\"dataframe\">\n",
       "  <thead>\n",
       "    <tr style=\"text-align: right;\">\n",
       "      <th></th>\n",
       "      <th>mean_score</th>\n",
       "      <th>cv_class</th>\n",
       "    </tr>\n",
       "    <tr>\n",
       "      <th>sm_name</th>\n",
       "      <th></th>\n",
       "      <th></th>\n",
       "    </tr>\n",
       "  </thead>\n",
       "  <tbody>\n",
       "    <tr>\n",
       "      <th>Alvocidib</th>\n",
       "      <td>1.144652</td>\n",
       "      <td>4</td>\n",
       "    </tr>\n",
       "    <tr>\n",
       "      <th>CHIR-99021</th>\n",
       "      <td>0.145969</td>\n",
       "      <td>2</td>\n",
       "    </tr>\n",
       "    <tr>\n",
       "      <th>Crizotinib</th>\n",
       "      <td>-0.010615</td>\n",
       "      <td>0</td>\n",
       "    </tr>\n",
       "    <tr>\n",
       "      <th>Dactolisib</th>\n",
       "      <td>-0.077123</td>\n",
       "      <td>0</td>\n",
       "    </tr>\n",
       "    <tr>\n",
       "      <th>Foretinib</th>\n",
       "      <td>-0.007336</td>\n",
       "      <td>0</td>\n",
       "    </tr>\n",
       "    <tr>\n",
       "      <th>Idelalisib</th>\n",
       "      <td>0.013947</td>\n",
       "      <td>1</td>\n",
       "    </tr>\n",
       "    <tr>\n",
       "      <th>LDN 193189</th>\n",
       "      <td>0.070423</td>\n",
       "      <td>1</td>\n",
       "    </tr>\n",
       "    <tr>\n",
       "      <th>Linagliptin</th>\n",
       "      <td>0.033001</td>\n",
       "      <td>1</td>\n",
       "    </tr>\n",
       "    <tr>\n",
       "      <th>MLN 2238</th>\n",
       "      <td>2.045447</td>\n",
       "      <td>4</td>\n",
       "    </tr>\n",
       "    <tr>\n",
       "      <th>O-Demethylated Adapalene</th>\n",
       "      <td>-0.026293</td>\n",
       "      <td>0</td>\n",
       "    </tr>\n",
       "    <tr>\n",
       "      <th>Oprozomib (ONX 0912)</th>\n",
       "      <td>1.336945</td>\n",
       "      <td>4</td>\n",
       "    </tr>\n",
       "    <tr>\n",
       "      <th>Palbociclib</th>\n",
       "      <td>0.020710</td>\n",
       "      <td>1</td>\n",
       "    </tr>\n",
       "    <tr>\n",
       "      <th>Penfluridol</th>\n",
       "      <td>-0.002021</td>\n",
       "      <td>0</td>\n",
       "    </tr>\n",
       "    <tr>\n",
       "      <th>Porcn Inhibitor III</th>\n",
       "      <td>0.073097</td>\n",
       "      <td>1</td>\n",
       "    </tr>\n",
       "    <tr>\n",
       "      <th>R428</th>\n",
       "      <td>0.238306</td>\n",
       "      <td>2</td>\n",
       "    </tr>\n",
       "  </tbody>\n",
       "</table>\n",
       "</div>"
      ],
      "text/plain": [
       "                          mean_score  cv_class\n",
       "sm_name                                       \n",
       "Alvocidib                   1.144652         4\n",
       "CHIR-99021                  0.145969         2\n",
       "Crizotinib                 -0.010615         0\n",
       "Dactolisib                 -0.077123         0\n",
       "Foretinib                  -0.007336         0\n",
       "Idelalisib                  0.013947         1\n",
       "LDN 193189                  0.070423         1\n",
       "Linagliptin                 0.033001         1\n",
       "MLN 2238                    2.045447         4\n",
       "O-Demethylated Adapalene   -0.026293         0\n",
       "Oprozomib (ONX 0912)        1.336945         4\n",
       "Palbociclib                 0.020710         1\n",
       "Penfluridol                -0.002021         0\n",
       "Porcn Inhibitor III         0.073097         1\n",
       "R428                        0.238306         2"
      ]
     },
     "execution_count": 8,
     "metadata": {},
     "output_type": "execute_result"
    }
   ],
   "source": [
    "eval_cells_only_df = kaggle_joined_df[kaggle_joined_df[\"label\"][\"cell_type\"].isin([\"B cells\", \"Myeloid cells\"])].reset_index(drop=True)\n",
    "mean_score = pd.concat([eval_cells_only_df[\"label\"][\"sm_name\"],eval_cells_only_df[\"post_treatment\"]],axis=1).groupby(\"sm_name\").agg(\"mean\").mean(axis=1)\n",
    "classes = np.digitize(mean_score.values, bins=[0,0.1, 0.5, 1])\n",
    "cpds = mean_score.index.values\n",
    "\n",
    "# Don't need this df it just looks cool\n",
    "mean_score.to_frame(name=\"mean_score\").assign(cv_class=classes)"
   ]
  },
  {
   "cell_type": "markdown",
   "id": "1b60b91b-9aad-48e6-88dc-03197db09908",
   "metadata": {},
   "source": [
    "#### CV splits"
   ]
  },
  {
   "cell_type": "code",
   "execution_count": 9,
   "id": "e0aec333-fca6-4f6f-8e1e-6f8dd4172c9a",
   "metadata": {},
   "outputs": [
    {
     "name": "stderr",
     "output_type": "stream",
     "text": [
      "/Users/laurasisson/miniconda3/envs/rdenv/lib/python3.11/site-packages/sklearn/model_selection/_split.py:725: UserWarning: The least populated class in y has only 2 members, which is less than n_splits=3.\n",
      "  warnings.warn(\n"
     ]
    },
    {
     "data": {
      "text/plain": [
       "{0: array(['Alvocidib', 'Crizotinib', 'Foretinib', 'LDN 193189', 'R428'],\n",
       "       dtype=object),\n",
       " 1: array(['CHIR-99021', 'MLN 2238', 'Palbociclib', 'Penfluridol',\n",
       "        'Porcn Inhibitor III'], dtype=object),\n",
       " 2: array(['Dactolisib', 'Idelalisib', 'Linagliptin',\n",
       "        'O-Demethylated Adapalene', 'Oprozomib (ONX 0912)'], dtype=object)}"
      ]
     },
     "execution_count": 9,
     "metadata": {},
     "output_type": "execute_result"
    }
   ],
   "source": [
    "fold_arr = np.full(len(cpds), -1)\n",
    "n_splits = 3\n",
    "skf = StratifiedKFold(n_splits=n_splits, random_state=42, shuffle=True)\n",
    "for fold, (_, val_ind) in enumerate(skf.split(classes,classes)):\n",
    "    fold_arr[val_ind] = fold\n",
    "fold_map = {c: f for c, f in zip(cpds, fold_arr)}\n",
    "fold_to_cpds = {fold: cpds[fold_arr==fold] for fold in range(n_splits)}\n",
    "\n",
    "fold_to_cpds"
   ]
  },
  {
   "cell_type": "code",
   "execution_count": 10,
   "id": "7c059464-997c-4da4-a813-d3edc18f0fe9",
   "metadata": {},
   "outputs": [
    {
     "data": {
      "text/plain": [
       "(array([[0, 1],\n",
       "        [2, 3]]),\n",
       " array([[0, 1],\n",
       "        [2, 3]]))"
      ]
     },
     "execution_count": 10,
     "metadata": {},
     "output_type": "execute_result"
    }
   ],
   "source": [
    "identity_transformer = FunctionTransformer()\n",
    "X = np.array([[0, 1], [2, 3]])\n",
    "X\n",
    "identity_transformer.inverse_transform(X), identity_transformer.transform(X)"
   ]
  },
  {
   "cell_type": "markdown",
   "id": "87c0fb5b-c59b-4d30-a3f2-0c8e277eb040",
   "metadata": {},
   "source": [
    "#### Model helper functions"
   ]
  },
  {
   "cell_type": "code",
   "execution_count": 30,
   "id": "f376208a-bfee-4bb7-9b51-0fd6ad31370b",
   "metadata": {},
   "outputs": [],
   "source": [
    "def _make_transformer(n_components):\n",
    "    if n_components == 0:\n",
    "        # Identity transformer\n",
    "        return FunctionTransformer()\n",
    "    else:\n",
    "        return TruncatedSVD(n_components=n_components, random_state=1)\n",
    "\n",
    "def make_encoder(params):\n",
    "    encoder = ColumnTransformer([('ohe', OneHotEncoder(), list(params[\"encoded\"]))])\n",
    "    encoder.fit(all_train_df[\"label\"][features])\n",
    "    return encoder\n",
    "\n",
    "def make_model(params):\n",
    "    svd = _make_transformer(params[\"n_comp\"])\n",
    "    model = Ridge(alpha=params[\"alpha\"], fit_intercept=False)\n",
    "    return svd, model\n",
    "\n",
    "# This changes the models inplace. Returns as a courtesy.\n",
    "def model_train(mp,x,y):\n",
    "    svd, model = mp\n",
    "    z = svd.fit_transform(y)\n",
    "    model.fit(x, z)\n",
    "    return svd, model\n",
    "\n",
    "def model_predict(mp,x):\n",
    "    svd, model = mp\n",
    "    d = model.predict(x)\n",
    "    return svd.inverse_transform(d)\n",
    "    "
   ]
  },
  {
   "cell_type": "markdown",
   "id": "485211ab-206e-465f-8404-a6e68582cb9a",
   "metadata": {},
   "source": [
    "#### Draw some example models"
   ]
  },
  {
   "cell_type": "code",
   "execution_count": 21,
   "id": "cb1f8e5d-d199-41d9-bd81-e0cbc8b91a38",
   "metadata": {},
   "outputs": [
    {
     "name": "stdout",
     "output_type": "stream",
     "text": [
      "Encoder\n"
     ]
    },
    {
     "data": {
      "text/html": [
       "<style>#sk-container-id-1 {color: black;}#sk-container-id-1 pre{padding: 0;}#sk-container-id-1 div.sk-toggleable {background-color: white;}#sk-container-id-1 label.sk-toggleable__label {cursor: pointer;display: block;width: 100%;margin-bottom: 0;padding: 0.3em;box-sizing: border-box;text-align: center;}#sk-container-id-1 label.sk-toggleable__label-arrow:before {content: \"▸\";float: left;margin-right: 0.25em;color: #696969;}#sk-container-id-1 label.sk-toggleable__label-arrow:hover:before {color: black;}#sk-container-id-1 div.sk-estimator:hover label.sk-toggleable__label-arrow:before {color: black;}#sk-container-id-1 div.sk-toggleable__content {max-height: 0;max-width: 0;overflow: hidden;text-align: left;background-color: #f0f8ff;}#sk-container-id-1 div.sk-toggleable__content pre {margin: 0.2em;color: black;border-radius: 0.25em;background-color: #f0f8ff;}#sk-container-id-1 input.sk-toggleable__control:checked~div.sk-toggleable__content {max-height: 200px;max-width: 100%;overflow: auto;}#sk-container-id-1 input.sk-toggleable__control:checked~label.sk-toggleable__label-arrow:before {content: \"▾\";}#sk-container-id-1 div.sk-estimator input.sk-toggleable__control:checked~label.sk-toggleable__label {background-color: #d4ebff;}#sk-container-id-1 div.sk-label input.sk-toggleable__control:checked~label.sk-toggleable__label {background-color: #d4ebff;}#sk-container-id-1 input.sk-hidden--visually {border: 0;clip: rect(1px 1px 1px 1px);clip: rect(1px, 1px, 1px, 1px);height: 1px;margin: -1px;overflow: hidden;padding: 0;position: absolute;width: 1px;}#sk-container-id-1 div.sk-estimator {font-family: monospace;background-color: #f0f8ff;border: 1px dotted black;border-radius: 0.25em;box-sizing: border-box;margin-bottom: 0.5em;}#sk-container-id-1 div.sk-estimator:hover {background-color: #d4ebff;}#sk-container-id-1 div.sk-parallel-item::after {content: \"\";width: 100%;border-bottom: 1px solid gray;flex-grow: 1;}#sk-container-id-1 div.sk-label:hover label.sk-toggleable__label {background-color: #d4ebff;}#sk-container-id-1 div.sk-serial::before {content: \"\";position: absolute;border-left: 1px solid gray;box-sizing: border-box;top: 0;bottom: 0;left: 50%;z-index: 0;}#sk-container-id-1 div.sk-serial {display: flex;flex-direction: column;align-items: center;background-color: white;padding-right: 0.2em;padding-left: 0.2em;position: relative;}#sk-container-id-1 div.sk-item {position: relative;z-index: 1;}#sk-container-id-1 div.sk-parallel {display: flex;align-items: stretch;justify-content: center;background-color: white;position: relative;}#sk-container-id-1 div.sk-item::before, #sk-container-id-1 div.sk-parallel-item::before {content: \"\";position: absolute;border-left: 1px solid gray;box-sizing: border-box;top: 0;bottom: 0;left: 50%;z-index: -1;}#sk-container-id-1 div.sk-parallel-item {display: flex;flex-direction: column;z-index: 1;position: relative;background-color: white;}#sk-container-id-1 div.sk-parallel-item:first-child::after {align-self: flex-end;width: 50%;}#sk-container-id-1 div.sk-parallel-item:last-child::after {align-self: flex-start;width: 50%;}#sk-container-id-1 div.sk-parallel-item:only-child::after {width: 0;}#sk-container-id-1 div.sk-dashed-wrapped {border: 1px dashed gray;margin: 0 0.4em 0.5em 0.4em;box-sizing: border-box;padding-bottom: 0.4em;background-color: white;}#sk-container-id-1 div.sk-label label {font-family: monospace;font-weight: bold;display: inline-block;line-height: 1.2em;}#sk-container-id-1 div.sk-label-container {text-align: center;}#sk-container-id-1 div.sk-container {/* jupyter's `normalize.less` sets `[hidden] { display: none; }` but bootstrap.min.css set `[hidden] { display: none !important; }` so we also need the `!important` here to be able to override the default hidden behavior on the sphinx rendered scikit-learn.org. See: https://github.com/scikit-learn/scikit-learn/issues/21755 */display: inline-block !important;position: relative;}#sk-container-id-1 div.sk-text-repr-fallback {display: none;}</style><div id=\"sk-container-id-1\" class=\"sk-top-container\"><div class=\"sk-text-repr-fallback\"><pre>ColumnTransformer(transformers=[(&#x27;ohe&#x27;, OneHotEncoder(), [&#x27;sm_name&#x27;])])</pre><b>In a Jupyter environment, please rerun this cell to show the HTML representation or trust the notebook. <br />On GitHub, the HTML representation is unable to render, please try loading this page with nbviewer.org.</b></div><div class=\"sk-container\" hidden><div class=\"sk-item sk-dashed-wrapped\"><div class=\"sk-label-container\"><div class=\"sk-label sk-toggleable\"><input class=\"sk-toggleable__control sk-hidden--visually\" id=\"sk-estimator-id-1\" type=\"checkbox\" ><label for=\"sk-estimator-id-1\" class=\"sk-toggleable__label sk-toggleable__label-arrow\">ColumnTransformer</label><div class=\"sk-toggleable__content\"><pre>ColumnTransformer(transformers=[(&#x27;ohe&#x27;, OneHotEncoder(), [&#x27;sm_name&#x27;])])</pre></div></div></div><div class=\"sk-parallel\"><div class=\"sk-parallel-item\"><div class=\"sk-item\"><div class=\"sk-label-container\"><div class=\"sk-label sk-toggleable\"><input class=\"sk-toggleable__control sk-hidden--visually\" id=\"sk-estimator-id-2\" type=\"checkbox\" ><label for=\"sk-estimator-id-2\" class=\"sk-toggleable__label sk-toggleable__label-arrow\">ohe</label><div class=\"sk-toggleable__content\"><pre>[&#x27;sm_name&#x27;]</pre></div></div></div><div class=\"sk-serial\"><div class=\"sk-item\"><div class=\"sk-estimator sk-toggleable\"><input class=\"sk-toggleable__control sk-hidden--visually\" id=\"sk-estimator-id-3\" type=\"checkbox\" ><label for=\"sk-estimator-id-3\" class=\"sk-toggleable__label sk-toggleable__label-arrow\">OneHotEncoder</label><div class=\"sk-toggleable__content\"><pre>OneHotEncoder()</pre></div></div></div></div></div></div></div></div></div></div>"
      ],
      "text/plain": [
       "ColumnTransformer(transformers=[('ohe', OneHotEncoder(), ['sm_name'])])"
      ]
     },
     "metadata": {},
     "output_type": "display_data"
    },
    {
     "name": "stdout",
     "output_type": "stream",
     "text": [
      "Landmark\n"
     ]
    },
    {
     "data": {
      "text/plain": [
       "(TruncatedSVD(n_components=150, random_state=1),\n",
       " Ridge(alpha=0.1, fit_intercept=False))"
      ]
     },
     "metadata": {},
     "output_type": "display_data"
    },
    {
     "name": "stdout",
     "output_type": "stream",
     "text": [
      "Transcriptome\n"
     ]
    },
    {
     "data": {
      "text/plain": [
       "(TruncatedSVD(n_components=150, random_state=1),\n",
       " Ridge(alpha=0.1, fit_intercept=False))"
      ]
     },
     "metadata": {},
     "output_type": "display_data"
    }
   ],
   "source": [
    "example_params = {\"encoded\":(\"sm_name\",),\"lmk\":{\"n_comp\":150,\"alpha\":.1,},\"trm\":{\"n_comp\":150,\"alpha\":.1}}\n",
    "print(\"Encoder\")\n",
    "display(make_encoder(example_params))\n",
    "print(\"Landmark\")\n",
    "display(make_model(example_params[\"lmk\"]))\n",
    "print(\"Transcriptome\")\n",
    "display(make_model(example_params[\"trm\"]))"
   ]
  },
  {
   "cell_type": "markdown",
   "id": "1cc54942-77f8-41b3-922e-3c732dfd7bbc",
   "metadata": {},
   "source": [
    "#### Cross Validation function"
   ]
  },
  {
   "cell_type": "code",
   "execution_count": 31,
   "id": "bec7ff76-8e53-42da-9449-32f2880ddeda",
   "metadata": {},
   "outputs": [
    {
     "name": "stdout",
     "output_type": "stream",
     "text": [
      "# Fold 0: 2.012\n",
      "# Fold 1: 2.666\n",
      "# Fold 2: 2.172\n"
     ]
    },
    {
     "data": {
      "text/plain": [
       "2.283452586892314"
      ]
     },
     "execution_count": 31,
     "metadata": {},
     "output_type": "execute_result"
    }
   ],
   "source": [
    "def crossvalidate(encoder, params, print_each=False, print_result=False):\n",
    "    def train_landmark(cpds):\n",
    "        mask_va = all_train_df[(\"label\",'cell_type')].isin(['Myeloid cells', 'B cells']) & all_train_df[(\"label\",'sm_name')].isin(cpds)\n",
    "        validate = all_train_df[mask_va]\n",
    "    \n",
    "        mask_tr = ~mask_va\n",
    "        train = all_train_df[mask_tr]\n",
    "\n",
    "        \n",
    "        svd, model = model_train(make_model(params[\"lmk\"]), encoder.transform(train[\"label\"][features]), train[\"post_treatment\"])\n",
    "        return svd, model\n",
    "\n",
    "    def train_transcriptome(landmark_mp,cpds):\n",
    "        mask_va = kaggle_joined_df[(\"label\",'cell_type')].isin(['Myeloid cells', 'B cells']) & kaggle_joined_df[(\"label\",'sm_name')].isin(cpds)\n",
    "        mask_tr = ~mask_va # 485 or 487 training rows\n",
    "\n",
    "        train_x = model_predict(landmark_mp, encoder.transform(kaggle_joined_df[mask_tr][\"label\"][features]))\n",
    "        train_y = de_train[mask_tr][transcriptome_cols]\n",
    "\n",
    "        val_x = model_predict(landmark_mp, encoder.transform(kaggle_joined_df[mask_va][\"label\"][features]))\n",
    "        val_y = de_train[mask_va][transcriptome_cols]\n",
    "\n",
    "        transcriptome_mp = model_train(make_model(params[\"trm\"]), train_x, train_y)\n",
    "        pred_y = model_predict(transcriptome_mp, val_x)\n",
    "        mrrmse = np.sqrt(np.square(val_y - pred_y).mean(axis=1)).mean()\n",
    "        return mrrmse\n",
    "    \n",
    "    mrrmse_list = []\n",
    "    for fold, cpds in fold_to_cpds.items():\n",
    "        landmark_mp = train_landmark(cpds)\n",
    "        mrrmse = train_transcriptome(landmark_mp,cpds)\n",
    "        mrrmse_list.append(mrrmse)\n",
    "        if print_each:\n",
    "            print(f\"# Fold {fold}: {mrrmse:5.3f}\")\n",
    "\n",
    "    mrrmse = np.array(mrrmse_list).mean()\n",
    "    if print_result:\n",
    "        print(f\"# Overall {mrrmse:5.3f} {params}\")\n",
    "    return mrrmse\n",
    "\n",
    "encoder = make_encoder(example_params)\n",
    "crossvalidate(encoder,example_params, print_each=True)"
   ]
  },
  {
   "cell_type": "code",
   "execution_count": 14,
   "id": "ab324232-92b3-43a8-bff8-7ef59781f832",
   "metadata": {},
   "outputs": [
    {
     "name": "stdout",
     "output_type": "stream",
     "text": [
      "Generated 144 trials.\n",
      "Example = {'lmk': {'n_comp': 0, 'alpha': 0.1, 'encoded': ('sm_name',)}, 'trm': {'n_comp': 0, 'alpha': 0.1}}\n"
     ]
    }
   ],
   "source": [
    "import itertools\n",
    "\n",
    "alpha_list = [0.1, 1, 5] #10\n",
    "encoded = [('sm_name',)] #,('cell_type',),('sm_name','cell_type')\n",
    "n_comps_list = [0,10,30,100]\n",
    "\n",
    "\n",
    "all_trials = [{\"lmk\":{\"n_comp\":lmk_n_comp,\"alpha\":lmk_alpha,\"encoded\":encoded},\"trm\":{\"n_comp\":trm_n_comp,\"alpha\":trm_alpha}} for encoded, lmk_alpha, lmk_n_comp, trm_alpha, trm_n_comp in itertools.product(encoded,alpha_list,n_comps_list,alpha_list,n_comps_list)]\n",
    "print(f\"Generated {len(all_trials)} trials.\\nExample = {next(iter(all_trials))}\")"
   ]
  },
  {
   "cell_type": "code",
   "execution_count": 15,
   "id": "c4a8aefd-9ba7-4ad4-ab02-375976c3ae68",
   "metadata": {},
   "outputs": [],
   "source": [
    "# best_score = float('inf')\n",
    "# best_params = dict()\n",
    "# scores = collections.Counter()\n",
    "# for i,params in enumerate(tqdm.tqdm(all_trials,smoothing=0)):\n",
    "#     score = crossvalidate(params)\n",
    "#     if score < best_score:\n",
    "#         best_score = score\n",
    "#         best_params = params\n",
    "#     scores[i] = -score\n",
    "# for i, score in scores.most_common(5):\n",
    "#     print(all_trials[i],score)\n",
    "# print(f\"Best score = {best_score}.\\nBest params = {best_params}\")"
   ]
  },
  {
   "cell_type": "markdown",
   "id": "3a74a9db-06ae-4a8d-9391-38533c4ad811",
   "metadata": {},
   "source": [
    "## Submission\n",
    "We retrain the model on the full training data and create a submission file."
   ]
  },
  {
   "cell_type": "code",
   "execution_count": 34,
   "id": "76930c92-1baa-4d5e-859f-64177be2c94f",
   "metadata": {},
   "outputs": [],
   "source": [
    "best_params = {'encoded': ('sm_name',), 'lmk': {'n_comp': 10, 'alpha': .1}, 'trm': {'n_comp': 30, 'alpha': 0.1}}\n",
    "encoder = make_encoder(best_params)\n",
    "lm_mp = model_train(make_model(best_params[\"lmk\"]), encoder.transform(all_train_df[\"label\"][features]), all_train_df[\"post_treatment\"])\n",
    "\n",
    "train_x = model_predict(lm_mp, encoder.transform(kaggle_joined_df[\"label\"][features]))\n",
    "train_y = de_train[transcriptome_cols]\n",
    "\n",
    "trm_mp = model_train(make_model(best_params[\"trm\"]), train_x, train_y)"
   ]
  },
  {
   "cell_type": "markdown",
   "id": "6db3bfc3-04c8-40d3-8a34-9ae53c56ce3f",
   "metadata": {},
   "source": [
    "Make submission"
   ]
  },
  {
   "cell_type": "code",
   "execution_count": 35,
   "id": "d706692d-6be2-435e-8e92-14dd97e15292",
   "metadata": {},
   "outputs": [
    {
     "data": {
      "text/html": [
       "<div>\n",
       "<style scoped>\n",
       "    .dataframe tbody tr th:only-of-type {\n",
       "        vertical-align: middle;\n",
       "    }\n",
       "\n",
       "    .dataframe tbody tr th {\n",
       "        vertical-align: top;\n",
       "    }\n",
       "\n",
       "    .dataframe thead th {\n",
       "        text-align: right;\n",
       "    }\n",
       "</style>\n",
       "<table border=\"1\" class=\"dataframe\">\n",
       "  <thead>\n",
       "    <tr style=\"text-align: right;\">\n",
       "      <th></th>\n",
       "      <th>A1BG</th>\n",
       "      <th>A1BG-AS1</th>\n",
       "      <th>A2M</th>\n",
       "      <th>A2M-AS1</th>\n",
       "      <th>A2MP1</th>\n",
       "      <th>A4GALT</th>\n",
       "      <th>AAAS</th>\n",
       "      <th>AACS</th>\n",
       "      <th>AAGAB</th>\n",
       "      <th>AAK1</th>\n",
       "      <th>...</th>\n",
       "      <th>ZUP1</th>\n",
       "      <th>ZW10</th>\n",
       "      <th>ZWILCH</th>\n",
       "      <th>ZWINT</th>\n",
       "      <th>ZXDA</th>\n",
       "      <th>ZXDB</th>\n",
       "      <th>ZXDC</th>\n",
       "      <th>ZYG11B</th>\n",
       "      <th>ZYX</th>\n",
       "      <th>ZZEF1</th>\n",
       "    </tr>\n",
       "    <tr>\n",
       "      <th>id</th>\n",
       "      <th></th>\n",
       "      <th></th>\n",
       "      <th></th>\n",
       "      <th></th>\n",
       "      <th></th>\n",
       "      <th></th>\n",
       "      <th></th>\n",
       "      <th></th>\n",
       "      <th></th>\n",
       "      <th></th>\n",
       "      <th></th>\n",
       "      <th></th>\n",
       "      <th></th>\n",
       "      <th></th>\n",
       "      <th></th>\n",
       "      <th></th>\n",
       "      <th></th>\n",
       "      <th></th>\n",
       "      <th></th>\n",
       "      <th></th>\n",
       "      <th></th>\n",
       "    </tr>\n",
       "  </thead>\n",
       "  <tbody>\n",
       "    <tr>\n",
       "      <th>0</th>\n",
       "      <td>0.454007</td>\n",
       "      <td>0.270332</td>\n",
       "      <td>0.449984</td>\n",
       "      <td>0.661471</td>\n",
       "      <td>1.229885</td>\n",
       "      <td>1.147892</td>\n",
       "      <td>-0.063614</td>\n",
       "      <td>0.329309</td>\n",
       "      <td>-0.357790</td>\n",
       "      <td>0.518076</td>\n",
       "      <td>...</td>\n",
       "      <td>-0.350544</td>\n",
       "      <td>-0.006592</td>\n",
       "      <td>0.264077</td>\n",
       "      <td>0.165054</td>\n",
       "      <td>0.558170</td>\n",
       "      <td>0.371665</td>\n",
       "      <td>0.339401</td>\n",
       "      <td>0.229479</td>\n",
       "      <td>-0.317063</td>\n",
       "      <td>0.115602</td>\n",
       "    </tr>\n",
       "    <tr>\n",
       "      <th>1</th>\n",
       "      <td>0.102573</td>\n",
       "      <td>0.072981</td>\n",
       "      <td>0.074547</td>\n",
       "      <td>0.075726</td>\n",
       "      <td>0.212298</td>\n",
       "      <td>0.359193</td>\n",
       "      <td>0.003282</td>\n",
       "      <td>0.067722</td>\n",
       "      <td>0.006546</td>\n",
       "      <td>-0.029973</td>\n",
       "      <td>...</td>\n",
       "      <td>0.011547</td>\n",
       "      <td>0.033016</td>\n",
       "      <td>0.066661</td>\n",
       "      <td>0.095882</td>\n",
       "      <td>0.123847</td>\n",
       "      <td>0.093980</td>\n",
       "      <td>0.035538</td>\n",
       "      <td>0.004813</td>\n",
       "      <td>-0.019571</td>\n",
       "      <td>-0.014368</td>\n",
       "    </tr>\n",
       "    <tr>\n",
       "      <th>2</th>\n",
       "      <td>0.332402</td>\n",
       "      <td>0.230372</td>\n",
       "      <td>0.257557</td>\n",
       "      <td>0.287891</td>\n",
       "      <td>0.766329</td>\n",
       "      <td>1.193539</td>\n",
       "      <td>0.000586</td>\n",
       "      <td>0.193116</td>\n",
       "      <td>-0.060758</td>\n",
       "      <td>-0.000761</td>\n",
       "      <td>...</td>\n",
       "      <td>-0.086556</td>\n",
       "      <td>0.063054</td>\n",
       "      <td>0.197919</td>\n",
       "      <td>0.251820</td>\n",
       "      <td>0.371685</td>\n",
       "      <td>0.272318</td>\n",
       "      <td>0.119801</td>\n",
       "      <td>0.049730</td>\n",
       "      <td>-0.113804</td>\n",
       "      <td>-0.012500</td>\n",
       "    </tr>\n",
       "    <tr>\n",
       "      <th>3</th>\n",
       "      <td>0.027244</td>\n",
       "      <td>0.018374</td>\n",
       "      <td>0.024973</td>\n",
       "      <td>0.039321</td>\n",
       "      <td>0.062667</td>\n",
       "      <td>0.054724</td>\n",
       "      <td>-0.010680</td>\n",
       "      <td>0.033984</td>\n",
       "      <td>-0.025851</td>\n",
       "      <td>0.066313</td>\n",
       "      <td>...</td>\n",
       "      <td>-0.013423</td>\n",
       "      <td>0.002269</td>\n",
       "      <td>0.028478</td>\n",
       "      <td>0.017053</td>\n",
       "      <td>0.048282</td>\n",
       "      <td>0.036308</td>\n",
       "      <td>0.033477</td>\n",
       "      <td>0.027215</td>\n",
       "      <td>-0.025863</td>\n",
       "      <td>0.001515</td>\n",
       "    </tr>\n",
       "    <tr>\n",
       "      <th>4</th>\n",
       "      <td>0.079276</td>\n",
       "      <td>0.030441</td>\n",
       "      <td>0.081719</td>\n",
       "      <td>0.106420</td>\n",
       "      <td>0.045905</td>\n",
       "      <td>0.208114</td>\n",
       "      <td>-0.027980</td>\n",
       "      <td>0.136018</td>\n",
       "      <td>-0.065126</td>\n",
       "      <td>0.230959</td>\n",
       "      <td>...</td>\n",
       "      <td>-0.103553</td>\n",
       "      <td>0.017593</td>\n",
       "      <td>0.019061</td>\n",
       "      <td>-0.005863</td>\n",
       "      <td>0.097251</td>\n",
       "      <td>0.111766</td>\n",
       "      <td>0.119416</td>\n",
       "      <td>0.170105</td>\n",
       "      <td>-0.087057</td>\n",
       "      <td>0.004851</td>\n",
       "    </tr>\n",
       "    <tr>\n",
       "      <th>...</th>\n",
       "      <td>...</td>\n",
       "      <td>...</td>\n",
       "      <td>...</td>\n",
       "      <td>...</td>\n",
       "      <td>...</td>\n",
       "      <td>...</td>\n",
       "      <td>...</td>\n",
       "      <td>...</td>\n",
       "      <td>...</td>\n",
       "      <td>...</td>\n",
       "      <td>...</td>\n",
       "      <td>...</td>\n",
       "      <td>...</td>\n",
       "      <td>...</td>\n",
       "      <td>...</td>\n",
       "      <td>...</td>\n",
       "      <td>...</td>\n",
       "      <td>...</td>\n",
       "      <td>...</td>\n",
       "      <td>...</td>\n",
       "      <td>...</td>\n",
       "    </tr>\n",
       "    <tr>\n",
       "      <th>250</th>\n",
       "      <td>-0.229398</td>\n",
       "      <td>-0.138349</td>\n",
       "      <td>-0.105629</td>\n",
       "      <td>-0.081238</td>\n",
       "      <td>-0.507276</td>\n",
       "      <td>-0.793941</td>\n",
       "      <td>-0.050461</td>\n",
       "      <td>-0.099571</td>\n",
       "      <td>-0.035637</td>\n",
       "      <td>0.095464</td>\n",
       "      <td>...</td>\n",
       "      <td>-0.011159</td>\n",
       "      <td>-0.084086</td>\n",
       "      <td>-0.110411</td>\n",
       "      <td>-0.203431</td>\n",
       "      <td>-0.215755</td>\n",
       "      <td>-0.140370</td>\n",
       "      <td>-0.030952</td>\n",
       "      <td>0.029208</td>\n",
       "      <td>0.012838</td>\n",
       "      <td>-0.012234</td>\n",
       "    </tr>\n",
       "    <tr>\n",
       "      <th>251</th>\n",
       "      <td>0.106042</td>\n",
       "      <td>0.079253</td>\n",
       "      <td>0.116520</td>\n",
       "      <td>0.171531</td>\n",
       "      <td>0.440368</td>\n",
       "      <td>0.314761</td>\n",
       "      <td>-0.008931</td>\n",
       "      <td>0.031873</td>\n",
       "      <td>-0.120814</td>\n",
       "      <td>0.152918</td>\n",
       "      <td>...</td>\n",
       "      <td>-0.141337</td>\n",
       "      <td>-0.032832</td>\n",
       "      <td>0.078540</td>\n",
       "      <td>0.027975</td>\n",
       "      <td>0.115028</td>\n",
       "      <td>0.056160</td>\n",
       "      <td>0.048305</td>\n",
       "      <td>0.026444</td>\n",
       "      <td>-0.084385</td>\n",
       "      <td>0.045343</td>\n",
       "    </tr>\n",
       "    <tr>\n",
       "      <th>252</th>\n",
       "      <td>-0.062649</td>\n",
       "      <td>-0.025626</td>\n",
       "      <td>-0.003374</td>\n",
       "      <td>-0.027127</td>\n",
       "      <td>-0.086135</td>\n",
       "      <td>-0.326709</td>\n",
       "      <td>-0.019301</td>\n",
       "      <td>0.005729</td>\n",
       "      <td>0.020977</td>\n",
       "      <td>0.033014</td>\n",
       "      <td>...</td>\n",
       "      <td>0.051217</td>\n",
       "      <td>-0.013406</td>\n",
       "      <td>-0.009111</td>\n",
       "      <td>-0.027177</td>\n",
       "      <td>-0.011035</td>\n",
       "      <td>-0.003620</td>\n",
       "      <td>0.011469</td>\n",
       "      <td>-0.004686</td>\n",
       "      <td>0.006921</td>\n",
       "      <td>0.007633</td>\n",
       "    </tr>\n",
       "    <tr>\n",
       "      <th>253</th>\n",
       "      <td>-0.409980</td>\n",
       "      <td>-0.117020</td>\n",
       "      <td>-0.205175</td>\n",
       "      <td>-0.828426</td>\n",
       "      <td>-1.723012</td>\n",
       "      <td>-1.680110</td>\n",
       "      <td>0.229697</td>\n",
       "      <td>0.355667</td>\n",
       "      <td>0.655612</td>\n",
       "      <td>0.772368</td>\n",
       "      <td>...</td>\n",
       "      <td>0.126821</td>\n",
       "      <td>0.228770</td>\n",
       "      <td>-0.250087</td>\n",
       "      <td>-0.442708</td>\n",
       "      <td>-0.541584</td>\n",
       "      <td>-0.034760</td>\n",
       "      <td>0.025299</td>\n",
       "      <td>0.540316</td>\n",
       "      <td>-0.153905</td>\n",
       "      <td>-0.014039</td>\n",
       "    </tr>\n",
       "    <tr>\n",
       "      <th>254</th>\n",
       "      <td>0.130691</td>\n",
       "      <td>0.080563</td>\n",
       "      <td>0.032407</td>\n",
       "      <td>0.033331</td>\n",
       "      <td>0.441296</td>\n",
       "      <td>0.366899</td>\n",
       "      <td>0.038952</td>\n",
       "      <td>-0.003855</td>\n",
       "      <td>0.057334</td>\n",
       "      <td>-0.224694</td>\n",
       "      <td>...</td>\n",
       "      <td>0.148851</td>\n",
       "      <td>0.059880</td>\n",
       "      <td>0.103797</td>\n",
       "      <td>0.203056</td>\n",
       "      <td>0.166369</td>\n",
       "      <td>0.060356</td>\n",
       "      <td>-0.031338</td>\n",
       "      <td>-0.167626</td>\n",
       "      <td>0.088127</td>\n",
       "      <td>0.006157</td>\n",
       "    </tr>\n",
       "  </tbody>\n",
       "</table>\n",
       "<p>255 rows × 18211 columns</p>\n",
       "</div>"
      ],
      "text/plain": [
       "         A1BG  A1BG-AS1       A2M   A2M-AS1     A2MP1    A4GALT      AAAS  \\\n",
       "id                                                                          \n",
       "0    0.454007  0.270332  0.449984  0.661471  1.229885  1.147892 -0.063614   \n",
       "1    0.102573  0.072981  0.074547  0.075726  0.212298  0.359193  0.003282   \n",
       "2    0.332402  0.230372  0.257557  0.287891  0.766329  1.193539  0.000586   \n",
       "3    0.027244  0.018374  0.024973  0.039321  0.062667  0.054724 -0.010680   \n",
       "4    0.079276  0.030441  0.081719  0.106420  0.045905  0.208114 -0.027980   \n",
       "..        ...       ...       ...       ...       ...       ...       ...   \n",
       "250 -0.229398 -0.138349 -0.105629 -0.081238 -0.507276 -0.793941 -0.050461   \n",
       "251  0.106042  0.079253  0.116520  0.171531  0.440368  0.314761 -0.008931   \n",
       "252 -0.062649 -0.025626 -0.003374 -0.027127 -0.086135 -0.326709 -0.019301   \n",
       "253 -0.409980 -0.117020 -0.205175 -0.828426 -1.723012 -1.680110  0.229697   \n",
       "254  0.130691  0.080563  0.032407  0.033331  0.441296  0.366899  0.038952   \n",
       "\n",
       "         AACS     AAGAB      AAK1  ...      ZUP1      ZW10    ZWILCH  \\\n",
       "id                                 ...                                 \n",
       "0    0.329309 -0.357790  0.518076  ... -0.350544 -0.006592  0.264077   \n",
       "1    0.067722  0.006546 -0.029973  ...  0.011547  0.033016  0.066661   \n",
       "2    0.193116 -0.060758 -0.000761  ... -0.086556  0.063054  0.197919   \n",
       "3    0.033984 -0.025851  0.066313  ... -0.013423  0.002269  0.028478   \n",
       "4    0.136018 -0.065126  0.230959  ... -0.103553  0.017593  0.019061   \n",
       "..        ...       ...       ...  ...       ...       ...       ...   \n",
       "250 -0.099571 -0.035637  0.095464  ... -0.011159 -0.084086 -0.110411   \n",
       "251  0.031873 -0.120814  0.152918  ... -0.141337 -0.032832  0.078540   \n",
       "252  0.005729  0.020977  0.033014  ...  0.051217 -0.013406 -0.009111   \n",
       "253  0.355667  0.655612  0.772368  ...  0.126821  0.228770 -0.250087   \n",
       "254 -0.003855  0.057334 -0.224694  ...  0.148851  0.059880  0.103797   \n",
       "\n",
       "        ZWINT      ZXDA      ZXDB      ZXDC    ZYG11B       ZYX     ZZEF1  \n",
       "id                                                                         \n",
       "0    0.165054  0.558170  0.371665  0.339401  0.229479 -0.317063  0.115602  \n",
       "1    0.095882  0.123847  0.093980  0.035538  0.004813 -0.019571 -0.014368  \n",
       "2    0.251820  0.371685  0.272318  0.119801  0.049730 -0.113804 -0.012500  \n",
       "3    0.017053  0.048282  0.036308  0.033477  0.027215 -0.025863  0.001515  \n",
       "4   -0.005863  0.097251  0.111766  0.119416  0.170105 -0.087057  0.004851  \n",
       "..        ...       ...       ...       ...       ...       ...       ...  \n",
       "250 -0.203431 -0.215755 -0.140370 -0.030952  0.029208  0.012838 -0.012234  \n",
       "251  0.027975  0.115028  0.056160  0.048305  0.026444 -0.084385  0.045343  \n",
       "252 -0.027177 -0.011035 -0.003620  0.011469 -0.004686  0.006921  0.007633  \n",
       "253 -0.442708 -0.541584 -0.034760  0.025299  0.540316 -0.153905 -0.014039  \n",
       "254  0.203056  0.166369  0.060356 -0.031338 -0.167626  0.088127  0.006157  \n",
       "\n",
       "[255 rows x 18211 columns]"
      ]
     },
     "metadata": {},
     "output_type": "display_data"
    }
   ],
   "source": [
    "# Full pipeline. Nice\n",
    "test_lm_pred = model_predict(lm_mp, encoder.transform(test_joined_df[\"label\"][features]))\n",
    "y_pred = model_predict(trm_mp, test_lm_pred)\n",
    "\n",
    "submission = pd.DataFrame(y_pred, columns=transcriptome_cols, index=id_map.index)\n",
    "display(submission)\n",
    "submission.to_csv('submissions/pipeline.csv')"
   ]
  },
  {
   "cell_type": "markdown",
   "id": "80d99977-98b2-4066-8558-6799172bb8e1",
   "metadata": {},
   "source": [
    "#### Ok actually lets do an ensemble."
   ]
  },
  {
   "cell_type": "code",
   "execution_count": 48,
   "id": "a3ee9362-21f7-40b3-b089-aca6e9849849",
   "metadata": {},
   "outputs": [],
   "source": [
    "def get_y_pred(params):\n",
    "    lm_mp = model_train(make_landmark_model(best_params), all_train_df[\"label\"][features], all_train_df[\"post_treatment\"])\n",
    "    \n",
    "    train_x = model_predict(lm_mp, kaggle_joined_df[\"label\"][features])\n",
    "    train_y = de_train[transcriptome_cols]\n",
    "    \n",
    "    trm_mp = model_train(make_transcriptome_model(best_params), train_x, train_y)\n",
    "\n",
    "    test_lm_pred = model_predict(lm_mp, test_joined_df[\"label\"][features])\n",
    "    y_pred = model_predict(trm_mp, test_lm_pred)"
   ]
  },
  {
   "cell_type": "code",
   "execution_count": 49,
   "id": "b8c21214-e456-4104-ab3a-bbe303d6c493",
   "metadata": {},
   "outputs": [
    {
     "name": "stderr",
     "output_type": "stream",
     "text": [
      "  0%|                                                    | 0/15 [00:00<?, ?it/s]"
     ]
    },
    {
     "name": "stdout",
     "output_type": "stream",
     "text": [
      "{'lmk': {'n_comp': 37, 'alpha': 0.6766698708413749, 'encoded': ('sm_name',)}, 'trm': {'n_comp': 75, 'alpha': 1.2466075280510602}}\n"
     ]
    },
    {
     "name": "stderr",
     "output_type": "stream",
     "text": [
      "  7%|██▉                                         | 1/15 [00:25<05:52, 25.16s/it]"
     ]
    },
    {
     "name": "stdout",
     "output_type": "stream",
     "text": [
      "{'lmk': {'n_comp': 9, 'alpha': 4.375727108057015, 'encoded': ('sm_name',)}, 'trm': {'n_comp': 74, 'alpha': 0.02350408230853529}}\n"
     ]
    },
    {
     "name": "stderr",
     "output_type": "stream",
     "text": [
      " 13%|█████▊                                      | 2/15 [00:43<04:34, 21.11s/it]"
     ]
    },
    {
     "name": "stdout",
     "output_type": "stream",
     "text": [
      "{'lmk': {'n_comp': 9, 'alpha': 1.2248363506063868, 'encoded': ('sm_name',)}, 'trm': {'n_comp': 18, 'alpha': 4.345966417786871}}\n"
     ]
    },
    {
     "name": "stderr",
     "output_type": "stream",
     "text": [
      " 20%|████████▊                                   | 3/15 [01:03<04:06, 20.52s/it]"
     ]
    },
    {
     "name": "stdout",
     "output_type": "stream",
     "text": [
      "{'lmk': {'n_comp': 53, 'alpha': 0.8204848408743526, 'encoded': ('sm_name',)}, 'trm': {'n_comp': 61, 'alpha': 3.7623945363907274}}\n"
     ]
    },
    {
     "name": "stderr",
     "output_type": "stream",
     "text": [
      " 27%|███████████▋                                | 4/15 [01:28<04:07, 22.49s/it]"
     ]
    },
    {
     "name": "stdout",
     "output_type": "stream",
     "text": [
      "{'lmk': {'n_comp': 64, 'alpha': 3.559461670375254, 'encoded': ('sm_name',)}, 'trm': {'n_comp': 10, 'alpha': 0.26792099957616944}}\n"
     ]
    },
    {
     "name": "stderr",
     "output_type": "stream",
     "text": [
      " 33%|██████████████▋                             | 5/15 [01:53<03:53, 23.40s/it]"
     ]
    },
    {
     "name": "stdout",
     "output_type": "stream",
     "text": [
      "{'lmk': {'n_comp': 24, 'alpha': 3.052612679782597, 'encoded': ('sm_name',)}, 'trm': {'n_comp': 53, 'alpha': 1.2918209592998753}}\n"
     ]
    },
    {
     "name": "stderr",
     "output_type": "stream",
     "text": [
      " 40%|█████████████████▌                          | 6/15 [02:10<03:11, 21.27s/it]"
     ]
    },
    {
     "name": "stdout",
     "output_type": "stream",
     "text": [
      "{'lmk': {'n_comp': 21, 'alpha': 4.888251769858893, 'encoded': ('sm_name',)}, 'trm': {'n_comp': 3, 'alpha': 2.520143732214115}}\n"
     ]
    },
    {
     "name": "stderr",
     "output_type": "stream",
     "text": [
      " 47%|████████████████████▌                       | 7/15 [02:25<02:33, 19.17s/it]"
     ]
    },
    {
     "name": "stdout",
     "output_type": "stream",
     "text": [
      "{'lmk': {'n_comp': 64, 'alpha': 0.3307471399571149, 'encoded': ('sm_name',)}, 'trm': {'n_comp': 92, 'alpha': 0.09841299488117627}}\n"
     ]
    },
    {
     "name": "stderr",
     "output_type": "stream",
     "text": [
      " 53%|███████████████████████▍                    | 8/15 [02:49<02:24, 20.65s/it]"
     ]
    },
    {
     "name": "stdout",
     "output_type": "stream",
     "text": [
      "{'lmk': {'n_comp': 0, 'alpha': 4.8590444696058, 'encoded': ('sm_name',)}, 'trm': {'n_comp': 69, 'alpha': 1.9014601181280277}}\n"
     ]
    },
    {
     "name": "stderr",
     "output_type": "stream",
     "text": [
      " 60%|██████████████████████████▍                 | 9/15 [03:45<03:09, 31.65s/it]"
     ]
    },
    {
     "name": "stdout",
     "output_type": "stream",
     "text": [
      "{'lmk': {'n_comp': 99, 'alpha': 2.6419737238378804, 'encoded': ('sm_name',)}, 'trm': {'n_comp': 42, 'alpha': 2.229393521574456}}\n"
     ]
    },
    {
     "name": "stderr",
     "output_type": "stream",
     "text": [
      " 67%|████████████████████████████▋              | 10/15 [04:20<02:43, 32.77s/it]"
     ]
    },
    {
     "name": "stdout",
     "output_type": "stream",
     "text": [
      "{'lmk': {'n_comp': 71, 'alpha': 3.452037317691561, 'encoded': ('sm_name',)}, 'trm': {'n_comp': 40, 'alpha': 3.101925125822185}}\n"
     ]
    },
    {
     "name": "stderr",
     "output_type": "stream",
     "text": [
      " 73%|███████████████████████████████▌           | 11/15 [04:48<02:05, 31.27s/it]"
     ]
    },
    {
     "name": "stdout",
     "output_type": "stream",
     "text": [
      "{'lmk': {'n_comp': 30, 'alpha': 3.266412312874235, 'encoded': ('sm_name',)}, 'trm': {'n_comp': 67, 'alpha': 4.893448924389875}}\n"
     ]
    },
    {
     "name": "stderr",
     "output_type": "stream",
     "text": [
      " 80%|██████████████████████████████████▍        | 12/15 [05:10<01:25, 28.48s/it]"
     ]
    },
    {
     "name": "stdout",
     "output_type": "stream",
     "text": [
      "{'lmk': {'n_comp': 98, 'alpha': 3.1245419915708657, 'encoded': ('sm_name',)}, 'trm': {'n_comp': 19, 'alpha': 1.8027170714496965}}\n"
     ]
    },
    {
     "name": "stderr",
     "output_type": "stream",
     "text": [
      " 87%|█████████████████████████████████████▎     | 13/15 [05:41<00:58, 29.28s/it]"
     ]
    },
    {
     "name": "stdout",
     "output_type": "stream",
     "text": [
      "{'lmk': {'n_comp': 39, 'alpha': 3.7129052726939165, 'encoded': ('sm_name',)}, 'trm': {'n_comp': 8, 'alpha': 0.6539264587280358}}\n"
     ]
    },
    {
     "name": "stderr",
     "output_type": "stream",
     "text": [
      " 93%|████████████████████████████████████████▏  | 14/15 [06:02<00:26, 26.84s/it]"
     ]
    },
    {
     "name": "stdout",
     "output_type": "stream",
     "text": [
      "{'lmk': {'n_comp': 8, 'alpha': 1.2747717672661618, 'encoded': ('sm_name',)}, 'trm': {'n_comp': 79, 'alpha': 0.5766482881899804}}\n"
     ]
    },
    {
     "name": "stderr",
     "output_type": "stream",
     "text": [
      "100%|███████████████████████████████████████████| 15/15 [06:21<00:00, 25.41s/it]\n"
     ]
    }
   ],
   "source": [
    "import random\n",
    "all_y_preds = []\n",
    "all_weights = []\n",
    "for _ in tqdm.tqdm(range(15)):\n",
    "    params = {'lmk': {'n_comp': random.randint(0,100), 'alpha': random.uniform(0, 5), 'encoded': ('sm_name',)}, 'trm': {'n_comp': random.randint(0,100), 'alpha': random.uniform(0, 5)}}\n",
    "    print(params)\n",
    "    all_y_preds.append(get_y_pred(params))\n",
    "    all_weights.append(-1 * crossvalidate(params))"
   ]
  },
  {
   "cell_type": "code",
   "execution_count": 50,
   "id": "46e8a0ba-b827-4295-9124-42f4878849ef",
   "metadata": {},
   "outputs": [
    {
     "data": {
      "text/plain": [
       "(15,)"
      ]
     },
     "metadata": {},
     "output_type": "display_data"
    },
    {
     "data": {
      "text/plain": [
       "[-2.2754360523325095,\n",
       " -2.251186682426177,\n",
       " -2.2476691931644672,\n",
       " -2.271947437061014,\n",
       " -2.2895347914265276,\n",
       " -2.2546052732720407,\n",
       " -2.2669610384332466,\n",
       " -2.276153892398829,\n",
       " -2.278998108895446,\n",
       " -2.2727875959736568,\n",
       " -2.2706932268775644,\n",
       " -2.268242801505886,\n",
       " -2.276486070050241,\n",
       " -2.2988028204769724,\n",
       " -2.2698669736068426]"
      ]
     },
     "metadata": {},
     "output_type": "display_data"
    },
    {
     "ename": "TypeError",
     "evalue": "unsupported operand type(s) for *: 'NoneType' and 'float'",
     "output_type": "error",
     "traceback": [
      "\u001b[0;31m---------------------------------------------------------------------------\u001b[0m",
      "\u001b[0;31mTypeError\u001b[0m                                 Traceback (most recent call last)",
      "Cell \u001b[0;32mIn[50], line 8\u001b[0m\n\u001b[1;32m      6\u001b[0m display(all_preds\u001b[38;5;241m.\u001b[39mshape)\n\u001b[1;32m      7\u001b[0m display(all_weights)\n\u001b[0;32m----> 8\u001b[0m y_pred \u001b[38;5;241m=\u001b[39m np\u001b[38;5;241m.\u001b[39maverage(all_preds,axis\u001b[38;5;241m=\u001b[39m\u001b[38;5;241m0\u001b[39m,weights\u001b[38;5;241m=\u001b[39mall_weights)\n\u001b[1;32m     10\u001b[0m submission \u001b[38;5;241m=\u001b[39m pd\u001b[38;5;241m.\u001b[39mDataFrame(y_pred, columns\u001b[38;5;241m=\u001b[39mtranscriptome_cols, index\u001b[38;5;241m=\u001b[39mid_map\u001b[38;5;241m.\u001b[39mindex)\n\u001b[1;32m     11\u001b[0m display(submission)\n",
      "File \u001b[0;32m~/miniconda3/envs/rdenv/lib/python3.11/site-packages/numpy/lib/function_base.py:553\u001b[0m, in \u001b[0;36maverage\u001b[0;34m(a, axis, weights, returned, keepdims)\u001b[0m\n\u001b[1;32m    549\u001b[0m     \u001b[38;5;28;01mif\u001b[39;00m np\u001b[38;5;241m.\u001b[39many(scl \u001b[38;5;241m==\u001b[39m \u001b[38;5;241m0.0\u001b[39m):\n\u001b[1;32m    550\u001b[0m         \u001b[38;5;28;01mraise\u001b[39;00m \u001b[38;5;167;01mZeroDivisionError\u001b[39;00m(\n\u001b[1;32m    551\u001b[0m             \u001b[38;5;124m\"\u001b[39m\u001b[38;5;124mWeights sum to zero, can\u001b[39m\u001b[38;5;124m'\u001b[39m\u001b[38;5;124mt be normalized\u001b[39m\u001b[38;5;124m\"\u001b[39m)\n\u001b[0;32m--> 553\u001b[0m     avg \u001b[38;5;241m=\u001b[39m avg_as_array \u001b[38;5;241m=\u001b[39m np\u001b[38;5;241m.\u001b[39mmultiply(a, wgt,\n\u001b[1;32m    554\u001b[0m                       dtype\u001b[38;5;241m=\u001b[39mresult_dtype)\u001b[38;5;241m.\u001b[39msum(axis, \u001b[38;5;241m*\u001b[39m\u001b[38;5;241m*\u001b[39mkeepdims_kw) \u001b[38;5;241m/\u001b[39m scl\n\u001b[1;32m    556\u001b[0m \u001b[38;5;28;01mif\u001b[39;00m returned:\n\u001b[1;32m    557\u001b[0m     \u001b[38;5;28;01mif\u001b[39;00m scl\u001b[38;5;241m.\u001b[39mshape \u001b[38;5;241m!=\u001b[39m avg_as_array\u001b[38;5;241m.\u001b[39mshape:\n",
      "\u001b[0;31mTypeError\u001b[0m: unsupported operand type(s) for *: 'NoneType' and 'float'"
     ]
    }
   ],
   "source": [
    "# Quick sanity check to make sure our submission is ordered correctly.\n",
    "assert (test_joined_df[\"label\"][features] == id_map[features]).all(axis=None)\n",
    "\n",
    "# Full pipeline. Nice\n",
    "all_preds = np.stack(all_y_preds,axis=0)\n",
    "display(all_preds.shape)\n",
    "display(all_weights)\n",
    "y_pred = np.average(all_preds,axis=0,weights=all_weights)\n",
    "\n",
    "submission = pd.DataFrame(y_pred, columns=transcriptome_cols, index=id_map.index)\n",
    "display(submission)\n",
    "submission.to_csv('submissions/pipeline.csv')"
   ]
  },
  {
   "cell_type": "code",
   "execution_count": null,
   "id": "4a9a50b5-c8f4-4cfd-8528-6ae6a7716356",
   "metadata": {},
   "outputs": [],
   "source": [
    "np.std(all_preds,axis=0).mean()"
   ]
  }
 ],
 "metadata": {
  "kernelspec": {
   "display_name": "Python 3 (ipykernel)",
   "language": "python",
   "name": "python3"
  },
  "language_info": {
   "codemirror_mode": {
    "name": "ipython",
    "version": 3
   },
   "file_extension": ".py",
   "mimetype": "text/x-python",
   "name": "python",
   "nbconvert_exporter": "python",
   "pygments_lexer": "ipython3",
   "version": "3.11.5"
  }
 },
 "nbformat": 4,
 "nbformat_minor": 5
}
