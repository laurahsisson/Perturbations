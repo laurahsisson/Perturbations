{
 "cells": [
  {
   "cell_type": "markdown",
   "id": "cd6cc465-5a2c-4dfb-995d-f99cfe6c8fce",
   "metadata": {},
   "source": [
    "# Baseline 3\n",
    "#### Training landmark and transcriptome models together"
   ]
  },
  {
   "cell_type": "code",
   "execution_count": 54,
   "id": "f5565e71-71e2-405e-a5d8-69ce07d491fe",
   "metadata": {},
   "outputs": [],
   "source": [
    "import pandas as pd\n",
    "import numpy as np\n",
    "import matplotlib.pyplot as plt\n",
    "import matplotlib.patches as mpatches\n",
    "import seaborn as sns\n",
    "import torch\n",
    "\n",
    "from sklearn.preprocessing import OneHotEncoder, OrdinalEncoder, FunctionTransformer\n",
    "from sklearn.decomposition import TruncatedSVD\n",
    "from sklearn.compose import ColumnTransformer\n",
    "from sklearn.pipeline import make_pipeline\n",
    "from sklearn.linear_model import Ridge\n",
    "from sklearn.model_selection import StratifiedKFold\n",
    "from sklearn.ensemble import GradientBoostingClassifier\n",
    "\n",
    "import itertools\n",
    "import tqdm\n",
    "import collections"
   ]
  },
  {
   "cell_type": "markdown",
   "id": "bac5ffd7-aa5b-42f6-ab65-62885d43b9a4",
   "metadata": {},
   "source": [
    "## Prepare data:\n",
    "#### Read joined data (pre + post treatment)"
   ]
  },
  {
   "cell_type": "code",
   "execution_count": 3,
   "id": "8fd73c75-40ee-4ec2-b45d-07610b1f7253",
   "metadata": {},
   "outputs": [
    {
     "name": "stdout",
     "output_type": "stream",
     "text": [
      "lincs_joined_df = (107404, 1842)\n",
      "kaggle_joined_df = (602, 1841)\n",
      "test_joined_df = (255, 921)\n"
     ]
    }
   ],
   "source": [
    "lincs_joined_df = pd.read_parquet(\"data/lincs_pretreatment.parquet\")\n",
    "kaggle_joined_df = pd.read_parquet(\"data/kaggle_pretreatment.parquet\")\n",
    "test_joined_df = pd.read_parquet(\"data/test_pretreatment.parquet\")\n",
    "print(f\"lincs_joined_df = {lincs_joined_df.shape}\\nkaggle_joined_df = {kaggle_joined_df.shape}\\ntest_joined_df = {test_joined_df.shape}\")"
   ]
  },
  {
   "cell_type": "code",
   "execution_count": 4,
   "id": "070fd981-dc0d-464a-89dc-f689e46dfeb0",
   "metadata": {},
   "outputs": [
    {
     "name": "stdout",
     "output_type": "stream",
     "text": [
      "all_train_df = (108006, 1843)\n"
     ]
    }
   ],
   "source": [
    "all_train_df = pd.concat([kaggle_joined_df,lincs_joined_df])\n",
    "print(f\"all_train_df = {all_train_df.shape}\")"
   ]
  },
  {
   "cell_type": "markdown",
   "id": "c862c7af-655c-4195-b06b-3bfc5c310bb7",
   "metadata": {},
   "source": [
    "#### Kaggle provided data"
   ]
  },
  {
   "cell_type": "code",
   "execution_count": 5,
   "id": "f50e89dc-fbe2-42f9-8213-f95bfdda88af",
   "metadata": {},
   "outputs": [],
   "source": [
    "de_train = pd.read_parquet('data/de_train.parquet')\n",
    "id_map = pd.read_csv('data/id_map.csv',index_col='id')"
   ]
  },
  {
   "cell_type": "markdown",
   "id": "b2299b53-6269-49b6-b838-d8fefede0923",
   "metadata": {},
   "source": [
    "#### Define features of interest and sort data accordingly."
   ]
  },
  {
   "cell_type": "code",
   "execution_count": 6,
   "id": "f6ae48f5-3ea8-40e0-bdd6-9c138b56cb77",
   "metadata": {},
   "outputs": [
    {
     "name": "stdout",
     "output_type": "stream",
     "text": [
      "transcriptome_cols = (18211,)\n",
      "landmark_cols = (918,)\n"
     ]
    }
   ],
   "source": [
    "features = ['cell_type', 'sm_name']\n",
    "multiindex_features = [(\"label\",'cell_type'),(\"label\",'sm_name')]\n",
    "\n",
    "transcriptome_cols = de_train.columns[5:]\n",
    "landmark_cols = kaggle_joined_df[\"post_treatment\"].columns\n",
    "print(f\"transcriptome_cols = {transcriptome_cols.shape}\\nlandmark_cols = {landmark_cols.shape}\")"
   ]
  },
  {
   "cell_type": "code",
   "execution_count": 7,
   "id": "310e93d9-f08a-41cc-9bc6-74f84ad68f36",
   "metadata": {},
   "outputs": [
    {
     "data": {
      "text/plain": [
       "True"
      ]
     },
     "execution_count": 7,
     "metadata": {},
     "output_type": "execute_result"
    }
   ],
   "source": [
    "# We only need to sort these two dataframes because they represent the same underlying dataset.\n",
    "de_train = de_train.query(\"~control\").sort_values(features)\n",
    "kaggle_joined_df = kaggle_joined_df.sort_values(multiindex_features)\n",
    "# Sanity check that these dfs align.\n",
    "genes_align = (kaggle_joined_df[\"post_treatment\"] == de_train[landmark_cols]).all(axis=None)\n",
    "labels_align = (kaggle_joined_df[\"label\"][features] == de_train[features]).all(axis=None)\n",
    "genes_align and labels_align"
   ]
  },
  {
   "cell_type": "markdown",
   "id": "06b697df-66f0-4c44-b16f-d9f076982c2e",
   "metadata": {},
   "source": [
    "## Prepare for training\n",
    "#### Partition data"
   ]
  },
  {
   "cell_type": "code",
   "execution_count": 8,
   "id": "491cebb6-5a9d-4973-b9d9-f68570388d85",
   "metadata": {},
   "outputs": [
    {
     "data": {
      "text/html": [
       "<div>\n",
       "<style scoped>\n",
       "    .dataframe tbody tr th:only-of-type {\n",
       "        vertical-align: middle;\n",
       "    }\n",
       "\n",
       "    .dataframe tbody tr th {\n",
       "        vertical-align: top;\n",
       "    }\n",
       "\n",
       "    .dataframe thead th {\n",
       "        text-align: right;\n",
       "    }\n",
       "</style>\n",
       "<table border=\"1\" class=\"dataframe\">\n",
       "  <thead>\n",
       "    <tr style=\"text-align: right;\">\n",
       "      <th></th>\n",
       "      <th>mean_score</th>\n",
       "      <th>cv_class</th>\n",
       "    </tr>\n",
       "    <tr>\n",
       "      <th>sm_name</th>\n",
       "      <th></th>\n",
       "      <th></th>\n",
       "    </tr>\n",
       "  </thead>\n",
       "  <tbody>\n",
       "    <tr>\n",
       "      <th>Alvocidib</th>\n",
       "      <td>1.144652</td>\n",
       "      <td>4</td>\n",
       "    </tr>\n",
       "    <tr>\n",
       "      <th>CHIR-99021</th>\n",
       "      <td>0.145969</td>\n",
       "      <td>2</td>\n",
       "    </tr>\n",
       "    <tr>\n",
       "      <th>Crizotinib</th>\n",
       "      <td>-0.010615</td>\n",
       "      <td>0</td>\n",
       "    </tr>\n",
       "    <tr>\n",
       "      <th>Dactolisib</th>\n",
       "      <td>-0.077123</td>\n",
       "      <td>0</td>\n",
       "    </tr>\n",
       "    <tr>\n",
       "      <th>Foretinib</th>\n",
       "      <td>-0.007336</td>\n",
       "      <td>0</td>\n",
       "    </tr>\n",
       "    <tr>\n",
       "      <th>Idelalisib</th>\n",
       "      <td>0.013947</td>\n",
       "      <td>1</td>\n",
       "    </tr>\n",
       "    <tr>\n",
       "      <th>LDN 193189</th>\n",
       "      <td>0.070423</td>\n",
       "      <td>1</td>\n",
       "    </tr>\n",
       "    <tr>\n",
       "      <th>Linagliptin</th>\n",
       "      <td>0.033001</td>\n",
       "      <td>1</td>\n",
       "    </tr>\n",
       "    <tr>\n",
       "      <th>MLN 2238</th>\n",
       "      <td>2.045447</td>\n",
       "      <td>4</td>\n",
       "    </tr>\n",
       "    <tr>\n",
       "      <th>O-Demethylated Adapalene</th>\n",
       "      <td>-0.026293</td>\n",
       "      <td>0</td>\n",
       "    </tr>\n",
       "    <tr>\n",
       "      <th>Oprozomib (ONX 0912)</th>\n",
       "      <td>1.336945</td>\n",
       "      <td>4</td>\n",
       "    </tr>\n",
       "    <tr>\n",
       "      <th>Palbociclib</th>\n",
       "      <td>0.020710</td>\n",
       "      <td>1</td>\n",
       "    </tr>\n",
       "    <tr>\n",
       "      <th>Penfluridol</th>\n",
       "      <td>-0.002021</td>\n",
       "      <td>0</td>\n",
       "    </tr>\n",
       "    <tr>\n",
       "      <th>Porcn Inhibitor III</th>\n",
       "      <td>0.073097</td>\n",
       "      <td>1</td>\n",
       "    </tr>\n",
       "    <tr>\n",
       "      <th>R428</th>\n",
       "      <td>0.238306</td>\n",
       "      <td>2</td>\n",
       "    </tr>\n",
       "  </tbody>\n",
       "</table>\n",
       "</div>"
      ],
      "text/plain": [
       "                          mean_score  cv_class\n",
       "sm_name                                       \n",
       "Alvocidib                   1.144652         4\n",
       "CHIR-99021                  0.145969         2\n",
       "Crizotinib                 -0.010615         0\n",
       "Dactolisib                 -0.077123         0\n",
       "Foretinib                  -0.007336         0\n",
       "Idelalisib                  0.013947         1\n",
       "LDN 193189                  0.070423         1\n",
       "Linagliptin                 0.033001         1\n",
       "MLN 2238                    2.045447         4\n",
       "O-Demethylated Adapalene   -0.026293         0\n",
       "Oprozomib (ONX 0912)        1.336945         4\n",
       "Palbociclib                 0.020710         1\n",
       "Penfluridol                -0.002021         0\n",
       "Porcn Inhibitor III         0.073097         1\n",
       "R428                        0.238306         2"
      ]
     },
     "execution_count": 8,
     "metadata": {},
     "output_type": "execute_result"
    }
   ],
   "source": [
    "eval_cells_only_df = kaggle_joined_df[kaggle_joined_df[\"label\"][\"cell_type\"].isin([\"B cells\", \"Myeloid cells\"])].reset_index(drop=True)\n",
    "mean_score = pd.concat([eval_cells_only_df[\"label\"][\"sm_name\"],eval_cells_only_df[\"post_treatment\"]],axis=1).groupby(\"sm_name\").agg(\"mean\").mean(axis=1)\n",
    "classes = np.digitize(mean_score.values, bins=[0,0.1, 0.5, 1])\n",
    "cpds = mean_score.index.values\n",
    "\n",
    "# Don't need this df it just looks cool\n",
    "mean_score.to_frame(name=\"mean_score\").assign(cv_class=classes)"
   ]
  },
  {
   "cell_type": "markdown",
   "id": "1b60b91b-9aad-48e6-88dc-03197db09908",
   "metadata": {},
   "source": [
    "#### CV splits"
   ]
  },
  {
   "cell_type": "code",
   "execution_count": 9,
   "id": "e0aec333-fca6-4f6f-8e1e-6f8dd4172c9a",
   "metadata": {},
   "outputs": [
    {
     "name": "stderr",
     "output_type": "stream",
     "text": [
      "/Users/laurasisson/miniconda3/envs/rdenv/lib/python3.11/site-packages/sklearn/model_selection/_split.py:725: UserWarning: The least populated class in y has only 2 members, which is less than n_splits=3.\n",
      "  warnings.warn(\n"
     ]
    },
    {
     "data": {
      "text/plain": [
       "{0: array(['Alvocidib', 'Crizotinib', 'Foretinib', 'LDN 193189', 'R428'],\n",
       "       dtype=object),\n",
       " 1: array(['CHIR-99021', 'MLN 2238', 'Palbociclib', 'Penfluridol',\n",
       "        'Porcn Inhibitor III'], dtype=object),\n",
       " 2: array(['Dactolisib', 'Idelalisib', 'Linagliptin',\n",
       "        'O-Demethylated Adapalene', 'Oprozomib (ONX 0912)'], dtype=object)}"
      ]
     },
     "execution_count": 9,
     "metadata": {},
     "output_type": "execute_result"
    }
   ],
   "source": [
    "fold_arr = np.full(len(cpds), -1)\n",
    "n_splits = 3\n",
    "skf = StratifiedKFold(n_splits=n_splits, random_state=42, shuffle=True)\n",
    "for fold, (_, val_ind) in enumerate(skf.split(classes,classes)):\n",
    "    fold_arr[val_ind] = fold\n",
    "fold_map = {c: f for c, f in zip(cpds, fold_arr)}\n",
    "fold_to_cpds = {fold: cpds[fold_arr==fold] for fold in range(n_splits)}\n",
    "\n",
    "fold_to_cpds"
   ]
  },
  {
   "cell_type": "code",
   "execution_count": 10,
   "id": "7c059464-997c-4da4-a813-d3edc18f0fe9",
   "metadata": {},
   "outputs": [
    {
     "data": {
      "text/plain": [
       "(array([[0, 1],\n",
       "        [2, 3]]),\n",
       " array([[0, 1],\n",
       "        [2, 3]]))"
      ]
     },
     "execution_count": 10,
     "metadata": {},
     "output_type": "execute_result"
    }
   ],
   "source": [
    "identity_transformer = FunctionTransformer()\n",
    "X = np.array([[0, 1], [2, 3]])\n",
    "X\n",
    "identity_transformer.inverse_transform(X), identity_transformer.transform(X)"
   ]
  },
  {
   "cell_type": "markdown",
   "id": "87c0fb5b-c59b-4d30-a3f2-0c8e277eb040",
   "metadata": {},
   "source": [
    "#### Model helper functions"
   ]
  },
  {
   "cell_type": "code",
   "execution_count": 55,
   "id": "f376208a-bfee-4bb7-9b51-0fd6ad31370b",
   "metadata": {},
   "outputs": [],
   "source": [
    "def make_transformer(n_components):\n",
    "    if n_components == 0:\n",
    "        # Identity transformer\n",
    "        return FunctionTransformer()\n",
    "    else:\n",
    "        return TruncatedSVD(n_components=n_components, random_state=1)\n",
    "\n",
    "# Unfortunately, sklearn doesn't allow us to use a Ridge model as an intermediate step\n",
    "# because intermediate steps are supposed to be preprocessors\n",
    "def make_landmark_model(params):\n",
    "    params = params[\"lmk\"]\n",
    "    svd = make_transformer(params[\"n_comp\"])\n",
    "    model = make_pipeline(ColumnTransformer([('ohe', OneHotEncoder(), list(params[\"encoded\"]))]),\n",
    "                          Ridge(alpha=params[\"alpha\"], fit_intercept=False))\n",
    "    return svd, model\n",
    "\n",
    "def make_landmark_ensemble(params):\n",
    "    params = params[\"lmk\"]\n",
    "    svd = make_transformer(params[\"n_comp\"])\n",
    "    model = make_pipeline(ColumnTransformer([('ohe', OneHotEncoder(), list(params[\"encoded\"]))]),\n",
    "                          GradientBoostingClassifier(n_estimators=10))\n",
    "    return svd, model\n",
    "    \n",
    "\n",
    "def make_transcriptome_model(params):\n",
    "    params = params[\"trm\"]\n",
    "    svd = make_transformer(params[\"n_comp\"])\n",
    "    model = Ridge(alpha=params[\"alpha\"], fit_intercept=False)\n",
    "    return svd, model\n",
    "\n",
    "def make_transcriptome_ensemble(params):\n",
    "    params = params[\"lmk\"]\n",
    "    svd = make_transformer(params[\"n_comp\"])\n",
    "    model = GradientBoostingClassifier(n_estimators=10)\n",
    "    return sv, model\n",
    "\n",
    "# This changes the models inplace. Returns as a courtesy.\n",
    "def model_train(mp,x,y):\n",
    "    svd, model = mp\n",
    "    z = svd.fit_transform(y)\n",
    "    model.fit(x, z)\n",
    "    return svd, model\n",
    "\n",
    "def model_predict(mp,x):\n",
    "    svd, model = mp\n",
    "    d = model.predict(x)\n",
    "    return svd.inverse_transform(d)\n",
    "    "
   ]
  },
  {
   "cell_type": "markdown",
   "id": "485211ab-206e-465f-8404-a6e68582cb9a",
   "metadata": {},
   "source": [
    "#### Draw some example models"
   ]
  },
  {
   "cell_type": "code",
   "execution_count": 12,
   "id": "cb1f8e5d-d199-41d9-bd81-e0cbc8b91a38",
   "metadata": {},
   "outputs": [
    {
     "name": "stdout",
     "output_type": "stream",
     "text": [
      "Landmark\n"
     ]
    },
    {
     "data": {
      "text/plain": [
       "(TruncatedSVD(n_components=150, random_state=1),\n",
       " Pipeline(steps=[('columntransformer',\n",
       "                  ColumnTransformer(transformers=[('ohe', OneHotEncoder(),\n",
       "                                                   ['sm_name'])])),\n",
       "                 ('ridge', Ridge(alpha=0.1, fit_intercept=False))]))"
      ]
     },
     "metadata": {},
     "output_type": "display_data"
    },
    {
     "name": "stdout",
     "output_type": "stream",
     "text": [
      "Transcriptome\n"
     ]
    },
    {
     "data": {
      "text/plain": [
       "(TruncatedSVD(n_components=150, random_state=1),\n",
       " Ridge(alpha=0.1, fit_intercept=False))"
      ]
     },
     "metadata": {},
     "output_type": "display_data"
    }
   ],
   "source": [
    "example_params = {\"lmk\":{\"n_comp\":150,\"alpha\":.1,\"encoded\":(\"sm_name\",)},\"trm\":{\"n_comp\":150,\"alpha\":.1}}\n",
    "print(\"Landmark\")\n",
    "display(make_landmark_model(example_params))\n",
    "print(\"Transcriptome\")\n",
    "display(make_transcriptome_model(example_params))"
   ]
  },
  {
   "cell_type": "markdown",
   "id": "1cc54942-77f8-41b3-922e-3c732dfd7bbc",
   "metadata": {},
   "source": [
    "#### Cross Validation function"
   ]
  },
  {
   "cell_type": "code",
   "execution_count": 13,
   "id": "bec7ff76-8e53-42da-9449-32f2880ddeda",
   "metadata": {},
   "outputs": [
    {
     "name": "stdout",
     "output_type": "stream",
     "text": [
      "# Fold 0: 2.012\n",
      "# Fold 1: 2.666\n",
      "# Fold 2: 2.172\n"
     ]
    },
    {
     "data": {
      "text/plain": [
       "2.283452586892314"
      ]
     },
     "execution_count": 13,
     "metadata": {},
     "output_type": "execute_result"
    }
   ],
   "source": [
    "def crossvalidate(params, print_each=False, print_result=False):\n",
    "    def train_landmark(cpds):\n",
    "        mask_va = all_train_df[(\"label\",'cell_type')].isin(['Myeloid cells', 'B cells']) & all_train_df[(\"label\",'sm_name')].isin(cpds)\n",
    "        validate = all_train_df[mask_va]\n",
    "    \n",
    "        mask_tr = ~mask_va\n",
    "        train = all_train_df[mask_tr]\n",
    "\n",
    "        svd, model = model_train(make_landmark_model(params), train[\"label\"][features], train[\"post_treatment\"])\n",
    "        return svd, model\n",
    "\n",
    "    def train_transcriptome(landmark_mp,cpds):\n",
    "        mask_va = kaggle_joined_df[(\"label\",'cell_type')].isin(['Myeloid cells', 'B cells']) & kaggle_joined_df[(\"label\",'sm_name')].isin(cpds)\n",
    "        mask_tr = ~mask_va # 485 or 487 training rows\n",
    "\n",
    "        train_x = model_predict(landmark_mp, kaggle_joined_df[mask_tr][\"label\"][features])\n",
    "        train_y = de_train[mask_tr][transcriptome_cols]\n",
    "\n",
    "        val_x = model_predict(landmark_mp, kaggle_joined_df[mask_va][\"label\"][features])\n",
    "        val_y = de_train[mask_va][transcriptome_cols]\n",
    "\n",
    "        transcriptome_mp = model_train(make_transcriptome_model(params), train_x, train_y)\n",
    "        pred_y = model_predict(transcriptome_mp, val_x)\n",
    "        mrrmse = np.sqrt(np.square(val_y - pred_y).mean(axis=1)).mean()\n",
    "        return mrrmse\n",
    "    \n",
    "    mrrmse_list = []\n",
    "    for fold, cpds in fold_to_cpds.items():\n",
    "        landmark_mp = train_landmark(cpds)\n",
    "        mrrmse = train_transcriptome(landmark_mp,cpds)\n",
    "        mrrmse_list.append(mrrmse)\n",
    "        if print_each:\n",
    "            print(f\"# Fold {fold}: {mrrmse:5.3f}\")\n",
    "\n",
    "    mrrmse = np.array(mrrmse_list).mean()\n",
    "    if print_result:\n",
    "        print(f\"# Overall {mrrmse:5.3f} {params}\")\n",
    "    return mrrmse\n",
    "                \n",
    "crossvalidate(example_params, print_each=True)"
   ]
  },
  {
   "cell_type": "code",
   "execution_count": 14,
   "id": "ab324232-92b3-43a8-bff8-7ef59781f832",
   "metadata": {},
   "outputs": [
    {
     "name": "stdout",
     "output_type": "stream",
     "text": [
      "Generated 144 trials.\n",
      "Example = {'lmk': {'n_comp': 0, 'alpha': 0.1, 'encoded': ('sm_name',)}, 'trm': {'n_comp': 0, 'alpha': 0.1}}\n"
     ]
    }
   ],
   "source": [
    "import itertools\n",
    "\n",
    "alpha_list = [0.1, 1, 5] #10\n",
    "encoded = [('sm_name',)] #,('cell_type',),('sm_name','cell_type')\n",
    "n_comps_list = [0,10,30,100]\n",
    "\n",
    "\n",
    "all_trials = [{\"lmk\":{\"n_comp\":lmk_n_comp,\"alpha\":lmk_alpha,\"encoded\":encoded},\"trm\":{\"n_comp\":trm_n_comp,\"alpha\":trm_alpha}} for encoded, lmk_alpha, lmk_n_comp, trm_alpha, trm_n_comp in itertools.product(encoded,alpha_list,n_comps_list,alpha_list,n_comps_list)]\n",
    "print(f\"Generated {len(all_trials)} trials.\\nExample = {next(iter(all_trials))}\")"
   ]
  },
  {
   "cell_type": "code",
   "execution_count": 15,
   "id": "c4a8aefd-9ba7-4ad4-ab02-375976c3ae68",
   "metadata": {},
   "outputs": [],
   "source": [
    "# best_score = float('inf')\n",
    "# best_params = dict()\n",
    "# scores = collections.Counter()\n",
    "# for i,params in enumerate(tqdm.tqdm(all_trials,smoothing=0)):\n",
    "#     score = crossvalidate(params)\n",
    "#     if score < best_score:\n",
    "#         best_score = score\n",
    "#         best_params = params\n",
    "#     scores[i] = -score\n",
    "# for i, score in scores.most_common(5):\n",
    "#     print(all_trials[i],score)\n",
    "# print(f\"Best score = {best_score}.\\nBest params = {best_params}\")"
   ]
  },
  {
   "cell_type": "markdown",
   "id": "3a74a9db-06ae-4a8d-9391-38533c4ad811",
   "metadata": {},
   "source": [
    "## Submission\n",
    "We retrain the model on the full training data and create a submission file."
   ]
  },
  {
   "cell_type": "code",
   "execution_count": 56,
   "id": "76930c92-1baa-4d5e-859f-64177be2c94f",
   "metadata": {},
   "outputs": [
    {
     "ename": "ValueError",
     "evalue": "y should be a 1d array, got an array of shape (108006, 10) instead.",
     "output_type": "error",
     "traceback": [
      "\u001b[0;31m---------------------------------------------------------------------------\u001b[0m",
      "\u001b[0;31mValueError\u001b[0m                                Traceback (most recent call last)",
      "Cell \u001b[0;32mIn[56], line 2\u001b[0m\n\u001b[1;32m      1\u001b[0m best_params \u001b[38;5;241m=\u001b[39m {\u001b[38;5;124m'\u001b[39m\u001b[38;5;124mlmk\u001b[39m\u001b[38;5;124m'\u001b[39m: {\u001b[38;5;124m'\u001b[39m\u001b[38;5;124mn_comp\u001b[39m\u001b[38;5;124m'\u001b[39m: \u001b[38;5;241m10\u001b[39m, \u001b[38;5;124m'\u001b[39m\u001b[38;5;124malpha\u001b[39m\u001b[38;5;124m'\u001b[39m: \u001b[38;5;241m.1\u001b[39m, \u001b[38;5;124m'\u001b[39m\u001b[38;5;124mencoded\u001b[39m\u001b[38;5;124m'\u001b[39m: (\u001b[38;5;124m'\u001b[39m\u001b[38;5;124msm_name\u001b[39m\u001b[38;5;124m'\u001b[39m,)}, \u001b[38;5;124m'\u001b[39m\u001b[38;5;124mtrm\u001b[39m\u001b[38;5;124m'\u001b[39m: {\u001b[38;5;124m'\u001b[39m\u001b[38;5;124mn_comp\u001b[39m\u001b[38;5;124m'\u001b[39m: \u001b[38;5;241m30\u001b[39m, \u001b[38;5;124m'\u001b[39m\u001b[38;5;124malpha\u001b[39m\u001b[38;5;124m'\u001b[39m: \u001b[38;5;241m0.1\u001b[39m}}\n\u001b[0;32m----> 2\u001b[0m lm_mp \u001b[38;5;241m=\u001b[39m model_train(make_landmark_ensemble(best_params), all_train_df[\u001b[38;5;124m\"\u001b[39m\u001b[38;5;124mlabel\u001b[39m\u001b[38;5;124m\"\u001b[39m][features], all_train_df[\u001b[38;5;124m\"\u001b[39m\u001b[38;5;124mpost_treatment\u001b[39m\u001b[38;5;124m\"\u001b[39m])\n\u001b[1;32m      4\u001b[0m train_x \u001b[38;5;241m=\u001b[39m model_predict(lm_mp, kaggle_joined_df[\u001b[38;5;124m\"\u001b[39m\u001b[38;5;124mlabel\u001b[39m\u001b[38;5;124m\"\u001b[39m][features])\n\u001b[1;32m      5\u001b[0m train_y \u001b[38;5;241m=\u001b[39m de_train[transcriptome_cols]\n",
      "Cell \u001b[0;32mIn[55], line 41\u001b[0m, in \u001b[0;36mmodel_train\u001b[0;34m(mp, x, y)\u001b[0m\n\u001b[1;32m     39\u001b[0m svd, model \u001b[38;5;241m=\u001b[39m mp\n\u001b[1;32m     40\u001b[0m z \u001b[38;5;241m=\u001b[39m svd\u001b[38;5;241m.\u001b[39mfit_transform(y)\n\u001b[0;32m---> 41\u001b[0m model\u001b[38;5;241m.\u001b[39mfit(x, z)\n\u001b[1;32m     42\u001b[0m \u001b[38;5;28;01mreturn\u001b[39;00m svd, model\n",
      "File \u001b[0;32m~/miniconda3/envs/rdenv/lib/python3.11/site-packages/sklearn/base.py:1151\u001b[0m, in \u001b[0;36m_fit_context.<locals>.decorator.<locals>.wrapper\u001b[0;34m(estimator, *args, **kwargs)\u001b[0m\n\u001b[1;32m   1144\u001b[0m     estimator\u001b[38;5;241m.\u001b[39m_validate_params()\n\u001b[1;32m   1146\u001b[0m \u001b[38;5;28;01mwith\u001b[39;00m config_context(\n\u001b[1;32m   1147\u001b[0m     skip_parameter_validation\u001b[38;5;241m=\u001b[39m(\n\u001b[1;32m   1148\u001b[0m         prefer_skip_nested_validation \u001b[38;5;129;01mor\u001b[39;00m global_skip_validation\n\u001b[1;32m   1149\u001b[0m     )\n\u001b[1;32m   1150\u001b[0m ):\n\u001b[0;32m-> 1151\u001b[0m     \u001b[38;5;28;01mreturn\u001b[39;00m fit_method(estimator, \u001b[38;5;241m*\u001b[39margs, \u001b[38;5;241m*\u001b[39m\u001b[38;5;241m*\u001b[39mkwargs)\n",
      "File \u001b[0;32m~/miniconda3/envs/rdenv/lib/python3.11/site-packages/sklearn/pipeline.py:420\u001b[0m, in \u001b[0;36mPipeline.fit\u001b[0;34m(self, X, y, **fit_params)\u001b[0m\n\u001b[1;32m    418\u001b[0m     \u001b[38;5;28;01mif\u001b[39;00m \u001b[38;5;28mself\u001b[39m\u001b[38;5;241m.\u001b[39m_final_estimator \u001b[38;5;241m!=\u001b[39m \u001b[38;5;124m\"\u001b[39m\u001b[38;5;124mpassthrough\u001b[39m\u001b[38;5;124m\"\u001b[39m:\n\u001b[1;32m    419\u001b[0m         fit_params_last_step \u001b[38;5;241m=\u001b[39m fit_params_steps[\u001b[38;5;28mself\u001b[39m\u001b[38;5;241m.\u001b[39msteps[\u001b[38;5;241m-\u001b[39m\u001b[38;5;241m1\u001b[39m][\u001b[38;5;241m0\u001b[39m]]\n\u001b[0;32m--> 420\u001b[0m         \u001b[38;5;28mself\u001b[39m\u001b[38;5;241m.\u001b[39m_final_estimator\u001b[38;5;241m.\u001b[39mfit(Xt, y, \u001b[38;5;241m*\u001b[39m\u001b[38;5;241m*\u001b[39mfit_params_last_step)\n\u001b[1;32m    422\u001b[0m \u001b[38;5;28;01mreturn\u001b[39;00m \u001b[38;5;28mself\u001b[39m\n",
      "File \u001b[0;32m~/miniconda3/envs/rdenv/lib/python3.11/site-packages/sklearn/base.py:1151\u001b[0m, in \u001b[0;36m_fit_context.<locals>.decorator.<locals>.wrapper\u001b[0;34m(estimator, *args, **kwargs)\u001b[0m\n\u001b[1;32m   1144\u001b[0m     estimator\u001b[38;5;241m.\u001b[39m_validate_params()\n\u001b[1;32m   1146\u001b[0m \u001b[38;5;28;01mwith\u001b[39;00m config_context(\n\u001b[1;32m   1147\u001b[0m     skip_parameter_validation\u001b[38;5;241m=\u001b[39m(\n\u001b[1;32m   1148\u001b[0m         prefer_skip_nested_validation \u001b[38;5;129;01mor\u001b[39;00m global_skip_validation\n\u001b[1;32m   1149\u001b[0m     )\n\u001b[1;32m   1150\u001b[0m ):\n\u001b[0;32m-> 1151\u001b[0m     \u001b[38;5;28;01mreturn\u001b[39;00m fit_method(estimator, \u001b[38;5;241m*\u001b[39margs, \u001b[38;5;241m*\u001b[39m\u001b[38;5;241m*\u001b[39mkwargs)\n",
      "File \u001b[0;32m~/miniconda3/envs/rdenv/lib/python3.11/site-packages/sklearn/ensemble/_gb.py:424\u001b[0m, in \u001b[0;36mBaseGradientBoosting.fit\u001b[0;34m(self, X, y, sample_weight, monitor)\u001b[0m\n\u001b[1;32m    420\u001b[0m sample_weight_is_none \u001b[38;5;241m=\u001b[39m sample_weight \u001b[38;5;129;01mis\u001b[39;00m \u001b[38;5;28;01mNone\u001b[39;00m\n\u001b[1;32m    422\u001b[0m sample_weight \u001b[38;5;241m=\u001b[39m _check_sample_weight(sample_weight, X)\n\u001b[0;32m--> 424\u001b[0m y \u001b[38;5;241m=\u001b[39m column_or_1d(y, warn\u001b[38;5;241m=\u001b[39m\u001b[38;5;28;01mTrue\u001b[39;00m)\n\u001b[1;32m    426\u001b[0m \u001b[38;5;28;01mif\u001b[39;00m is_classifier(\u001b[38;5;28mself\u001b[39m):\n\u001b[1;32m    427\u001b[0m     y \u001b[38;5;241m=\u001b[39m \u001b[38;5;28mself\u001b[39m\u001b[38;5;241m.\u001b[39m_validate_y(y, sample_weight)\n",
      "File \u001b[0;32m~/miniconda3/envs/rdenv/lib/python3.11/site-packages/sklearn/utils/validation.py:1245\u001b[0m, in \u001b[0;36mcolumn_or_1d\u001b[0;34m(y, dtype, warn)\u001b[0m\n\u001b[1;32m   1234\u001b[0m         warnings\u001b[38;5;241m.\u001b[39mwarn(\n\u001b[1;32m   1235\u001b[0m             (\n\u001b[1;32m   1236\u001b[0m                 \u001b[38;5;124m\"\u001b[39m\u001b[38;5;124mA column-vector y was passed when a 1d array was\u001b[39m\u001b[38;5;124m\"\u001b[39m\n\u001b[0;32m   (...)\u001b[0m\n\u001b[1;32m   1241\u001b[0m             stacklevel\u001b[38;5;241m=\u001b[39m\u001b[38;5;241m2\u001b[39m,\n\u001b[1;32m   1242\u001b[0m         )\n\u001b[1;32m   1243\u001b[0m     \u001b[38;5;28;01mreturn\u001b[39;00m _asarray_with_order(xp\u001b[38;5;241m.\u001b[39mreshape(y, (\u001b[38;5;241m-\u001b[39m\u001b[38;5;241m1\u001b[39m,)), order\u001b[38;5;241m=\u001b[39m\u001b[38;5;124m\"\u001b[39m\u001b[38;5;124mC\u001b[39m\u001b[38;5;124m\"\u001b[39m, xp\u001b[38;5;241m=\u001b[39mxp)\n\u001b[0;32m-> 1245\u001b[0m \u001b[38;5;28;01mraise\u001b[39;00m \u001b[38;5;167;01mValueError\u001b[39;00m(\n\u001b[1;32m   1246\u001b[0m     \u001b[38;5;124m\"\u001b[39m\u001b[38;5;124my should be a 1d array, got an array of shape \u001b[39m\u001b[38;5;132;01m{}\u001b[39;00m\u001b[38;5;124m instead.\u001b[39m\u001b[38;5;124m\"\u001b[39m\u001b[38;5;241m.\u001b[39mformat(shape)\n\u001b[1;32m   1247\u001b[0m )\n",
      "\u001b[0;31mValueError\u001b[0m: y should be a 1d array, got an array of shape (108006, 10) instead."
     ]
    }
   ],
   "source": [
    "best_params = {'lmk': {'n_comp': 10, 'alpha': .1, 'encoded': ('sm_name',)}, 'trm': {'n_comp': 30, 'alpha': 0.1}}\n",
    "lm_mp = model_train(make_landmark_ensemble(best_params), all_train_df[\"label\"][features], all_train_df[\"post_treatment\"])\n",
    "\n",
    "train_x = model_predict(lm_mp, kaggle_joined_df[\"label\"][features])\n",
    "train_y = de_train[transcriptome_cols]\n",
    "\n",
    "trm_mp = model_train(make_transcriptome_ensemble(best_params), train_x, train_y)"
   ]
  },
  {
   "cell_type": "markdown",
   "id": "6db3bfc3-04c8-40d3-8a34-9ae53c56ce3f",
   "metadata": {},
   "source": [
    "Make submission"
   ]
  },
  {
   "cell_type": "code",
   "execution_count": null,
   "id": "d706692d-6be2-435e-8e92-14dd97e15292",
   "metadata": {},
   "outputs": [],
   "source": [
    "# Full pipeline. Nice\n",
    "test_lm_pred = model_predict(lm_mp, test_joined_df[\"label\"][features])\n",
    "y_pred = model_predict(trm_mp, test_lm_pred)\n",
    "\n",
    "submission = pd.DataFrame(y_pred, columns=transcriptome_cols, index=id_map.index)\n",
    "display(submission)\n",
    "submission.to_csv('submissions/pipeline.csv')"
   ]
  },
  {
   "cell_type": "markdown",
   "id": "80d99977-98b2-4066-8558-6799172bb8e1",
   "metadata": {},
   "source": [
    "#### Ok actually lets do an ensemble."
   ]
  },
  {
   "cell_type": "code",
   "execution_count": 48,
   "id": "a3ee9362-21f7-40b3-b089-aca6e9849849",
   "metadata": {},
   "outputs": [],
   "source": [
    "def get_y_pred(params):\n",
    "    lm_mp = model_train(make_landmark_model(best_params), all_train_df[\"label\"][features], all_train_df[\"post_treatment\"])\n",
    "    \n",
    "    train_x = model_predict(lm_mp, kaggle_joined_df[\"label\"][features])\n",
    "    train_y = de_train[transcriptome_cols]\n",
    "    \n",
    "    trm_mp = model_train(make_transcriptome_model(best_params), train_x, train_y)\n",
    "\n",
    "    test_lm_pred = model_predict(lm_mp, test_joined_df[\"label\"][features])\n",
    "    y_pred = model_predict(trm_mp, test_lm_pred)"
   ]
  },
  {
   "cell_type": "code",
   "execution_count": 49,
   "id": "b8c21214-e456-4104-ab3a-bbe303d6c493",
   "metadata": {},
   "outputs": [
    {
     "name": "stderr",
     "output_type": "stream",
     "text": [
      "  0%|                                                    | 0/15 [00:00<?, ?it/s]"
     ]
    },
    {
     "name": "stdout",
     "output_type": "stream",
     "text": [
      "{'lmk': {'n_comp': 37, 'alpha': 0.6766698708413749, 'encoded': ('sm_name',)}, 'trm': {'n_comp': 75, 'alpha': 1.2466075280510602}}\n"
     ]
    },
    {
     "name": "stderr",
     "output_type": "stream",
     "text": [
      "  7%|██▉                                         | 1/15 [00:25<05:52, 25.16s/it]"
     ]
    },
    {
     "name": "stdout",
     "output_type": "stream",
     "text": [
      "{'lmk': {'n_comp': 9, 'alpha': 4.375727108057015, 'encoded': ('sm_name',)}, 'trm': {'n_comp': 74, 'alpha': 0.02350408230853529}}\n"
     ]
    },
    {
     "name": "stderr",
     "output_type": "stream",
     "text": [
      " 13%|█████▊                                      | 2/15 [00:43<04:34, 21.11s/it]"
     ]
    },
    {
     "name": "stdout",
     "output_type": "stream",
     "text": [
      "{'lmk': {'n_comp': 9, 'alpha': 1.2248363506063868, 'encoded': ('sm_name',)}, 'trm': {'n_comp': 18, 'alpha': 4.345966417786871}}\n"
     ]
    },
    {
     "name": "stderr",
     "output_type": "stream",
     "text": [
      " 20%|████████▊                                   | 3/15 [01:03<04:06, 20.52s/it]"
     ]
    },
    {
     "name": "stdout",
     "output_type": "stream",
     "text": [
      "{'lmk': {'n_comp': 53, 'alpha': 0.8204848408743526, 'encoded': ('sm_name',)}, 'trm': {'n_comp': 61, 'alpha': 3.7623945363907274}}\n"
     ]
    },
    {
     "name": "stderr",
     "output_type": "stream",
     "text": [
      " 27%|███████████▋                                | 4/15 [01:28<04:07, 22.49s/it]"
     ]
    },
    {
     "name": "stdout",
     "output_type": "stream",
     "text": [
      "{'lmk': {'n_comp': 64, 'alpha': 3.559461670375254, 'encoded': ('sm_name',)}, 'trm': {'n_comp': 10, 'alpha': 0.26792099957616944}}\n"
     ]
    },
    {
     "name": "stderr",
     "output_type": "stream",
     "text": [
      " 33%|██████████████▋                             | 5/15 [01:53<03:53, 23.40s/it]"
     ]
    },
    {
     "name": "stdout",
     "output_type": "stream",
     "text": [
      "{'lmk': {'n_comp': 24, 'alpha': 3.052612679782597, 'encoded': ('sm_name',)}, 'trm': {'n_comp': 53, 'alpha': 1.2918209592998753}}\n"
     ]
    },
    {
     "name": "stderr",
     "output_type": "stream",
     "text": [
      " 40%|█████████████████▌                          | 6/15 [02:10<03:11, 21.27s/it]"
     ]
    },
    {
     "name": "stdout",
     "output_type": "stream",
     "text": [
      "{'lmk': {'n_comp': 21, 'alpha': 4.888251769858893, 'encoded': ('sm_name',)}, 'trm': {'n_comp': 3, 'alpha': 2.520143732214115}}\n"
     ]
    },
    {
     "name": "stderr",
     "output_type": "stream",
     "text": [
      " 47%|████████████████████▌                       | 7/15 [02:25<02:33, 19.17s/it]"
     ]
    },
    {
     "name": "stdout",
     "output_type": "stream",
     "text": [
      "{'lmk': {'n_comp': 64, 'alpha': 0.3307471399571149, 'encoded': ('sm_name',)}, 'trm': {'n_comp': 92, 'alpha': 0.09841299488117627}}\n"
     ]
    },
    {
     "name": "stderr",
     "output_type": "stream",
     "text": [
      " 53%|███████████████████████▍                    | 8/15 [02:49<02:24, 20.65s/it]"
     ]
    },
    {
     "name": "stdout",
     "output_type": "stream",
     "text": [
      "{'lmk': {'n_comp': 0, 'alpha': 4.8590444696058, 'encoded': ('sm_name',)}, 'trm': {'n_comp': 69, 'alpha': 1.9014601181280277}}\n"
     ]
    },
    {
     "name": "stderr",
     "output_type": "stream",
     "text": [
      " 60%|██████████████████████████▍                 | 9/15 [03:45<03:09, 31.65s/it]"
     ]
    },
    {
     "name": "stdout",
     "output_type": "stream",
     "text": [
      "{'lmk': {'n_comp': 99, 'alpha': 2.6419737238378804, 'encoded': ('sm_name',)}, 'trm': {'n_comp': 42, 'alpha': 2.229393521574456}}\n"
     ]
    },
    {
     "name": "stderr",
     "output_type": "stream",
     "text": [
      " 67%|████████████████████████████▋              | 10/15 [04:20<02:43, 32.77s/it]"
     ]
    },
    {
     "name": "stdout",
     "output_type": "stream",
     "text": [
      "{'lmk': {'n_comp': 71, 'alpha': 3.452037317691561, 'encoded': ('sm_name',)}, 'trm': {'n_comp': 40, 'alpha': 3.101925125822185}}\n"
     ]
    },
    {
     "name": "stderr",
     "output_type": "stream",
     "text": [
      " 73%|███████████████████████████████▌           | 11/15 [04:48<02:05, 31.27s/it]"
     ]
    },
    {
     "name": "stdout",
     "output_type": "stream",
     "text": [
      "{'lmk': {'n_comp': 30, 'alpha': 3.266412312874235, 'encoded': ('sm_name',)}, 'trm': {'n_comp': 67, 'alpha': 4.893448924389875}}\n"
     ]
    },
    {
     "name": "stderr",
     "output_type": "stream",
     "text": [
      " 80%|██████████████████████████████████▍        | 12/15 [05:10<01:25, 28.48s/it]"
     ]
    },
    {
     "name": "stdout",
     "output_type": "stream",
     "text": [
      "{'lmk': {'n_comp': 98, 'alpha': 3.1245419915708657, 'encoded': ('sm_name',)}, 'trm': {'n_comp': 19, 'alpha': 1.8027170714496965}}\n"
     ]
    },
    {
     "name": "stderr",
     "output_type": "stream",
     "text": [
      " 87%|█████████████████████████████████████▎     | 13/15 [05:41<00:58, 29.28s/it]"
     ]
    },
    {
     "name": "stdout",
     "output_type": "stream",
     "text": [
      "{'lmk': {'n_comp': 39, 'alpha': 3.7129052726939165, 'encoded': ('sm_name',)}, 'trm': {'n_comp': 8, 'alpha': 0.6539264587280358}}\n"
     ]
    },
    {
     "name": "stderr",
     "output_type": "stream",
     "text": [
      " 93%|████████████████████████████████████████▏  | 14/15 [06:02<00:26, 26.84s/it]"
     ]
    },
    {
     "name": "stdout",
     "output_type": "stream",
     "text": [
      "{'lmk': {'n_comp': 8, 'alpha': 1.2747717672661618, 'encoded': ('sm_name',)}, 'trm': {'n_comp': 79, 'alpha': 0.5766482881899804}}\n"
     ]
    },
    {
     "name": "stderr",
     "output_type": "stream",
     "text": [
      "100%|███████████████████████████████████████████| 15/15 [06:21<00:00, 25.41s/it]\n"
     ]
    }
   ],
   "source": [
    "import random\n",
    "all_y_preds = []\n",
    "all_weights = []\n",
    "for _ in tqdm.tqdm(range(15)):\n",
    "    params = {'lmk': {'n_comp': random.randint(0,100), 'alpha': random.uniform(0, 5), 'encoded': ('sm_name',)}, 'trm': {'n_comp': random.randint(0,100), 'alpha': random.uniform(0, 5)}}\n",
    "    print(params)\n",
    "    all_y_preds.append(get_y_pred(params))\n",
    "    all_weights.append(-1 * crossvalidate(params))"
   ]
  },
  {
   "cell_type": "code",
   "execution_count": 50,
   "id": "46e8a0ba-b827-4295-9124-42f4878849ef",
   "metadata": {},
   "outputs": [
    {
     "data": {
      "text/plain": [
       "(15,)"
      ]
     },
     "metadata": {},
     "output_type": "display_data"
    },
    {
     "data": {
      "text/plain": [
       "[-2.2754360523325095,\n",
       " -2.251186682426177,\n",
       " -2.2476691931644672,\n",
       " -2.271947437061014,\n",
       " -2.2895347914265276,\n",
       " -2.2546052732720407,\n",
       " -2.2669610384332466,\n",
       " -2.276153892398829,\n",
       " -2.278998108895446,\n",
       " -2.2727875959736568,\n",
       " -2.2706932268775644,\n",
       " -2.268242801505886,\n",
       " -2.276486070050241,\n",
       " -2.2988028204769724,\n",
       " -2.2698669736068426]"
      ]
     },
     "metadata": {},
     "output_type": "display_data"
    },
    {
     "ename": "TypeError",
     "evalue": "unsupported operand type(s) for *: 'NoneType' and 'float'",
     "output_type": "error",
     "traceback": [
      "\u001b[0;31m---------------------------------------------------------------------------\u001b[0m",
      "\u001b[0;31mTypeError\u001b[0m                                 Traceback (most recent call last)",
      "Cell \u001b[0;32mIn[50], line 8\u001b[0m\n\u001b[1;32m      6\u001b[0m display(all_preds\u001b[38;5;241m.\u001b[39mshape)\n\u001b[1;32m      7\u001b[0m display(all_weights)\n\u001b[0;32m----> 8\u001b[0m y_pred \u001b[38;5;241m=\u001b[39m np\u001b[38;5;241m.\u001b[39maverage(all_preds,axis\u001b[38;5;241m=\u001b[39m\u001b[38;5;241m0\u001b[39m,weights\u001b[38;5;241m=\u001b[39mall_weights)\n\u001b[1;32m     10\u001b[0m submission \u001b[38;5;241m=\u001b[39m pd\u001b[38;5;241m.\u001b[39mDataFrame(y_pred, columns\u001b[38;5;241m=\u001b[39mtranscriptome_cols, index\u001b[38;5;241m=\u001b[39mid_map\u001b[38;5;241m.\u001b[39mindex)\n\u001b[1;32m     11\u001b[0m display(submission)\n",
      "File \u001b[0;32m~/miniconda3/envs/rdenv/lib/python3.11/site-packages/numpy/lib/function_base.py:553\u001b[0m, in \u001b[0;36maverage\u001b[0;34m(a, axis, weights, returned, keepdims)\u001b[0m\n\u001b[1;32m    549\u001b[0m     \u001b[38;5;28;01mif\u001b[39;00m np\u001b[38;5;241m.\u001b[39many(scl \u001b[38;5;241m==\u001b[39m \u001b[38;5;241m0.0\u001b[39m):\n\u001b[1;32m    550\u001b[0m         \u001b[38;5;28;01mraise\u001b[39;00m \u001b[38;5;167;01mZeroDivisionError\u001b[39;00m(\n\u001b[1;32m    551\u001b[0m             \u001b[38;5;124m\"\u001b[39m\u001b[38;5;124mWeights sum to zero, can\u001b[39m\u001b[38;5;124m'\u001b[39m\u001b[38;5;124mt be normalized\u001b[39m\u001b[38;5;124m\"\u001b[39m)\n\u001b[0;32m--> 553\u001b[0m     avg \u001b[38;5;241m=\u001b[39m avg_as_array \u001b[38;5;241m=\u001b[39m np\u001b[38;5;241m.\u001b[39mmultiply(a, wgt,\n\u001b[1;32m    554\u001b[0m                       dtype\u001b[38;5;241m=\u001b[39mresult_dtype)\u001b[38;5;241m.\u001b[39msum(axis, \u001b[38;5;241m*\u001b[39m\u001b[38;5;241m*\u001b[39mkeepdims_kw) \u001b[38;5;241m/\u001b[39m scl\n\u001b[1;32m    556\u001b[0m \u001b[38;5;28;01mif\u001b[39;00m returned:\n\u001b[1;32m    557\u001b[0m     \u001b[38;5;28;01mif\u001b[39;00m scl\u001b[38;5;241m.\u001b[39mshape \u001b[38;5;241m!=\u001b[39m avg_as_array\u001b[38;5;241m.\u001b[39mshape:\n",
      "\u001b[0;31mTypeError\u001b[0m: unsupported operand type(s) for *: 'NoneType' and 'float'"
     ]
    }
   ],
   "source": [
    "# Quick sanity check to make sure our submission is ordered correctly.\n",
    "assert (test_joined_df[\"label\"][features] == id_map[features]).all(axis=None)\n",
    "\n",
    "# Full pipeline. Nice\n",
    "all_preds = np.stack(all_y_preds,axis=0)\n",
    "display(all_preds.shape)\n",
    "display(all_weights)\n",
    "y_pred = np.average(all_preds,axis=0,weights=all_weights)\n",
    "\n",
    "submission = pd.DataFrame(y_pred, columns=transcriptome_cols, index=id_map.index)\n",
    "display(submission)\n",
    "submission.to_csv('submissions/pipeline.csv')"
   ]
  },
  {
   "cell_type": "code",
   "execution_count": null,
   "id": "4a9a50b5-c8f4-4cfd-8528-6ae6a7716356",
   "metadata": {},
   "outputs": [],
   "source": [
    "np.std(all_preds,axis=0).mean()"
   ]
  }
 ],
 "metadata": {
  "kernelspec": {
   "display_name": "Python 3 (ipykernel)",
   "language": "python",
   "name": "python3"
  },
  "language_info": {
   "codemirror_mode": {
    "name": "ipython",
    "version": 3
   },
   "file_extension": ".py",
   "mimetype": "text/x-python",
   "name": "python",
   "nbconvert_exporter": "python",
   "pygments_lexer": "ipython3",
   "version": "3.11.5"
  }
 },
 "nbformat": 4,
 "nbformat_minor": 5
}
