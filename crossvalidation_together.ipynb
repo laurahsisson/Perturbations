{
 "cells": [
  {
   "cell_type": "markdown",
   "id": "cd6cc465-5a2c-4dfb-995d-f99cfe6c8fce",
   "metadata": {},
   "source": [
    "# Baseline 3\n",
    "#### Training landmark and transcriptome models together"
   ]
  },
  {
   "cell_type": "code",
   "execution_count": 12,
   "id": "f5565e71-71e2-405e-a5d8-69ce07d491fe",
   "metadata": {},
   "outputs": [],
   "source": [
    "import pandas as pd\n",
    "import numpy as np\n",
    "import matplotlib.pyplot as plt\n",
    "import matplotlib.patches as mpatches\n",
    "import seaborn as sns\n",
    "import torch\n",
    "\n",
    "from sklearn.preprocessing import OneHotEncoder, OrdinalEncoder, FunctionTransformer\n",
    "from sklearn.decomposition import TruncatedSVD\n",
    "from sklearn.compose import ColumnTransformer\n",
    "from sklearn.pipeline import make_pipeline\n",
    "from sklearn.linear_model import Ridge\n",
    "from sklearn.model_selection import StratifiedKFold\n",
    "\n",
    "import itertools\n",
    "import tqdm\n",
    "import collections"
   ]
  },
  {
   "cell_type": "markdown",
   "id": "bac5ffd7-aa5b-42f6-ab65-62885d43b9a4",
   "metadata": {},
   "source": [
    "## Prepare data:\n",
    "#### Read joined data (pre + post treatment)"
   ]
  },
  {
   "cell_type": "code",
   "execution_count": 13,
   "id": "8fd73c75-40ee-4ec2-b45d-07610b1f7253",
   "metadata": {},
   "outputs": [
    {
     "name": "stdout",
     "output_type": "stream",
     "text": [
      "lincs_joined_df = (107404, 1842)\n",
      "kaggle_joined_df = (602, 1841)\n",
      "test_joined_df = (255, 921)\n"
     ]
    }
   ],
   "source": [
    "lincs_joined_df = pd.read_parquet(\"data/lincs_pretreatment.parquet\")\n",
    "kaggle_joined_df = pd.read_parquet(\"data/kaggle_pretreatment.parquet\")\n",
    "test_joined_df = pd.read_parquet(\"data/test_pretreatment.parquet\")\n",
    "print(f\"lincs_joined_df = {lincs_joined_df.shape}\\nkaggle_joined_df = {kaggle_joined_df.shape}\\ntest_joined_df = {test_joined_df.shape}\")"
   ]
  },
  {
   "cell_type": "code",
   "execution_count": 14,
   "id": "070fd981-dc0d-464a-89dc-f689e46dfeb0",
   "metadata": {},
   "outputs": [
    {
     "name": "stdout",
     "output_type": "stream",
     "text": [
      "all_train_df = (108006, 1843)\n"
     ]
    }
   ],
   "source": [
    "all_train_df = pd.concat([kaggle_joined_df,lincs_joined_df])\n",
    "print(f\"all_train_df = {all_train_df.shape}\")"
   ]
  },
  {
   "cell_type": "markdown",
   "id": "c862c7af-655c-4195-b06b-3bfc5c310bb7",
   "metadata": {},
   "source": [
    "#### Kaggle provided data"
   ]
  },
  {
   "cell_type": "code",
   "execution_count": 15,
   "id": "f50e89dc-fbe2-42f9-8213-f95bfdda88af",
   "metadata": {},
   "outputs": [],
   "source": [
    "de_train = pd.read_parquet('data/de_train.parquet')\n",
    "id_map = pd.read_csv('data/id_map.csv',index_col='id')"
   ]
  },
  {
   "cell_type": "markdown",
   "id": "b2299b53-6269-49b6-b838-d8fefede0923",
   "metadata": {},
   "source": [
    "#### Define features of interest and sort data accordingly."
   ]
  },
  {
   "cell_type": "code",
   "execution_count": 16,
   "id": "f6ae48f5-3ea8-40e0-bdd6-9c138b56cb77",
   "metadata": {},
   "outputs": [
    {
     "name": "stdout",
     "output_type": "stream",
     "text": [
      "transcriptome_cols = (18211,)\n",
      "landmark_cols = (918,)\n"
     ]
    }
   ],
   "source": [
    "features = ['cell_type', 'sm_name']\n",
    "multiindex_features = [(\"label\",'cell_type'),(\"label\",'sm_name')]\n",
    "\n",
    "transcriptome_cols = de_train.columns[5:]\n",
    "landmark_cols = kaggle_joined_df[\"post_treatment\"].columns\n",
    "print(f\"transcriptome_cols = {transcriptome_cols.shape}\\nlandmark_cols = {landmark_cols.shape}\")"
   ]
  },
  {
   "cell_type": "code",
   "execution_count": 17,
   "id": "310e93d9-f08a-41cc-9bc6-74f84ad68f36",
   "metadata": {},
   "outputs": [
    {
     "data": {
      "text/plain": [
       "True"
      ]
     },
     "execution_count": 17,
     "metadata": {},
     "output_type": "execute_result"
    }
   ],
   "source": [
    "# We only need to sort these two dataframes because they represent the same underlying dataset.\n",
    "de_train = de_train.query(\"~control\").sort_values(features)\n",
    "kaggle_joined_df = kaggle_joined_df.sort_values(multiindex_features)\n",
    "# Sanity check that these dfs align.\n",
    "genes_align = (kaggle_joined_df[\"post_treatment\"] == de_train[landmark_cols]).all(axis=None)\n",
    "labels_align = (kaggle_joined_df[\"label\"][features] == de_train[features]).all(axis=None)\n",
    "genes_align and labels_align"
   ]
  },
  {
   "cell_type": "markdown",
   "id": "06b697df-66f0-4c44-b16f-d9f076982c2e",
   "metadata": {},
   "source": [
    "## Prepare for training\n",
    "#### Partition data"
   ]
  },
  {
   "cell_type": "code",
   "execution_count": 18,
   "id": "491cebb6-5a9d-4973-b9d9-f68570388d85",
   "metadata": {},
   "outputs": [
    {
     "data": {
      "text/html": [
       "<div>\n",
       "<style scoped>\n",
       "    .dataframe tbody tr th:only-of-type {\n",
       "        vertical-align: middle;\n",
       "    }\n",
       "\n",
       "    .dataframe tbody tr th {\n",
       "        vertical-align: top;\n",
       "    }\n",
       "\n",
       "    .dataframe thead th {\n",
       "        text-align: right;\n",
       "    }\n",
       "</style>\n",
       "<table border=\"1\" class=\"dataframe\">\n",
       "  <thead>\n",
       "    <tr style=\"text-align: right;\">\n",
       "      <th></th>\n",
       "      <th>mean_score</th>\n",
       "      <th>cv_class</th>\n",
       "    </tr>\n",
       "    <tr>\n",
       "      <th>sm_name</th>\n",
       "      <th></th>\n",
       "      <th></th>\n",
       "    </tr>\n",
       "  </thead>\n",
       "  <tbody>\n",
       "    <tr>\n",
       "      <th>Alvocidib</th>\n",
       "      <td>1.144652</td>\n",
       "      <td>4</td>\n",
       "    </tr>\n",
       "    <tr>\n",
       "      <th>CHIR-99021</th>\n",
       "      <td>0.145969</td>\n",
       "      <td>2</td>\n",
       "    </tr>\n",
       "    <tr>\n",
       "      <th>Crizotinib</th>\n",
       "      <td>-0.010615</td>\n",
       "      <td>0</td>\n",
       "    </tr>\n",
       "    <tr>\n",
       "      <th>Dactolisib</th>\n",
       "      <td>-0.077123</td>\n",
       "      <td>0</td>\n",
       "    </tr>\n",
       "    <tr>\n",
       "      <th>Foretinib</th>\n",
       "      <td>-0.007336</td>\n",
       "      <td>0</td>\n",
       "    </tr>\n",
       "    <tr>\n",
       "      <th>Idelalisib</th>\n",
       "      <td>0.013947</td>\n",
       "      <td>1</td>\n",
       "    </tr>\n",
       "    <tr>\n",
       "      <th>LDN 193189</th>\n",
       "      <td>0.070423</td>\n",
       "      <td>1</td>\n",
       "    </tr>\n",
       "    <tr>\n",
       "      <th>Linagliptin</th>\n",
       "      <td>0.033001</td>\n",
       "      <td>1</td>\n",
       "    </tr>\n",
       "    <tr>\n",
       "      <th>MLN 2238</th>\n",
       "      <td>2.045447</td>\n",
       "      <td>4</td>\n",
       "    </tr>\n",
       "    <tr>\n",
       "      <th>O-Demethylated Adapalene</th>\n",
       "      <td>-0.026293</td>\n",
       "      <td>0</td>\n",
       "    </tr>\n",
       "    <tr>\n",
       "      <th>Oprozomib (ONX 0912)</th>\n",
       "      <td>1.336945</td>\n",
       "      <td>4</td>\n",
       "    </tr>\n",
       "    <tr>\n",
       "      <th>Palbociclib</th>\n",
       "      <td>0.020710</td>\n",
       "      <td>1</td>\n",
       "    </tr>\n",
       "    <tr>\n",
       "      <th>Penfluridol</th>\n",
       "      <td>-0.002021</td>\n",
       "      <td>0</td>\n",
       "    </tr>\n",
       "    <tr>\n",
       "      <th>Porcn Inhibitor III</th>\n",
       "      <td>0.073097</td>\n",
       "      <td>1</td>\n",
       "    </tr>\n",
       "    <tr>\n",
       "      <th>R428</th>\n",
       "      <td>0.238306</td>\n",
       "      <td>2</td>\n",
       "    </tr>\n",
       "  </tbody>\n",
       "</table>\n",
       "</div>"
      ],
      "text/plain": [
       "                          mean_score  cv_class\n",
       "sm_name                                       \n",
       "Alvocidib                   1.144652         4\n",
       "CHIR-99021                  0.145969         2\n",
       "Crizotinib                 -0.010615         0\n",
       "Dactolisib                 -0.077123         0\n",
       "Foretinib                  -0.007336         0\n",
       "Idelalisib                  0.013947         1\n",
       "LDN 193189                  0.070423         1\n",
       "Linagliptin                 0.033001         1\n",
       "MLN 2238                    2.045447         4\n",
       "O-Demethylated Adapalene   -0.026293         0\n",
       "Oprozomib (ONX 0912)        1.336945         4\n",
       "Palbociclib                 0.020710         1\n",
       "Penfluridol                -0.002021         0\n",
       "Porcn Inhibitor III         0.073097         1\n",
       "R428                        0.238306         2"
      ]
     },
     "execution_count": 18,
     "metadata": {},
     "output_type": "execute_result"
    }
   ],
   "source": [
    "eval_cells_only_df = kaggle_joined_df[kaggle_joined_df[\"label\"][\"cell_type\"].isin([\"B cells\", \"Myeloid cells\"])].reset_index(drop=True)\n",
    "mean_score = pd.concat([eval_cells_only_df[\"label\"][\"sm_name\"],eval_cells_only_df[\"post_treatment\"]],axis=1).groupby(\"sm_name\").agg(\"mean\").mean(axis=1)\n",
    "classes = np.digitize(mean_score.values, bins=[0,0.1, 0.5, 1])\n",
    "cpds = mean_score.index.values\n",
    "\n",
    "# Don't need this df it just looks cool\n",
    "mean_score.to_frame(name=\"mean_score\").assign(cv_class=classes)"
   ]
  },
  {
   "cell_type": "markdown",
   "id": "1b60b91b-9aad-48e6-88dc-03197db09908",
   "metadata": {},
   "source": [
    "#### CV splits"
   ]
  },
  {
   "cell_type": "code",
   "execution_count": 19,
   "id": "e0aec333-fca6-4f6f-8e1e-6f8dd4172c9a",
   "metadata": {},
   "outputs": [
    {
     "name": "stderr",
     "output_type": "stream",
     "text": [
      "/Users/laurasisson/miniconda3/envs/rdenv/lib/python3.11/site-packages/sklearn/model_selection/_split.py:725: UserWarning: The least populated class in y has only 2 members, which is less than n_splits=3.\n",
      "  warnings.warn(\n"
     ]
    },
    {
     "data": {
      "text/plain": [
       "{0: array(['Alvocidib', 'Crizotinib', 'Foretinib', 'LDN 193189', 'R428'],\n",
       "       dtype=object),\n",
       " 1: array(['CHIR-99021', 'MLN 2238', 'Palbociclib', 'Penfluridol',\n",
       "        'Porcn Inhibitor III'], dtype=object),\n",
       " 2: array(['Dactolisib', 'Idelalisib', 'Linagliptin',\n",
       "        'O-Demethylated Adapalene', 'Oprozomib (ONX 0912)'], dtype=object)}"
      ]
     },
     "execution_count": 19,
     "metadata": {},
     "output_type": "execute_result"
    }
   ],
   "source": [
    "fold_arr = np.full(len(cpds), -1)\n",
    "n_splits = 3\n",
    "skf = StratifiedKFold(n_splits=n_splits, random_state=42, shuffle=True)\n",
    "for fold, (_, val_ind) in enumerate(skf.split(classes,classes)):\n",
    "    fold_arr[val_ind] = fold\n",
    "fold_map = {c: f for c, f in zip(cpds, fold_arr)}\n",
    "fold_to_cpds = {fold: cpds[fold_arr==fold] for fold in range(n_splits)}\n",
    "\n",
    "fold_to_cpds"
   ]
  },
  {
   "cell_type": "code",
   "execution_count": 20,
   "id": "7c059464-997c-4da4-a813-d3edc18f0fe9",
   "metadata": {},
   "outputs": [
    {
     "data": {
      "text/plain": [
       "(array([[0, 1],\n",
       "        [2, 3]]),\n",
       " array([[0, 1],\n",
       "        [2, 3]]))"
      ]
     },
     "execution_count": 20,
     "metadata": {},
     "output_type": "execute_result"
    }
   ],
   "source": [
    "identity_transformer = FunctionTransformer()\n",
    "X = np.array([[0, 1], [2, 3]])\n",
    "X\n",
    "identity_transformer.inverse_transform(X), identity_transformer.transform(X)"
   ]
  },
  {
   "cell_type": "markdown",
   "id": "87c0fb5b-c59b-4d30-a3f2-0c8e277eb040",
   "metadata": {},
   "source": [
    "#### Model helper functions"
   ]
  },
  {
   "cell_type": "code",
   "execution_count": 21,
   "id": "f376208a-bfee-4bb7-9b51-0fd6ad31370b",
   "metadata": {},
   "outputs": [],
   "source": [
    "def make_transformer(n_components):\n",
    "    if n_components == 0:\n",
    "        # Identity transformer\n",
    "        return FunctionTransformer()\n",
    "    else:\n",
    "        return TruncatedSVD(n_components=n_components, random_state=1)\n",
    "\n",
    "# Unfortunately, sklearn doesn't allow us to use a Ridge model as an intermediate step\n",
    "# because intermediate steps are supposed to be preprocessors\n",
    "def make_landmark_model(params):\n",
    "    params = params[\"lmk\"]\n",
    "    svd = make_transformer(params[\"n_comp\"])\n",
    "    model = make_pipeline(ColumnTransformer([('ohe', OneHotEncoder(), list(params[\"encoded\"]))]),\n",
    "                          Ridge(alpha=params[\"alpha\"], fit_intercept=False))\n",
    "    return svd, model\n",
    "\n",
    "def make_transcriptome_model(params):\n",
    "    params = params[\"trm\"]\n",
    "    svd = make_transformer(params[\"n_comp\"])\n",
    "    model = Ridge(alpha=params[\"alpha\"], fit_intercept=False)\n",
    "    return svd, model\n",
    "\n",
    "# This changes the models inplace. Returns as a courtesy.\n",
    "def model_train(mp,x,y):\n",
    "    svd, model = mp\n",
    "    z = svd.fit_transform(y)\n",
    "    model.fit(x, z)\n",
    "    return svd, model\n",
    "\n",
    "def model_predict(mp,x):\n",
    "    svd, model = mp\n",
    "    d = model.predict(x)\n",
    "    return svd.inverse_transform(d)\n",
    "    "
   ]
  },
  {
   "cell_type": "markdown",
   "id": "485211ab-206e-465f-8404-a6e68582cb9a",
   "metadata": {},
   "source": [
    "#### Draw some example models"
   ]
  },
  {
   "cell_type": "code",
   "execution_count": 22,
   "id": "cb1f8e5d-d199-41d9-bd81-e0cbc8b91a38",
   "metadata": {},
   "outputs": [
    {
     "name": "stdout",
     "output_type": "stream",
     "text": [
      "Landmark\n"
     ]
    },
    {
     "data": {
      "text/plain": [
       "(TruncatedSVD(n_components=150, random_state=1),\n",
       " Pipeline(steps=[('columntransformer',\n",
       "                  ColumnTransformer(transformers=[('ohe', OneHotEncoder(),\n",
       "                                                   ['sm_name'])])),\n",
       "                 ('ridge', Ridge(alpha=0.1, fit_intercept=False))]))"
      ]
     },
     "metadata": {},
     "output_type": "display_data"
    },
    {
     "name": "stdout",
     "output_type": "stream",
     "text": [
      "Transcriptome\n"
     ]
    },
    {
     "data": {
      "text/plain": [
       "(TruncatedSVD(n_components=150, random_state=1),\n",
       " Ridge(alpha=0.1, fit_intercept=False))"
      ]
     },
     "metadata": {},
     "output_type": "display_data"
    }
   ],
   "source": [
    "example_params = {\"lmk\":{\"n_comp\":150,\"alpha\":.1,\"encoded\":(\"sm_name\",)},\"trm\":{\"n_comp\":150,\"alpha\":.1}}\n",
    "print(\"Landmark\")\n",
    "display(make_landmark_model(example_params))\n",
    "print(\"Transcriptome\")\n",
    "display(make_transcriptome_model(example_params))"
   ]
  },
  {
   "cell_type": "markdown",
   "id": "1cc54942-77f8-41b3-922e-3c732dfd7bbc",
   "metadata": {},
   "source": [
    "#### Cross Validation function"
   ]
  },
  {
   "cell_type": "code",
   "execution_count": 23,
   "id": "bec7ff76-8e53-42da-9449-32f2880ddeda",
   "metadata": {},
   "outputs": [
    {
     "name": "stdout",
     "output_type": "stream",
     "text": [
      "# Fold 0: 2.012\n",
      "# Fold 1: 2.666\n",
      "# Fold 2: 2.172\n"
     ]
    },
    {
     "data": {
      "text/plain": [
       "2.283452586892314"
      ]
     },
     "execution_count": 23,
     "metadata": {},
     "output_type": "execute_result"
    }
   ],
   "source": [
    "def crossvalidate(params, print_each=False, print_result=False):\n",
    "    def train_landmark(cpds):\n",
    "        mask_va = all_train_df[(\"label\",'cell_type')].isin(['Myeloid cells', 'B cells']) & all_train_df[(\"label\",'sm_name')].isin(cpds)\n",
    "        validate = all_train_df[mask_va]\n",
    "    \n",
    "        mask_tr = ~mask_va\n",
    "        train = all_train_df[mask_tr]\n",
    "\n",
    "        svd, model = model_train(make_landmark_model(params), train[\"label\"][features], train[\"post_treatment\"])\n",
    "        return svd, model\n",
    "\n",
    "    def train_transcriptome(landmark_mp,cpds):\n",
    "        mask_va = kaggle_joined_df[(\"label\",'cell_type')].isin(['Myeloid cells', 'B cells']) & kaggle_joined_df[(\"label\",'sm_name')].isin(cpds)\n",
    "        mask_tr = ~mask_va # 485 or 487 training rows\n",
    "\n",
    "        train_x = model_predict(landmark_mp, kaggle_joined_df[mask_tr][\"label\"][features])\n",
    "        train_y = de_train[mask_tr][transcriptome_cols]\n",
    "\n",
    "        val_x = model_predict(landmark_mp, kaggle_joined_df[mask_va][\"label\"][features])\n",
    "        val_y = de_train[mask_va][transcriptome_cols]\n",
    "\n",
    "        transcriptome_mp = model_train(make_transcriptome_model(params), train_x, train_y)\n",
    "        pred_y = model_predict(transcriptome_mp, val_x)\n",
    "        mrrmse = np.sqrt(np.square(val_y - pred_y).mean(axis=1)).mean()\n",
    "        return mrrmse\n",
    "    \n",
    "    mrrmse_list = []\n",
    "    for fold, cpds in fold_to_cpds.items():\n",
    "        landmark_mp = train_landmark(cpds)\n",
    "        mrrmse = train_transcriptome(landmark_mp,cpds)\n",
    "        mrrmse_list.append(mrrmse)\n",
    "        if print_each:\n",
    "            print(f\"# Fold {fold}: {mrrmse:5.3f}\")\n",
    "\n",
    "    mrrmse = np.array(mrrmse_list).mean()\n",
    "    if print_result:\n",
    "        print(f\"# Overall {mrrmse:5.3f} {params}\")\n",
    "    return mrrmse\n",
    "                \n",
    "crossvalidate(example_params, print_each=True)"
   ]
  },
  {
   "cell_type": "code",
   "execution_count": 24,
   "id": "ab324232-92b3-43a8-bff8-7ef59781f832",
   "metadata": {},
   "outputs": [
    {
     "name": "stdout",
     "output_type": "stream",
     "text": [
      "Generated 144 trials.\n",
      "Example = {'lmk': {'n_comp': 0, 'alpha': 0.1, 'encoded': ('sm_name',)}, 'trm': {'n_comp': 0, 'alpha': 0.1}}\n"
     ]
    }
   ],
   "source": [
    "import itertools\n",
    "\n",
    "alpha_list = [0.1, 1, 5] #10\n",
    "encoded = [('sm_name',)] #,('cell_type',),('sm_name','cell_type')\n",
    "n_comps_list = [0,10,30,100]\n",
    "\n",
    "\n",
    "all_trials = [{\"lmk\":{\"n_comp\":lmk_n_comp,\"alpha\":lmk_alpha,\"encoded\":encoded},\"trm\":{\"n_comp\":trm_n_comp,\"alpha\":trm_alpha}} for encoded, lmk_alpha, lmk_n_comp, trm_alpha, trm_n_comp in itertools.product(encoded,alpha_list,n_comps_list,alpha_list,n_comps_list)]\n",
    "print(f\"Generated {len(all_trials)} trials.\\nExample = {next(iter(all_trials))}\")"
   ]
  },
  {
   "cell_type": "code",
   "execution_count": 28,
   "id": "c4a8aefd-9ba7-4ad4-ab02-375976c3ae68",
   "metadata": {},
   "outputs": [
    {
     "name": "stderr",
     "output_type": "stream",
     "text": [
      "100%|███████████████████████████████████████| 144/144 [1:16:24<00:00, 31.84s/it]"
     ]
    },
    {
     "name": "stdout",
     "output_type": "stream",
     "text": [
      "{'lmk': {'n_comp': 10, 'alpha': 5, 'encoded': ('sm_name',)}, 'trm': {'n_comp': 30, 'alpha': 0.1}} -2.259654876047867\n",
      "{'lmk': {'n_comp': 10, 'alpha': 5, 'encoded': ('sm_name',)}, 'trm': {'n_comp': 30, 'alpha': 1}} -2.25968089986029\n",
      "{'lmk': {'n_comp': 10, 'alpha': 5, 'encoded': ('sm_name',)}, 'trm': {'n_comp': 30, 'alpha': 5}} -2.2598107983252733\n",
      "{'lmk': {'n_comp': 10, 'alpha': 5, 'encoded': ('sm_name',)}, 'trm': {'n_comp': 100, 'alpha': 0.1}} -2.260035200635452\n",
      "{'lmk': {'n_comp': 10, 'alpha': 5, 'encoded': ('sm_name',)}, 'trm': {'n_comp': 100, 'alpha': 1}} -2.260060465738705\n",
      "Best score = 2.259654876047867.\n",
      "Best params = {'lmk': {'n_comp': 10, 'alpha': 5, 'encoded': ('sm_name',)}, 'trm': {'n_comp': 30, 'alpha': 0.1}}\n"
     ]
    },
    {
     "name": "stderr",
     "output_type": "stream",
     "text": [
      "\n"
     ]
    }
   ],
   "source": [
    "best_score = float('inf')\n",
    "best_params = dict()\n",
    "scores = collections.Counter()\n",
    "for i,params in enumerate(tqdm.tqdm(all_trials,smoothing=0)):\n",
    "    score = crossvalidate(params)\n",
    "    if score < best_score:\n",
    "        best_score = score\n",
    "        best_params = params\n",
    "    scores[i] = -score\n",
    "for i, score in scores.most_common(5):\n",
    "    print(all_trials[i],score)\n",
    "print(f\"Best score = {best_score}.\\nBest params = {best_params}\")"
   ]
  },
  {
   "cell_type": "markdown",
   "id": "3a74a9db-06ae-4a8d-9391-38533c4ad811",
   "metadata": {},
   "source": [
    "## Submission\n",
    "We retrain the model on the full training data and create a submission file."
   ]
  },
  {
   "cell_type": "code",
   "execution_count": 29,
   "id": "76930c92-1baa-4d5e-859f-64177be2c94f",
   "metadata": {},
   "outputs": [],
   "source": [
    "lm_mp = model_train(make_landmark_model(best_params), all_train_df[\"label\"][features], all_train_df[\"post_treatment\"])\n",
    "\n",
    "train_x = model_predict(lm_mp, kaggle_joined_df[\"label\"][features])\n",
    "train_y = de_train[transcriptome_cols]\n",
    "\n",
    "trm_mp = model_train(make_transcriptome_model(best_params), train_x, train_y)"
   ]
  },
  {
   "cell_type": "markdown",
   "id": "6db3bfc3-04c8-40d3-8a34-9ae53c56ce3f",
   "metadata": {},
   "source": [
    "Make submission"
   ]
  },
  {
   "cell_type": "code",
   "execution_count": 30,
   "id": "d706692d-6be2-435e-8e92-14dd97e15292",
   "metadata": {},
   "outputs": [
    {
     "data": {
      "text/html": [
       "<div>\n",
       "<style scoped>\n",
       "    .dataframe tbody tr th:only-of-type {\n",
       "        vertical-align: middle;\n",
       "    }\n",
       "\n",
       "    .dataframe tbody tr th {\n",
       "        vertical-align: top;\n",
       "    }\n",
       "\n",
       "    .dataframe thead th {\n",
       "        text-align: right;\n",
       "    }\n",
       "</style>\n",
       "<table border=\"1\" class=\"dataframe\">\n",
       "  <thead>\n",
       "    <tr style=\"text-align: right;\">\n",
       "      <th></th>\n",
       "      <th>A1BG</th>\n",
       "      <th>A1BG-AS1</th>\n",
       "      <th>A2M</th>\n",
       "      <th>A2M-AS1</th>\n",
       "      <th>A2MP1</th>\n",
       "      <th>A4GALT</th>\n",
       "      <th>AAAS</th>\n",
       "      <th>AACS</th>\n",
       "      <th>AAGAB</th>\n",
       "      <th>AAK1</th>\n",
       "      <th>...</th>\n",
       "      <th>ZUP1</th>\n",
       "      <th>ZW10</th>\n",
       "      <th>ZWILCH</th>\n",
       "      <th>ZWINT</th>\n",
       "      <th>ZXDA</th>\n",
       "      <th>ZXDB</th>\n",
       "      <th>ZXDC</th>\n",
       "      <th>ZYG11B</th>\n",
       "      <th>ZYX</th>\n",
       "      <th>ZZEF1</th>\n",
       "    </tr>\n",
       "    <tr>\n",
       "      <th>id</th>\n",
       "      <th></th>\n",
       "      <th></th>\n",
       "      <th></th>\n",
       "      <th></th>\n",
       "      <th></th>\n",
       "      <th></th>\n",
       "      <th></th>\n",
       "      <th></th>\n",
       "      <th></th>\n",
       "      <th></th>\n",
       "      <th></th>\n",
       "      <th></th>\n",
       "      <th></th>\n",
       "      <th></th>\n",
       "      <th></th>\n",
       "      <th></th>\n",
       "      <th></th>\n",
       "      <th></th>\n",
       "      <th></th>\n",
       "      <th></th>\n",
       "      <th></th>\n",
       "    </tr>\n",
       "  </thead>\n",
       "  <tbody>\n",
       "    <tr>\n",
       "      <th>0</th>\n",
       "      <td>0.390133</td>\n",
       "      <td>0.223634</td>\n",
       "      <td>0.350399</td>\n",
       "      <td>0.553414</td>\n",
       "      <td>1.082215</td>\n",
       "      <td>1.026326</td>\n",
       "      <td>-0.026304</td>\n",
       "      <td>0.245155</td>\n",
       "      <td>-0.278573</td>\n",
       "      <td>0.363279</td>\n",
       "      <td>...</td>\n",
       "      <td>-0.258527</td>\n",
       "      <td>0.018024</td>\n",
       "      <td>0.221187</td>\n",
       "      <td>0.151393</td>\n",
       "      <td>0.465893</td>\n",
       "      <td>0.296939</td>\n",
       "      <td>0.262734</td>\n",
       "      <td>0.161673</td>\n",
       "      <td>-0.221435</td>\n",
       "      <td>0.073930</td>\n",
       "    </tr>\n",
       "    <tr>\n",
       "      <th>1</th>\n",
       "      <td>0.063709</td>\n",
       "      <td>0.042970</td>\n",
       "      <td>0.045235</td>\n",
       "      <td>0.056776</td>\n",
       "      <td>0.145158</td>\n",
       "      <td>0.241273</td>\n",
       "      <td>-0.003462</td>\n",
       "      <td>0.029868</td>\n",
       "      <td>-0.007784</td>\n",
       "      <td>-0.036490</td>\n",
       "      <td>...</td>\n",
       "      <td>0.001094</td>\n",
       "      <td>0.011096</td>\n",
       "      <td>0.039175</td>\n",
       "      <td>0.059650</td>\n",
       "      <td>0.076324</td>\n",
       "      <td>0.051956</td>\n",
       "      <td>0.017792</td>\n",
       "      <td>-0.007389</td>\n",
       "      <td>-0.009626</td>\n",
       "      <td>-0.010535</td>\n",
       "    </tr>\n",
       "    <tr>\n",
       "      <th>2</th>\n",
       "      <td>0.234387</td>\n",
       "      <td>0.155509</td>\n",
       "      <td>0.183633</td>\n",
       "      <td>0.232050</td>\n",
       "      <td>0.558107</td>\n",
       "      <td>0.864019</td>\n",
       "      <td>-0.011177</td>\n",
       "      <td>0.116036</td>\n",
       "      <td>-0.070272</td>\n",
       "      <td>-0.014906</td>\n",
       "      <td>...</td>\n",
       "      <td>-0.080871</td>\n",
       "      <td>0.024740</td>\n",
       "      <td>0.131348</td>\n",
       "      <td>0.172717</td>\n",
       "      <td>0.258872</td>\n",
       "      <td>0.178563</td>\n",
       "      <td>0.081725</td>\n",
       "      <td>0.022808</td>\n",
       "      <td>-0.071225</td>\n",
       "      <td>-0.005349</td>\n",
       "    </tr>\n",
       "    <tr>\n",
       "      <th>3</th>\n",
       "      <td>0.023762</td>\n",
       "      <td>0.012014</td>\n",
       "      <td>0.017928</td>\n",
       "      <td>0.041771</td>\n",
       "      <td>0.072239</td>\n",
       "      <td>0.057522</td>\n",
       "      <td>-0.005611</td>\n",
       "      <td>0.015934</td>\n",
       "      <td>-0.027334</td>\n",
       "      <td>0.040132</td>\n",
       "      <td>...</td>\n",
       "      <td>-0.016514</td>\n",
       "      <td>-0.001387</td>\n",
       "      <td>0.018943</td>\n",
       "      <td>0.008984</td>\n",
       "      <td>0.034147</td>\n",
       "      <td>0.020776</td>\n",
       "      <td>0.022054</td>\n",
       "      <td>0.014102</td>\n",
       "      <td>-0.014536</td>\n",
       "      <td>-0.001393</td>\n",
       "    </tr>\n",
       "    <tr>\n",
       "      <th>4</th>\n",
       "      <td>0.067793</td>\n",
       "      <td>0.026514</td>\n",
       "      <td>0.057324</td>\n",
       "      <td>0.075272</td>\n",
       "      <td>0.075080</td>\n",
       "      <td>0.181430</td>\n",
       "      <td>-0.010098</td>\n",
       "      <td>0.098876</td>\n",
       "      <td>-0.047431</td>\n",
       "      <td>0.181914</td>\n",
       "      <td>...</td>\n",
       "      <td>-0.080207</td>\n",
       "      <td>0.017562</td>\n",
       "      <td>0.015412</td>\n",
       "      <td>0.000892</td>\n",
       "      <td>0.075538</td>\n",
       "      <td>0.080602</td>\n",
       "      <td>0.088491</td>\n",
       "      <td>0.123945</td>\n",
       "      <td>-0.064057</td>\n",
       "      <td>0.009298</td>\n",
       "    </tr>\n",
       "    <tr>\n",
       "      <th>...</th>\n",
       "      <td>...</td>\n",
       "      <td>...</td>\n",
       "      <td>...</td>\n",
       "      <td>...</td>\n",
       "      <td>...</td>\n",
       "      <td>...</td>\n",
       "      <td>...</td>\n",
       "      <td>...</td>\n",
       "      <td>...</td>\n",
       "      <td>...</td>\n",
       "      <td>...</td>\n",
       "      <td>...</td>\n",
       "      <td>...</td>\n",
       "      <td>...</td>\n",
       "      <td>...</td>\n",
       "      <td>...</td>\n",
       "      <td>...</td>\n",
       "      <td>...</td>\n",
       "      <td>...</td>\n",
       "      <td>...</td>\n",
       "      <td>...</td>\n",
       "    </tr>\n",
       "    <tr>\n",
       "      <th>250</th>\n",
       "      <td>-0.210265</td>\n",
       "      <td>-0.121665</td>\n",
       "      <td>-0.102966</td>\n",
       "      <td>-0.083616</td>\n",
       "      <td>-0.435236</td>\n",
       "      <td>-0.714579</td>\n",
       "      <td>-0.035168</td>\n",
       "      <td>-0.106599</td>\n",
       "      <td>-0.028784</td>\n",
       "      <td>0.068409</td>\n",
       "      <td>...</td>\n",
       "      <td>-0.010179</td>\n",
       "      <td>-0.077949</td>\n",
       "      <td>-0.098151</td>\n",
       "      <td>-0.184331</td>\n",
       "      <td>-0.206026</td>\n",
       "      <td>-0.142519</td>\n",
       "      <td>-0.042762</td>\n",
       "      <td>0.006355</td>\n",
       "      <td>0.014855</td>\n",
       "      <td>-0.009723</td>\n",
       "    </tr>\n",
       "    <tr>\n",
       "      <th>251</th>\n",
       "      <td>0.089308</td>\n",
       "      <td>0.062887</td>\n",
       "      <td>0.104530</td>\n",
       "      <td>0.167607</td>\n",
       "      <td>0.327301</td>\n",
       "      <td>0.235901</td>\n",
       "      <td>-0.003540</td>\n",
       "      <td>0.038307</td>\n",
       "      <td>-0.096987</td>\n",
       "      <td>0.140004</td>\n",
       "      <td>...</td>\n",
       "      <td>-0.112091</td>\n",
       "      <td>-0.018052</td>\n",
       "      <td>0.062527</td>\n",
       "      <td>0.014616</td>\n",
       "      <td>0.093823</td>\n",
       "      <td>0.051047</td>\n",
       "      <td>0.050799</td>\n",
       "      <td>0.035386</td>\n",
       "      <td>-0.056609</td>\n",
       "      <td>0.036316</td>\n",
       "    </tr>\n",
       "    <tr>\n",
       "      <th>252</th>\n",
       "      <td>-0.077926</td>\n",
       "      <td>-0.037589</td>\n",
       "      <td>-0.025215</td>\n",
       "      <td>-0.033343</td>\n",
       "      <td>-0.121284</td>\n",
       "      <td>-0.330512</td>\n",
       "      <td>-0.012004</td>\n",
       "      <td>-0.029334</td>\n",
       "      <td>0.005664</td>\n",
       "      <td>-0.000199</td>\n",
       "      <td>...</td>\n",
       "      <td>0.033136</td>\n",
       "      <td>-0.022008</td>\n",
       "      <td>-0.022308</td>\n",
       "      <td>-0.055505</td>\n",
       "      <td>-0.048807</td>\n",
       "      <td>-0.037224</td>\n",
       "      <td>-0.008905</td>\n",
       "      <td>-0.015518</td>\n",
       "      <td>0.000818</td>\n",
       "      <td>0.002451</td>\n",
       "    </tr>\n",
       "    <tr>\n",
       "      <th>253</th>\n",
       "      <td>-0.526613</td>\n",
       "      <td>-0.252300</td>\n",
       "      <td>-0.292519</td>\n",
       "      <td>-0.816161</td>\n",
       "      <td>-1.720812</td>\n",
       "      <td>-1.869345</td>\n",
       "      <td>0.100655</td>\n",
       "      <td>0.112197</td>\n",
       "      <td>0.390096</td>\n",
       "      <td>0.629087</td>\n",
       "      <td>...</td>\n",
       "      <td>-0.011202</td>\n",
       "      <td>0.041491</td>\n",
       "      <td>-0.347274</td>\n",
       "      <td>-0.537738</td>\n",
       "      <td>-0.631924</td>\n",
       "      <td>-0.188116</td>\n",
       "      <td>-0.023398</td>\n",
       "      <td>0.444242</td>\n",
       "      <td>-0.169659</td>\n",
       "      <td>0.050112</td>\n",
       "    </tr>\n",
       "    <tr>\n",
       "      <th>254</th>\n",
       "      <td>0.116120</td>\n",
       "      <td>0.066727</td>\n",
       "      <td>0.037248</td>\n",
       "      <td>0.060364</td>\n",
       "      <td>0.347302</td>\n",
       "      <td>0.326294</td>\n",
       "      <td>0.028560</td>\n",
       "      <td>0.005628</td>\n",
       "      <td>0.035602</td>\n",
       "      <td>-0.188126</td>\n",
       "      <td>...</td>\n",
       "      <td>0.112557</td>\n",
       "      <td>0.051825</td>\n",
       "      <td>0.086572</td>\n",
       "      <td>0.156083</td>\n",
       "      <td>0.140200</td>\n",
       "      <td>0.056906</td>\n",
       "      <td>-0.017618</td>\n",
       "      <td>-0.124157</td>\n",
       "      <td>0.064619</td>\n",
       "      <td>-0.004536</td>\n",
       "    </tr>\n",
       "  </tbody>\n",
       "</table>\n",
       "<p>255 rows × 18211 columns</p>\n",
       "</div>"
      ],
      "text/plain": [
       "         A1BG  A1BG-AS1       A2M   A2M-AS1     A2MP1    A4GALT      AAAS  \\\n",
       "id                                                                          \n",
       "0    0.390133  0.223634  0.350399  0.553414  1.082215  1.026326 -0.026304   \n",
       "1    0.063709  0.042970  0.045235  0.056776  0.145158  0.241273 -0.003462   \n",
       "2    0.234387  0.155509  0.183633  0.232050  0.558107  0.864019 -0.011177   \n",
       "3    0.023762  0.012014  0.017928  0.041771  0.072239  0.057522 -0.005611   \n",
       "4    0.067793  0.026514  0.057324  0.075272  0.075080  0.181430 -0.010098   \n",
       "..        ...       ...       ...       ...       ...       ...       ...   \n",
       "250 -0.210265 -0.121665 -0.102966 -0.083616 -0.435236 -0.714579 -0.035168   \n",
       "251  0.089308  0.062887  0.104530  0.167607  0.327301  0.235901 -0.003540   \n",
       "252 -0.077926 -0.037589 -0.025215 -0.033343 -0.121284 -0.330512 -0.012004   \n",
       "253 -0.526613 -0.252300 -0.292519 -0.816161 -1.720812 -1.869345  0.100655   \n",
       "254  0.116120  0.066727  0.037248  0.060364  0.347302  0.326294  0.028560   \n",
       "\n",
       "         AACS     AAGAB      AAK1  ...      ZUP1      ZW10    ZWILCH  \\\n",
       "id                                 ...                                 \n",
       "0    0.245155 -0.278573  0.363279  ... -0.258527  0.018024  0.221187   \n",
       "1    0.029868 -0.007784 -0.036490  ...  0.001094  0.011096  0.039175   \n",
       "2    0.116036 -0.070272 -0.014906  ... -0.080871  0.024740  0.131348   \n",
       "3    0.015934 -0.027334  0.040132  ... -0.016514 -0.001387  0.018943   \n",
       "4    0.098876 -0.047431  0.181914  ... -0.080207  0.017562  0.015412   \n",
       "..        ...       ...       ...  ...       ...       ...       ...   \n",
       "250 -0.106599 -0.028784  0.068409  ... -0.010179 -0.077949 -0.098151   \n",
       "251  0.038307 -0.096987  0.140004  ... -0.112091 -0.018052  0.062527   \n",
       "252 -0.029334  0.005664 -0.000199  ...  0.033136 -0.022008 -0.022308   \n",
       "253  0.112197  0.390096  0.629087  ... -0.011202  0.041491 -0.347274   \n",
       "254  0.005628  0.035602 -0.188126  ...  0.112557  0.051825  0.086572   \n",
       "\n",
       "        ZWINT      ZXDA      ZXDB      ZXDC    ZYG11B       ZYX     ZZEF1  \n",
       "id                                                                         \n",
       "0    0.151393  0.465893  0.296939  0.262734  0.161673 -0.221435  0.073930  \n",
       "1    0.059650  0.076324  0.051956  0.017792 -0.007389 -0.009626 -0.010535  \n",
       "2    0.172717  0.258872  0.178563  0.081725  0.022808 -0.071225 -0.005349  \n",
       "3    0.008984  0.034147  0.020776  0.022054  0.014102 -0.014536 -0.001393  \n",
       "4    0.000892  0.075538  0.080602  0.088491  0.123945 -0.064057  0.009298  \n",
       "..        ...       ...       ...       ...       ...       ...       ...  \n",
       "250 -0.184331 -0.206026 -0.142519 -0.042762  0.006355  0.014855 -0.009723  \n",
       "251  0.014616  0.093823  0.051047  0.050799  0.035386 -0.056609  0.036316  \n",
       "252 -0.055505 -0.048807 -0.037224 -0.008905 -0.015518  0.000818  0.002451  \n",
       "253 -0.537738 -0.631924 -0.188116 -0.023398  0.444242 -0.169659  0.050112  \n",
       "254  0.156083  0.140200  0.056906 -0.017618 -0.124157  0.064619 -0.004536  \n",
       "\n",
       "[255 rows x 18211 columns]"
      ]
     },
     "metadata": {},
     "output_type": "display_data"
    }
   ],
   "source": [
    "# Quick sanity check to make sure our submission is ordered correctly.\n",
    "assert (test_joined_df[\"label\"][features] == id_map[features]).all(axis=None)\n",
    "\n",
    "# Full pipeline. Nice\n",
    "test_lm_pred = model_predict(lm_mp, test_joined_df[\"label\"][features])\n",
    "y_pred = model_predict(trm_mp, test_lm_pred)\n",
    "\n",
    "y_pred.shape\n",
    "submission = pd.DataFrame(y_pred, columns=transcriptome_cols, index=id_map.index)\n",
    "display(submission)\n",
    "submission.to_csv('submissions/pipeline.csv')"
   ]
  }
 ],
 "metadata": {
  "kernelspec": {
   "display_name": "Python 3 (ipykernel)",
   "language": "python",
   "name": "python3"
  },
  "language_info": {
   "codemirror_mode": {
    "name": "ipython",
    "version": 3
   },
   "file_extension": ".py",
   "mimetype": "text/x-python",
   "name": "python",
   "nbconvert_exporter": "python",
   "pygments_lexer": "ipython3",
   "version": "3.11.5"
  }
 },
 "nbformat": 4,
 "nbformat_minor": 5
}
