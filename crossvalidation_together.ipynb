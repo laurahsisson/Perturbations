{
 "cells": [
  {
   "cell_type": "markdown",
   "id": "cd6cc465-5a2c-4dfb-995d-f99cfe6c8fce",
   "metadata": {},
   "source": [
    "# Baseline 3\n",
    "#### Training landmark and transcriptome models together"
   ]
  },
  {
   "cell_type": "code",
   "execution_count": 76,
   "id": "f5565e71-71e2-405e-a5d8-69ce07d491fe",
   "metadata": {},
   "outputs": [],
   "source": [
    "import pandas as pd\n",
    "import numpy as np\n",
    "import matplotlib.pyplot as plt\n",
    "import matplotlib.patches as mpatches\n",
    "import seaborn as sns\n",
    "import torch\n",
    "\n",
    "from sklearn.preprocessing import OneHotEncoder, OrdinalEncoder, FunctionTransformer\n",
    "from sklearn.decomposition import TruncatedSVD\n",
    "from sklearn.compose import ColumnTransformer\n",
    "from sklearn.pipeline import make_pipeline\n",
    "from sklearn.linear_model import Ridge\n",
    "from sklearn.model_selection import StratifiedKFold"
   ]
  },
  {
   "cell_type": "markdown",
   "id": "bac5ffd7-aa5b-42f6-ab65-62885d43b9a4",
   "metadata": {},
   "source": [
    "## Prepare data:\n",
    "#### Read joined data (pre + post treatment)"
   ]
  },
  {
   "cell_type": "code",
   "execution_count": 26,
   "id": "8fd73c75-40ee-4ec2-b45d-07610b1f7253",
   "metadata": {},
   "outputs": [
    {
     "name": "stdout",
     "output_type": "stream",
     "text": [
      "lincs_joined_df = (107404, 1842)\n",
      "kaggle_joined_df = (602, 1841)\n",
      "test_joined_df = (255, 921)\n"
     ]
    }
   ],
   "source": [
    "lincs_joined_df = pd.read_parquet(\"data/lincs_pretreatment.parquet\")\n",
    "kaggle_joined_df = pd.read_parquet(\"data/kaggle_pretreatment.parquet\")\n",
    "test_joined_df = pd.read_parquet(\"data/test_pretreatment.parquet\")\n",
    "print(f\"lincs_joined_df = {lincs_joined_df.shape}\\nkaggle_joined_df = {kaggle_joined_df.shape}\\ntest_joined_df = {test_joined_df.shape}\")"
   ]
  },
  {
   "cell_type": "code",
   "execution_count": 135,
   "id": "070fd981-dc0d-464a-89dc-f689e46dfeb0",
   "metadata": {},
   "outputs": [
    {
     "name": "stdout",
     "output_type": "stream",
     "text": [
      "all_train_df = (108006, 1843)\n"
     ]
    }
   ],
   "source": [
    "all_train_df = pd.concat([kaggle_joined_df,lincs_joined_df])\n",
    "print(f\"all_train_df = {all_train_df.shape}\")"
   ]
  },
  {
   "cell_type": "markdown",
   "id": "c862c7af-655c-4195-b06b-3bfc5c310bb7",
   "metadata": {},
   "source": [
    "#### Kaggle provided data"
   ]
  },
  {
   "cell_type": "code",
   "execution_count": 8,
   "id": "f50e89dc-fbe2-42f9-8213-f95bfdda88af",
   "metadata": {},
   "outputs": [],
   "source": [
    "de_train = pd.read_parquet('data/de_train.parquet')\n",
    "id_map = pd.read_csv('data/id_map.csv',index_col='id')"
   ]
  },
  {
   "cell_type": "markdown",
   "id": "b2299b53-6269-49b6-b838-d8fefede0923",
   "metadata": {},
   "source": [
    "#### Define features of interest and sort data accordingly."
   ]
  },
  {
   "cell_type": "code",
   "execution_count": 25,
   "id": "f6ae48f5-3ea8-40e0-bdd6-9c138b56cb77",
   "metadata": {},
   "outputs": [
    {
     "name": "stdout",
     "output_type": "stream",
     "text": [
      "transcriptome_cols = (18211,)\n",
      "landmark_cols = (918,)\n"
     ]
    }
   ],
   "source": [
    "features = ['cell_type', 'sm_name']\n",
    "multiindex_features = [(\"label\",'cell_type'),(\"label\",'sm_name')]\n",
    "\n",
    "transcriptome_cols = de_train.columns[5:]\n",
    "landmark_cols = kaggle_joined_df[\"post_treatment\"].columns\n",
    "print(f\"transcriptome_cols = {transcriptome_cols.shape}\\nlandmark_cols = {landmark_cols.shape}\")"
   ]
  },
  {
   "cell_type": "code",
   "execution_count": 32,
   "id": "310e93d9-f08a-41cc-9bc6-74f84ad68f36",
   "metadata": {},
   "outputs": [
    {
     "data": {
      "text/plain": [
       "True"
      ]
     },
     "execution_count": 32,
     "metadata": {},
     "output_type": "execute_result"
    }
   ],
   "source": [
    "# We only need to sort these two dataframes because they represent the same underlying dataset.\n",
    "de_train = de_train.query(\"~control\").sort_values(features)\n",
    "kaggle_joined_df = kaggle_joined_df.sort_values(multiindex_features)\n",
    "# Sanity check that these dfs align.\n",
    "genes_align = (kaggle_joined_df[\"post_treatment\"] == de_train[landmark_cols]).all(axis=None)\n",
    "labels_align = (kaggle_joined_df[\"label\"][features] == de_train[features]).all(axis=None)\n",
    "genes_align and labels_align"
   ]
  },
  {
   "cell_type": "markdown",
   "id": "06b697df-66f0-4c44-b16f-d9f076982c2e",
   "metadata": {},
   "source": [
    "## Prepare for training\n",
    "#### Partition data"
   ]
  },
  {
   "cell_type": "code",
   "execution_count": 71,
   "id": "491cebb6-5a9d-4973-b9d9-f68570388d85",
   "metadata": {},
   "outputs": [
    {
     "data": {
      "text/html": [
       "<div>\n",
       "<style scoped>\n",
       "    .dataframe tbody tr th:only-of-type {\n",
       "        vertical-align: middle;\n",
       "    }\n",
       "\n",
       "    .dataframe tbody tr th {\n",
       "        vertical-align: top;\n",
       "    }\n",
       "\n",
       "    .dataframe thead th {\n",
       "        text-align: right;\n",
       "    }\n",
       "</style>\n",
       "<table border=\"1\" class=\"dataframe\">\n",
       "  <thead>\n",
       "    <tr style=\"text-align: right;\">\n",
       "      <th></th>\n",
       "      <th>mean_score</th>\n",
       "      <th>cv_class</th>\n",
       "    </tr>\n",
       "    <tr>\n",
       "      <th>sm_name</th>\n",
       "      <th></th>\n",
       "      <th></th>\n",
       "    </tr>\n",
       "  </thead>\n",
       "  <tbody>\n",
       "    <tr>\n",
       "      <th>Alvocidib</th>\n",
       "      <td>1.144652</td>\n",
       "      <td>4</td>\n",
       "    </tr>\n",
       "    <tr>\n",
       "      <th>CHIR-99021</th>\n",
       "      <td>0.145969</td>\n",
       "      <td>2</td>\n",
       "    </tr>\n",
       "    <tr>\n",
       "      <th>Crizotinib</th>\n",
       "      <td>-0.010615</td>\n",
       "      <td>0</td>\n",
       "    </tr>\n",
       "    <tr>\n",
       "      <th>Dactolisib</th>\n",
       "      <td>-0.077123</td>\n",
       "      <td>0</td>\n",
       "    </tr>\n",
       "    <tr>\n",
       "      <th>Foretinib</th>\n",
       "      <td>-0.007336</td>\n",
       "      <td>0</td>\n",
       "    </tr>\n",
       "    <tr>\n",
       "      <th>Idelalisib</th>\n",
       "      <td>0.013947</td>\n",
       "      <td>1</td>\n",
       "    </tr>\n",
       "    <tr>\n",
       "      <th>LDN 193189</th>\n",
       "      <td>0.070423</td>\n",
       "      <td>1</td>\n",
       "    </tr>\n",
       "    <tr>\n",
       "      <th>Linagliptin</th>\n",
       "      <td>0.033001</td>\n",
       "      <td>1</td>\n",
       "    </tr>\n",
       "    <tr>\n",
       "      <th>MLN 2238</th>\n",
       "      <td>2.045447</td>\n",
       "      <td>4</td>\n",
       "    </tr>\n",
       "    <tr>\n",
       "      <th>O-Demethylated Adapalene</th>\n",
       "      <td>-0.026293</td>\n",
       "      <td>0</td>\n",
       "    </tr>\n",
       "    <tr>\n",
       "      <th>Oprozomib (ONX 0912)</th>\n",
       "      <td>1.336945</td>\n",
       "      <td>4</td>\n",
       "    </tr>\n",
       "    <tr>\n",
       "      <th>Palbociclib</th>\n",
       "      <td>0.020710</td>\n",
       "      <td>1</td>\n",
       "    </tr>\n",
       "    <tr>\n",
       "      <th>Penfluridol</th>\n",
       "      <td>-0.002021</td>\n",
       "      <td>0</td>\n",
       "    </tr>\n",
       "    <tr>\n",
       "      <th>Porcn Inhibitor III</th>\n",
       "      <td>0.073097</td>\n",
       "      <td>1</td>\n",
       "    </tr>\n",
       "    <tr>\n",
       "      <th>R428</th>\n",
       "      <td>0.238306</td>\n",
       "      <td>2</td>\n",
       "    </tr>\n",
       "  </tbody>\n",
       "</table>\n",
       "</div>"
      ],
      "text/plain": [
       "                          mean_score  cv_class\n",
       "sm_name                                       \n",
       "Alvocidib                   1.144652         4\n",
       "CHIR-99021                  0.145969         2\n",
       "Crizotinib                 -0.010615         0\n",
       "Dactolisib                 -0.077123         0\n",
       "Foretinib                  -0.007336         0\n",
       "Idelalisib                  0.013947         1\n",
       "LDN 193189                  0.070423         1\n",
       "Linagliptin                 0.033001         1\n",
       "MLN 2238                    2.045447         4\n",
       "O-Demethylated Adapalene   -0.026293         0\n",
       "Oprozomib (ONX 0912)        1.336945         4\n",
       "Palbociclib                 0.020710         1\n",
       "Penfluridol                -0.002021         0\n",
       "Porcn Inhibitor III         0.073097         1\n",
       "R428                        0.238306         2"
      ]
     },
     "execution_count": 71,
     "metadata": {},
     "output_type": "execute_result"
    }
   ],
   "source": [
    "eval_cells_only_df = kaggle_joined_df[kaggle_joined_df[\"label\"][\"cell_type\"].isin([\"B cells\", \"Myeloid cells\"])].reset_index(drop=True)\n",
    "mean_score = pd.concat([eval_cells_only_df[\"label\"][\"sm_name\"],eval_cells_only_df[\"post_treatment\"]],axis=1).groupby(\"sm_name\").agg(\"mean\").mean(axis=1)\n",
    "classes = np.digitize(mean_score.values, bins=[0,0.1, 0.5, 1])\n",
    "cpds = mean_score.index.values\n",
    "\n",
    "# Don't need this df it just looks cool\n",
    "mean_score.to_frame(name=\"mean_score\").assign(cv_class=classes)"
   ]
  },
  {
   "cell_type": "markdown",
   "id": "1b60b91b-9aad-48e6-88dc-03197db09908",
   "metadata": {},
   "source": [
    "#### CV splits"
   ]
  },
  {
   "cell_type": "code",
   "execution_count": 72,
   "id": "e0aec333-fca6-4f6f-8e1e-6f8dd4172c9a",
   "metadata": {},
   "outputs": [
    {
     "name": "stderr",
     "output_type": "stream",
     "text": [
      "/Users/laurasisson/miniconda3/envs/rdenv/lib/python3.11/site-packages/sklearn/model_selection/_split.py:725: UserWarning: The least populated class in y has only 2 members, which is less than n_splits=3.\n",
      "  warnings.warn(\n"
     ]
    },
    {
     "data": {
      "text/plain": [
       "{0: array(['Alvocidib', 'Crizotinib', 'Foretinib', 'LDN 193189', 'R428'],\n",
       "       dtype=object),\n",
       " 1: array(['CHIR-99021', 'MLN 2238', 'Palbociclib', 'Penfluridol',\n",
       "        'Porcn Inhibitor III'], dtype=object),\n",
       " 2: array(['Dactolisib', 'Idelalisib', 'Linagliptin',\n",
       "        'O-Demethylated Adapalene', 'Oprozomib (ONX 0912)'], dtype=object)}"
      ]
     },
     "execution_count": 72,
     "metadata": {},
     "output_type": "execute_result"
    }
   ],
   "source": [
    "fold_arr = np.full(len(cpds), -1)\n",
    "n_splits = 3\n",
    "skf = StratifiedKFold(n_splits=n_splits, random_state=42, shuffle=True)\n",
    "for fold, (_, val_ind) in enumerate(skf.split(classes,classes)):\n",
    "    fold_arr[val_ind] = fold\n",
    "fold_map = {c: f for c, f in zip(cpds, fold_arr)}\n",
    "fold_to_cpds = {fold: cpds[fold_arr==fold] for fold in range(n_splits)}\n",
    "\n",
    "fold_to_cpds"
   ]
  },
  {
   "cell_type": "code",
   "execution_count": 105,
   "id": "7c059464-997c-4da4-a813-d3edc18f0fe9",
   "metadata": {},
   "outputs": [
    {
     "data": {
      "text/plain": [
       "(array([[0, 1],\n",
       "        [2, 3]]),\n",
       " array([[0, 1],\n",
       "        [2, 3]]))"
      ]
     },
     "execution_count": 105,
     "metadata": {},
     "output_type": "execute_result"
    }
   ],
   "source": [
    "identity_transformer = FunctionTransformer()\n",
    "X = np.array([[0, 1], [2, 3]])\n",
    "X\n",
    "identity_transformer.inverse_transform(X), identity_transformer.transform(X)"
   ]
  },
  {
   "cell_type": "markdown",
   "id": "87c0fb5b-c59b-4d30-a3f2-0c8e277eb040",
   "metadata": {},
   "source": [
    "#### Model helper functions"
   ]
  },
  {
   "cell_type": "code",
   "execution_count": 165,
   "id": "f376208a-bfee-4bb7-9b51-0fd6ad31370b",
   "metadata": {},
   "outputs": [],
   "source": [
    "def make_transformer(n_components):\n",
    "    if n_components == 0:\n",
    "        # Identity transformer\n",
    "        return FunctionTransformer()\n",
    "    else:\n",
    "        return TruncatedSVD(n_components=n_components, random_state=1)\n",
    "\n",
    "# Unfortunately, sklearn doesn't allow us to use a Ridge model as an intermediate step\n",
    "# because intermediate steps are supposed to be preprocessors\n",
    "def make_landmark_model(params):\n",
    "    params = params[\"lmk\"]\n",
    "    svd = make_transformer(params[\"n_comp\"])\n",
    "    model = make_pipeline(ColumnTransformer([('ohe', OneHotEncoder(), list(params[\"encoded\"]))]),\n",
    "                          Ridge(alpha=params[\"alpha\"], fit_intercept=False))\n",
    "    return svd, model\n",
    "\n",
    "def make_transcriptome_model(params):\n",
    "    params = params[\"trm\"]\n",
    "    svd = make_transformer(params[\"n_comp\"])\n",
    "    model = Ridge(alpha=params[\"alpha\"], fit_intercept=False)\n",
    "    return svd, model\n",
    "\n",
    "# This changes the models inplace. Returns as a courtesy.\n",
    "def model_train(mp,x,y):\n",
    "    svd, model = mp\n",
    "    z = svd.fit_transform(y)\n",
    "    model.fit(x, z)\n",
    "    return svd, model\n",
    "\n",
    "def model_predict(mp,x):\n",
    "    svd, model = mp\n",
    "    d = model.predict(x)\n",
    "    return svd.inverse_transform(d)\n",
    "    "
   ]
  },
  {
   "cell_type": "markdown",
   "id": "485211ab-206e-465f-8404-a6e68582cb9a",
   "metadata": {},
   "source": [
    "#### Draw some example models"
   ]
  },
  {
   "cell_type": "code",
   "execution_count": 161,
   "id": "cb1f8e5d-d199-41d9-bd81-e0cbc8b91a38",
   "metadata": {},
   "outputs": [
    {
     "name": "stdout",
     "output_type": "stream",
     "text": [
      "Landmark\n"
     ]
    },
    {
     "data": {
      "text/html": [
       "<style>#sk-container-id-20 {color: black;}#sk-container-id-20 pre{padding: 0;}#sk-container-id-20 div.sk-toggleable {background-color: white;}#sk-container-id-20 label.sk-toggleable__label {cursor: pointer;display: block;width: 100%;margin-bottom: 0;padding: 0.3em;box-sizing: border-box;text-align: center;}#sk-container-id-20 label.sk-toggleable__label-arrow:before {content: \"▸\";float: left;margin-right: 0.25em;color: #696969;}#sk-container-id-20 label.sk-toggleable__label-arrow:hover:before {color: black;}#sk-container-id-20 div.sk-estimator:hover label.sk-toggleable__label-arrow:before {color: black;}#sk-container-id-20 div.sk-toggleable__content {max-height: 0;max-width: 0;overflow: hidden;text-align: left;background-color: #f0f8ff;}#sk-container-id-20 div.sk-toggleable__content pre {margin: 0.2em;color: black;border-radius: 0.25em;background-color: #f0f8ff;}#sk-container-id-20 input.sk-toggleable__control:checked~div.sk-toggleable__content {max-height: 200px;max-width: 100%;overflow: auto;}#sk-container-id-20 input.sk-toggleable__control:checked~label.sk-toggleable__label-arrow:before {content: \"▾\";}#sk-container-id-20 div.sk-estimator input.sk-toggleable__control:checked~label.sk-toggleable__label {background-color: #d4ebff;}#sk-container-id-20 div.sk-label input.sk-toggleable__control:checked~label.sk-toggleable__label {background-color: #d4ebff;}#sk-container-id-20 input.sk-hidden--visually {border: 0;clip: rect(1px 1px 1px 1px);clip: rect(1px, 1px, 1px, 1px);height: 1px;margin: -1px;overflow: hidden;padding: 0;position: absolute;width: 1px;}#sk-container-id-20 div.sk-estimator {font-family: monospace;background-color: #f0f8ff;border: 1px dotted black;border-radius: 0.25em;box-sizing: border-box;margin-bottom: 0.5em;}#sk-container-id-20 div.sk-estimator:hover {background-color: #d4ebff;}#sk-container-id-20 div.sk-parallel-item::after {content: \"\";width: 100%;border-bottom: 1px solid gray;flex-grow: 1;}#sk-container-id-20 div.sk-label:hover label.sk-toggleable__label {background-color: #d4ebff;}#sk-container-id-20 div.sk-serial::before {content: \"\";position: absolute;border-left: 1px solid gray;box-sizing: border-box;top: 0;bottom: 0;left: 50%;z-index: 0;}#sk-container-id-20 div.sk-serial {display: flex;flex-direction: column;align-items: center;background-color: white;padding-right: 0.2em;padding-left: 0.2em;position: relative;}#sk-container-id-20 div.sk-item {position: relative;z-index: 1;}#sk-container-id-20 div.sk-parallel {display: flex;align-items: stretch;justify-content: center;background-color: white;position: relative;}#sk-container-id-20 div.sk-item::before, #sk-container-id-20 div.sk-parallel-item::before {content: \"\";position: absolute;border-left: 1px solid gray;box-sizing: border-box;top: 0;bottom: 0;left: 50%;z-index: -1;}#sk-container-id-20 div.sk-parallel-item {display: flex;flex-direction: column;z-index: 1;position: relative;background-color: white;}#sk-container-id-20 div.sk-parallel-item:first-child::after {align-self: flex-end;width: 50%;}#sk-container-id-20 div.sk-parallel-item:last-child::after {align-self: flex-start;width: 50%;}#sk-container-id-20 div.sk-parallel-item:only-child::after {width: 0;}#sk-container-id-20 div.sk-dashed-wrapped {border: 1px dashed gray;margin: 0 0.4em 0.5em 0.4em;box-sizing: border-box;padding-bottom: 0.4em;background-color: white;}#sk-container-id-20 div.sk-label label {font-family: monospace;font-weight: bold;display: inline-block;line-height: 1.2em;}#sk-container-id-20 div.sk-label-container {text-align: center;}#sk-container-id-20 div.sk-container {/* jupyter's `normalize.less` sets `[hidden] { display: none; }` but bootstrap.min.css set `[hidden] { display: none !important; }` so we also need the `!important` here to be able to override the default hidden behavior on the sphinx rendered scikit-learn.org. See: https://github.com/scikit-learn/scikit-learn/issues/21755 */display: inline-block !important;position: relative;}#sk-container-id-20 div.sk-text-repr-fallback {display: none;}</style><div id=\"sk-container-id-20\" class=\"sk-top-container\"><div class=\"sk-text-repr-fallback\"><pre>Pipeline(steps=[(&#x27;columntransformer&#x27;,\n",
       "                 ColumnTransformer(transformers=[(&#x27;ohe&#x27;, OneHotEncoder(),\n",
       "                                                  [&#x27;sm_name&#x27;])])),\n",
       "                (&#x27;truncatedsvd&#x27;,\n",
       "                 TruncatedSVD(n_components=150, random_state=1)),\n",
       "                (&#x27;ridge&#x27;, Ridge(alpha=0.1, fit_intercept=False))])</pre><b>In a Jupyter environment, please rerun this cell to show the HTML representation or trust the notebook. <br />On GitHub, the HTML representation is unable to render, please try loading this page with nbviewer.org.</b></div><div class=\"sk-container\" hidden><div class=\"sk-item sk-dashed-wrapped\"><div class=\"sk-label-container\"><div class=\"sk-label sk-toggleable\"><input class=\"sk-toggleable__control sk-hidden--visually\" id=\"sk-estimator-id-86\" type=\"checkbox\" ><label for=\"sk-estimator-id-86\" class=\"sk-toggleable__label sk-toggleable__label-arrow\">Pipeline</label><div class=\"sk-toggleable__content\"><pre>Pipeline(steps=[(&#x27;columntransformer&#x27;,\n",
       "                 ColumnTransformer(transformers=[(&#x27;ohe&#x27;, OneHotEncoder(),\n",
       "                                                  [&#x27;sm_name&#x27;])])),\n",
       "                (&#x27;truncatedsvd&#x27;,\n",
       "                 TruncatedSVD(n_components=150, random_state=1)),\n",
       "                (&#x27;ridge&#x27;, Ridge(alpha=0.1, fit_intercept=False))])</pre></div></div></div><div class=\"sk-serial\"><div class=\"sk-item sk-dashed-wrapped\"><div class=\"sk-label-container\"><div class=\"sk-label sk-toggleable\"><input class=\"sk-toggleable__control sk-hidden--visually\" id=\"sk-estimator-id-87\" type=\"checkbox\" ><label for=\"sk-estimator-id-87\" class=\"sk-toggleable__label sk-toggleable__label-arrow\">columntransformer: ColumnTransformer</label><div class=\"sk-toggleable__content\"><pre>ColumnTransformer(transformers=[(&#x27;ohe&#x27;, OneHotEncoder(), [&#x27;sm_name&#x27;])])</pre></div></div></div><div class=\"sk-parallel\"><div class=\"sk-parallel-item\"><div class=\"sk-item\"><div class=\"sk-label-container\"><div class=\"sk-label sk-toggleable\"><input class=\"sk-toggleable__control sk-hidden--visually\" id=\"sk-estimator-id-88\" type=\"checkbox\" ><label for=\"sk-estimator-id-88\" class=\"sk-toggleable__label sk-toggleable__label-arrow\">ohe</label><div class=\"sk-toggleable__content\"><pre>[&#x27;sm_name&#x27;]</pre></div></div></div><div class=\"sk-serial\"><div class=\"sk-item\"><div class=\"sk-estimator sk-toggleable\"><input class=\"sk-toggleable__control sk-hidden--visually\" id=\"sk-estimator-id-89\" type=\"checkbox\" ><label for=\"sk-estimator-id-89\" class=\"sk-toggleable__label sk-toggleable__label-arrow\">OneHotEncoder</label><div class=\"sk-toggleable__content\"><pre>OneHotEncoder()</pre></div></div></div></div></div></div></div></div><div class=\"sk-item\"><div class=\"sk-estimator sk-toggleable\"><input class=\"sk-toggleable__control sk-hidden--visually\" id=\"sk-estimator-id-90\" type=\"checkbox\" ><label for=\"sk-estimator-id-90\" class=\"sk-toggleable__label sk-toggleable__label-arrow\">TruncatedSVD</label><div class=\"sk-toggleable__content\"><pre>TruncatedSVD(n_components=150, random_state=1)</pre></div></div></div><div class=\"sk-item\"><div class=\"sk-estimator sk-toggleable\"><input class=\"sk-toggleable__control sk-hidden--visually\" id=\"sk-estimator-id-91\" type=\"checkbox\" ><label for=\"sk-estimator-id-91\" class=\"sk-toggleable__label sk-toggleable__label-arrow\">Ridge</label><div class=\"sk-toggleable__content\"><pre>Ridge(alpha=0.1, fit_intercept=False)</pre></div></div></div></div></div></div></div>"
      ],
      "text/plain": [
       "Pipeline(steps=[('columntransformer',\n",
       "                 ColumnTransformer(transformers=[('ohe', OneHotEncoder(),\n",
       "                                                  ['sm_name'])])),\n",
       "                ('truncatedsvd',\n",
       "                 TruncatedSVD(n_components=150, random_state=1)),\n",
       "                ('ridge', Ridge(alpha=0.1, fit_intercept=False))])"
      ]
     },
     "metadata": {},
     "output_type": "display_data"
    },
    {
     "name": "stdout",
     "output_type": "stream",
     "text": [
      "Transcriptome\n"
     ]
    },
    {
     "data": {
      "text/html": [
       "<style>#sk-container-id-21 {color: black;}#sk-container-id-21 pre{padding: 0;}#sk-container-id-21 div.sk-toggleable {background-color: white;}#sk-container-id-21 label.sk-toggleable__label {cursor: pointer;display: block;width: 100%;margin-bottom: 0;padding: 0.3em;box-sizing: border-box;text-align: center;}#sk-container-id-21 label.sk-toggleable__label-arrow:before {content: \"▸\";float: left;margin-right: 0.25em;color: #696969;}#sk-container-id-21 label.sk-toggleable__label-arrow:hover:before {color: black;}#sk-container-id-21 div.sk-estimator:hover label.sk-toggleable__label-arrow:before {color: black;}#sk-container-id-21 div.sk-toggleable__content {max-height: 0;max-width: 0;overflow: hidden;text-align: left;background-color: #f0f8ff;}#sk-container-id-21 div.sk-toggleable__content pre {margin: 0.2em;color: black;border-radius: 0.25em;background-color: #f0f8ff;}#sk-container-id-21 input.sk-toggleable__control:checked~div.sk-toggleable__content {max-height: 200px;max-width: 100%;overflow: auto;}#sk-container-id-21 input.sk-toggleable__control:checked~label.sk-toggleable__label-arrow:before {content: \"▾\";}#sk-container-id-21 div.sk-estimator input.sk-toggleable__control:checked~label.sk-toggleable__label {background-color: #d4ebff;}#sk-container-id-21 div.sk-label input.sk-toggleable__control:checked~label.sk-toggleable__label {background-color: #d4ebff;}#sk-container-id-21 input.sk-hidden--visually {border: 0;clip: rect(1px 1px 1px 1px);clip: rect(1px, 1px, 1px, 1px);height: 1px;margin: -1px;overflow: hidden;padding: 0;position: absolute;width: 1px;}#sk-container-id-21 div.sk-estimator {font-family: monospace;background-color: #f0f8ff;border: 1px dotted black;border-radius: 0.25em;box-sizing: border-box;margin-bottom: 0.5em;}#sk-container-id-21 div.sk-estimator:hover {background-color: #d4ebff;}#sk-container-id-21 div.sk-parallel-item::after {content: \"\";width: 100%;border-bottom: 1px solid gray;flex-grow: 1;}#sk-container-id-21 div.sk-label:hover label.sk-toggleable__label {background-color: #d4ebff;}#sk-container-id-21 div.sk-serial::before {content: \"\";position: absolute;border-left: 1px solid gray;box-sizing: border-box;top: 0;bottom: 0;left: 50%;z-index: 0;}#sk-container-id-21 div.sk-serial {display: flex;flex-direction: column;align-items: center;background-color: white;padding-right: 0.2em;padding-left: 0.2em;position: relative;}#sk-container-id-21 div.sk-item {position: relative;z-index: 1;}#sk-container-id-21 div.sk-parallel {display: flex;align-items: stretch;justify-content: center;background-color: white;position: relative;}#sk-container-id-21 div.sk-item::before, #sk-container-id-21 div.sk-parallel-item::before {content: \"\";position: absolute;border-left: 1px solid gray;box-sizing: border-box;top: 0;bottom: 0;left: 50%;z-index: -1;}#sk-container-id-21 div.sk-parallel-item {display: flex;flex-direction: column;z-index: 1;position: relative;background-color: white;}#sk-container-id-21 div.sk-parallel-item:first-child::after {align-self: flex-end;width: 50%;}#sk-container-id-21 div.sk-parallel-item:last-child::after {align-self: flex-start;width: 50%;}#sk-container-id-21 div.sk-parallel-item:only-child::after {width: 0;}#sk-container-id-21 div.sk-dashed-wrapped {border: 1px dashed gray;margin: 0 0.4em 0.5em 0.4em;box-sizing: border-box;padding-bottom: 0.4em;background-color: white;}#sk-container-id-21 div.sk-label label {font-family: monospace;font-weight: bold;display: inline-block;line-height: 1.2em;}#sk-container-id-21 div.sk-label-container {text-align: center;}#sk-container-id-21 div.sk-container {/* jupyter's `normalize.less` sets `[hidden] { display: none; }` but bootstrap.min.css set `[hidden] { display: none !important; }` so we also need the `!important` here to be able to override the default hidden behavior on the sphinx rendered scikit-learn.org. See: https://github.com/scikit-learn/scikit-learn/issues/21755 */display: inline-block !important;position: relative;}#sk-container-id-21 div.sk-text-repr-fallback {display: none;}</style><div id=\"sk-container-id-21\" class=\"sk-top-container\"><div class=\"sk-text-repr-fallback\"><pre>Pipeline(steps=[(&#x27;ridge&#x27;, Ridge(alpha=0.1, fit_intercept=False)),\n",
       "                (&#x27;truncatedsvd&#x27;,\n",
       "                 TruncatedSVD(n_components=150, random_state=1))])</pre><b>In a Jupyter environment, please rerun this cell to show the HTML representation or trust the notebook. <br />On GitHub, the HTML representation is unable to render, please try loading this page with nbviewer.org.</b></div><div class=\"sk-container\" hidden><div class=\"sk-item sk-dashed-wrapped\"><div class=\"sk-label-container\"><div class=\"sk-label sk-toggleable\"><input class=\"sk-toggleable__control sk-hidden--visually\" id=\"sk-estimator-id-92\" type=\"checkbox\" ><label for=\"sk-estimator-id-92\" class=\"sk-toggleable__label sk-toggleable__label-arrow\">Pipeline</label><div class=\"sk-toggleable__content\"><pre>Pipeline(steps=[(&#x27;ridge&#x27;, Ridge(alpha=0.1, fit_intercept=False)),\n",
       "                (&#x27;truncatedsvd&#x27;,\n",
       "                 TruncatedSVD(n_components=150, random_state=1))])</pre></div></div></div><div class=\"sk-serial\"><div class=\"sk-item\"><div class=\"sk-estimator sk-toggleable\"><input class=\"sk-toggleable__control sk-hidden--visually\" id=\"sk-estimator-id-93\" type=\"checkbox\" ><label for=\"sk-estimator-id-93\" class=\"sk-toggleable__label sk-toggleable__label-arrow\">Ridge</label><div class=\"sk-toggleable__content\"><pre>Ridge(alpha=0.1, fit_intercept=False)</pre></div></div></div><div class=\"sk-item\"><div class=\"sk-estimator sk-toggleable\"><input class=\"sk-toggleable__control sk-hidden--visually\" id=\"sk-estimator-id-94\" type=\"checkbox\" ><label for=\"sk-estimator-id-94\" class=\"sk-toggleable__label sk-toggleable__label-arrow\">TruncatedSVD</label><div class=\"sk-toggleable__content\"><pre>TruncatedSVD(n_components=150, random_state=1)</pre></div></div></div></div></div></div></div>"
      ],
      "text/plain": [
       "Pipeline(steps=[('ridge', Ridge(alpha=0.1, fit_intercept=False)),\n",
       "                ('truncatedsvd',\n",
       "                 TruncatedSVD(n_components=150, random_state=1))])"
      ]
     },
     "metadata": {},
     "output_type": "display_data"
    }
   ],
   "source": [
    "example_params = {\"lmk\":{\"n_comp\":150,\"alpha\":.1,\"encoded\":(\"sm_name\",)},\"trm\":{\"n_comp\":150,\"alpha\":.1}}\n",
    "print(\"Landmark\")\n",
    "display(make_landmark_model(params))\n",
    "print(\"Transcriptome\")\n",
    "display(make_transcriptome_model(params))"
   ]
  },
  {
   "cell_type": "markdown",
   "id": "1cc54942-77f8-41b3-922e-3c732dfd7bbc",
   "metadata": {},
   "source": [
    "#### Cross Validation function"
   ]
  },
  {
   "cell_type": "code",
   "execution_count": null,
   "id": "bec7ff76-8e53-42da-9449-32f2880ddeda",
   "metadata": {},
   "outputs": [
    {
     "name": "stdout",
     "output_type": "stream",
     "text": [
      "# Fold 0: 2.012\n",
      "# Fold 1: 2.666\n"
     ]
    }
   ],
   "source": [
    "def crossvalidate(params, print_each=False):\n",
    "    def train_landmark(cpds):\n",
    "        mask_va = all_train_df[(\"label\",'cell_type')].isin(['Myeloid cells', 'B cells']) & all_train_df[(\"label\",'sm_name')].isin(cpds)\n",
    "        validate = all_train_df[mask_va]\n",
    "    \n",
    "        mask_tr = ~mask_va\n",
    "        train = all_train_df[mask_tr]\n",
    "\n",
    "        svd, model = model_train(make_landmark_model(params), train[\"label\"][features], train[\"post_treatment\"])\n",
    "        return svd, model\n",
    "\n",
    "    def train_transcriptome(landmark_mp,cpds):\n",
    "        mask_va = kaggle_joined_df[(\"label\",'cell_type')].isin(['Myeloid cells', 'B cells']) & kaggle_joined_df[(\"label\",'sm_name')].isin(cpds)\n",
    "        mask_tr = ~mask_va # 485 or 487 training rows\n",
    "\n",
    "        train_x = model_predict(landmark_mp, kaggle_joined_df[mask_tr][\"label\"][features])\n",
    "        train_y = de_train[mask_tr][transcriptome_cols]\n",
    "\n",
    "        val_x = model_predict(landmark_mp, kaggle_joined_df[mask_va][\"label\"][features])\n",
    "        val_y = de_train[mask_va][transcriptome_cols]\n",
    "\n",
    "        transcriptome_mp = model_train(make_transcriptome_model(params), train_x, train_y)\n",
    "        pred_y = model_predict(transcriptome_mp, val_x)\n",
    "        mrrmse = np.sqrt(np.square(val_y - pred_y).mean(axis=1)).mean()\n",
    "        return mrrmse\n",
    "    \n",
    "    mrrmse_list = []\n",
    "    for fold, cpds in fold_to_cpds.items():\n",
    "        landmark_mp = train_landmark(cpds)\n",
    "        mrrmse = train_transcriptome(landmark_mp,cpds)\n",
    "        mrrmse_list.append(mrrmse)\n",
    "        if print_each:\n",
    "            print(f\"# Fold {fold}: {mrrmse:5.3f}\")\n",
    "\n",
    "    mrrmse = np.array(mrrmse_list).mean()\n",
    "    print(f\"# Overall {mrrmse:5.3f} {params}\")\n",
    "    return mrrmse\n",
    "                \n",
    "crossvalidate(example_params, print_each=True)"
   ]
  }
 ],
 "metadata": {
  "kernelspec": {
   "display_name": "Python 3 (ipykernel)",
   "language": "python",
   "name": "python3"
  },
  "language_info": {
   "codemirror_mode": {
    "name": "ipython",
    "version": 3
   },
   "file_extension": ".py",
   "mimetype": "text/x-python",
   "name": "python",
   "nbconvert_exporter": "python",
   "pygments_lexer": "ipython3",
   "version": "3.11.5"
  }
 },
 "nbformat": 4,
 "nbformat_minor": 5
}
