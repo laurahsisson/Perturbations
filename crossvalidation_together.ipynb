{
 "cells": [
  {
   "cell_type": "markdown",
   "id": "cd6cc465-5a2c-4dfb-995d-f99cfe6c8fce",
   "metadata": {},
   "source": [
    "# Baseline 3\n",
    "#### Training landmark and transcriptome models together"
   ]
  },
  {
   "cell_type": "code",
   "execution_count": 12,
   "id": "f5565e71-71e2-405e-a5d8-69ce07d491fe",
   "metadata": {},
   "outputs": [],
   "source": [
    "import pandas as pd\n",
    "import numpy as np\n",
    "import matplotlib.pyplot as plt\n",
    "import matplotlib.patches as mpatches\n",
    "import seaborn as sns\n",
    "import torch\n",
    "\n",
    "from sklearn.preprocessing import OneHotEncoder, OrdinalEncoder, FunctionTransformer\n",
    "from sklearn.decomposition import TruncatedSVD\n",
    "from sklearn.compose import ColumnTransformer\n",
    "from sklearn.pipeline import make_pipeline\n",
    "from sklearn.linear_model import Ridge\n",
    "from sklearn.model_selection import StratifiedKFold\n",
    "\n",
    "import itertools\n",
    "import tqdm\n",
    "import collections"
   ]
  },
  {
   "cell_type": "markdown",
   "id": "bac5ffd7-aa5b-42f6-ab65-62885d43b9a4",
   "metadata": {},
   "source": [
    "## Prepare data:\n",
    "#### Read joined data (pre + post treatment)"
   ]
  },
  {
   "cell_type": "code",
   "execution_count": 13,
   "id": "8fd73c75-40ee-4ec2-b45d-07610b1f7253",
   "metadata": {},
   "outputs": [
    {
     "name": "stdout",
     "output_type": "stream",
     "text": [
      "lincs_joined_df = (107404, 1842)\n",
      "kaggle_joined_df = (602, 1841)\n",
      "test_joined_df = (255, 921)\n"
     ]
    }
   ],
   "source": [
    "lincs_joined_df = pd.read_parquet(\"data/lincs_pretreatment.parquet\")\n",
    "kaggle_joined_df = pd.read_parquet(\"data/kaggle_pretreatment.parquet\")\n",
    "test_joined_df = pd.read_parquet(\"data/test_pretreatment.parquet\")\n",
    "print(f\"lincs_joined_df = {lincs_joined_df.shape}\\nkaggle_joined_df = {kaggle_joined_df.shape}\\ntest_joined_df = {test_joined_df.shape}\")"
   ]
  },
  {
   "cell_type": "code",
   "execution_count": 14,
   "id": "070fd981-dc0d-464a-89dc-f689e46dfeb0",
   "metadata": {},
   "outputs": [
    {
     "name": "stdout",
     "output_type": "stream",
     "text": [
      "all_train_df = (108006, 1843)\n"
     ]
    }
   ],
   "source": [
    "all_train_df = pd.concat([kaggle_joined_df,lincs_joined_df])\n",
    "print(f\"all_train_df = {all_train_df.shape}\")"
   ]
  },
  {
   "cell_type": "markdown",
   "id": "c862c7af-655c-4195-b06b-3bfc5c310bb7",
   "metadata": {},
   "source": [
    "#### Kaggle provided data"
   ]
  },
  {
   "cell_type": "code",
   "execution_count": 15,
   "id": "f50e89dc-fbe2-42f9-8213-f95bfdda88af",
   "metadata": {},
   "outputs": [],
   "source": [
    "de_train = pd.read_parquet('data/de_train.parquet')\n",
    "id_map = pd.read_csv('data/id_map.csv',index_col='id')"
   ]
  },
  {
   "cell_type": "markdown",
   "id": "b2299b53-6269-49b6-b838-d8fefede0923",
   "metadata": {},
   "source": [
    "#### Define features of interest and sort data accordingly."
   ]
  },
  {
   "cell_type": "code",
   "execution_count": 16,
   "id": "f6ae48f5-3ea8-40e0-bdd6-9c138b56cb77",
   "metadata": {},
   "outputs": [
    {
     "name": "stdout",
     "output_type": "stream",
     "text": [
      "transcriptome_cols = (18211,)\n",
      "landmark_cols = (918,)\n"
     ]
    }
   ],
   "source": [
    "features = ['cell_type', 'sm_name']\n",
    "multiindex_features = [(\"label\",'cell_type'),(\"label\",'sm_name')]\n",
    "\n",
    "transcriptome_cols = de_train.columns[5:]\n",
    "landmark_cols = kaggle_joined_df[\"post_treatment\"].columns\n",
    "print(f\"transcriptome_cols = {transcriptome_cols.shape}\\nlandmark_cols = {landmark_cols.shape}\")"
   ]
  },
  {
   "cell_type": "code",
   "execution_count": 17,
   "id": "310e93d9-f08a-41cc-9bc6-74f84ad68f36",
   "metadata": {},
   "outputs": [
    {
     "data": {
      "text/plain": [
       "True"
      ]
     },
     "execution_count": 17,
     "metadata": {},
     "output_type": "execute_result"
    }
   ],
   "source": [
    "# We only need to sort these two dataframes because they represent the same underlying dataset.\n",
    "de_train = de_train.query(\"~control\").sort_values(features)\n",
    "kaggle_joined_df = kaggle_joined_df.sort_values(multiindex_features)\n",
    "# Sanity check that these dfs align.\n",
    "genes_align = (kaggle_joined_df[\"post_treatment\"] == de_train[landmark_cols]).all(axis=None)\n",
    "labels_align = (kaggle_joined_df[\"label\"][features] == de_train[features]).all(axis=None)\n",
    "genes_align and labels_align"
   ]
  },
  {
   "cell_type": "markdown",
   "id": "06b697df-66f0-4c44-b16f-d9f076982c2e",
   "metadata": {},
   "source": [
    "## Prepare for training\n",
    "#### Partition data"
   ]
  },
  {
   "cell_type": "code",
   "execution_count": 18,
   "id": "491cebb6-5a9d-4973-b9d9-f68570388d85",
   "metadata": {},
   "outputs": [
    {
     "data": {
      "text/html": [
       "<div>\n",
       "<style scoped>\n",
       "    .dataframe tbody tr th:only-of-type {\n",
       "        vertical-align: middle;\n",
       "    }\n",
       "\n",
       "    .dataframe tbody tr th {\n",
       "        vertical-align: top;\n",
       "    }\n",
       "\n",
       "    .dataframe thead th {\n",
       "        text-align: right;\n",
       "    }\n",
       "</style>\n",
       "<table border=\"1\" class=\"dataframe\">\n",
       "  <thead>\n",
       "    <tr style=\"text-align: right;\">\n",
       "      <th></th>\n",
       "      <th>mean_score</th>\n",
       "      <th>cv_class</th>\n",
       "    </tr>\n",
       "    <tr>\n",
       "      <th>sm_name</th>\n",
       "      <th></th>\n",
       "      <th></th>\n",
       "    </tr>\n",
       "  </thead>\n",
       "  <tbody>\n",
       "    <tr>\n",
       "      <th>Alvocidib</th>\n",
       "      <td>1.144652</td>\n",
       "      <td>4</td>\n",
       "    </tr>\n",
       "    <tr>\n",
       "      <th>CHIR-99021</th>\n",
       "      <td>0.145969</td>\n",
       "      <td>2</td>\n",
       "    </tr>\n",
       "    <tr>\n",
       "      <th>Crizotinib</th>\n",
       "      <td>-0.010615</td>\n",
       "      <td>0</td>\n",
       "    </tr>\n",
       "    <tr>\n",
       "      <th>Dactolisib</th>\n",
       "      <td>-0.077123</td>\n",
       "      <td>0</td>\n",
       "    </tr>\n",
       "    <tr>\n",
       "      <th>Foretinib</th>\n",
       "      <td>-0.007336</td>\n",
       "      <td>0</td>\n",
       "    </tr>\n",
       "    <tr>\n",
       "      <th>Idelalisib</th>\n",
       "      <td>0.013947</td>\n",
       "      <td>1</td>\n",
       "    </tr>\n",
       "    <tr>\n",
       "      <th>LDN 193189</th>\n",
       "      <td>0.070423</td>\n",
       "      <td>1</td>\n",
       "    </tr>\n",
       "    <tr>\n",
       "      <th>Linagliptin</th>\n",
       "      <td>0.033001</td>\n",
       "      <td>1</td>\n",
       "    </tr>\n",
       "    <tr>\n",
       "      <th>MLN 2238</th>\n",
       "      <td>2.045447</td>\n",
       "      <td>4</td>\n",
       "    </tr>\n",
       "    <tr>\n",
       "      <th>O-Demethylated Adapalene</th>\n",
       "      <td>-0.026293</td>\n",
       "      <td>0</td>\n",
       "    </tr>\n",
       "    <tr>\n",
       "      <th>Oprozomib (ONX 0912)</th>\n",
       "      <td>1.336945</td>\n",
       "      <td>4</td>\n",
       "    </tr>\n",
       "    <tr>\n",
       "      <th>Palbociclib</th>\n",
       "      <td>0.020710</td>\n",
       "      <td>1</td>\n",
       "    </tr>\n",
       "    <tr>\n",
       "      <th>Penfluridol</th>\n",
       "      <td>-0.002021</td>\n",
       "      <td>0</td>\n",
       "    </tr>\n",
       "    <tr>\n",
       "      <th>Porcn Inhibitor III</th>\n",
       "      <td>0.073097</td>\n",
       "      <td>1</td>\n",
       "    </tr>\n",
       "    <tr>\n",
       "      <th>R428</th>\n",
       "      <td>0.238306</td>\n",
       "      <td>2</td>\n",
       "    </tr>\n",
       "  </tbody>\n",
       "</table>\n",
       "</div>"
      ],
      "text/plain": [
       "                          mean_score  cv_class\n",
       "sm_name                                       \n",
       "Alvocidib                   1.144652         4\n",
       "CHIR-99021                  0.145969         2\n",
       "Crizotinib                 -0.010615         0\n",
       "Dactolisib                 -0.077123         0\n",
       "Foretinib                  -0.007336         0\n",
       "Idelalisib                  0.013947         1\n",
       "LDN 193189                  0.070423         1\n",
       "Linagliptin                 0.033001         1\n",
       "MLN 2238                    2.045447         4\n",
       "O-Demethylated Adapalene   -0.026293         0\n",
       "Oprozomib (ONX 0912)        1.336945         4\n",
       "Palbociclib                 0.020710         1\n",
       "Penfluridol                -0.002021         0\n",
       "Porcn Inhibitor III         0.073097         1\n",
       "R428                        0.238306         2"
      ]
     },
     "execution_count": 18,
     "metadata": {},
     "output_type": "execute_result"
    }
   ],
   "source": [
    "eval_cells_only_df = kaggle_joined_df[kaggle_joined_df[\"label\"][\"cell_type\"].isin([\"B cells\", \"Myeloid cells\"])].reset_index(drop=True)\n",
    "mean_score = pd.concat([eval_cells_only_df[\"label\"][\"sm_name\"],eval_cells_only_df[\"post_treatment\"]],axis=1).groupby(\"sm_name\").agg(\"mean\").mean(axis=1)\n",
    "classes = np.digitize(mean_score.values, bins=[0,0.1, 0.5, 1])\n",
    "cpds = mean_score.index.values\n",
    "\n",
    "# Don't need this df it just looks cool\n",
    "mean_score.to_frame(name=\"mean_score\").assign(cv_class=classes)"
   ]
  },
  {
   "cell_type": "markdown",
   "id": "1b60b91b-9aad-48e6-88dc-03197db09908",
   "metadata": {},
   "source": [
    "#### CV splits"
   ]
  },
  {
   "cell_type": "code",
   "execution_count": 19,
   "id": "e0aec333-fca6-4f6f-8e1e-6f8dd4172c9a",
   "metadata": {},
   "outputs": [
    {
     "name": "stderr",
     "output_type": "stream",
     "text": [
      "/Users/laurasisson/miniconda3/envs/rdenv/lib/python3.11/site-packages/sklearn/model_selection/_split.py:725: UserWarning: The least populated class in y has only 2 members, which is less than n_splits=3.\n",
      "  warnings.warn(\n"
     ]
    },
    {
     "data": {
      "text/plain": [
       "{0: array(['Alvocidib', 'Crizotinib', 'Foretinib', 'LDN 193189', 'R428'],\n",
       "       dtype=object),\n",
       " 1: array(['CHIR-99021', 'MLN 2238', 'Palbociclib', 'Penfluridol',\n",
       "        'Porcn Inhibitor III'], dtype=object),\n",
       " 2: array(['Dactolisib', 'Idelalisib', 'Linagliptin',\n",
       "        'O-Demethylated Adapalene', 'Oprozomib (ONX 0912)'], dtype=object)}"
      ]
     },
     "execution_count": 19,
     "metadata": {},
     "output_type": "execute_result"
    }
   ],
   "source": [
    "fold_arr = np.full(len(cpds), -1)\n",
    "n_splits = 3\n",
    "skf = StratifiedKFold(n_splits=n_splits, random_state=42, shuffle=True)\n",
    "for fold, (_, val_ind) in enumerate(skf.split(classes,classes)):\n",
    "    fold_arr[val_ind] = fold\n",
    "fold_map = {c: f for c, f in zip(cpds, fold_arr)}\n",
    "fold_to_cpds = {fold: cpds[fold_arr==fold] for fold in range(n_splits)}\n",
    "\n",
    "fold_to_cpds"
   ]
  },
  {
   "cell_type": "code",
   "execution_count": 20,
   "id": "7c059464-997c-4da4-a813-d3edc18f0fe9",
   "metadata": {},
   "outputs": [
    {
     "data": {
      "text/plain": [
       "(array([[0, 1],\n",
       "        [2, 3]]),\n",
       " array([[0, 1],\n",
       "        [2, 3]]))"
      ]
     },
     "execution_count": 20,
     "metadata": {},
     "output_type": "execute_result"
    }
   ],
   "source": [
    "identity_transformer = FunctionTransformer()\n",
    "X = np.array([[0, 1], [2, 3]])\n",
    "X\n",
    "identity_transformer.inverse_transform(X), identity_transformer.transform(X)"
   ]
  },
  {
   "cell_type": "markdown",
   "id": "87c0fb5b-c59b-4d30-a3f2-0c8e277eb040",
   "metadata": {},
   "source": [
    "#### Model helper functions"
   ]
  },
  {
   "cell_type": "code",
   "execution_count": 21,
   "id": "f376208a-bfee-4bb7-9b51-0fd6ad31370b",
   "metadata": {},
   "outputs": [],
   "source": [
    "def make_transformer(n_components):\n",
    "    if n_components == 0:\n",
    "        # Identity transformer\n",
    "        return FunctionTransformer()\n",
    "    else:\n",
    "        return TruncatedSVD(n_components=n_components, random_state=1)\n",
    "\n",
    "# Unfortunately, sklearn doesn't allow us to use a Ridge model as an intermediate step\n",
    "# because intermediate steps are supposed to be preprocessors\n",
    "def make_landmark_model(params):\n",
    "    params = params[\"lmk\"]\n",
    "    svd = make_transformer(params[\"n_comp\"])\n",
    "    model = make_pipeline(ColumnTransformer([('ohe', OneHotEncoder(), list(params[\"encoded\"]))]),\n",
    "                          Ridge(alpha=params[\"alpha\"], fit_intercept=False))\n",
    "    return svd, model\n",
    "\n",
    "def make_transcriptome_model(params):\n",
    "    params = params[\"trm\"]\n",
    "    svd = make_transformer(params[\"n_comp\"])\n",
    "    model = Ridge(alpha=params[\"alpha\"], fit_intercept=False)\n",
    "    return svd, model\n",
    "\n",
    "# This changes the models inplace. Returns as a courtesy.\n",
    "def model_train(mp,x,y):\n",
    "    svd, model = mp\n",
    "    z = svd.fit_transform(y)\n",
    "    model.fit(x, z)\n",
    "    return svd, model\n",
    "\n",
    "def model_predict(mp,x):\n",
    "    svd, model = mp\n",
    "    d = model.predict(x)\n",
    "    return svd.inverse_transform(d)\n",
    "    "
   ]
  },
  {
   "cell_type": "markdown",
   "id": "485211ab-206e-465f-8404-a6e68582cb9a",
   "metadata": {},
   "source": [
    "#### Draw some example models"
   ]
  },
  {
   "cell_type": "code",
   "execution_count": 22,
   "id": "cb1f8e5d-d199-41d9-bd81-e0cbc8b91a38",
   "metadata": {},
   "outputs": [
    {
     "name": "stdout",
     "output_type": "stream",
     "text": [
      "Landmark\n"
     ]
    },
    {
     "data": {
      "text/plain": [
       "(TruncatedSVD(n_components=150, random_state=1),\n",
       " Pipeline(steps=[('columntransformer',\n",
       "                  ColumnTransformer(transformers=[('ohe', OneHotEncoder(),\n",
       "                                                   ['sm_name'])])),\n",
       "                 ('ridge', Ridge(alpha=0.1, fit_intercept=False))]))"
      ]
     },
     "metadata": {},
     "output_type": "display_data"
    },
    {
     "name": "stdout",
     "output_type": "stream",
     "text": [
      "Transcriptome\n"
     ]
    },
    {
     "data": {
      "text/plain": [
       "(TruncatedSVD(n_components=150, random_state=1),\n",
       " Ridge(alpha=0.1, fit_intercept=False))"
      ]
     },
     "metadata": {},
     "output_type": "display_data"
    }
   ],
   "source": [
    "example_params = {\"lmk\":{\"n_comp\":150,\"alpha\":.1,\"encoded\":(\"sm_name\",)},\"trm\":{\"n_comp\":150,\"alpha\":.1}}\n",
    "print(\"Landmark\")\n",
    "display(make_landmark_model(example_params))\n",
    "print(\"Transcriptome\")\n",
    "display(make_transcriptome_model(example_params))"
   ]
  },
  {
   "cell_type": "markdown",
   "id": "1cc54942-77f8-41b3-922e-3c732dfd7bbc",
   "metadata": {},
   "source": [
    "#### Cross Validation function"
   ]
  },
  {
   "cell_type": "code",
   "execution_count": 23,
   "id": "bec7ff76-8e53-42da-9449-32f2880ddeda",
   "metadata": {},
   "outputs": [
    {
     "name": "stdout",
     "output_type": "stream",
     "text": [
      "# Fold 0: 2.012\n",
      "# Fold 1: 2.666\n",
      "# Fold 2: 2.172\n"
     ]
    },
    {
     "data": {
      "text/plain": [
       "2.283452586892314"
      ]
     },
     "execution_count": 23,
     "metadata": {},
     "output_type": "execute_result"
    }
   ],
   "source": [
    "def crossvalidate(params, print_each=False, print_result=False):\n",
    "    def train_landmark(cpds):\n",
    "        mask_va = all_train_df[(\"label\",'cell_type')].isin(['Myeloid cells', 'B cells']) & all_train_df[(\"label\",'sm_name')].isin(cpds)\n",
    "        validate = all_train_df[mask_va]\n",
    "    \n",
    "        mask_tr = ~mask_va\n",
    "        train = all_train_df[mask_tr]\n",
    "\n",
    "        svd, model = model_train(make_landmark_model(params), train[\"label\"][features], train[\"post_treatment\"])\n",
    "        return svd, model\n",
    "\n",
    "    def train_transcriptome(landmark_mp,cpds):\n",
    "        mask_va = kaggle_joined_df[(\"label\",'cell_type')].isin(['Myeloid cells', 'B cells']) & kaggle_joined_df[(\"label\",'sm_name')].isin(cpds)\n",
    "        mask_tr = ~mask_va # 485 or 487 training rows\n",
    "\n",
    "        train_x = model_predict(landmark_mp, kaggle_joined_df[mask_tr][\"label\"][features])\n",
    "        train_y = de_train[mask_tr][transcriptome_cols]\n",
    "\n",
    "        val_x = model_predict(landmark_mp, kaggle_joined_df[mask_va][\"label\"][features])\n",
    "        val_y = de_train[mask_va][transcriptome_cols]\n",
    "\n",
    "        transcriptome_mp = model_train(make_transcriptome_model(params), train_x, train_y)\n",
    "        pred_y = model_predict(transcriptome_mp, val_x)\n",
    "        mrrmse = np.sqrt(np.square(val_y - pred_y).mean(axis=1)).mean()\n",
    "        return mrrmse\n",
    "    \n",
    "    mrrmse_list = []\n",
    "    for fold, cpds in fold_to_cpds.items():\n",
    "        landmark_mp = train_landmark(cpds)\n",
    "        mrrmse = train_transcriptome(landmark_mp,cpds)\n",
    "        mrrmse_list.append(mrrmse)\n",
    "        if print_each:\n",
    "            print(f\"# Fold {fold}: {mrrmse:5.3f}\")\n",
    "\n",
    "    mrrmse = np.array(mrrmse_list).mean()\n",
    "    if print_result:\n",
    "        print(f\"# Overall {mrrmse:5.3f} {params}\")\n",
    "    return mrrmse\n",
    "                \n",
    "crossvalidate(example_params, print_each=True)"
   ]
  },
  {
   "cell_type": "code",
   "execution_count": 24,
   "id": "ab324232-92b3-43a8-bff8-7ef59781f832",
   "metadata": {},
   "outputs": [
    {
     "name": "stdout",
     "output_type": "stream",
     "text": [
      "Generated 144 trials.\n",
      "Example = {'lmk': {'n_comp': 0, 'alpha': 0.1, 'encoded': ('sm_name',)}, 'trm': {'n_comp': 0, 'alpha': 0.1}}\n"
     ]
    }
   ],
   "source": [
    "import itertools\n",
    "\n",
    "alpha_list = [0.1, 1, 5] #10\n",
    "encoded = [('sm_name',)] #,('cell_type',),('sm_name','cell_type')\n",
    "n_comps_list = [0,10,30,100]\n",
    "\n",
    "\n",
    "all_trials = [{\"lmk\":{\"n_comp\":lmk_n_comp,\"alpha\":lmk_alpha,\"encoded\":encoded},\"trm\":{\"n_comp\":trm_n_comp,\"alpha\":trm_alpha}} for encoded, lmk_alpha, lmk_n_comp, trm_alpha, trm_n_comp in itertools.product(encoded,alpha_list,n_comps_list,alpha_list,n_comps_list)]\n",
    "print(f\"Generated {len(all_trials)} trials.\\nExample = {next(iter(all_trials))}\")"
   ]
  },
  {
   "cell_type": "code",
   "execution_count": 28,
   "id": "c4a8aefd-9ba7-4ad4-ab02-375976c3ae68",
   "metadata": {},
   "outputs": [
    {
     "name": "stderr",
     "output_type": "stream",
     "text": [
      "100%|███████████████████████████████████████| 144/144 [1:16:24<00:00, 31.84s/it]"
     ]
    },
    {
     "name": "stdout",
     "output_type": "stream",
     "text": [
      "{'lmk': {'n_comp': 10, 'alpha': 5, 'encoded': ('sm_name',)}, 'trm': {'n_comp': 30, 'alpha': 0.1}} -2.259654876047867\n",
      "{'lmk': {'n_comp': 10, 'alpha': 5, 'encoded': ('sm_name',)}, 'trm': {'n_comp': 30, 'alpha': 1}} -2.25968089986029\n",
      "{'lmk': {'n_comp': 10, 'alpha': 5, 'encoded': ('sm_name',)}, 'trm': {'n_comp': 30, 'alpha': 5}} -2.2598107983252733\n",
      "{'lmk': {'n_comp': 10, 'alpha': 5, 'encoded': ('sm_name',)}, 'trm': {'n_comp': 100, 'alpha': 0.1}} -2.260035200635452\n",
      "{'lmk': {'n_comp': 10, 'alpha': 5, 'encoded': ('sm_name',)}, 'trm': {'n_comp': 100, 'alpha': 1}} -2.260060465738705\n",
      "Best score = 2.259654876047867.\n",
      "Best params = {'lmk': {'n_comp': 10, 'alpha': 5, 'encoded': ('sm_name',)}, 'trm': {'n_comp': 30, 'alpha': 0.1}}\n"
     ]
    },
    {
     "name": "stderr",
     "output_type": "stream",
     "text": [
      "\n"
     ]
    }
   ],
   "source": [
    "best_score = float('inf')\n",
    "best_params = dict()\n",
    "scores = collections.Counter()\n",
    "for i,params in enumerate(tqdm.tqdm(all_trials,smoothing=0)):\n",
    "    score = crossvalidate(params)\n",
    "    if score < best_score:\n",
    "        best_score = score\n",
    "        best_params = params\n",
    "    scores[i] = -score\n",
    "for i, score in scores.most_common(5):\n",
    "    print(all_trials[i],score)\n",
    "print(f\"Best score = {best_score}.\\nBest params = {best_params}\")"
   ]
  },
  {
   "cell_type": "markdown",
   "id": "3a74a9db-06ae-4a8d-9391-38533c4ad811",
   "metadata": {},
   "source": [
    "## Submission\n",
    "We retrain the model on the full training data and create a submission file."
   ]
  },
  {
   "cell_type": "code",
   "execution_count": 26,
   "id": "76930c92-1baa-4d5e-859f-64177be2c94f",
   "metadata": {},
   "outputs": [],
   "source": [
    "lm_mp = model_train(make_landmark_model(best_params), all_train_df[\"label\"][features], all_train_df[\"post_treatment\"])\n",
    "\n",
    "train_x = model_predict(lm_mp, kaggle_joined_df[\"label\"][features])\n",
    "train_y = de_train[transcriptome_cols]\n",
    "\n",
    "trm_mp = model_train(make_transcriptome_model(best_params), train_x, train_y)"
   ]
  },
  {
   "cell_type": "markdown",
   "id": "6db3bfc3-04c8-40d3-8a34-9ae53c56ce3f",
   "metadata": {},
   "source": [
    "Make submission"
   ]
  },
  {
   "cell_type": "code",
   "execution_count": 27,
   "id": "d706692d-6be2-435e-8e92-14dd97e15292",
   "metadata": {},
   "outputs": [
    {
     "data": {
      "text/html": [
       "<div>\n",
       "<style scoped>\n",
       "    .dataframe tbody tr th:only-of-type {\n",
       "        vertical-align: middle;\n",
       "    }\n",
       "\n",
       "    .dataframe tbody tr th {\n",
       "        vertical-align: top;\n",
       "    }\n",
       "\n",
       "    .dataframe thead th {\n",
       "        text-align: right;\n",
       "    }\n",
       "</style>\n",
       "<table border=\"1\" class=\"dataframe\">\n",
       "  <thead>\n",
       "    <tr style=\"text-align: right;\">\n",
       "      <th></th>\n",
       "      <th>A1BG</th>\n",
       "      <th>A1BG-AS1</th>\n",
       "      <th>A2M</th>\n",
       "      <th>A2M-AS1</th>\n",
       "      <th>A2MP1</th>\n",
       "      <th>A4GALT</th>\n",
       "      <th>AAAS</th>\n",
       "      <th>AACS</th>\n",
       "      <th>AAGAB</th>\n",
       "      <th>AAK1</th>\n",
       "      <th>...</th>\n",
       "      <th>ZUP1</th>\n",
       "      <th>ZW10</th>\n",
       "      <th>ZWILCH</th>\n",
       "      <th>ZWINT</th>\n",
       "      <th>ZXDA</th>\n",
       "      <th>ZXDB</th>\n",
       "      <th>ZXDC</th>\n",
       "      <th>ZYG11B</th>\n",
       "      <th>ZYX</th>\n",
       "      <th>ZZEF1</th>\n",
       "    </tr>\n",
       "    <tr>\n",
       "      <th>id</th>\n",
       "      <th></th>\n",
       "      <th></th>\n",
       "      <th></th>\n",
       "      <th></th>\n",
       "      <th></th>\n",
       "      <th></th>\n",
       "      <th></th>\n",
       "      <th></th>\n",
       "      <th></th>\n",
       "      <th></th>\n",
       "      <th></th>\n",
       "      <th></th>\n",
       "      <th></th>\n",
       "      <th></th>\n",
       "      <th></th>\n",
       "      <th></th>\n",
       "      <th></th>\n",
       "      <th></th>\n",
       "      <th></th>\n",
       "      <th></th>\n",
       "      <th></th>\n",
       "    </tr>\n",
       "  </thead>\n",
       "  <tbody>\n",
       "    <tr>\n",
       "      <th>0</th>\n",
       "      <td>0.485174</td>\n",
       "      <td>0.308513</td>\n",
       "      <td>0.813522</td>\n",
       "      <td>1.103002</td>\n",
       "      <td>0.997349</td>\n",
       "      <td>0.650686</td>\n",
       "      <td>-0.094000</td>\n",
       "      <td>0.643889</td>\n",
       "      <td>-0.359345</td>\n",
       "      <td>0.552053</td>\n",
       "      <td>...</td>\n",
       "      <td>-0.334413</td>\n",
       "      <td>0.098297</td>\n",
       "      <td>0.232372</td>\n",
       "      <td>0.161479</td>\n",
       "      <td>0.742100</td>\n",
       "      <td>0.553216</td>\n",
       "      <td>0.638774</td>\n",
       "      <td>0.527916</td>\n",
       "      <td>-0.299520</td>\n",
       "      <td>0.157486</td>\n",
       "    </tr>\n",
       "    <tr>\n",
       "      <th>1</th>\n",
       "      <td>0.056820</td>\n",
       "      <td>0.080760</td>\n",
       "      <td>0.105478</td>\n",
       "      <td>-0.002536</td>\n",
       "      <td>0.117061</td>\n",
       "      <td>0.345525</td>\n",
       "      <td>0.039768</td>\n",
       "      <td>0.132703</td>\n",
       "      <td>0.030165</td>\n",
       "      <td>-0.157085</td>\n",
       "      <td>...</td>\n",
       "      <td>0.020378</td>\n",
       "      <td>0.052416</td>\n",
       "      <td>0.073451</td>\n",
       "      <td>0.198469</td>\n",
       "      <td>0.084084</td>\n",
       "      <td>0.099946</td>\n",
       "      <td>0.036384</td>\n",
       "      <td>0.001365</td>\n",
       "      <td>-0.021197</td>\n",
       "      <td>-0.056184</td>\n",
       "    </tr>\n",
       "    <tr>\n",
       "      <th>2</th>\n",
       "      <td>0.341984</td>\n",
       "      <td>0.219168</td>\n",
       "      <td>0.237454</td>\n",
       "      <td>0.042002</td>\n",
       "      <td>0.408000</td>\n",
       "      <td>1.187007</td>\n",
       "      <td>0.059582</td>\n",
       "      <td>0.301075</td>\n",
       "      <td>-0.015984</td>\n",
       "      <td>-0.127638</td>\n",
       "      <td>...</td>\n",
       "      <td>-0.036171</td>\n",
       "      <td>0.115488</td>\n",
       "      <td>0.177245</td>\n",
       "      <td>0.332249</td>\n",
       "      <td>0.361347</td>\n",
       "      <td>0.331133</td>\n",
       "      <td>0.162598</td>\n",
       "      <td>0.085706</td>\n",
       "      <td>-0.034271</td>\n",
       "      <td>-0.090421</td>\n",
       "    </tr>\n",
       "    <tr>\n",
       "      <th>3</th>\n",
       "      <td>0.025892</td>\n",
       "      <td>0.036559</td>\n",
       "      <td>0.142437</td>\n",
       "      <td>0.128061</td>\n",
       "      <td>0.132306</td>\n",
       "      <td>0.018028</td>\n",
       "      <td>-0.041141</td>\n",
       "      <td>0.168780</td>\n",
       "      <td>-0.028979</td>\n",
       "      <td>0.122158</td>\n",
       "      <td>...</td>\n",
       "      <td>-0.005573</td>\n",
       "      <td>0.052274</td>\n",
       "      <td>-0.003198</td>\n",
       "      <td>0.115135</td>\n",
       "      <td>0.190370</td>\n",
       "      <td>0.133849</td>\n",
       "      <td>0.157369</td>\n",
       "      <td>0.118075</td>\n",
       "      <td>0.000826</td>\n",
       "      <td>0.026576</td>\n",
       "    </tr>\n",
       "    <tr>\n",
       "      <th>4</th>\n",
       "      <td>0.137574</td>\n",
       "      <td>-0.051638</td>\n",
       "      <td>0.071337</td>\n",
       "      <td>0.100727</td>\n",
       "      <td>0.207850</td>\n",
       "      <td>0.174772</td>\n",
       "      <td>-0.102711</td>\n",
       "      <td>0.127906</td>\n",
       "      <td>-0.133145</td>\n",
       "      <td>0.194867</td>\n",
       "      <td>...</td>\n",
       "      <td>-0.190382</td>\n",
       "      <td>0.006200</td>\n",
       "      <td>0.069019</td>\n",
       "      <td>-0.010384</td>\n",
       "      <td>0.163145</td>\n",
       "      <td>0.113274</td>\n",
       "      <td>0.169124</td>\n",
       "      <td>0.137513</td>\n",
       "      <td>0.063657</td>\n",
       "      <td>-0.051418</td>\n",
       "    </tr>\n",
       "    <tr>\n",
       "      <th>...</th>\n",
       "      <td>...</td>\n",
       "      <td>...</td>\n",
       "      <td>...</td>\n",
       "      <td>...</td>\n",
       "      <td>...</td>\n",
       "      <td>...</td>\n",
       "      <td>...</td>\n",
       "      <td>...</td>\n",
       "      <td>...</td>\n",
       "      <td>...</td>\n",
       "      <td>...</td>\n",
       "      <td>...</td>\n",
       "      <td>...</td>\n",
       "      <td>...</td>\n",
       "      <td>...</td>\n",
       "      <td>...</td>\n",
       "      <td>...</td>\n",
       "      <td>...</td>\n",
       "      <td>...</td>\n",
       "      <td>...</td>\n",
       "      <td>...</td>\n",
       "    </tr>\n",
       "    <tr>\n",
       "      <th>250</th>\n",
       "      <td>-0.241708</td>\n",
       "      <td>-0.203022</td>\n",
       "      <td>-0.207766</td>\n",
       "      <td>-0.202786</td>\n",
       "      <td>-0.411075</td>\n",
       "      <td>-0.498091</td>\n",
       "      <td>-0.087960</td>\n",
       "      <td>-0.147727</td>\n",
       "      <td>-0.044569</td>\n",
       "      <td>0.188796</td>\n",
       "      <td>...</td>\n",
       "      <td>-0.092436</td>\n",
       "      <td>-0.179057</td>\n",
       "      <td>-0.145359</td>\n",
       "      <td>-0.291855</td>\n",
       "      <td>-0.248681</td>\n",
       "      <td>-0.183806</td>\n",
       "      <td>-0.004017</td>\n",
       "      <td>0.017697</td>\n",
       "      <td>-0.011934</td>\n",
       "      <td>-0.048775</td>\n",
       "    </tr>\n",
       "    <tr>\n",
       "      <th>251</th>\n",
       "      <td>0.069540</td>\n",
       "      <td>0.023789</td>\n",
       "      <td>0.063895</td>\n",
       "      <td>0.133162</td>\n",
       "      <td>0.118935</td>\n",
       "      <td>0.312506</td>\n",
       "      <td>-0.052441</td>\n",
       "      <td>0.059732</td>\n",
       "      <td>-0.120766</td>\n",
       "      <td>0.311165</td>\n",
       "      <td>...</td>\n",
       "      <td>-0.140056</td>\n",
       "      <td>-0.028260</td>\n",
       "      <td>0.031891</td>\n",
       "      <td>0.018946</td>\n",
       "      <td>0.118167</td>\n",
       "      <td>0.108095</td>\n",
       "      <td>0.156997</td>\n",
       "      <td>0.150959</td>\n",
       "      <td>0.070858</td>\n",
       "      <td>-0.068847</td>\n",
       "    </tr>\n",
       "    <tr>\n",
       "      <th>252</th>\n",
       "      <td>-0.084842</td>\n",
       "      <td>-0.067419</td>\n",
       "      <td>0.011255</td>\n",
       "      <td>0.031732</td>\n",
       "      <td>-0.090455</td>\n",
       "      <td>-0.190045</td>\n",
       "      <td>-0.057125</td>\n",
       "      <td>0.027635</td>\n",
       "      <td>-0.066866</td>\n",
       "      <td>0.206733</td>\n",
       "      <td>...</td>\n",
       "      <td>-0.064379</td>\n",
       "      <td>-0.052963</td>\n",
       "      <td>-0.045137</td>\n",
       "      <td>-0.072901</td>\n",
       "      <td>-0.019678</td>\n",
       "      <td>-0.020893</td>\n",
       "      <td>0.101762</td>\n",
       "      <td>0.097841</td>\n",
       "      <td>0.015607</td>\n",
       "      <td>0.015407</td>\n",
       "    </tr>\n",
       "    <tr>\n",
       "      <th>253</th>\n",
       "      <td>0.210694</td>\n",
       "      <td>0.289133</td>\n",
       "      <td>0.082098</td>\n",
       "      <td>-0.073703</td>\n",
       "      <td>0.073243</td>\n",
       "      <td>-0.285179</td>\n",
       "      <td>0.610977</td>\n",
       "      <td>0.755372</td>\n",
       "      <td>1.103660</td>\n",
       "      <td>1.141209</td>\n",
       "      <td>...</td>\n",
       "      <td>0.318167</td>\n",
       "      <td>0.565754</td>\n",
       "      <td>-0.028800</td>\n",
       "      <td>-0.058986</td>\n",
       "      <td>-0.198265</td>\n",
       "      <td>0.433362</td>\n",
       "      <td>0.144834</td>\n",
       "      <td>0.552276</td>\n",
       "      <td>0.165950</td>\n",
       "      <td>-0.210688</td>\n",
       "    </tr>\n",
       "    <tr>\n",
       "      <th>254</th>\n",
       "      <td>0.111677</td>\n",
       "      <td>0.054046</td>\n",
       "      <td>0.095693</td>\n",
       "      <td>-0.048049</td>\n",
       "      <td>0.054376</td>\n",
       "      <td>0.241456</td>\n",
       "      <td>0.049814</td>\n",
       "      <td>0.201679</td>\n",
       "      <td>0.085513</td>\n",
       "      <td>-0.370902</td>\n",
       "      <td>...</td>\n",
       "      <td>0.174106</td>\n",
       "      <td>0.133365</td>\n",
       "      <td>0.046013</td>\n",
       "      <td>0.156164</td>\n",
       "      <td>0.158216</td>\n",
       "      <td>0.132002</td>\n",
       "      <td>0.059719</td>\n",
       "      <td>0.007817</td>\n",
       "      <td>-0.066459</td>\n",
       "      <td>-0.017261</td>\n",
       "    </tr>\n",
       "  </tbody>\n",
       "</table>\n",
       "<p>255 rows × 18211 columns</p>\n",
       "</div>"
      ],
      "text/plain": [
       "         A1BG  A1BG-AS1       A2M   A2M-AS1     A2MP1    A4GALT      AAAS  \\\n",
       "id                                                                          \n",
       "0    0.485174  0.308513  0.813522  1.103002  0.997349  0.650686 -0.094000   \n",
       "1    0.056820  0.080760  0.105478 -0.002536  0.117061  0.345525  0.039768   \n",
       "2    0.341984  0.219168  0.237454  0.042002  0.408000  1.187007  0.059582   \n",
       "3    0.025892  0.036559  0.142437  0.128061  0.132306  0.018028 -0.041141   \n",
       "4    0.137574 -0.051638  0.071337  0.100727  0.207850  0.174772 -0.102711   \n",
       "..        ...       ...       ...       ...       ...       ...       ...   \n",
       "250 -0.241708 -0.203022 -0.207766 -0.202786 -0.411075 -0.498091 -0.087960   \n",
       "251  0.069540  0.023789  0.063895  0.133162  0.118935  0.312506 -0.052441   \n",
       "252 -0.084842 -0.067419  0.011255  0.031732 -0.090455 -0.190045 -0.057125   \n",
       "253  0.210694  0.289133  0.082098 -0.073703  0.073243 -0.285179  0.610977   \n",
       "254  0.111677  0.054046  0.095693 -0.048049  0.054376  0.241456  0.049814   \n",
       "\n",
       "         AACS     AAGAB      AAK1  ...      ZUP1      ZW10    ZWILCH  \\\n",
       "id                                 ...                                 \n",
       "0    0.643889 -0.359345  0.552053  ... -0.334413  0.098297  0.232372   \n",
       "1    0.132703  0.030165 -0.157085  ...  0.020378  0.052416  0.073451   \n",
       "2    0.301075 -0.015984 -0.127638  ... -0.036171  0.115488  0.177245   \n",
       "3    0.168780 -0.028979  0.122158  ... -0.005573  0.052274 -0.003198   \n",
       "4    0.127906 -0.133145  0.194867  ... -0.190382  0.006200  0.069019   \n",
       "..        ...       ...       ...  ...       ...       ...       ...   \n",
       "250 -0.147727 -0.044569  0.188796  ... -0.092436 -0.179057 -0.145359   \n",
       "251  0.059732 -0.120766  0.311165  ... -0.140056 -0.028260  0.031891   \n",
       "252  0.027635 -0.066866  0.206733  ... -0.064379 -0.052963 -0.045137   \n",
       "253  0.755372  1.103660  1.141209  ...  0.318167  0.565754 -0.028800   \n",
       "254  0.201679  0.085513 -0.370902  ...  0.174106  0.133365  0.046013   \n",
       "\n",
       "        ZWINT      ZXDA      ZXDB      ZXDC    ZYG11B       ZYX     ZZEF1  \n",
       "id                                                                         \n",
       "0    0.161479  0.742100  0.553216  0.638774  0.527916 -0.299520  0.157486  \n",
       "1    0.198469  0.084084  0.099946  0.036384  0.001365 -0.021197 -0.056184  \n",
       "2    0.332249  0.361347  0.331133  0.162598  0.085706 -0.034271 -0.090421  \n",
       "3    0.115135  0.190370  0.133849  0.157369  0.118075  0.000826  0.026576  \n",
       "4   -0.010384  0.163145  0.113274  0.169124  0.137513  0.063657 -0.051418  \n",
       "..        ...       ...       ...       ...       ...       ...       ...  \n",
       "250 -0.291855 -0.248681 -0.183806 -0.004017  0.017697 -0.011934 -0.048775  \n",
       "251  0.018946  0.118167  0.108095  0.156997  0.150959  0.070858 -0.068847  \n",
       "252 -0.072901 -0.019678 -0.020893  0.101762  0.097841  0.015607  0.015407  \n",
       "253 -0.058986 -0.198265  0.433362  0.144834  0.552276  0.165950 -0.210688  \n",
       "254  0.156164  0.158216  0.132002  0.059719  0.007817 -0.066459 -0.017261  \n",
       "\n",
       "[255 rows x 18211 columns]"
      ]
     },
     "metadata": {},
     "output_type": "display_data"
    }
   ],
   "source": [
    "# Quick sanity check to make sure our submission is ordered correctly.\n",
    "assert (test_joined_df[\"label\"][features] == id_map[features]).all(axis=None)\n",
    "\n",
    "# Full pipeline. Nice\n",
    "test_lm_pred = model_predict(lm_mp, test_joined_df[\"label\"][features])\n",
    "y_pred = model_predict(trm_mp, test_lm_pred)\n",
    "\n",
    "y_pred.shape\n",
    "submission = pd.DataFrame(y_pred, columns=transcriptome_cols, index=id_map.index)\n",
    "display(submission)\n",
    "submission.to_csv('submissions/pipeline.csv')"
   ]
  }
 ],
 "metadata": {
  "kernelspec": {
   "display_name": "Python 3 (ipykernel)",
   "language": "python",
   "name": "python3"
  },
  "language_info": {
   "codemirror_mode": {
    "name": "ipython",
    "version": 3
   },
   "file_extension": ".py",
   "mimetype": "text/x-python",
   "name": "python",
   "nbconvert_exporter": "python",
   "pygments_lexer": "ipython3",
   "version": "3.11.5"
  }
 },
 "nbformat": 4,
 "nbformat_minor": 5
}
