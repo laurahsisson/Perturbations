{
 "cells": [
  {
   "cell_type": "markdown",
   "id": "1656b8e8-b9c2-407a-a5ec-0935992e521a",
   "metadata": {},
   "source": [
    "# The NIH LINCS data is very large\n",
    "You can download all relevant files on the [GEO Website](https://www.ncbi.nlm.nih.gov/geo/query/acc.cgi?acc=GSE70138).\n",
    "\n",
    "The dataset contains 12328 rows (genes) by 118050 columns (samples) for a total of 1,455,320,400 entries"
   ]
  },
  {
   "cell_type": "code",
   "execution_count": 146,
   "id": "4a6f18b6-a7dd-4040-b8ff-638ac13598b0",
   "metadata": {},
   "outputs": [
    {
     "data": {
      "text/plain": [
       "'Thats 11.6425632 gigabytes'"
      ]
     },
     "execution_count": 146,
     "metadata": {},
     "output_type": "execute_result"
    }
   ],
   "source": [
    "# Assuming an 8 byte float\n",
    "base_rows = 12328\n",
    "base_columns = 118050\n",
    "f\"Thats {base_rows * base_columns * 8 / 1e9} gigabytes\""
   ]
  },
  {
   "cell_type": "markdown",
   "id": "8e8cbdab-3308-41c0-9cd0-87ad9f0ae81c",
   "metadata": {},
   "source": [
    "**This is too large for practical use**, and might be too big to fit in working memory (RAM) for many computers.\n",
    "\n",
    "But we aren't interested in all the samples. Many samples here measure data for experiments we are not interested in. Luckily, the NIH provides a number of metadata files we can use to help use decide which experiments we are interested in.\n",
    "\n",
    "### Determining data of interest\n",
    "\n",
    "The reagent (chemical or genetic) being studied in a given experiment is called the perturbagen, and there a variety of types of perturbagens. \n",
    "\n",
    "Let's load in the metadata file that contains info on the perturbagens."
   ]
  },
  {
   "cell_type": "code",
   "execution_count": 6,
   "id": "009644d0-a04b-432e-8ba7-3ab31e5bb91b",
   "metadata": {},
   "outputs": [
    {
     "data": {
      "text/plain": [
       "0            trt_cp\n",
       "513     ctl_vehicle\n",
       "1797        trt_xpr\n",
       "2150      ctl_untrt\n",
       "2151     ctl_vector\n",
       "Name: pert_type, dtype: object"
      ]
     },
     "execution_count": 6,
     "metadata": {},
     "output_type": "execute_result"
    }
   ],
   "source": [
    "import pandas as pd\n",
    "\n",
    "pert_info = pd.read_csv(\"data/GSE70138_Broad_LINCS_pert_info_2017-03-06.txt\", sep=\"\\t\")"
   ]
  },
  {
   "cell_type": "markdown",
   "id": "d68ba912-a820-42fd-8843-b04068434718",
   "metadata": {},
   "source": [
    "Let's see what kinds of perturbagens there are in the dataset:"
   ]
  },
  {
   "cell_type": "code",
   "execution_count": 35,
   "id": "daf39285-c0a7-4090-b660-eb62a86faa8d",
   "metadata": {},
   "outputs": [
    {
     "data": {
      "text/plain": [
       "0            trt_cp\n",
       "513     ctl_vehicle\n",
       "1797        trt_xpr\n",
       "2150      ctl_untrt\n",
       "2151     ctl_vector\n",
       "Name: pert_type, dtype: object"
      ]
     },
     "execution_count": 35,
     "metadata": {},
     "output_type": "execute_result"
    }
   ],
   "source": [
    "pert_info[\"pert_type\"].drop_duplicates()"
   ]
  },
  {
   "cell_type": "markdown",
   "id": "df0b1966-2541-4de0-9fd5-336bec879692",
   "metadata": {},
   "source": [
    "Looking at the Connectopedia [entry on perturbagens](https://clue.io/connectopedia/perturbagen_types_and_controls), we can see that the `pert_type` for drugs (compounds) is `trt_cp`. \n",
    "\n",
    "Let's see some examples:"
   ]
  },
  {
   "cell_type": "code",
   "execution_count": 33,
   "id": "331e3d3f-1e7f-445b-bc50-c8dd44e305f1",
   "metadata": {},
   "outputs": [
    {
     "name": "stdout",
     "output_type": "stream",
     "text": [
      "Found 1796 different compounds.\n"
     ]
    },
    {
     "data": {
      "text/html": [
       "<div>\n",
       "<style scoped>\n",
       "    .dataframe tbody tr th:only-of-type {\n",
       "        vertical-align: middle;\n",
       "    }\n",
       "\n",
       "    .dataframe tbody tr th {\n",
       "        vertical-align: top;\n",
       "    }\n",
       "\n",
       "    .dataframe thead th {\n",
       "        text-align: right;\n",
       "    }\n",
       "</style>\n",
       "<table border=\"1\" class=\"dataframe\">\n",
       "  <thead>\n",
       "    <tr style=\"text-align: right;\">\n",
       "      <th></th>\n",
       "      <th>pert_id</th>\n",
       "      <th>canonical_smiles</th>\n",
       "      <th>inchi_key</th>\n",
       "      <th>pert_iname</th>\n",
       "      <th>pert_type</th>\n",
       "    </tr>\n",
       "  </thead>\n",
       "  <tbody>\n",
       "    <tr>\n",
       "      <th>0</th>\n",
       "      <td>BRD-K70792160</td>\n",
       "      <td>CCN(CC)CCCCN1c2ccccc2Oc2ccc(Cl)cc12</td>\n",
       "      <td>GYBXAGDWMCJZJK-UHFFFAOYSA-N</td>\n",
       "      <td>10-DEBC</td>\n",
       "      <td>trt_cp</td>\n",
       "    </tr>\n",
       "    <tr>\n",
       "      <th>1</th>\n",
       "      <td>BRD-K68552125</td>\n",
       "      <td>CCCCCCCCCCCCCC(=O)O[C@@H]1[C@@H](C)[C@]2(O)[C@...</td>\n",
       "      <td>PHEDXBVPIONUQT-RGYGYFBISA-N</td>\n",
       "      <td>phorbol-myristate-acetate</td>\n",
       "      <td>trt_cp</td>\n",
       "    </tr>\n",
       "    <tr>\n",
       "      <th>2</th>\n",
       "      <td>BRD-K92301463</td>\n",
       "      <td>CCCCC(C)(C)[C@H](O)\\C=C\\[C@H]1[C@H](O)CC(=O)[C...</td>\n",
       "      <td>QAOBBBBDJSWHMU-WMBBNPMCSA-N</td>\n",
       "      <td>16,16-dimethylprostaglandin-e2</td>\n",
       "      <td>trt_cp</td>\n",
       "    </tr>\n",
       "    <tr>\n",
       "      <th>3</th>\n",
       "      <td>BRD-A29731977</td>\n",
       "      <td>CCCCCC(=O)O[C@@]1(CCC2C3CCC4=CC(=O)CC[C@]4(C)C...</td>\n",
       "      <td>DOMWKUIIPQCAJU-JKPPDDDBSA-N</td>\n",
       "      <td>17-hydroxyprogesterone-caproate</td>\n",
       "      <td>trt_cp</td>\n",
       "    </tr>\n",
       "    <tr>\n",
       "      <th>4</th>\n",
       "      <td>BRD-K07954936</td>\n",
       "      <td>OC(=O)CCCC[C@@H]1SC[C@@H]2NC(=N)N[C@H]12</td>\n",
       "      <td>WWVANQJRLPIHNS-ZKWXMUAHSA-N</td>\n",
       "      <td>2-iminobiotin</td>\n",
       "      <td>trt_cp</td>\n",
       "    </tr>\n",
       "  </tbody>\n",
       "</table>\n",
       "</div>"
      ],
      "text/plain": [
       "         pert_id                                   canonical_smiles  \\\n",
       "0  BRD-K70792160                CCN(CC)CCCCN1c2ccccc2Oc2ccc(Cl)cc12   \n",
       "1  BRD-K68552125  CCCCCCCCCCCCCC(=O)O[C@@H]1[C@@H](C)[C@]2(O)[C@...   \n",
       "2  BRD-K92301463  CCCCC(C)(C)[C@H](O)\\C=C\\[C@H]1[C@H](O)CC(=O)[C...   \n",
       "3  BRD-A29731977  CCCCCC(=O)O[C@@]1(CCC2C3CCC4=CC(=O)CC[C@]4(C)C...   \n",
       "4  BRD-K07954936           OC(=O)CCCC[C@@H]1SC[C@@H]2NC(=N)N[C@H]12   \n",
       "\n",
       "                     inchi_key                       pert_iname pert_type  \n",
       "0  GYBXAGDWMCJZJK-UHFFFAOYSA-N                          10-DEBC    trt_cp  \n",
       "1  PHEDXBVPIONUQT-RGYGYFBISA-N        phorbol-myristate-acetate    trt_cp  \n",
       "2  QAOBBBBDJSWHMU-WMBBNPMCSA-N   16,16-dimethylprostaglandin-e2    trt_cp  \n",
       "3  DOMWKUIIPQCAJU-JKPPDDDBSA-N  17-hydroxyprogesterone-caproate    trt_cp  \n",
       "4  WWVANQJRLPIHNS-ZKWXMUAHSA-N                    2-iminobiotin    trt_cp  "
      ]
     },
     "execution_count": 33,
     "metadata": {},
     "output_type": "execute_result"
    }
   ],
   "source": [
    "compound_perturbagens = pert_info[pert_info[\"pert_type\"]==\"trt_cp\"]\n",
    "print(f\"Found {compound_perturbagens.shape[0]} different compounds.\")\n",
    "compound_perturbagens[:5]"
   ]
  },
  {
   "cell_type": "markdown",
   "id": "1b2b1d00-b332-479d-a97d-b231c7c2c49d",
   "metadata": {},
   "source": [
    "Note that `pert_iname` in this dataset corresponds with `sm_name` in the Kaggle dataset (`de_train.parquet`). The same holds true `canonical_smiles` and `SMILES`, respectively.\n",
    "\n",
    "By the way, the negative control (DMSO) exists in this dataset too, with a special `pert_type` called `ctl_vehicle`."
   ]
  },
  {
   "cell_type": "code",
   "execution_count": 19,
   "id": "61c4b3f0-a07a-4dfb-a2d8-859ae252d1b5",
   "metadata": {},
   "outputs": [
    {
     "data": {
      "text/html": [
       "<div>\n",
       "<style scoped>\n",
       "    .dataframe tbody tr th:only-of-type {\n",
       "        vertical-align: middle;\n",
       "    }\n",
       "\n",
       "    .dataframe tbody tr th {\n",
       "        vertical-align: top;\n",
       "    }\n",
       "\n",
       "    .dataframe thead th {\n",
       "        text-align: right;\n",
       "    }\n",
       "</style>\n",
       "<table border=\"1\" class=\"dataframe\">\n",
       "  <thead>\n",
       "    <tr style=\"text-align: right;\">\n",
       "      <th></th>\n",
       "      <th>pert_id</th>\n",
       "      <th>canonical_smiles</th>\n",
       "      <th>inchi_key</th>\n",
       "      <th>pert_iname</th>\n",
       "      <th>pert_type</th>\n",
       "    </tr>\n",
       "  </thead>\n",
       "  <tbody>\n",
       "    <tr>\n",
       "      <th>513</th>\n",
       "      <td>DMSO</td>\n",
       "      <td>CS(=O)C</td>\n",
       "      <td>IAZDPXIOMUYVGZ-UHFFFAOYSA-N</td>\n",
       "      <td>DMSO</td>\n",
       "      <td>ctl_vehicle</td>\n",
       "    </tr>\n",
       "  </tbody>\n",
       "</table>\n",
       "</div>"
      ],
      "text/plain": [
       "    pert_id canonical_smiles                    inchi_key pert_iname  \\\n",
       "513    DMSO          CS(=O)C  IAZDPXIOMUYVGZ-UHFFFAOYSA-N       DMSO   \n",
       "\n",
       "       pert_type  \n",
       "513  ctl_vehicle  "
      ]
     },
     "execution_count": 19,
     "metadata": {},
     "output_type": "execute_result"
    }
   ],
   "source": [
    "control_perturbagen = pert_info[pert_info[\"pert_type\"]==\"ctl_vehicle\"]\n",
    "control_perturbagen"
   ]
  },
  {
   "cell_type": "markdown",
   "id": "65913724-3ec8-43a9-8ad4-8d4e484e464d",
   "metadata": {},
   "source": [
    "And so are the positive controls: dabrafenib and belinostat."
   ]
  },
  {
   "cell_type": "code",
   "execution_count": 24,
   "id": "516c7fe7-03b1-4308-bc73-e8dc509cb6ff",
   "metadata": {},
   "outputs": [
    {
     "data": {
      "text/html": [
       "<div>\n",
       "<style scoped>\n",
       "    .dataframe tbody tr th:only-of-type {\n",
       "        vertical-align: middle;\n",
       "    }\n",
       "\n",
       "    .dataframe tbody tr th {\n",
       "        vertical-align: top;\n",
       "    }\n",
       "\n",
       "    .dataframe thead th {\n",
       "        text-align: right;\n",
       "    }\n",
       "</style>\n",
       "<table border=\"1\" class=\"dataframe\">\n",
       "  <thead>\n",
       "    <tr style=\"text-align: right;\">\n",
       "      <th></th>\n",
       "      <th>pert_id</th>\n",
       "      <th>canonical_smiles</th>\n",
       "      <th>inchi_key</th>\n",
       "      <th>pert_iname</th>\n",
       "      <th>pert_type</th>\n",
       "    </tr>\n",
       "  </thead>\n",
       "  <tbody>\n",
       "    <tr>\n",
       "      <th>216</th>\n",
       "      <td>BRD-K17743125</td>\n",
       "      <td>ONC(=O)\\C=C\\c1cccc(c1)S(=O)(=O)Nc1ccccc1</td>\n",
       "      <td>NCNRHFGMJRPRSK-MDZDMXLPSA-N</td>\n",
       "      <td>belinostat</td>\n",
       "      <td>trt_cp</td>\n",
       "    </tr>\n",
       "    <tr>\n",
       "      <th>441</th>\n",
       "      <td>BRD-K09951645</td>\n",
       "      <td>CC(C)(C)c1nc(c(s1)-c1ccnc(N)n1)-c1cccc(NS(=O)(...</td>\n",
       "      <td>BFSMGDJOXZAERB-UHFFFAOYSA-N</td>\n",
       "      <td>dabrafenib</td>\n",
       "      <td>trt_cp</td>\n",
       "    </tr>\n",
       "  </tbody>\n",
       "</table>\n",
       "</div>"
      ],
      "text/plain": [
       "           pert_id                                   canonical_smiles  \\\n",
       "216  BRD-K17743125           ONC(=O)\\C=C\\c1cccc(c1)S(=O)(=O)Nc1ccccc1   \n",
       "441  BRD-K09951645  CC(C)(C)c1nc(c(s1)-c1ccnc(N)n1)-c1cccc(NS(=O)(...   \n",
       "\n",
       "                       inchi_key  pert_iname pert_type  \n",
       "216  NCNRHFGMJRPRSK-MDZDMXLPSA-N  belinostat    trt_cp  \n",
       "441  BFSMGDJOXZAERB-UHFFFAOYSA-N  dabrafenib    trt_cp  "
      ]
     },
     "execution_count": 24,
     "metadata": {},
     "output_type": "execute_result"
    }
   ],
   "source": [
    "positive_perturbagens = pert_info[pert_info[\"pert_iname\"].isin([\"dabrafenib\",\"belinostat\"])]\n",
    "positive_perturbagens"
   ]
  },
  {
   "cell_type": "markdown",
   "id": "5c0c16a5-5b72-467e-ac74-7013b51fc10c",
   "metadata": {},
   "source": [
    "### Building an index\n",
    "The work we just did tells us which `pert_id`'s we are interested in, but we don't quite have an index into the dataset yet. \n",
    "\n",
    "Let's load in the sample metadata. Note that there is 1 entry for every sample in the dataset."
   ]
  },
  {
   "cell_type": "code",
   "execution_count": 41,
   "id": "d54b9d41-1002-4add-913f-deed4ea8a93d",
   "metadata": {},
   "outputs": [
    {
     "data": {
      "text/plain": [
       "(118050, 8)"
      ]
     },
     "execution_count": 41,
     "metadata": {},
     "output_type": "execute_result"
    }
   ],
   "source": [
    "sig_info = pd.read_csv(\"data/GSE70138_Broad_LINCS_sig_info_2017-03-06.txt\", sep=\"\\t\")\n",
    "sig_info.shape"
   ]
  },
  {
   "cell_type": "markdown",
   "id": "16854509-53bc-4353-99e2-d9ae948955a6",
   "metadata": {},
   "source": [
    "This sample metadata contains the same `pert_type` column as above perturbagen metadata, but it doesn't have any info on what the perturbagen is:"
   ]
  },
  {
   "cell_type": "code",
   "execution_count": 42,
   "id": "4109c8ff-8590-4d21-b370-c7335c141de6",
   "metadata": {},
   "outputs": [
    {
     "data": {
      "text/plain": [
       "Index(['sig_id', 'pert_id', 'pert_iname', 'pert_type', 'cell_id', 'pert_idose',\n",
       "       'pert_itime', 'distil_id'],\n",
       "      dtype='object')"
      ]
     },
     "execution_count": 42,
     "metadata": {},
     "output_type": "execute_result"
    }
   ],
   "source": [
    "sig_info.columns"
   ]
  },
  {
   "cell_type": "markdown",
   "id": "5174b161-90de-4824-a157-caf17519f287",
   "metadata": {},
   "source": [
    "Luckily we can combine all the work we've done so far. \n",
    "We want to annotate every sample which is uses a compound perturbagen with it's SMILES and International Chemical Identifier (INCHI).\n",
    "\n",
    "*Hold on tight!*"
   ]
  },
  {
   "cell_type": "code",
   "execution_count": 137,
   "id": "8e918eb6-e8a9-47da-a50d-85e965b806cf",
   "metadata": {},
   "outputs": [
    {
     "data": {
      "text/html": [
       "<div>\n",
       "<style scoped>\n",
       "    .dataframe tbody tr th:only-of-type {\n",
       "        vertical-align: middle;\n",
       "    }\n",
       "\n",
       "    .dataframe tbody tr th {\n",
       "        vertical-align: top;\n",
       "    }\n",
       "\n",
       "    .dataframe thead th {\n",
       "        text-align: right;\n",
       "    }\n",
       "</style>\n",
       "<table border=\"1\" class=\"dataframe\">\n",
       "  <thead>\n",
       "    <tr style=\"text-align: right;\">\n",
       "      <th></th>\n",
       "      <th>sig_id</th>\n",
       "      <th>pert_id</th>\n",
       "      <th>pert_iname</th>\n",
       "      <th>pert_type</th>\n",
       "      <th>cell_id</th>\n",
       "      <th>pert_idose</th>\n",
       "      <th>pert_itime</th>\n",
       "      <th>distil_id</th>\n",
       "      <th>canonical_smiles</th>\n",
       "      <th>inchi_key</th>\n",
       "    </tr>\n",
       "  </thead>\n",
       "  <tbody>\n",
       "    <tr>\n",
       "      <th>4</th>\n",
       "      <td>LJP005_A375_24H:A07</td>\n",
       "      <td>BRD-K76908866</td>\n",
       "      <td>CP-724714</td>\n",
       "      <td>trt_cp</td>\n",
       "      <td>A375</td>\n",
       "      <td>10.0 um</td>\n",
       "      <td>24 h</td>\n",
       "      <td>LJP005_A375_24H_X1_B19:A07|LJP005_A375_24H_X2_...</td>\n",
       "      <td>COCC(=O)NC\\C=C\\c1ccc2ncnc(Nc3ccc(Oc4ccc(C)nc4)...</td>\n",
       "      <td>LLVZBTWPGQVVLW-SNAWJCMRSA-N</td>\n",
       "    </tr>\n",
       "    <tr>\n",
       "      <th>5</th>\n",
       "      <td>LJP005_A375_24H:A08</td>\n",
       "      <td>BRD-K76908866</td>\n",
       "      <td>CP-724714</td>\n",
       "      <td>trt_cp</td>\n",
       "      <td>A375</td>\n",
       "      <td>3.33 um</td>\n",
       "      <td>24 h</td>\n",
       "      <td>LJP005_A375_24H_X1_B19:A08|LJP005_A375_24H_X2_...</td>\n",
       "      <td>COCC(=O)NC\\C=C\\c1ccc2ncnc(Nc3ccc(Oc4ccc(C)nc4)...</td>\n",
       "      <td>LLVZBTWPGQVVLW-SNAWJCMRSA-N</td>\n",
       "    </tr>\n",
       "    <tr>\n",
       "      <th>6</th>\n",
       "      <td>LJP005_A375_24H:A09</td>\n",
       "      <td>BRD-K76908866</td>\n",
       "      <td>CP-724714</td>\n",
       "      <td>trt_cp</td>\n",
       "      <td>A375</td>\n",
       "      <td>1.11 um</td>\n",
       "      <td>24 h</td>\n",
       "      <td>LJP005_A375_24H_X1_B19:A09|LJP005_A375_24H_X2_...</td>\n",
       "      <td>COCC(=O)NC\\C=C\\c1ccc2ncnc(Nc3ccc(Oc4ccc(C)nc4)...</td>\n",
       "      <td>LLVZBTWPGQVVLW-SNAWJCMRSA-N</td>\n",
       "    </tr>\n",
       "    <tr>\n",
       "      <th>7</th>\n",
       "      <td>LJP005_A375_24H:A10</td>\n",
       "      <td>BRD-K76908866</td>\n",
       "      <td>CP-724714</td>\n",
       "      <td>trt_cp</td>\n",
       "      <td>A375</td>\n",
       "      <td>0.37 um</td>\n",
       "      <td>24 h</td>\n",
       "      <td>LJP005_A375_24H_X1_B19:A10|LJP005_A375_24H_X2_...</td>\n",
       "      <td>COCC(=O)NC\\C=C\\c1ccc2ncnc(Nc3ccc(Oc4ccc(C)nc4)...</td>\n",
       "      <td>LLVZBTWPGQVVLW-SNAWJCMRSA-N</td>\n",
       "    </tr>\n",
       "    <tr>\n",
       "      <th>8</th>\n",
       "      <td>LJP005_A375_24H:A11</td>\n",
       "      <td>BRD-K76908866</td>\n",
       "      <td>CP-724714</td>\n",
       "      <td>trt_cp</td>\n",
       "      <td>A375</td>\n",
       "      <td>0.12 um</td>\n",
       "      <td>24 h</td>\n",
       "      <td>LJP005_A375_24H_X1_B19:A11|LJP005_A375_24H_X2_...</td>\n",
       "      <td>COCC(=O)NC\\C=C\\c1ccc2ncnc(Nc3ccc(Oc4ccc(C)nc4)...</td>\n",
       "      <td>LLVZBTWPGQVVLW-SNAWJCMRSA-N</td>\n",
       "    </tr>\n",
       "    <tr>\n",
       "      <th>...</th>\n",
       "      <td>...</td>\n",
       "      <td>...</td>\n",
       "      <td>...</td>\n",
       "      <td>...</td>\n",
       "      <td>...</td>\n",
       "      <td>...</td>\n",
       "      <td>...</td>\n",
       "      <td>...</td>\n",
       "      <td>...</td>\n",
       "      <td>...</td>\n",
       "    </tr>\n",
       "    <tr>\n",
       "      <th>113866</th>\n",
       "      <td>REP.A028_YAPC_24H:K09</td>\n",
       "      <td>BRD-K60230970</td>\n",
       "      <td>MG-132</td>\n",
       "      <td>trt_cp</td>\n",
       "      <td>YAPC</td>\n",
       "      <td>20.0 um</td>\n",
       "      <td>24 h</td>\n",
       "      <td>REP.A028_YAPC_24H_X2_B25:K09|REP.A028_YAPC_24H...</td>\n",
       "      <td>CC(C)C[C@H](NC(=O)[C@H](CC(C)C)NC(=O)[C@H](CC(...</td>\n",
       "      <td>TZYWCYJVHRLUCT-VABKMULXSA-N</td>\n",
       "    </tr>\n",
       "    <tr>\n",
       "      <th>113867</th>\n",
       "      <td>REP.A028_YAPC_24H:M18</td>\n",
       "      <td>BRD-K96862998</td>\n",
       "      <td>pirfenidone</td>\n",
       "      <td>trt_cp</td>\n",
       "      <td>YAPC</td>\n",
       "      <td>0.04 um</td>\n",
       "      <td>24 h</td>\n",
       "      <td>REP.A028_YAPC_24H_X2_B25:M18|REP.A028_YAPC_24H...</td>\n",
       "      <td>Cc1ccc(=O)n(c1)-c1ccccc1</td>\n",
       "      <td>ISWRGOKTTBVCFA-UHFFFAOYSA-N</td>\n",
       "    </tr>\n",
       "    <tr>\n",
       "      <th>113868</th>\n",
       "      <td>REP.A028_YAPC_24H:O01</td>\n",
       "      <td>BRD-K60230970</td>\n",
       "      <td>MG-132</td>\n",
       "      <td>trt_cp</td>\n",
       "      <td>YAPC</td>\n",
       "      <td>20.0 um</td>\n",
       "      <td>24 h</td>\n",
       "      <td>REP.A028_YAPC_24H_X2_B25:O01|REP.A028_YAPC_24H...</td>\n",
       "      <td>CC(C)C[C@H](NC(=O)[C@H](CC(C)C)NC(=O)[C@H](CC(...</td>\n",
       "      <td>TZYWCYJVHRLUCT-VABKMULXSA-N</td>\n",
       "    </tr>\n",
       "    <tr>\n",
       "      <th>113869</th>\n",
       "      <td>REP.A028_YAPC_24H:O06</td>\n",
       "      <td>BRD-K60230970</td>\n",
       "      <td>MG-132</td>\n",
       "      <td>trt_cp</td>\n",
       "      <td>YAPC</td>\n",
       "      <td>20.0 um</td>\n",
       "      <td>24 h</td>\n",
       "      <td>REP.A028_YAPC_24H_X2_B25:O06|REP.A028_YAPC_24H...</td>\n",
       "      <td>CC(C)C[C@H](NC(=O)[C@H](CC(C)C)NC(=O)[C@H](CC(...</td>\n",
       "      <td>TZYWCYJVHRLUCT-VABKMULXSA-N</td>\n",
       "    </tr>\n",
       "    <tr>\n",
       "      <th>113870</th>\n",
       "      <td>REP.A028_YAPC_24H:K10</td>\n",
       "      <td>BRD-K60230970</td>\n",
       "      <td>MG-132</td>\n",
       "      <td>trt_cp</td>\n",
       "      <td>YAPC</td>\n",
       "      <td>20.0 um</td>\n",
       "      <td>24 h</td>\n",
       "      <td>REP.A028_YAPC_24H_X3_B25:K10</td>\n",
       "      <td>CC(C)C[C@H](NC(=O)[C@H](CC(C)C)NC(=O)[C@H](CC(...</td>\n",
       "      <td>TZYWCYJVHRLUCT-VABKMULXSA-N</td>\n",
       "    </tr>\n",
       "  </tbody>\n",
       "</table>\n",
       "<p>107404 rows × 10 columns</p>\n",
       "</div>"
      ],
      "text/plain": [
       "                       sig_id        pert_id   pert_iname pert_type cell_id  \\\n",
       "4         LJP005_A375_24H:A07  BRD-K76908866    CP-724714    trt_cp    A375   \n",
       "5         LJP005_A375_24H:A08  BRD-K76908866    CP-724714    trt_cp    A375   \n",
       "6         LJP005_A375_24H:A09  BRD-K76908866    CP-724714    trt_cp    A375   \n",
       "7         LJP005_A375_24H:A10  BRD-K76908866    CP-724714    trt_cp    A375   \n",
       "8         LJP005_A375_24H:A11  BRD-K76908866    CP-724714    trt_cp    A375   \n",
       "...                       ...            ...          ...       ...     ...   \n",
       "113866  REP.A028_YAPC_24H:K09  BRD-K60230970       MG-132    trt_cp    YAPC   \n",
       "113867  REP.A028_YAPC_24H:M18  BRD-K96862998  pirfenidone    trt_cp    YAPC   \n",
       "113868  REP.A028_YAPC_24H:O01  BRD-K60230970       MG-132    trt_cp    YAPC   \n",
       "113869  REP.A028_YAPC_24H:O06  BRD-K60230970       MG-132    trt_cp    YAPC   \n",
       "113870  REP.A028_YAPC_24H:K10  BRD-K60230970       MG-132    trt_cp    YAPC   \n",
       "\n",
       "       pert_idose pert_itime  \\\n",
       "4         10.0 um       24 h   \n",
       "5         3.33 um       24 h   \n",
       "6         1.11 um       24 h   \n",
       "7         0.37 um       24 h   \n",
       "8         0.12 um       24 h   \n",
       "...           ...        ...   \n",
       "113866    20.0 um       24 h   \n",
       "113867    0.04 um       24 h   \n",
       "113868    20.0 um       24 h   \n",
       "113869    20.0 um       24 h   \n",
       "113870    20.0 um       24 h   \n",
       "\n",
       "                                                distil_id  \\\n",
       "4       LJP005_A375_24H_X1_B19:A07|LJP005_A375_24H_X2_...   \n",
       "5       LJP005_A375_24H_X1_B19:A08|LJP005_A375_24H_X2_...   \n",
       "6       LJP005_A375_24H_X1_B19:A09|LJP005_A375_24H_X2_...   \n",
       "7       LJP005_A375_24H_X1_B19:A10|LJP005_A375_24H_X2_...   \n",
       "8       LJP005_A375_24H_X1_B19:A11|LJP005_A375_24H_X2_...   \n",
       "...                                                   ...   \n",
       "113866  REP.A028_YAPC_24H_X2_B25:K09|REP.A028_YAPC_24H...   \n",
       "113867  REP.A028_YAPC_24H_X2_B25:M18|REP.A028_YAPC_24H...   \n",
       "113868  REP.A028_YAPC_24H_X2_B25:O01|REP.A028_YAPC_24H...   \n",
       "113869  REP.A028_YAPC_24H_X2_B25:O06|REP.A028_YAPC_24H...   \n",
       "113870                       REP.A028_YAPC_24H_X3_B25:K10   \n",
       "\n",
       "                                         canonical_smiles  \\\n",
       "4       COCC(=O)NC\\C=C\\c1ccc2ncnc(Nc3ccc(Oc4ccc(C)nc4)...   \n",
       "5       COCC(=O)NC\\C=C\\c1ccc2ncnc(Nc3ccc(Oc4ccc(C)nc4)...   \n",
       "6       COCC(=O)NC\\C=C\\c1ccc2ncnc(Nc3ccc(Oc4ccc(C)nc4)...   \n",
       "7       COCC(=O)NC\\C=C\\c1ccc2ncnc(Nc3ccc(Oc4ccc(C)nc4)...   \n",
       "8       COCC(=O)NC\\C=C\\c1ccc2ncnc(Nc3ccc(Oc4ccc(C)nc4)...   \n",
       "...                                                   ...   \n",
       "113866  CC(C)C[C@H](NC(=O)[C@H](CC(C)C)NC(=O)[C@H](CC(...   \n",
       "113867                           Cc1ccc(=O)n(c1)-c1ccccc1   \n",
       "113868  CC(C)C[C@H](NC(=O)[C@H](CC(C)C)NC(=O)[C@H](CC(...   \n",
       "113869  CC(C)C[C@H](NC(=O)[C@H](CC(C)C)NC(=O)[C@H](CC(...   \n",
       "113870  CC(C)C[C@H](NC(=O)[C@H](CC(C)C)NC(=O)[C@H](CC(...   \n",
       "\n",
       "                          inchi_key  \n",
       "4       LLVZBTWPGQVVLW-SNAWJCMRSA-N  \n",
       "5       LLVZBTWPGQVVLW-SNAWJCMRSA-N  \n",
       "6       LLVZBTWPGQVVLW-SNAWJCMRSA-N  \n",
       "7       LLVZBTWPGQVVLW-SNAWJCMRSA-N  \n",
       "8       LLVZBTWPGQVVLW-SNAWJCMRSA-N  \n",
       "...                             ...  \n",
       "113866  TZYWCYJVHRLUCT-VABKMULXSA-N  \n",
       "113867  ISWRGOKTTBVCFA-UHFFFAOYSA-N  \n",
       "113868  TZYWCYJVHRLUCT-VABKMULXSA-N  \n",
       "113869  TZYWCYJVHRLUCT-VABKMULXSA-N  \n",
       "113870  TZYWCYJVHRLUCT-VABKMULXSA-N  \n",
       "\n",
       "[107404 rows x 10 columns]"
      ]
     },
     "execution_count": 137,
     "metadata": {},
     "output_type": "execute_result"
    }
   ],
   "source": [
    "compound_perturbagens = compound_perturbagens[['pert_id', 'canonical_smiles', 'inchi_key']]\n",
    "key = \"pert_id\"\n",
    "comp_sig_info = comp_sig_info.join(compound_perturbagens.set_index(key),on=key)\n",
    "comp_sig_info"
   ]
  },
  {
   "cell_type": "markdown",
   "id": "20fef1b7-bf59-4729-a320-4dee069570ac",
   "metadata": {},
   "source": [
    "We didn't save much space with all this cleaning:"
   ]
  },
  {
   "cell_type": "code",
   "execution_count": 148,
   "id": "b92e3e62-33f7-4274-9e98-8fbedd596f12",
   "metadata": {},
   "outputs": [
    {
     "data": {
      "text/plain": [
       "'We still have 10.592612096 gigabytes'"
      ]
     },
     "execution_count": 148,
     "metadata": {},
     "output_type": "execute_result"
    }
   ],
   "source": [
    "f\"We still have {12328 * comp_sig_info.shape[0] * 8 / 1e9} gigabytes\""
   ]
  },
  {
   "cell_type": "markdown",
   "id": "e97ab9d5-32a0-4914-8b03-6491cbb9303b",
   "metadata": {},
   "source": [
    "But we can include only the data on landmark genes. Or we can include only the data on the cell types we care about."
   ]
  }
 ],
 "metadata": {
  "kernelspec": {
   "display_name": "Python 3 (ipykernel)",
   "language": "python",
   "name": "python3"
  },
  "language_info": {
   "codemirror_mode": {
    "name": "ipython",
    "version": 3
   },
   "file_extension": ".py",
   "mimetype": "text/x-python",
   "name": "python",
   "nbconvert_exporter": "python",
   "pygments_lexer": "ipython3",
   "version": "3.11.5"
  }
 },
 "nbformat": 4,
 "nbformat_minor": 5
}
