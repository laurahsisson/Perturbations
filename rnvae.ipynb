{
 "cells": [
  {
   "cell_type": "code",
   "execution_count": 113,
   "id": "f279ce28-8ea8-4ccd-9c63-b095228e175c",
   "metadata": {},
   "outputs": [],
   "source": [
    "import autoencoder\n",
    "import utils\n",
    "import mrrmse\n",
    "\n",
    "import pandas as pd\n",
    "import torch\n",
    "\n",
    "from sklearn.model_selection import KFold, train_test_split\n",
    "import numpy as np\n",
    "import tqdm"
   ]
  },
  {
   "cell_type": "markdown",
   "id": "771a0f9e-ed59-4568-b6e8-4599c153eb0d",
   "metadata": {},
   "source": [
    "## Prepare data:\n",
    "#### Read joined data (pre + post treatment)"
   ]
  },
  {
   "cell_type": "code",
   "execution_count": 5,
   "id": "9d400fd1-c55b-4cef-b8dc-8c88b50e7c36",
   "metadata": {},
   "outputs": [
    {
     "name": "stdout",
     "output_type": "stream",
     "text": [
      "lincs_joined_df = (107404, 1842)\n",
      "kaggle_joined_df = (602, 1841)\n",
      "test_joined_df = (255, 921)\n"
     ]
    }
   ],
   "source": [
    "lincs_joined_df = pd.read_parquet(\"data/lincs_pretreatment.parquet\")\n",
    "kaggle_joined_df = pd.read_parquet(\"data/kaggle_pretreatment.parquet\")\n",
    "test_joined_df = pd.read_parquet(\"data/test_pretreatment.parquet\")\n",
    "print(f\"lincs_joined_df = {lincs_joined_df.shape}\\nkaggle_joined_df = {kaggle_joined_df.shape}\\ntest_joined_df = {test_joined_df.shape}\")"
   ]
  },
  {
   "cell_type": "markdown",
   "id": "96590245-ca33-4fe3-8092-848b2286fb08",
   "metadata": {},
   "source": [
    "#### Kaggle provided data"
   ]
  },
  {
   "cell_type": "code",
   "execution_count": 6,
   "id": "4ec827ed-5c57-40df-ba5b-e2219b2e1e52",
   "metadata": {},
   "outputs": [
    {
     "name": "stdout",
     "output_type": "stream",
     "text": [
      "de_train = (614, 18216)\n",
      "id_map = (255, 2)\n"
     ]
    }
   ],
   "source": [
    "de_train = pd.read_parquet('data/de_train.parquet')\n",
    "id_map = pd.read_csv('data/id_map.csv',index_col='id')\n",
    "print(f\"de_train = {de_train.shape}\\nid_map = {id_map.shape}\")"
   ]
  },
  {
   "cell_type": "markdown",
   "id": "c526082f-43a6-4ac2-b099-16f9426d067c",
   "metadata": {},
   "source": [
    "#### Define features of interest and sort data accordingly."
   ]
  },
  {
   "cell_type": "code",
   "execution_count": 7,
   "id": "588df052-af79-4dc8-9349-93a02e923f93",
   "metadata": {},
   "outputs": [
    {
     "name": "stdout",
     "output_type": "stream",
     "text": [
      "transcriptome_cols = (18211,)\n",
      "landmark_cols = (918,)\n"
     ]
    }
   ],
   "source": [
    "features = ['cell_type', 'sm_name']\n",
    "multiindex_features = [(\"label\",'cell_type'),(\"label\",'sm_name')]\n",
    "\n",
    "transcriptome_cols = de_train.columns[5:]\n",
    "landmark_cols = kaggle_joined_df[\"post_treatment\"].columns\n",
    "print(f\"transcriptome_cols = {transcriptome_cols.shape}\\nlandmark_cols = {landmark_cols.shape}\")"
   ]
  },
  {
   "cell_type": "code",
   "execution_count": 8,
   "id": "c3cab5c9-b11b-44b3-a4d2-73d4b8a57bd3",
   "metadata": {},
   "outputs": [
    {
     "name": "stdout",
     "output_type": "stream",
     "text": [
      "Number of unique molecules = 1896.\n",
      "Number of unique cell types = 36.\n"
     ]
    }
   ],
   "source": [
    "unique_sm_name = pd.concat([lincs_joined_df[(\"label\",\"sm_name\")],kaggle_joined_df[(\"label\",\"sm_name\")]]).drop_duplicates().reset_index(drop=True)\n",
    "unique_cell_type = pd.concat([lincs_joined_df[(\"label\",\"cell_type\")],kaggle_joined_df[(\"label\",\"cell_type\")]]).drop_duplicates().reset_index(drop=True)\n",
    "print(f\"Number of unique molecules = {len(unique_sm_name)}.\\nNumber of unique cell types = {len(unique_cell_type)}.\")"
   ]
  },
  {
   "cell_type": "code",
   "execution_count": 9,
   "id": "fe4c7429-9062-45a5-8c88-7b8c4eda8204",
   "metadata": {},
   "outputs": [
    {
     "data": {
      "text/plain": [
       "True"
      ]
     },
     "execution_count": 9,
     "metadata": {},
     "output_type": "execute_result"
    }
   ],
   "source": [
    "# We only need to sort these two dataframes because they represent the same underlying dataset.\n",
    "de_train = de_train.query(\"~control\").sort_values(features)\n",
    "kaggle_joined_df = kaggle_joined_df.sort_values(multiindex_features)\n",
    "# Sanity check that these dfs align.\n",
    "genes_align = (kaggle_joined_df[\"post_treatment\"] == de_train[landmark_cols]).all(axis=None)\n",
    "labels_align = (kaggle_joined_df[\"label\"][features] == de_train[features]).all(axis=None)\n",
    "genes_align and labels_align"
   ]
  },
  {
   "cell_type": "markdown",
   "id": "0aa9dc95-c087-4b47-a1f4-1798d594a3b1",
   "metadata": {},
   "source": [
    "#### CV splits"
   ]
  },
  {
   "cell_type": "code",
   "execution_count": 10,
   "id": "fbcbabde-a608-441c-b942-67cf9f33aefe",
   "metadata": {},
   "outputs": [
    {
     "data": {
      "text/plain": [
       "30"
      ]
     },
     "execution_count": 10,
     "metadata": {},
     "output_type": "execute_result"
    }
   ],
   "source": [
    "eval_cells_only_df = kaggle_joined_df[kaggle_joined_df[\"label\"][\"cell_type\"].isin([\"B cells\", \"Myeloid cells\"])][multiindex_features]\n",
    "len(eval_cells_only_df)"
   ]
  },
  {
   "cell_type": "code",
   "execution_count": 11,
   "id": "40d753c9-b552-4c04-a63e-4cbb4504ec34",
   "metadata": {},
   "outputs": [
    {
     "name": "stdout",
     "output_type": "stream",
     "text": [
      "fold = 0 of shape (10, 2)\n",
      "fold = 1 of shape (10, 2)\n",
      "fold = 2 of shape (10, 2)\n"
     ]
    }
   ],
   "source": [
    "fold_to_eval_df = {}\n",
    "skf = KFold(n_splits=3, random_state=42, shuffle=True)\n",
    "for i,(t,v) in enumerate(skf.split(eval_cells_only_df)):\n",
    "    fold_to_eval_df[i] = eval_cells_only_df.iloc[v]\n",
    "\n",
    "for i, df in fold_to_eval_df.items():\n",
    "    print(f\"fold = {i} of shape {df.shape}\")"
   ]
  },
  {
   "cell_type": "code",
   "execution_count": 12,
   "id": "618b44f7-71a6-48e2-a2dd-0d396af97d76",
   "metadata": {},
   "outputs": [
    {
     "name": "stdout",
     "output_type": "stream",
     "text": [
      "Using fold 0 as validation set:\n",
      "Train data = (107994, 1843)\n",
      "Validation data = (12, 1841)\n"
     ]
    }
   ],
   "source": [
    "def make_mask(fold):\n",
    "    val = fold_to_eval_df[fold]\n",
    "    return kaggle_joined_df[(\"label\",\"sm_name\")].isin(val[(\"label\",\"sm_name\")]) & kaggle_joined_df[(\"label\",\"cell_type\")].isin(val[(\"label\",\"cell_type\")])\n",
    "\n",
    "print(\"Using fold 0 as validation set:\")\n",
    "print(f\"Train data = {pd.concat([kaggle_joined_df[~make_mask(0)],lincs_joined_df]).shape}\")\n",
    "print(f\"Validation data = {kaggle_joined_df[make_mask(0)].shape}\")"
   ]
  },
  {
   "cell_type": "code",
   "execution_count": 13,
   "id": "c35d4cde-5324-4c0b-81a2-975c25d843ed",
   "metadata": {},
   "outputs": [],
   "source": [
    "class Translator(torch.nn.Module):\n",
    "    def __init__(self,config):\n",
    "        super(Translator,self).__init__()\n",
    "        # This will eventually be changed to a GNN\n",
    "        self.smiles_embed = torch.nn.Embedding(len(unique_sm_name), config[\"sm_emb_size\"])\n",
    "\n",
    "        # This needs to be able to handle out of dictionary\n",
    "        self.cell_embed = torch.nn.Embedding(len(unique_cell_type), config[\"cell_emb_size\"])\n",
    "\n",
    "        self.config = config\n",
    "        input_dim = config[\"sm_emb_size\"] + config[\"cell_emb_size\"] + config[\"latent_dim\"]\n",
    "        self.translation = utils.make_sequential(input_dim,config[\"hidden_dim\"],config[\"latent_dim\"],config[\"dropout\"])\n",
    "\n",
    "    def forward(self,inp,z):\n",
    "        sm_emb = self.smiles_embed(inp[\"sm_name\"])\n",
    "        ct_emb = self.cell_embed(inp[\"cell_type\"])\n",
    "        x = torch.cat((sm_emb, ct_emb, z), dim=1)\n",
    "        return self.translation(x)"
   ]
  },
  {
   "cell_type": "code",
   "execution_count": 110,
   "id": "40c3d8cf-fbde-4aeb-905d-77d647bb7621",
   "metadata": {},
   "outputs": [],
   "source": [
    "class RNVAE(torch.nn.Module):\n",
    "    cell_type_map = {v: k for k,v in unique_cell_type.to_dict().items()}\n",
    "    sm_name_map = {v: k for k,v in unique_sm_name.to_dict().items()}\n",
    "    \n",
    "    def __init__(self,config):\n",
    "        super(RNVAE,self).__init__()\n",
    "        self.vae = autoencoder.AutoEncoder(target_dim=len(landmark_cols),config=config)\n",
    "        self.translator = Translator(config)\n",
    "\n",
    "    @classmethod\n",
    "    def make_input(cls, df, disabletqdm=True):\n",
    "        ct = df[(\"label\",\"cell_type\")].map(cls.cell_type_map)\n",
    "        sm = df[(\"label\",\"sm_name\")].map(cls.sm_name_map)\n",
    "        return [{\"cell_type\":torch.tensor(ct.iloc[i]),\n",
    "                \"sm_name\":torch.tensor(sm.iloc[i]),\n",
    "                \"pre_treatment\":torch.tensor(df[\"pre_treatment\"].iloc[i].to_numpy(),dtype=torch.float),\n",
    "                \"post_treatment\":torch.tensor(df[\"post_treatment\"].iloc[i].to_numpy(),dtype=torch.float)} for i in tqdm.tqdm(range(len(df)),disable=disabletqdm)]\n",
    "        \n",
    "    def forward(self,inp):\n",
    "        assert inp[\"pre_treatment\"].shape == inp[\"post_treatment\"].shape\n",
    "        latent = self.vae.latent(inp[\"pre_treatment\"])\n",
    "        z_prime = self.translator(inp,latent[\"z\"])\n",
    "        x_hat = self.vae.decode(z_prime)\n",
    "        return {\"x_hat\":x_hat, \"mu\": latent[\"mu\"], \"log_var\":latent[\"log_var\"]}\n",
    "\n",
    "    def loss_function(self,fwd,inp):\n",
    "        return self.vae.loss_function(fwd,inp[\"post_treatment\"])"
   ]
  },
  {
   "cell_type": "code",
   "execution_count": 107,
   "id": "e0a1930d-433a-47d1-82b7-56637dbbf4df",
   "metadata": {},
   "outputs": [],
   "source": [
    "class Imputer(torch.nn.Module):\n",
    "    def __init__(self,config,rnvae):\n",
    "        super(Imputer,self).__init__()\n",
    "        self.impute_loss_weight = config[\"impute_loss_weight\"]\n",
    "        self.imp = utils.make_sequential(len(landmark_cols),config[\"hidden_dim\"],len(transcriptome_cols),config[\"dropout\"])\n",
    "        self.rnvae = rnvae\n",
    "\n",
    "    @classmethod\n",
    "    def make_input(cls, mask):\n",
    "        kg_df = kaggle_joined_df[mask]\n",
    "        trn_df = de_train[mask]\n",
    "        rninp = RNVAE.make_input(kg_df)\n",
    "        trm = trn_df[transcriptome_cols]\n",
    "        for i,inp in enumerate(rninp):\n",
    "            inp[\"transcriptome\"] = torch.tensor(trm.iloc[i].to_numpy(), dtype=torch.float)\n",
    "        return rninp\n",
    "\n",
    "    def forward(self,inp):\n",
    "        fwd = self.rnvae(inp)\n",
    "        trm = self.imp(fwd[\"x_hat\"])\n",
    "        fwd[\"transcriptome\"] = trm\n",
    "        return fwd\n",
    "\n",
    "    def loss_function(self,fwd,inp):\n",
    "        trm_loss = torch.nn.functional.mse_loss(fwd[\"transcriptome\"], inp[\"transcriptome\"])\n",
    "        lossdict = self.rnvae.loss_function(fwd,inp)\n",
    "        lossdict[\"loss\"] += self.impute_loss_weight*trm_loss\n",
    "        lossdict[\"Transcriptome_Loss\"] = trm_loss.detach()\n",
    "        return lossdict\n"
   ]
  },
  {
   "cell_type": "code",
   "execution_count": 111,
   "id": "9a7bf023-9bf9-48c9-a734-1b1ff1d6fa48",
   "metadata": {},
   "outputs": [],
   "source": [
    "example_config = {\n",
    "    \"sm_emb_size\": 64,\n",
    "    \"cell_emb_size\": 32,\n",
    "    \"latent_dim\": 256,\n",
    "    \"hidden_dim\": 512,\n",
    "    \"dropout\": .1,\n",
    "    \"kld_weight\": 1,\n",
    "    \"impute_loss_weight\": 2,\n",
    "}\n",
    "\n",
    "# inp = RNVAE.make_input(kaggle_joined_df[make_mask(0)])\n",
    "# rnvae = RNVAE(example_config)\n",
    "# fwd = rnvae(inp)\n",
    "# display(fwd[\"x_hat\"].shape)\n",
    "# rnvae.loss_function(fwd,inp)\n",
    "\n",
    "# inp = Imputer.make_input(make_mask(0))\n",
    "# imputer = Imputer(example_config,rnvae)\n",
    "# imputer.loss_function(fwd,inp)"
   ]
  },
  {
   "cell_type": "code",
   "execution_count": 126,
   "id": "292fd1f0-aea5-4f60-b943-4376884cc608",
   "metadata": {},
   "outputs": [
    {
     "name": "stderr",
     "output_type": "stream",
     "text": [
      "100%|████████████████████████████████████| 10000/10000 [00:46<00:00, 215.04it/s]\n"
     ]
    }
   ],
   "source": [
    "lincs_subset = lincs_joined_df.sample(10000)\n",
    "rnvae_inp = RNVAE.make_input(lincs_subset, disabletqdm=False)\n",
    "rnvae_loader = torch.utils.data.DataLoader(rnvae_inp, batch_size=32)"
   ]
  },
  {
   "cell_type": "code",
   "execution_count": 129,
   "id": "fed2d2f9-716b-44e3-8379-95ea3ecdaa92",
   "metadata": {},
   "outputs": [],
   "source": [
    "imputer_inp = Imputer.make_input(~make_mask(0))\n",
    "imputer_loader = torch.utils.data.DataLoader(imputer_inp, batch_size=32)"
   ]
  },
  {
   "cell_type": "code",
   "execution_count": 130,
   "id": "81e19f66-3b3d-40fd-8733-0c6160b845b0",
   "metadata": {},
   "outputs": [
    {
     "name": "stdout",
     "output_type": "stream",
     "text": [
      "RNVAE {'loss': tensor(3.1455, grad_fn=<AddBackward0>), 'Reconstruction_Loss': tensor(2.7204), 'KLD': tensor(-0.4251)}\n",
      "RNVAE {'loss': tensor(2.3337, grad_fn=<AddBackward0>), 'Reconstruction_Loss': tensor(1.9090), 'KLD': tensor(-0.4246)}\n",
      "RNVAE {'loss': tensor(2.7411, grad_fn=<AddBackward0>), 'Reconstruction_Loss': tensor(2.3110), 'KLD': tensor(-0.4301)}\n",
      "RNVAE {'loss': tensor(1.9576, grad_fn=<AddBackward0>), 'Reconstruction_Loss': tensor(1.5331), 'KLD': tensor(-0.4245)}\n",
      "RNVAE {'loss': tensor(2.8466, grad_fn=<AddBackward0>), 'Reconstruction_Loss': tensor(2.4312), 'KLD': tensor(-0.4153)}\n",
      "RNVAE {'loss': tensor(1.5231, grad_fn=<AddBackward0>), 'Reconstruction_Loss': tensor(1.1002), 'KLD': tensor(-0.4230)}\n",
      "RNVAE {'loss': tensor(2.1744, grad_fn=<AddBackward0>), 'Reconstruction_Loss': tensor(1.7501), 'KLD': tensor(-0.4243)}\n",
      "RNVAE {'loss': tensor(1.6524, grad_fn=<AddBackward0>), 'Reconstruction_Loss': tensor(1.2315), 'KLD': tensor(-0.4209)}\n",
      "RNVAE {'loss': tensor(2.9606, grad_fn=<AddBackward0>), 'Reconstruction_Loss': tensor(2.5399), 'KLD': tensor(-0.4208)}\n",
      "RNVAE {'loss': tensor(2.9538, grad_fn=<AddBackward0>), 'Reconstruction_Loss': tensor(2.5382), 'KLD': tensor(-0.4157)}\n",
      "RNVAE {'loss': tensor(2.4465, grad_fn=<AddBackward0>), 'Reconstruction_Loss': tensor(2.0255), 'KLD': tensor(-0.4210)}\n",
      "RNVAE {'loss': tensor(2.6917, grad_fn=<AddBackward0>), 'Reconstruction_Loss': tensor(2.2782), 'KLD': tensor(-0.4136)}\n",
      "RNVAE {'loss': tensor(3.3265, grad_fn=<AddBackward0>), 'Reconstruction_Loss': tensor(2.9068), 'KLD': tensor(-0.4197)}\n",
      "RNVAE {'loss': tensor(2.6490, grad_fn=<AddBackward0>), 'Reconstruction_Loss': tensor(2.2308), 'KLD': tensor(-0.4181)}\n",
      "RNVAE {'loss': tensor(1.9672, grad_fn=<AddBackward0>), 'Reconstruction_Loss': tensor(1.5487), 'KLD': tensor(-0.4185)}\n",
      "RNVAE {'loss': tensor(1.8728, grad_fn=<AddBackward0>), 'Reconstruction_Loss': tensor(1.4430), 'KLD': tensor(-0.4297)}\n",
      "RNVAE {'loss': tensor(2.2672, grad_fn=<AddBackward0>), 'Reconstruction_Loss': tensor(1.8331), 'KLD': tensor(-0.4342)}\n",
      "RNVAE {'loss': tensor(3.2721, grad_fn=<AddBackward0>), 'Reconstruction_Loss': tensor(2.8489), 'KLD': tensor(-0.4231)}\n",
      "RNVAE {'loss': tensor(3.0252, grad_fn=<AddBackward0>), 'Reconstruction_Loss': tensor(2.6040), 'KLD': tensor(-0.4213)}\n",
      "RNVAE {'loss': tensor(2.5042, grad_fn=<AddBackward0>), 'Reconstruction_Loss': tensor(2.0898), 'KLD': tensor(-0.4143)}\n",
      "RNVAE {'loss': tensor(2.3259, grad_fn=<AddBackward0>), 'Reconstruction_Loss': tensor(1.9019), 'KLD': tensor(-0.4240)}\n",
      "RNVAE {'loss': tensor(2.9034, grad_fn=<AddBackward0>), 'Reconstruction_Loss': tensor(2.4699), 'KLD': tensor(-0.4335)}\n",
      "RNVAE {'loss': tensor(3.7938, grad_fn=<AddBackward0>), 'Reconstruction_Loss': tensor(3.3755), 'KLD': tensor(-0.4183)}\n",
      "RNVAE {'loss': tensor(2.3562, grad_fn=<AddBackward0>), 'Reconstruction_Loss': tensor(1.9335), 'KLD': tensor(-0.4227)}\n",
      "RNVAE {'loss': tensor(3.5034, grad_fn=<AddBackward0>), 'Reconstruction_Loss': tensor(3.0905), 'KLD': tensor(-0.4129)}\n",
      "RNVAE {'loss': tensor(1.8232, grad_fn=<AddBackward0>), 'Reconstruction_Loss': tensor(1.4080), 'KLD': tensor(-0.4151)}\n",
      "RNVAE {'loss': tensor(2.2650, grad_fn=<AddBackward0>), 'Reconstruction_Loss': tensor(1.8408), 'KLD': tensor(-0.4242)}\n",
      "RNVAE {'loss': tensor(1.6367, grad_fn=<AddBackward0>), 'Reconstruction_Loss': tensor(1.2165), 'KLD': tensor(-0.4202)}\n",
      "RNVAE {'loss': tensor(2.0958, grad_fn=<AddBackward0>), 'Reconstruction_Loss': tensor(1.6779), 'KLD': tensor(-0.4179)}\n",
      "RNVAE {'loss': tensor(3.2748, grad_fn=<AddBackward0>), 'Reconstruction_Loss': tensor(2.8526), 'KLD': tensor(-0.4222)}\n",
      "RNVAE {'loss': tensor(2.2625, grad_fn=<AddBackward0>), 'Reconstruction_Loss': tensor(1.8414), 'KLD': tensor(-0.4211)}\n",
      "RNVAE {'loss': tensor(3.0981, grad_fn=<AddBackward0>), 'Reconstruction_Loss': tensor(2.6762), 'KLD': tensor(-0.4220)}\n",
      "RNVAE {'loss': tensor(2.3510, grad_fn=<AddBackward0>), 'Reconstruction_Loss': tensor(1.9267), 'KLD': tensor(-0.4242)}\n",
      "RNVAE {'loss': tensor(2.8142, grad_fn=<AddBackward0>), 'Reconstruction_Loss': tensor(2.3903), 'KLD': tensor(-0.4239)}\n",
      "RNVAE {'loss': tensor(2.5764, grad_fn=<AddBackward0>), 'Reconstruction_Loss': tensor(2.1449), 'KLD': tensor(-0.4315)}\n",
      "RNVAE {'loss': tensor(2.1909, grad_fn=<AddBackward0>), 'Reconstruction_Loss': tensor(1.7694), 'KLD': tensor(-0.4215)}\n",
      "RNVAE {'loss': tensor(1.5248, grad_fn=<AddBackward0>), 'Reconstruction_Loss': tensor(1.1052), 'KLD': tensor(-0.4195)}\n",
      "RNVAE {'loss': tensor(2.5397, grad_fn=<AddBackward0>), 'Reconstruction_Loss': tensor(2.1141), 'KLD': tensor(-0.4256)}\n",
      "RNVAE {'loss': tensor(2.3092, grad_fn=<AddBackward0>), 'Reconstruction_Loss': tensor(1.8901), 'KLD': tensor(-0.4191)}\n",
      "RNVAE {'loss': tensor(2.3434, grad_fn=<AddBackward0>), 'Reconstruction_Loss': tensor(1.9065), 'KLD': tensor(-0.4370)}\n",
      "RNVAE {'loss': tensor(2.2978, grad_fn=<AddBackward0>), 'Reconstruction_Loss': tensor(1.8669), 'KLD': tensor(-0.4309)}\n",
      "RNVAE {'loss': tensor(2.9914, grad_fn=<AddBackward0>), 'Reconstruction_Loss': tensor(2.5624), 'KLD': tensor(-0.4291)}\n",
      "RNVAE {'loss': tensor(2.8217, grad_fn=<AddBackward0>), 'Reconstruction_Loss': tensor(2.4000), 'KLD': tensor(-0.4216)}\n",
      "RNVAE {'loss': tensor(2.0061, grad_fn=<AddBackward0>), 'Reconstruction_Loss': tensor(1.5832), 'KLD': tensor(-0.4229)}\n",
      "RNVAE {'loss': tensor(1.7262, grad_fn=<AddBackward0>), 'Reconstruction_Loss': tensor(1.2985), 'KLD': tensor(-0.4277)}\n",
      "RNVAE {'loss': tensor(2.7458, grad_fn=<AddBackward0>), 'Reconstruction_Loss': tensor(2.3328), 'KLD': tensor(-0.4130)}\n",
      "RNVAE {'loss': tensor(1.9825, grad_fn=<AddBackward0>), 'Reconstruction_Loss': tensor(1.5546), 'KLD': tensor(-0.4278)}\n",
      "RNVAE {'loss': tensor(4.3434, grad_fn=<AddBackward0>), 'Reconstruction_Loss': tensor(3.9079), 'KLD': tensor(-0.4355)}\n",
      "RNVAE {'loss': tensor(2.1152, grad_fn=<AddBackward0>), 'Reconstruction_Loss': tensor(1.6757), 'KLD': tensor(-0.4395)}\n",
      "RNVAE {'loss': tensor(2.1049, grad_fn=<AddBackward0>), 'Reconstruction_Loss': tensor(1.6999), 'KLD': tensor(-0.4050)}\n",
      "RNVAE {'loss': tensor(1.6670, grad_fn=<AddBackward0>), 'Reconstruction_Loss': tensor(1.2389), 'KLD': tensor(-0.4281)}\n",
      "RNVAE {'loss': tensor(1.9711, grad_fn=<AddBackward0>), 'Reconstruction_Loss': tensor(1.5507), 'KLD': tensor(-0.4204)}\n",
      "RNVAE {'loss': tensor(2.5681, grad_fn=<AddBackward0>), 'Reconstruction_Loss': tensor(2.1517), 'KLD': tensor(-0.4164)}\n",
      "RNVAE {'loss': tensor(4.0819, grad_fn=<AddBackward0>), 'Reconstruction_Loss': tensor(3.6775), 'KLD': tensor(-0.4044)}\n",
      "RNVAE {'loss': tensor(3.0902, grad_fn=<AddBackward0>), 'Reconstruction_Loss': tensor(2.6713), 'KLD': tensor(-0.4189)}\n",
      "RNVAE {'loss': tensor(3.3611, grad_fn=<AddBackward0>), 'Reconstruction_Loss': tensor(2.9359), 'KLD': tensor(-0.4251)}\n",
      "RNVAE {'loss': tensor(2.2181, grad_fn=<AddBackward0>), 'Reconstruction_Loss': tensor(1.8041), 'KLD': tensor(-0.4140)}\n",
      "RNVAE {'loss': tensor(1.7024, grad_fn=<AddBackward0>), 'Reconstruction_Loss': tensor(1.2821), 'KLD': tensor(-0.4203)}\n",
      "RNVAE {'loss': tensor(4.4221, grad_fn=<AddBackward0>), 'Reconstruction_Loss': tensor(4.0067), 'KLD': tensor(-0.4153)}\n",
      "RNVAE {'loss': tensor(1.7516, grad_fn=<AddBackward0>), 'Reconstruction_Loss': tensor(1.3382), 'KLD': tensor(-0.4134)}\n",
      "RNVAE {'loss': tensor(2.0015, grad_fn=<AddBackward0>), 'Reconstruction_Loss': tensor(1.5672), 'KLD': tensor(-0.4343)}\n",
      "RNVAE {'loss': tensor(1.7255, grad_fn=<AddBackward0>), 'Reconstruction_Loss': tensor(1.2835), 'KLD': tensor(-0.4419)}\n",
      "RNVAE {'loss': tensor(3.1026, grad_fn=<AddBackward0>), 'Reconstruction_Loss': tensor(2.6812), 'KLD': tensor(-0.4214)}\n",
      "RNVAE {'loss': tensor(1.8767, grad_fn=<AddBackward0>), 'Reconstruction_Loss': tensor(1.4629), 'KLD': tensor(-0.4138)}\n",
      "RNVAE {'loss': tensor(2.9026, grad_fn=<AddBackward0>), 'Reconstruction_Loss': tensor(2.4826), 'KLD': tensor(-0.4200)}\n",
      "RNVAE {'loss': tensor(2.8199, grad_fn=<AddBackward0>), 'Reconstruction_Loss': tensor(2.4071), 'KLD': tensor(-0.4127)}\n",
      "RNVAE {'loss': tensor(2.0011, grad_fn=<AddBackward0>), 'Reconstruction_Loss': tensor(1.5716), 'KLD': tensor(-0.4294)}\n",
      "RNVAE {'loss': tensor(1.7245, grad_fn=<AddBackward0>), 'Reconstruction_Loss': tensor(1.3002), 'KLD': tensor(-0.4244)}\n",
      "RNVAE {'loss': tensor(2.1339, grad_fn=<AddBackward0>), 'Reconstruction_Loss': tensor(1.7149), 'KLD': tensor(-0.4190)}\n",
      "RNVAE {'loss': tensor(3.2716, grad_fn=<AddBackward0>), 'Reconstruction_Loss': tensor(2.8520), 'KLD': tensor(-0.4196)}\n",
      "RNVAE {'loss': tensor(1.5894, grad_fn=<AddBackward0>), 'Reconstruction_Loss': tensor(1.1635), 'KLD': tensor(-0.4259)}\n",
      "RNVAE {'loss': tensor(2.1007, grad_fn=<AddBackward0>), 'Reconstruction_Loss': tensor(1.6748), 'KLD': tensor(-0.4260)}\n",
      "RNVAE {'loss': tensor(1.8509, grad_fn=<AddBackward0>), 'Reconstruction_Loss': tensor(1.4212), 'KLD': tensor(-0.4297)}\n",
      "RNVAE {'loss': tensor(2.4328, grad_fn=<AddBackward0>), 'Reconstruction_Loss': tensor(2.0043), 'KLD': tensor(-0.4285)}\n",
      "RNVAE {'loss': tensor(2.9957, grad_fn=<AddBackward0>), 'Reconstruction_Loss': tensor(2.5675), 'KLD': tensor(-0.4282)}\n",
      "RNVAE {'loss': tensor(1.6888, grad_fn=<AddBackward0>), 'Reconstruction_Loss': tensor(1.2634), 'KLD': tensor(-0.4254)}\n",
      "RNVAE {'loss': tensor(2.5957, grad_fn=<AddBackward0>), 'Reconstruction_Loss': tensor(2.1713), 'KLD': tensor(-0.4243)}\n",
      "RNVAE {'loss': tensor(1.7305, grad_fn=<AddBackward0>), 'Reconstruction_Loss': tensor(1.3114), 'KLD': tensor(-0.4191)}\n",
      "RNVAE {'loss': tensor(3.6945, grad_fn=<AddBackward0>), 'Reconstruction_Loss': tensor(3.2838), 'KLD': tensor(-0.4107)}\n",
      "RNVAE {'loss': tensor(2.0454, grad_fn=<AddBackward0>), 'Reconstruction_Loss': tensor(1.6227), 'KLD': tensor(-0.4227)}\n",
      "RNVAE {'loss': tensor(2.3495, grad_fn=<AddBackward0>), 'Reconstruction_Loss': tensor(1.9281), 'KLD': tensor(-0.4214)}\n",
      "RNVAE {'loss': tensor(3.8680, grad_fn=<AddBackward0>), 'Reconstruction_Loss': tensor(3.4409), 'KLD': tensor(-0.4271)}\n",
      "RNVAE {'loss': tensor(2.5397, grad_fn=<AddBackward0>), 'Reconstruction_Loss': tensor(2.1212), 'KLD': tensor(-0.4185)}\n",
      "RNVAE {'loss': tensor(3.2400, grad_fn=<AddBackward0>), 'Reconstruction_Loss': tensor(2.8237), 'KLD': tensor(-0.4163)}\n",
      "RNVAE {'loss': tensor(2.4781, grad_fn=<AddBackward0>), 'Reconstruction_Loss': tensor(2.0467), 'KLD': tensor(-0.4314)}\n",
      "RNVAE {'loss': tensor(1.4616, grad_fn=<AddBackward0>), 'Reconstruction_Loss': tensor(1.0415), 'KLD': tensor(-0.4201)}\n",
      "RNVAE {'loss': tensor(2.6781, grad_fn=<AddBackward0>), 'Reconstruction_Loss': tensor(2.2346), 'KLD': tensor(-0.4435)}\n",
      "RNVAE {'loss': tensor(2.2728, grad_fn=<AddBackward0>), 'Reconstruction_Loss': tensor(1.8527), 'KLD': tensor(-0.4201)}\n",
      "RNVAE {'loss': tensor(2.3218, grad_fn=<AddBackward0>), 'Reconstruction_Loss': tensor(1.8910), 'KLD': tensor(-0.4308)}\n",
      "RNVAE {'loss': tensor(1.8156, grad_fn=<AddBackward0>), 'Reconstruction_Loss': tensor(1.3945), 'KLD': tensor(-0.4211)}\n",
      "RNVAE {'loss': tensor(3.3262, grad_fn=<AddBackward0>), 'Reconstruction_Loss': tensor(2.9106), 'KLD': tensor(-0.4156)}\n",
      "RNVAE {'loss': tensor(2.3892, grad_fn=<AddBackward0>), 'Reconstruction_Loss': tensor(1.9559), 'KLD': tensor(-0.4333)}\n",
      "RNVAE {'loss': tensor(2.9921, grad_fn=<AddBackward0>), 'Reconstruction_Loss': tensor(2.5702), 'KLD': tensor(-0.4219)}\n",
      "RNVAE {'loss': tensor(2.3652, grad_fn=<AddBackward0>), 'Reconstruction_Loss': tensor(1.9421), 'KLD': tensor(-0.4231)}\n",
      "RNVAE {'loss': tensor(2.3967, grad_fn=<AddBackward0>), 'Reconstruction_Loss': tensor(1.9647), 'KLD': tensor(-0.4320)}\n",
      "RNVAE {'loss': tensor(2.3564, grad_fn=<AddBackward0>), 'Reconstruction_Loss': tensor(1.9416), 'KLD': tensor(-0.4148)}\n",
      "RNVAE {'loss': tensor(3.0841, grad_fn=<AddBackward0>), 'Reconstruction_Loss': tensor(2.6728), 'KLD': tensor(-0.4113)}\n",
      "RNVAE {'loss': tensor(2.1531, grad_fn=<AddBackward0>), 'Reconstruction_Loss': tensor(1.7277), 'KLD': tensor(-0.4254)}\n",
      "RNVAE {'loss': tensor(2.4762, grad_fn=<AddBackward0>), 'Reconstruction_Loss': tensor(2.0495), 'KLD': tensor(-0.4268)}\n",
      "RNVAE {'loss': tensor(3.0992, grad_fn=<AddBackward0>), 'Reconstruction_Loss': tensor(2.6760), 'KLD': tensor(-0.4232)}\n",
      "RNVAE {'loss': tensor(2.8417, grad_fn=<AddBackward0>), 'Reconstruction_Loss': tensor(2.4211), 'KLD': tensor(-0.4206)}\n",
      "RNVAE {'loss': tensor(1.8626, grad_fn=<AddBackward0>), 'Reconstruction_Loss': tensor(1.4272), 'KLD': tensor(-0.4354)}\n",
      "RNVAE {'loss': tensor(2.4253, grad_fn=<AddBackward0>), 'Reconstruction_Loss': tensor(2.0127), 'KLD': tensor(-0.4126)}\n",
      "RNVAE {'loss': tensor(2.2131, grad_fn=<AddBackward0>), 'Reconstruction_Loss': tensor(1.7901), 'KLD': tensor(-0.4231)}\n",
      "RNVAE {'loss': tensor(1.9664, grad_fn=<AddBackward0>), 'Reconstruction_Loss': tensor(1.5378), 'KLD': tensor(-0.4287)}\n",
      "RNVAE {'loss': tensor(3.4157, grad_fn=<AddBackward0>), 'Reconstruction_Loss': tensor(3.0035), 'KLD': tensor(-0.4122)}\n",
      "RNVAE {'loss': tensor(1.9098, grad_fn=<AddBackward0>), 'Reconstruction_Loss': tensor(1.4857), 'KLD': tensor(-0.4241)}\n",
      "RNVAE {'loss': tensor(2.9858, grad_fn=<AddBackward0>), 'Reconstruction_Loss': tensor(2.5761), 'KLD': tensor(-0.4097)}\n",
      "RNVAE {'loss': tensor(3.0567, grad_fn=<AddBackward0>), 'Reconstruction_Loss': tensor(2.6430), 'KLD': tensor(-0.4138)}\n",
      "RNVAE {'loss': tensor(2.4449, grad_fn=<AddBackward0>), 'Reconstruction_Loss': tensor(2.0302), 'KLD': tensor(-0.4147)}\n",
      "RNVAE {'loss': tensor(3.3915, grad_fn=<AddBackward0>), 'Reconstruction_Loss': tensor(2.9599), 'KLD': tensor(-0.4316)}\n",
      "RNVAE {'loss': tensor(3.4702, grad_fn=<AddBackward0>), 'Reconstruction_Loss': tensor(3.0584), 'KLD': tensor(-0.4119)}\n",
      "RNVAE {'loss': tensor(2.4853, grad_fn=<AddBackward0>), 'Reconstruction_Loss': tensor(2.0561), 'KLD': tensor(-0.4291)}\n",
      "RNVAE {'loss': tensor(2.7897, grad_fn=<AddBackward0>), 'Reconstruction_Loss': tensor(2.3696), 'KLD': tensor(-0.4201)}\n",
      "RNVAE {'loss': tensor(3.5267, grad_fn=<AddBackward0>), 'Reconstruction_Loss': tensor(3.1150), 'KLD': tensor(-0.4117)}\n",
      "RNVAE {'loss': tensor(2.6254, grad_fn=<AddBackward0>), 'Reconstruction_Loss': tensor(2.2012), 'KLD': tensor(-0.4242)}\n",
      "RNVAE {'loss': tensor(3.1863, grad_fn=<AddBackward0>), 'Reconstruction_Loss': tensor(2.7728), 'KLD': tensor(-0.4136)}\n",
      "RNVAE {'loss': tensor(2.5148, grad_fn=<AddBackward0>), 'Reconstruction_Loss': tensor(2.0817), 'KLD': tensor(-0.4331)}\n",
      "RNVAE {'loss': tensor(2.7338, grad_fn=<AddBackward0>), 'Reconstruction_Loss': tensor(2.3120), 'KLD': tensor(-0.4217)}\n",
      "RNVAE {'loss': tensor(2.4588, grad_fn=<AddBackward0>), 'Reconstruction_Loss': tensor(2.0436), 'KLD': tensor(-0.4152)}\n",
      "RNVAE {'loss': tensor(3.1751, grad_fn=<AddBackward0>), 'Reconstruction_Loss': tensor(2.7567), 'KLD': tensor(-0.4184)}\n",
      "RNVAE {'loss': tensor(1.7988, grad_fn=<AddBackward0>), 'Reconstruction_Loss': tensor(1.3784), 'KLD': tensor(-0.4203)}\n",
      "RNVAE {'loss': tensor(2.1058, grad_fn=<AddBackward0>), 'Reconstruction_Loss': tensor(1.6988), 'KLD': tensor(-0.4070)}\n",
      "RNVAE {'loss': tensor(2.4128, grad_fn=<AddBackward0>), 'Reconstruction_Loss': tensor(1.9851), 'KLD': tensor(-0.4277)}\n",
      "RNVAE {'loss': tensor(2.6494, grad_fn=<AddBackward0>), 'Reconstruction_Loss': tensor(2.2239), 'KLD': tensor(-0.4256)}\n",
      "RNVAE {'loss': tensor(2.2172, grad_fn=<AddBackward0>), 'Reconstruction_Loss': tensor(1.7961), 'KLD': tensor(-0.4212)}\n",
      "RNVAE {'loss': tensor(2.1803, grad_fn=<AddBackward0>), 'Reconstruction_Loss': tensor(1.7675), 'KLD': tensor(-0.4128)}\n",
      "RNVAE {'loss': tensor(2.5821, grad_fn=<AddBackward0>), 'Reconstruction_Loss': tensor(2.1587), 'KLD': tensor(-0.4234)}\n",
      "RNVAE {'loss': tensor(4.0879, grad_fn=<AddBackward0>), 'Reconstruction_Loss': tensor(3.6683), 'KLD': tensor(-0.4196)}\n",
      "RNVAE {'loss': tensor(2.4197, grad_fn=<AddBackward0>), 'Reconstruction_Loss': tensor(1.9854), 'KLD': tensor(-0.4344)}\n",
      "RNVAE {'loss': tensor(1.8097, grad_fn=<AddBackward0>), 'Reconstruction_Loss': tensor(1.3955), 'KLD': tensor(-0.4143)}\n",
      "RNVAE {'loss': tensor(3.4110, grad_fn=<AddBackward0>), 'Reconstruction_Loss': tensor(2.9799), 'KLD': tensor(-0.4312)}\n",
      "RNVAE {'loss': tensor(2.6470, grad_fn=<AddBackward0>), 'Reconstruction_Loss': tensor(2.2164), 'KLD': tensor(-0.4306)}\n",
      "RNVAE {'loss': tensor(3.2630, grad_fn=<AddBackward0>), 'Reconstruction_Loss': tensor(2.8498), 'KLD': tensor(-0.4132)}\n",
      "RNVAE {'loss': tensor(3.4206, grad_fn=<AddBackward0>), 'Reconstruction_Loss': tensor(3.0004), 'KLD': tensor(-0.4201)}\n",
      "RNVAE {'loss': tensor(4.0985, grad_fn=<AddBackward0>), 'Reconstruction_Loss': tensor(3.6791), 'KLD': tensor(-0.4194)}\n",
      "RNVAE {'loss': tensor(2.4675, grad_fn=<AddBackward0>), 'Reconstruction_Loss': tensor(2.0462), 'KLD': tensor(-0.4212)}\n",
      "RNVAE {'loss': tensor(3.0454, grad_fn=<AddBackward0>), 'Reconstruction_Loss': tensor(2.6197), 'KLD': tensor(-0.4257)}\n",
      "RNVAE {'loss': tensor(1.9842, grad_fn=<AddBackward0>), 'Reconstruction_Loss': tensor(1.5757), 'KLD': tensor(-0.4085)}\n",
      "RNVAE {'loss': tensor(2.7724, grad_fn=<AddBackward0>), 'Reconstruction_Loss': tensor(2.3429), 'KLD': tensor(-0.4295)}\n",
      "RNVAE {'loss': tensor(2.6902, grad_fn=<AddBackward0>), 'Reconstruction_Loss': tensor(2.2813), 'KLD': tensor(-0.4088)}\n",
      "RNVAE {'loss': tensor(3.9659, grad_fn=<AddBackward0>), 'Reconstruction_Loss': tensor(3.5586), 'KLD': tensor(-0.4072)}\n",
      "RNVAE {'loss': tensor(2.4524, grad_fn=<AddBackward0>), 'Reconstruction_Loss': tensor(2.0109), 'KLD': tensor(-0.4415)}\n",
      "RNVAE {'loss': tensor(2.6123, grad_fn=<AddBackward0>), 'Reconstruction_Loss': tensor(2.1913), 'KLD': tensor(-0.4210)}\n",
      "RNVAE {'loss': tensor(3.2238, grad_fn=<AddBackward0>), 'Reconstruction_Loss': tensor(2.7915), 'KLD': tensor(-0.4323)}\n",
      "RNVAE {'loss': tensor(2.3335, grad_fn=<AddBackward0>), 'Reconstruction_Loss': tensor(1.9127), 'KLD': tensor(-0.4208)}\n",
      "RNVAE {'loss': tensor(2.0333, grad_fn=<AddBackward0>), 'Reconstruction_Loss': tensor(1.6088), 'KLD': tensor(-0.4245)}\n",
      "RNVAE {'loss': tensor(2.2080, grad_fn=<AddBackward0>), 'Reconstruction_Loss': tensor(1.7806), 'KLD': tensor(-0.4274)}\n",
      "RNVAE {'loss': tensor(2.5495, grad_fn=<AddBackward0>), 'Reconstruction_Loss': tensor(2.1193), 'KLD': tensor(-0.4302)}\n",
      "RNVAE {'loss': tensor(1.7031, grad_fn=<AddBackward0>), 'Reconstruction_Loss': tensor(1.2749), 'KLD': tensor(-0.4281)}\n",
      "RNVAE {'loss': tensor(3.4870, grad_fn=<AddBackward0>), 'Reconstruction_Loss': tensor(3.0513), 'KLD': tensor(-0.4357)}\n",
      "RNVAE {'loss': tensor(2.2306, grad_fn=<AddBackward0>), 'Reconstruction_Loss': tensor(1.8200), 'KLD': tensor(-0.4105)}\n",
      "RNVAE {'loss': tensor(2.3671, grad_fn=<AddBackward0>), 'Reconstruction_Loss': tensor(1.9601), 'KLD': tensor(-0.4070)}\n",
      "RNVAE {'loss': tensor(2.2500, grad_fn=<AddBackward0>), 'Reconstruction_Loss': tensor(1.8288), 'KLD': tensor(-0.4212)}\n",
      "RNVAE {'loss': tensor(2.3196, grad_fn=<AddBackward0>), 'Reconstruction_Loss': tensor(1.8954), 'KLD': tensor(-0.4243)}\n",
      "RNVAE {'loss': tensor(2.6431, grad_fn=<AddBackward0>), 'Reconstruction_Loss': tensor(2.2283), 'KLD': tensor(-0.4148)}\n",
      "RNVAE {'loss': tensor(2.5754, grad_fn=<AddBackward0>), 'Reconstruction_Loss': tensor(2.1588), 'KLD': tensor(-0.4166)}\n",
      "RNVAE {'loss': tensor(2.4248, grad_fn=<AddBackward0>), 'Reconstruction_Loss': tensor(2.0005), 'KLD': tensor(-0.4243)}\n",
      "RNVAE {'loss': tensor(2.7859, grad_fn=<AddBackward0>), 'Reconstruction_Loss': tensor(2.3636), 'KLD': tensor(-0.4223)}\n",
      "RNVAE {'loss': tensor(3.1400, grad_fn=<AddBackward0>), 'Reconstruction_Loss': tensor(2.7298), 'KLD': tensor(-0.4101)}\n",
      "RNVAE {'loss': tensor(2.0000, grad_fn=<AddBackward0>), 'Reconstruction_Loss': tensor(1.5803), 'KLD': tensor(-0.4197)}\n",
      "RNVAE {'loss': tensor(2.6931, grad_fn=<AddBackward0>), 'Reconstruction_Loss': tensor(2.2585), 'KLD': tensor(-0.4346)}\n",
      "RNVAE {'loss': tensor(2.0834, grad_fn=<AddBackward0>), 'Reconstruction_Loss': tensor(1.6734), 'KLD': tensor(-0.4100)}\n",
      "RNVAE {'loss': tensor(3.5042, grad_fn=<AddBackward0>), 'Reconstruction_Loss': tensor(3.0873), 'KLD': tensor(-0.4168)}\n",
      "RNVAE {'loss': tensor(3.1880, grad_fn=<AddBackward0>), 'Reconstruction_Loss': tensor(2.7741), 'KLD': tensor(-0.4139)}\n",
      "RNVAE {'loss': tensor(3.9730, grad_fn=<AddBackward0>), 'Reconstruction_Loss': tensor(3.5615), 'KLD': tensor(-0.4115)}\n",
      "RNVAE {'loss': tensor(3.0513, grad_fn=<AddBackward0>), 'Reconstruction_Loss': tensor(2.6324), 'KLD': tensor(-0.4189)}\n",
      "RNVAE {'loss': tensor(2.9184, grad_fn=<AddBackward0>), 'Reconstruction_Loss': tensor(2.5075), 'KLD': tensor(-0.4109)}\n",
      "RNVAE {'loss': tensor(2.5164, grad_fn=<AddBackward0>), 'Reconstruction_Loss': tensor(2.0990), 'KLD': tensor(-0.4174)}\n",
      "RNVAE {'loss': tensor(1.8372, grad_fn=<AddBackward0>), 'Reconstruction_Loss': tensor(1.4151), 'KLD': tensor(-0.4221)}\n",
      "RNVAE {'loss': tensor(2.6569, grad_fn=<AddBackward0>), 'Reconstruction_Loss': tensor(2.2212), 'KLD': tensor(-0.4357)}\n",
      "RNVAE {'loss': tensor(3.3988, grad_fn=<AddBackward0>), 'Reconstruction_Loss': tensor(2.9834), 'KLD': tensor(-0.4154)}\n",
      "RNVAE {'loss': tensor(2.7851, grad_fn=<AddBackward0>), 'Reconstruction_Loss': tensor(2.3500), 'KLD': tensor(-0.4352)}\n",
      "RNVAE {'loss': tensor(2.5813, grad_fn=<AddBackward0>), 'Reconstruction_Loss': tensor(2.1724), 'KLD': tensor(-0.4089)}\n",
      "RNVAE {'loss': tensor(1.4511, grad_fn=<AddBackward0>), 'Reconstruction_Loss': tensor(1.0122), 'KLD': tensor(-0.4390)}\n",
      "RNVAE {'loss': tensor(2.9042, grad_fn=<AddBackward0>), 'Reconstruction_Loss': tensor(2.4815), 'KLD': tensor(-0.4227)}\n",
      "RNVAE {'loss': tensor(2.6745, grad_fn=<AddBackward0>), 'Reconstruction_Loss': tensor(2.2622), 'KLD': tensor(-0.4123)}\n",
      "RNVAE {'loss': tensor(3.2311, grad_fn=<AddBackward0>), 'Reconstruction_Loss': tensor(2.8102), 'KLD': tensor(-0.4209)}\n",
      "RNVAE {'loss': tensor(2.8641, grad_fn=<AddBackward0>), 'Reconstruction_Loss': tensor(2.4441), 'KLD': tensor(-0.4200)}\n",
      "RNVAE {'loss': tensor(2.7732, grad_fn=<AddBackward0>), 'Reconstruction_Loss': tensor(2.3437), 'KLD': tensor(-0.4294)}\n",
      "RNVAE {'loss': tensor(2.8436, grad_fn=<AddBackward0>), 'Reconstruction_Loss': tensor(2.4153), 'KLD': tensor(-0.4283)}\n",
      "RNVAE {'loss': tensor(1.9775, grad_fn=<AddBackward0>), 'Reconstruction_Loss': tensor(1.5585), 'KLD': tensor(-0.4190)}\n",
      "RNVAE {'loss': tensor(3.0727, grad_fn=<AddBackward0>), 'Reconstruction_Loss': tensor(2.6443), 'KLD': tensor(-0.4284)}\n",
      "RNVAE {'loss': tensor(2.7576, grad_fn=<AddBackward0>), 'Reconstruction_Loss': tensor(2.3314), 'KLD': tensor(-0.4262)}\n",
      "RNVAE {'loss': tensor(3.2494, grad_fn=<AddBackward0>), 'Reconstruction_Loss': tensor(2.8299), 'KLD': tensor(-0.4194)}\n",
      "RNVAE {'loss': tensor(3.4009, grad_fn=<AddBackward0>), 'Reconstruction_Loss': tensor(2.9754), 'KLD': tensor(-0.4255)}\n",
      "RNVAE {'loss': tensor(2.5260, grad_fn=<AddBackward0>), 'Reconstruction_Loss': tensor(2.0955), 'KLD': tensor(-0.4305)}\n",
      "RNVAE {'loss': tensor(3.6415, grad_fn=<AddBackward0>), 'Reconstruction_Loss': tensor(3.2115), 'KLD': tensor(-0.4300)}\n",
      "RNVAE {'loss': tensor(3.1833, grad_fn=<AddBackward0>), 'Reconstruction_Loss': tensor(2.7687), 'KLD': tensor(-0.4147)}\n",
      "RNVAE {'loss': tensor(2.2686, grad_fn=<AddBackward0>), 'Reconstruction_Loss': tensor(1.8603), 'KLD': tensor(-0.4083)}\n",
      "RNVAE {'loss': tensor(3.6634, grad_fn=<AddBackward0>), 'Reconstruction_Loss': tensor(3.2250), 'KLD': tensor(-0.4384)}\n",
      "RNVAE {'loss': tensor(3.3804, grad_fn=<AddBackward0>), 'Reconstruction_Loss': tensor(2.9652), 'KLD': tensor(-0.4151)}\n",
      "RNVAE {'loss': tensor(1.5793, grad_fn=<AddBackward0>), 'Reconstruction_Loss': tensor(1.1551), 'KLD': tensor(-0.4242)}\n",
      "RNVAE {'loss': tensor(2.1077, grad_fn=<AddBackward0>), 'Reconstruction_Loss': tensor(1.6923), 'KLD': tensor(-0.4154)}\n",
      "RNVAE {'loss': tensor(2.5131, grad_fn=<AddBackward0>), 'Reconstruction_Loss': tensor(2.0818), 'KLD': tensor(-0.4313)}\n",
      "RNVAE {'loss': tensor(2.7384, grad_fn=<AddBackward0>), 'Reconstruction_Loss': tensor(2.3227), 'KLD': tensor(-0.4157)}\n",
      "RNVAE {'loss': tensor(2.7614, grad_fn=<AddBackward0>), 'Reconstruction_Loss': tensor(2.3445), 'KLD': tensor(-0.4168)}\n",
      "RNVAE {'loss': tensor(3.5109, grad_fn=<AddBackward0>), 'Reconstruction_Loss': tensor(3.0880), 'KLD': tensor(-0.4230)}\n",
      "RNVAE {'loss': tensor(3.4375, grad_fn=<AddBackward0>), 'Reconstruction_Loss': tensor(3.0110), 'KLD': tensor(-0.4265)}\n",
      "RNVAE {'loss': tensor(3.0357, grad_fn=<AddBackward0>), 'Reconstruction_Loss': tensor(2.6260), 'KLD': tensor(-0.4097)}\n",
      "RNVAE {'loss': tensor(1.8969, grad_fn=<AddBackward0>), 'Reconstruction_Loss': tensor(1.4713), 'KLD': tensor(-0.4255)}\n",
      "RNVAE {'loss': tensor(1.8930, grad_fn=<AddBackward0>), 'Reconstruction_Loss': tensor(1.4725), 'KLD': tensor(-0.4206)}\n",
      "RNVAE {'loss': tensor(3.4443, grad_fn=<AddBackward0>), 'Reconstruction_Loss': tensor(3.0211), 'KLD': tensor(-0.4233)}\n",
      "RNVAE {'loss': tensor(3.3167, grad_fn=<AddBackward0>), 'Reconstruction_Loss': tensor(2.9023), 'KLD': tensor(-0.4144)}\n",
      "RNVAE {'loss': tensor(3.5434, grad_fn=<AddBackward0>), 'Reconstruction_Loss': tensor(3.1255), 'KLD': tensor(-0.4179)}\n",
      "RNVAE {'loss': tensor(3.1895, grad_fn=<AddBackward0>), 'Reconstruction_Loss': tensor(2.7795), 'KLD': tensor(-0.4099)}\n",
      "RNVAE {'loss': tensor(2.9890, grad_fn=<AddBackward0>), 'Reconstruction_Loss': tensor(2.5513), 'KLD': tensor(-0.4377)}\n",
      "RNVAE {'loss': tensor(2.0117, grad_fn=<AddBackward0>), 'Reconstruction_Loss': tensor(1.5982), 'KLD': tensor(-0.4135)}\n",
      "RNVAE {'loss': tensor(2.7208, grad_fn=<AddBackward0>), 'Reconstruction_Loss': tensor(2.3014), 'KLD': tensor(-0.4194)}\n",
      "RNVAE {'loss': tensor(2.7038, grad_fn=<AddBackward0>), 'Reconstruction_Loss': tensor(2.2781), 'KLD': tensor(-0.4257)}\n",
      "RNVAE {'loss': tensor(3.5450, grad_fn=<AddBackward0>), 'Reconstruction_Loss': tensor(3.1205), 'KLD': tensor(-0.4246)}\n",
      "RNVAE {'loss': tensor(2.1994, grad_fn=<AddBackward0>), 'Reconstruction_Loss': tensor(1.7787), 'KLD': tensor(-0.4206)}\n",
      "RNVAE {'loss': tensor(2.2308, grad_fn=<AddBackward0>), 'Reconstruction_Loss': tensor(1.8052), 'KLD': tensor(-0.4256)}\n",
      "RNVAE {'loss': tensor(1.8590, grad_fn=<AddBackward0>), 'Reconstruction_Loss': tensor(1.4491), 'KLD': tensor(-0.4099)}\n",
      "RNVAE {'loss': tensor(2.6796, grad_fn=<AddBackward0>), 'Reconstruction_Loss': tensor(2.2569), 'KLD': tensor(-0.4227)}\n",
      "RNVAE {'loss': tensor(2.9888, grad_fn=<AddBackward0>), 'Reconstruction_Loss': tensor(2.5628), 'KLD': tensor(-0.4260)}\n",
      "RNVAE {'loss': tensor(2.6021, grad_fn=<AddBackward0>), 'Reconstruction_Loss': tensor(2.1756), 'KLD': tensor(-0.4265)}\n",
      "RNVAE {'loss': tensor(2.4466, grad_fn=<AddBackward0>), 'Reconstruction_Loss': tensor(2.0139), 'KLD': tensor(-0.4327)}\n",
      "RNVAE {'loss': tensor(2.5246, grad_fn=<AddBackward0>), 'Reconstruction_Loss': tensor(2.0994), 'KLD': tensor(-0.4251)}\n",
      "RNVAE {'loss': tensor(1.7879, grad_fn=<AddBackward0>), 'Reconstruction_Loss': tensor(1.3621), 'KLD': tensor(-0.4258)}\n",
      "RNVAE {'loss': tensor(2.0636, grad_fn=<AddBackward0>), 'Reconstruction_Loss': tensor(1.6531), 'KLD': tensor(-0.4105)}\n",
      "RNVAE {'loss': tensor(1.6731, grad_fn=<AddBackward0>), 'Reconstruction_Loss': tensor(1.2589), 'KLD': tensor(-0.4142)}\n",
      "RNVAE {'loss': tensor(3.9273, grad_fn=<AddBackward0>), 'Reconstruction_Loss': tensor(3.4979), 'KLD': tensor(-0.4295)}\n",
      "RNVAE {'loss': tensor(1.4205, grad_fn=<AddBackward0>), 'Reconstruction_Loss': tensor(0.9953), 'KLD': tensor(-0.4252)}\n",
      "RNVAE {'loss': tensor(3.5094, grad_fn=<AddBackward0>), 'Reconstruction_Loss': tensor(3.0889), 'KLD': tensor(-0.4205)}\n",
      "RNVAE {'loss': tensor(2.9653, grad_fn=<AddBackward0>), 'Reconstruction_Loss': tensor(2.5434), 'KLD': tensor(-0.4220)}\n",
      "RNVAE {'loss': tensor(3.9979, grad_fn=<AddBackward0>), 'Reconstruction_Loss': tensor(3.5841), 'KLD': tensor(-0.4138)}\n",
      "RNVAE {'loss': tensor(2.5596, grad_fn=<AddBackward0>), 'Reconstruction_Loss': tensor(2.1510), 'KLD': tensor(-0.4086)}\n",
      "RNVAE {'loss': tensor(1.7504, grad_fn=<AddBackward0>), 'Reconstruction_Loss': tensor(1.3450), 'KLD': tensor(-0.4054)}\n",
      "RNVAE {'loss': tensor(2.5619, grad_fn=<AddBackward0>), 'Reconstruction_Loss': tensor(2.1423), 'KLD': tensor(-0.4196)}\n",
      "RNVAE {'loss': tensor(3.1931, grad_fn=<AddBackward0>), 'Reconstruction_Loss': tensor(2.7766), 'KLD': tensor(-0.4165)}\n",
      "RNVAE {'loss': tensor(2.1898, grad_fn=<AddBackward0>), 'Reconstruction_Loss': tensor(1.7722), 'KLD': tensor(-0.4177)}\n",
      "RNVAE {'loss': tensor(2.2743, grad_fn=<AddBackward0>), 'Reconstruction_Loss': tensor(1.8487), 'KLD': tensor(-0.4256)}\n",
      "RNVAE {'loss': tensor(2.4276, grad_fn=<AddBackward0>), 'Reconstruction_Loss': tensor(2.0149), 'KLD': tensor(-0.4127)}\n",
      "RNVAE {'loss': tensor(2.8794, grad_fn=<AddBackward0>), 'Reconstruction_Loss': tensor(2.4680), 'KLD': tensor(-0.4114)}\n",
      "RNVAE {'loss': tensor(3.6883, grad_fn=<AddBackward0>), 'Reconstruction_Loss': tensor(3.2625), 'KLD': tensor(-0.4259)}\n",
      "RNVAE {'loss': tensor(2.7892, grad_fn=<AddBackward0>), 'Reconstruction_Loss': tensor(2.3659), 'KLD': tensor(-0.4233)}\n",
      "RNVAE {'loss': tensor(2.6256, grad_fn=<AddBackward0>), 'Reconstruction_Loss': tensor(2.2018), 'KLD': tensor(-0.4238)}\n",
      "RNVAE {'loss': tensor(4.1164, grad_fn=<AddBackward0>), 'Reconstruction_Loss': tensor(3.7092), 'KLD': tensor(-0.4072)}\n",
      "RNVAE {'loss': tensor(3.1899, grad_fn=<AddBackward0>), 'Reconstruction_Loss': tensor(2.7544), 'KLD': tensor(-0.4355)}\n",
      "RNVAE {'loss': tensor(2.9474, grad_fn=<AddBackward0>), 'Reconstruction_Loss': tensor(2.5130), 'KLD': tensor(-0.4344)}\n",
      "RNVAE {'loss': tensor(1.8558, grad_fn=<AddBackward0>), 'Reconstruction_Loss': tensor(1.4325), 'KLD': tensor(-0.4233)}\n",
      "RNVAE {'loss': tensor(2.4863, grad_fn=<AddBackward0>), 'Reconstruction_Loss': tensor(2.0708), 'KLD': tensor(-0.4155)}\n",
      "RNVAE {'loss': tensor(1.8532, grad_fn=<AddBackward0>), 'Reconstruction_Loss': tensor(1.4308), 'KLD': tensor(-0.4225)}\n",
      "RNVAE {'loss': tensor(2.5428, grad_fn=<AddBackward0>), 'Reconstruction_Loss': tensor(2.1310), 'KLD': tensor(-0.4118)}\n",
      "RNVAE {'loss': tensor(3.1621, grad_fn=<AddBackward0>), 'Reconstruction_Loss': tensor(2.7313), 'KLD': tensor(-0.4307)}\n",
      "RNVAE {'loss': tensor(2.3712, grad_fn=<AddBackward0>), 'Reconstruction_Loss': tensor(1.9524), 'KLD': tensor(-0.4188)}\n",
      "RNVAE {'loss': tensor(1.9945, grad_fn=<AddBackward0>), 'Reconstruction_Loss': tensor(1.5758), 'KLD': tensor(-0.4188)}\n",
      "RNVAE {'loss': tensor(3.8262, grad_fn=<AddBackward0>), 'Reconstruction_Loss': tensor(3.4126), 'KLD': tensor(-0.4136)}\n",
      "RNVAE {'loss': tensor(3.2199, grad_fn=<AddBackward0>), 'Reconstruction_Loss': tensor(2.7946), 'KLD': tensor(-0.4253)}\n",
      "RNVAE {'loss': tensor(2.5049, grad_fn=<AddBackward0>), 'Reconstruction_Loss': tensor(2.0898), 'KLD': tensor(-0.4151)}\n",
      "RNVAE {'loss': tensor(3.1477, grad_fn=<AddBackward0>), 'Reconstruction_Loss': tensor(2.7312), 'KLD': tensor(-0.4165)}\n",
      "RNVAE {'loss': tensor(2.1022, grad_fn=<AddBackward0>), 'Reconstruction_Loss': tensor(1.6880), 'KLD': tensor(-0.4142)}\n",
      "RNVAE {'loss': tensor(2.0873, grad_fn=<AddBackward0>), 'Reconstruction_Loss': tensor(1.6639), 'KLD': tensor(-0.4234)}\n",
      "RNVAE {'loss': tensor(1.7611, grad_fn=<AddBackward0>), 'Reconstruction_Loss': tensor(1.3378), 'KLD': tensor(-0.4233)}\n",
      "RNVAE {'loss': tensor(3.8700, grad_fn=<AddBackward0>), 'Reconstruction_Loss': tensor(3.4531), 'KLD': tensor(-0.4170)}\n",
      "RNVAE {'loss': tensor(1.8648, grad_fn=<AddBackward0>), 'Reconstruction_Loss': tensor(1.4351), 'KLD': tensor(-0.4297)}\n",
      "RNVAE {'loss': tensor(3.3647, grad_fn=<AddBackward0>), 'Reconstruction_Loss': tensor(2.9483), 'KLD': tensor(-0.4164)}\n",
      "RNVAE {'loss': tensor(2.4139, grad_fn=<AddBackward0>), 'Reconstruction_Loss': tensor(2.0017), 'KLD': tensor(-0.4122)}\n",
      "RNVAE {'loss': tensor(2.4752, grad_fn=<AddBackward0>), 'Reconstruction_Loss': tensor(2.0467), 'KLD': tensor(-0.4285)}\n",
      "RNVAE {'loss': tensor(2.2558, grad_fn=<AddBackward0>), 'Reconstruction_Loss': tensor(1.8169), 'KLD': tensor(-0.4389)}\n",
      "RNVAE {'loss': tensor(2.3521, grad_fn=<AddBackward0>), 'Reconstruction_Loss': tensor(1.9398), 'KLD': tensor(-0.4122)}\n",
      "RNVAE {'loss': tensor(3.2562, grad_fn=<AddBackward0>), 'Reconstruction_Loss': tensor(2.8219), 'KLD': tensor(-0.4343)}\n",
      "RNVAE {'loss': tensor(2.8407, grad_fn=<AddBackward0>), 'Reconstruction_Loss': tensor(2.4238), 'KLD': tensor(-0.4169)}\n",
      "RNVAE {'loss': tensor(3.8520, grad_fn=<AddBackward0>), 'Reconstruction_Loss': tensor(3.4297), 'KLD': tensor(-0.4223)}\n",
      "RNVAE {'loss': tensor(2.9486, grad_fn=<AddBackward0>), 'Reconstruction_Loss': tensor(2.5170), 'KLD': tensor(-0.4316)}\n",
      "RNVAE {'loss': tensor(2.5532, grad_fn=<AddBackward0>), 'Reconstruction_Loss': tensor(2.1285), 'KLD': tensor(-0.4247)}\n",
      "RNVAE {'loss': tensor(2.5004, grad_fn=<AddBackward0>), 'Reconstruction_Loss': tensor(2.0683), 'KLD': tensor(-0.4321)}\n",
      "RNVAE {'loss': tensor(4.6043, grad_fn=<AddBackward0>), 'Reconstruction_Loss': tensor(4.1784), 'KLD': tensor(-0.4259)}\n",
      "RNVAE {'loss': tensor(3.0815, grad_fn=<AddBackward0>), 'Reconstruction_Loss': tensor(2.6622), 'KLD': tensor(-0.4193)}\n",
      "RNVAE {'loss': tensor(2.8633, grad_fn=<AddBackward0>), 'Reconstruction_Loss': tensor(2.4448), 'KLD': tensor(-0.4184)}\n",
      "RNVAE {'loss': tensor(2.3190, grad_fn=<AddBackward0>), 'Reconstruction_Loss': tensor(1.8983), 'KLD': tensor(-0.4207)}\n",
      "RNVAE {'loss': tensor(1.9789, grad_fn=<AddBackward0>), 'Reconstruction_Loss': tensor(1.5592), 'KLD': tensor(-0.4197)}\n",
      "RNVAE {'loss': tensor(2.1275, grad_fn=<AddBackward0>), 'Reconstruction_Loss': tensor(1.7090), 'KLD': tensor(-0.4185)}\n",
      "RNVAE {'loss': tensor(3.1316, grad_fn=<AddBackward0>), 'Reconstruction_Loss': tensor(2.7142), 'KLD': tensor(-0.4174)}\n",
      "RNVAE {'loss': tensor(3.1028, grad_fn=<AddBackward0>), 'Reconstruction_Loss': tensor(2.6714), 'KLD': tensor(-0.4314)}\n",
      "RNVAE {'loss': tensor(3.8407, grad_fn=<AddBackward0>), 'Reconstruction_Loss': tensor(3.4090), 'KLD': tensor(-0.4316)}\n",
      "RNVAE {'loss': tensor(3.7543, grad_fn=<AddBackward0>), 'Reconstruction_Loss': tensor(3.3445), 'KLD': tensor(-0.4098)}\n",
      "RNVAE {'loss': tensor(2.8756, grad_fn=<AddBackward0>), 'Reconstruction_Loss': tensor(2.4608), 'KLD': tensor(-0.4148)}\n",
      "RNVAE {'loss': tensor(2.7824, grad_fn=<AddBackward0>), 'Reconstruction_Loss': tensor(2.3620), 'KLD': tensor(-0.4203)}\n",
      "RNVAE {'loss': tensor(2.4844, grad_fn=<AddBackward0>), 'Reconstruction_Loss': tensor(2.0481), 'KLD': tensor(-0.4364)}\n",
      "RNVAE {'loss': tensor(1.9229, grad_fn=<AddBackward0>), 'Reconstruction_Loss': tensor(1.5049), 'KLD': tensor(-0.4179)}\n",
      "RNVAE {'loss': tensor(2.8751, grad_fn=<AddBackward0>), 'Reconstruction_Loss': tensor(2.4470), 'KLD': tensor(-0.4281)}\n",
      "RNVAE {'loss': tensor(2.1668, grad_fn=<AddBackward0>), 'Reconstruction_Loss': tensor(1.7563), 'KLD': tensor(-0.4106)}\n",
      "RNVAE {'loss': tensor(3.0448, grad_fn=<AddBackward0>), 'Reconstruction_Loss': tensor(2.6098), 'KLD': tensor(-0.4351)}\n",
      "RNVAE {'loss': tensor(3.6490, grad_fn=<AddBackward0>), 'Reconstruction_Loss': tensor(3.2364), 'KLD': tensor(-0.4126)}\n",
      "RNVAE {'loss': tensor(3.9281, grad_fn=<AddBackward0>), 'Reconstruction_Loss': tensor(3.4906), 'KLD': tensor(-0.4375)}\n",
      "RNVAE {'loss': tensor(1.8930, grad_fn=<AddBackward0>), 'Reconstruction_Loss': tensor(1.4726), 'KLD': tensor(-0.4204)}\n",
      "RNVAE {'loss': tensor(3.4447, grad_fn=<AddBackward0>), 'Reconstruction_Loss': tensor(3.0393), 'KLD': tensor(-0.4053)}\n",
      "RNVAE {'loss': tensor(2.4519, grad_fn=<AddBackward0>), 'Reconstruction_Loss': tensor(2.0204), 'KLD': tensor(-0.4315)}\n",
      "RNVAE {'loss': tensor(1.6612, grad_fn=<AddBackward0>), 'Reconstruction_Loss': tensor(1.2370), 'KLD': tensor(-0.4242)}\n",
      "RNVAE {'loss': tensor(2.4743, grad_fn=<AddBackward0>), 'Reconstruction_Loss': tensor(2.0554), 'KLD': tensor(-0.4189)}\n",
      "RNVAE {'loss': tensor(1.7059, grad_fn=<AddBackward0>), 'Reconstruction_Loss': tensor(1.2881), 'KLD': tensor(-0.4178)}\n",
      "RNVAE {'loss': tensor(3.3975, grad_fn=<AddBackward0>), 'Reconstruction_Loss': tensor(2.9701), 'KLD': tensor(-0.4274)}\n",
      "RNVAE {'loss': tensor(2.7691, grad_fn=<AddBackward0>), 'Reconstruction_Loss': tensor(2.3450), 'KLD': tensor(-0.4241)}\n",
      "RNVAE {'loss': tensor(2.1064, grad_fn=<AddBackward0>), 'Reconstruction_Loss': tensor(1.6856), 'KLD': tensor(-0.4207)}\n",
      "RNVAE {'loss': tensor(2.5806, grad_fn=<AddBackward0>), 'Reconstruction_Loss': tensor(2.1607), 'KLD': tensor(-0.4199)}\n",
      "RNVAE {'loss': tensor(2.1829, grad_fn=<AddBackward0>), 'Reconstruction_Loss': tensor(1.7523), 'KLD': tensor(-0.4305)}\n",
      "RNVAE {'loss': tensor(2.7350, grad_fn=<AddBackward0>), 'Reconstruction_Loss': tensor(2.3126), 'KLD': tensor(-0.4224)}\n",
      "RNVAE {'loss': tensor(4.5843, grad_fn=<AddBackward0>), 'Reconstruction_Loss': tensor(4.1664), 'KLD': tensor(-0.4179)}\n",
      "RNVAE {'loss': tensor(3.9843, grad_fn=<AddBackward0>), 'Reconstruction_Loss': tensor(3.5647), 'KLD': tensor(-0.4196)}\n",
      "RNVAE {'loss': tensor(2.5187, grad_fn=<AddBackward0>), 'Reconstruction_Loss': tensor(2.0901), 'KLD': tensor(-0.4286)}\n",
      "RNVAE {'loss': tensor(2.2356, grad_fn=<AddBackward0>), 'Reconstruction_Loss': tensor(1.8250), 'KLD': tensor(-0.4106)}\n",
      "RNVAE {'loss': tensor(2.1983, grad_fn=<AddBackward0>), 'Reconstruction_Loss': tensor(1.7725), 'KLD': tensor(-0.4259)}\n",
      "RNVAE {'loss': tensor(3.4211, grad_fn=<AddBackward0>), 'Reconstruction_Loss': tensor(3.0062), 'KLD': tensor(-0.4149)}\n",
      "RNVAE {'loss': tensor(2.8614, grad_fn=<AddBackward0>), 'Reconstruction_Loss': tensor(2.4372), 'KLD': tensor(-0.4242)}\n",
      "RNVAE {'loss': tensor(1.8194, grad_fn=<AddBackward0>), 'Reconstruction_Loss': tensor(1.3975), 'KLD': tensor(-0.4219)}\n",
      "RNVAE {'loss': tensor(2.9126, grad_fn=<AddBackward0>), 'Reconstruction_Loss': tensor(2.4855), 'KLD': tensor(-0.4270)}\n",
      "RNVAE {'loss': tensor(4.2360, grad_fn=<AddBackward0>), 'Reconstruction_Loss': tensor(3.8155), 'KLD': tensor(-0.4205)}\n",
      "RNVAE {'loss': tensor(2.9148, grad_fn=<AddBackward0>), 'Reconstruction_Loss': tensor(2.4896), 'KLD': tensor(-0.4252)}\n",
      "RNVAE {'loss': tensor(2.1623, grad_fn=<AddBackward0>), 'Reconstruction_Loss': tensor(1.7317), 'KLD': tensor(-0.4306)}\n",
      "RNVAE {'loss': tensor(3.0559, grad_fn=<AddBackward0>), 'Reconstruction_Loss': tensor(2.6483), 'KLD': tensor(-0.4076)}\n",
      "RNVAE {'loss': tensor(2.0633, grad_fn=<AddBackward0>), 'Reconstruction_Loss': tensor(1.6530), 'KLD': tensor(-0.4103)}\n",
      "IMPUTER {'loss': tensor(109.1366, grad_fn=<AddBackward0>), 'Reconstruction_Loss': tensor(5.7157), 'KLD': tensor(-78.3807), 'Transcriptome_Loss': tensor(12.5201)}\n",
      "IMPUTER {'loss': tensor(86.6311, grad_fn=<AddBackward0>), 'Reconstruction_Loss': tensor(2.8353), 'KLD': tensor(-72.2580), 'Transcriptome_Loss': tensor(5.7689)}\n",
      "IMPUTER {'loss': tensor(89.0461, grad_fn=<AddBackward0>), 'Reconstruction_Loss': tensor(3.7720), 'KLD': tensor(-73.1264), 'Transcriptome_Loss': tensor(6.0738)}\n",
      "IMPUTER {'loss': tensor(92.1475, grad_fn=<AddBackward0>), 'Reconstruction_Loss': tensor(5.5243), 'KLD': tensor(-72.1004), 'Transcriptome_Loss': tensor(7.2614)}\n",
      "IMPUTER {'loss': tensor(79.9083, grad_fn=<AddBackward0>), 'Reconstruction_Loss': tensor(1.4757), 'KLD': tensor(-72.8534), 'Transcriptome_Loss': tensor(2.7896)}\n",
      "IMPUTER {'loss': tensor(220.2088, grad_fn=<AddBackward0>), 'Reconstruction_Loss': tensor(6.3362), 'KLD': tensor(-202.2318), 'Transcriptome_Loss': tensor(5.8204)}\n",
      "IMPUTER {'loss': tensor(219.8210, grad_fn=<AddBackward0>), 'Reconstruction_Loss': tensor(2.8650), 'KLD': tensor(-211.8166), 'Transcriptome_Loss': tensor(2.5697)}\n",
      "IMPUTER {'loss': tensor(227.9800, grad_fn=<AddBackward0>), 'Reconstruction_Loss': tensor(10.5965), 'KLD': tensor(-208.8557), 'Transcriptome_Loss': tensor(4.2639)}\n",
      "IMPUTER {'loss': tensor(218.7459, grad_fn=<AddBackward0>), 'Reconstruction_Loss': tensor(3.4102), 'KLD': tensor(-212.0736), 'Transcriptome_Loss': tensor(1.6310)}\n",
      "IMPUTER {'loss': tensor(124.4473, grad_fn=<AddBackward0>), 'Reconstruction_Loss': tensor(1.4420), 'KLD': tensor(-121.2605), 'Transcriptome_Loss': tensor(0.8724)}\n",
      "IMPUTER {'loss': tensor(12.9523, grad_fn=<AddBackward0>), 'Reconstruction_Loss': tensor(2.1665), 'KLD': tensor(-6.8823), 'Transcriptome_Loss': tensor(1.9517)}\n",
      "IMPUTER {'loss': tensor(10.8867, grad_fn=<AddBackward0>), 'Reconstruction_Loss': tensor(1.6133), 'KLD': tensor(-6.8350), 'Transcriptome_Loss': tensor(1.2192)}\n",
      "IMPUTER {'loss': tensor(9.6592, grad_fn=<AddBackward0>), 'Reconstruction_Loss': tensor(0.7479), 'KLD': tensor(-6.9609), 'Transcriptome_Loss': tensor(0.9752)}\n",
      "IMPUTER {'loss': tensor(16.2879, grad_fn=<AddBackward0>), 'Reconstruction_Loss': tensor(0.6665), 'KLD': tensor(-13.6845), 'Transcriptome_Loss': tensor(0.9685)}\n",
      "IMPUTER {'loss': tensor(119.9406, grad_fn=<AddBackward0>), 'Reconstruction_Loss': tensor(2.5102), 'KLD': tensor(-108.6549), 'Transcriptome_Loss': tensor(4.3877)}\n",
      "IMPUTER {'loss': tensor(110.6565, grad_fn=<AddBackward0>), 'Reconstruction_Loss': tensor(1.1784), 'KLD': tensor(-107.0105), 'Transcriptome_Loss': tensor(1.2338)}\n",
      "IMPUTER {'loss': tensor(113.8379, grad_fn=<AddBackward0>), 'Reconstruction_Loss': tensor(1.2252), 'KLD': tensor(-110.2011), 'Transcriptome_Loss': tensor(1.2058)}\n",
      "IMPUTER {'loss': tensor(114.6569, grad_fn=<AddBackward0>), 'Reconstruction_Loss': tensor(1.3943), 'KLD': tensor(-108.4959), 'Transcriptome_Loss': tensor(2.3834)}\n",
      "IMPUTER {'loss': tensor(109.7392, grad_fn=<AddBackward0>), 'Reconstruction_Loss': tensor(0.7862), 'KLD': tensor(-107.0651), 'Transcriptome_Loss': tensor(0.9439)}\n"
     ]
    }
   ],
   "source": [
    "optimizer = torch.optim.Adam(imputer.parameters(), lr=1e-2)\n",
    "for _ in range(1):\n",
    "    for batch in rnvae_loader:\n",
    "        fwd = rnvae(batch)\n",
    "        print(\"RNVAE\",rnvae.loss_function(fwd,batch))\n",
    "\n",
    "    for batch in imputer_loader:\n",
    "        fwd = imputer(batch)\n",
    "        print(\"IMPUTER\",imputer.loss_function(fwd,batch))"
   ]
  }
 ],
 "metadata": {
  "kernelspec": {
   "display_name": "Python 3 (ipykernel)",
   "language": "python",
   "name": "python3"
  },
  "language_info": {
   "codemirror_mode": {
    "name": "ipython",
    "version": 3
   },
   "file_extension": ".py",
   "mimetype": "text/x-python",
   "name": "python",
   "nbconvert_exporter": "python",
   "pygments_lexer": "ipython3",
   "version": "3.11.5"
  }
 },
 "nbformat": 4,
 "nbformat_minor": 5
}
